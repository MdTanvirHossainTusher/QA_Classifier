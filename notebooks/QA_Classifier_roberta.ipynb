{
  "cells": [
    {
      "cell_type": "markdown",
      "metadata": {
        "id": "BMEIDP938McA"
      },
      "source": [
        "# Setting Up"
      ]
    },
    {
      "cell_type": "code",
      "execution_count": 1,
      "metadata": {
        "colab": {
          "base_uri": "https://localhost:8080/"
        },
        "id": "RaqQI47Lp3Vx",
        "outputId": "4f6c8f78-28f2-4154-8e28-afa79e975bb7"
      },
      "outputs": [
        {
          "name": "stdout",
          "output_type": "stream",
          "text": [
            "Thu Aug 31 04:43:13 2023       \n",
            "+-----------------------------------------------------------------------------+\n",
            "| NVIDIA-SMI 525.105.17   Driver Version: 525.105.17   CUDA Version: 12.0     |\n",
            "|-------------------------------+----------------------+----------------------+\n",
            "| GPU  Name        Persistence-M| Bus-Id        Disp.A | Volatile Uncorr. ECC |\n",
            "| Fan  Temp  Perf  Pwr:Usage/Cap|         Memory-Usage | GPU-Util  Compute M. |\n",
            "|                               |                      |               MIG M. |\n",
            "|===============================+======================+======================|\n",
            "|   0  Tesla T4            Off  | 00000000:00:04.0 Off |                    0 |\n",
            "| N/A   56C    P8     9W /  70W |      0MiB / 15360MiB |      0%      Default |\n",
            "|                               |                      |                  N/A |\n",
            "+-------------------------------+----------------------+----------------------+\n",
            "                                                                               \n",
            "+-----------------------------------------------------------------------------+\n",
            "| Processes:                                                                  |\n",
            "|  GPU   GI   CI        PID   Type   Process name                  GPU Memory |\n",
            "|        ID   ID                                                   Usage      |\n",
            "|=============================================================================|\n",
            "|  No running processes found                                                 |\n",
            "+-----------------------------------------------------------------------------+\n"
          ]
        }
      ],
      "source": [
        "!nvidia-smi"
      ]
    },
    {
      "cell_type": "code",
      "execution_count": 2,
      "metadata": {
        "id": "nJGVEr878Rrs"
      },
      "outputs": [],
      "source": [
        "%reload_ext autoreload\n",
        "%autoreload 2\n",
        "%matplotlib inline"
      ]
    },
    {
      "cell_type": "code",
      "execution_count": 3,
      "metadata": {
        "colab": {
          "base_uri": "https://localhost:8080/"
        },
        "id": "7C5qa-RD88iD",
        "outputId": "9e1853ce-5dc0-491c-dabd-fddad2882887"
      },
      "outputs": [
        {
          "name": "stdout",
          "output_type": "stream",
          "text": [
            "\u001b[2K     \u001b[90m━━━━━━━━━━━━━━━━━━━━━━━━━━━━━━━━━━━━━━━━\u001b[0m \u001b[32m7.5/7.5 MB\u001b[0m \u001b[31m20.5 MB/s\u001b[0m eta \u001b[36m0:00:00\u001b[0m\n",
            "\u001b[2K     \u001b[90m━━━━━━━━━━━━━━━━━━━━━━━━━━━━━━━━━━━━━━\u001b[0m \u001b[32m719.8/719.8 kB\u001b[0m \u001b[31m35.3 MB/s\u001b[0m eta \u001b[36m0:00:00\u001b[0m\n",
            "\u001b[2K     \u001b[90m━━━━━━━━━━━━━━━━━━━━━━━━━━━━━━━━━━━━━━━━\u001b[0m \u001b[32m81.1/81.1 kB\u001b[0m \u001b[31m9.2 MB/s\u001b[0m eta \u001b[36m0:00:00\u001b[0m\n",
            "\u001b[2K     \u001b[90m━━━━━━━━━━━━━━━━━━━━━━━━━━━━━━━━━━━━━━━━\u001b[0m \u001b[32m64.8/64.8 kB\u001b[0m \u001b[31m8.1 MB/s\u001b[0m eta \u001b[36m0:00:00\u001b[0m\n",
            "\u001b[2K     \u001b[90m━━━━━━━━━━━━━━━━━━━━━━━━━━━━━━━━━━━━━━\u001b[0m \u001b[32m268.8/268.8 kB\u001b[0m \u001b[31m28.8 MB/s\u001b[0m eta \u001b[36m0:00:00\u001b[0m\n",
            "\u001b[2K     \u001b[90m━━━━━━━━━━━━━━━━━━━━━━━━━━━━━━━━━━━━━━━━\u001b[0m \u001b[32m7.8/7.8 MB\u001b[0m \u001b[31m52.1 MB/s\u001b[0m eta \u001b[36m0:00:00\u001b[0m\n",
            "\u001b[2K     \u001b[90m━━━━━━━━━━━━━━━━━━━━━━━━━━━━━━━━━━━━━━━━\u001b[0m \u001b[32m1.3/1.3 MB\u001b[0m \u001b[31m65.8 MB/s\u001b[0m eta \u001b[36m0:00:00\u001b[0m\n",
            "\u001b[2K     \u001b[90m━━━━━━━━━━━━━━━━━━━━━━━━━━━━━━━━━━━━━━━━\u001b[0m \u001b[32m1.3/1.3 MB\u001b[0m \u001b[31m12.5 MB/s\u001b[0m eta \u001b[36m0:00:00\u001b[0m\n",
            "\u001b[2K     \u001b[90m━━━━━━━━━━━━━━━━━━━━━━━━━━━━━━━━━━━━━━\u001b[0m \u001b[32m519.3/519.3 kB\u001b[0m \u001b[31m50.7 MB/s\u001b[0m eta \u001b[36m0:00:00\u001b[0m\n",
            "\u001b[2K     \u001b[90m━━━━━━━━━━━━━━━━━━━━━━━━━━━━━━━━━━━━━━━\u001b[0m \u001b[32m887.5/887.5 MB\u001b[0m \u001b[31m1.9 MB/s\u001b[0m eta \u001b[36m0:00:00\u001b[0m\n",
            "\u001b[2K     \u001b[90m━━━━━━━━━━━━━━━━━━━━━━━━━━━━━━━━━━━━━━━━\u001b[0m \u001b[32m43.6/43.6 kB\u001b[0m \u001b[31m5.2 MB/s\u001b[0m eta \u001b[36m0:00:00\u001b[0m\n",
            "\u001b[?25h  Preparing metadata (setup.py) ... \u001b[?25l\u001b[?25hdone\n",
            "  Preparing metadata (setup.py) ... \u001b[?25l\u001b[?25hdone\n",
            "\u001b[2K     \u001b[90m━━━━━━━━━━━━━━━━━━━━━━━━━━━━━━━━━━━━━━━━\u001b[0m \u001b[32m58.7/58.7 kB\u001b[0m \u001b[31m7.7 MB/s\u001b[0m eta \u001b[36m0:00:00\u001b[0m\n",
            "\u001b[2K     \u001b[90m━━━━━━━━━━━━━━━━━━━━━━━━━━━━━━━━━━━━━━━━\u001b[0m \u001b[32m82.1/82.1 kB\u001b[0m \u001b[31m10.9 MB/s\u001b[0m eta \u001b[36m0:00:00\u001b[0m\n",
            "\u001b[2K     \u001b[90m━━━━━━━━━━━━━━━━━━━━━━━━━━━━━━━━━━━━━━\u001b[0m \u001b[32m849.3/849.3 kB\u001b[0m \u001b[31m47.1 MB/s\u001b[0m eta \u001b[36m0:00:00\u001b[0m\n",
            "\u001b[2K     \u001b[90m━━━━━━━━━━━━━━━━━━━━━━━━━━━━━━━━━━━━━━━\u001b[0m \u001b[32m557.1/557.1 MB\u001b[0m \u001b[31m2.3 MB/s\u001b[0m eta \u001b[36m0:00:00\u001b[0m\n",
            "\u001b[2K     \u001b[90m━━━━━━━━━━━━━━━━━━━━━━━━━━━━━━━━━━━━━━━\u001b[0m \u001b[32m317.1/317.1 MB\u001b[0m \u001b[31m4.4 MB/s\u001b[0m eta \u001b[36m0:00:00\u001b[0m\n",
            "\u001b[2K     \u001b[90m━━━━━━━━━━━━━━━━━━━━━━━━━━━━━━━━━━━━━━━━\u001b[0m \u001b[32m21.0/21.0 MB\u001b[0m \u001b[31m46.1 MB/s\u001b[0m eta \u001b[36m0:00:00\u001b[0m\n",
            "\u001b[2K     \u001b[90m━━━━━━━━━━━━━━━━━━━━━━━━━━━━━━━━━━━━━━━━\u001b[0m \u001b[32m6.0/6.0 MB\u001b[0m \u001b[31m66.1 MB/s\u001b[0m eta \u001b[36m0:00:00\u001b[0m\n",
            "\u001b[2K     \u001b[90m━━━━━━━━━━━━━━━━━━━━━━━━━━━━━━━━━━━━━━━━\u001b[0m \u001b[32m6.0/6.0 MB\u001b[0m \u001b[31m59.4 MB/s\u001b[0m eta \u001b[36m0:00:00\u001b[0m\n",
            "\u001b[2K     \u001b[90m━━━━━━━━━━━━━━━━━━━━━━━━━━━━━━━━━━━━━━━━\u001b[0m \u001b[32m24.2/24.2 MB\u001b[0m \u001b[31m46.5 MB/s\u001b[0m eta \u001b[36m0:00:00\u001b[0m\n",
            "\u001b[2K     \u001b[90m━━━━━━━━━━━━━━━━━━━━━━━━━━━━━━━━━━━━━━\u001b[0m \u001b[32m115.3/115.3 kB\u001b[0m \u001b[31m11.1 MB/s\u001b[0m eta \u001b[36m0:00:00\u001b[0m\n",
            "\u001b[2K     \u001b[90m━━━━━━━━━━━━━━━━━━━━━━━━━━━━━━━━━━━━━━\u001b[0m \u001b[32m194.1/194.1 kB\u001b[0m \u001b[31m22.6 MB/s\u001b[0m eta \u001b[36m0:00:00\u001b[0m\n",
            "\u001b[2K     \u001b[90m━━━━━━━━━━━━━━━━━━━━━━━━━━━━━━━━━━━━━━\u001b[0m \u001b[32m134.8/134.8 kB\u001b[0m \u001b[31m16.4 MB/s\u001b[0m eta \u001b[36m0:00:00\u001b[0m\n",
            "\u001b[2K     \u001b[90m━━━━━━━━━━━━━━━━━━━━━━━━━━━━━━━━━━━━━━━━\u001b[0m \u001b[32m1.6/1.6 MB\u001b[0m \u001b[31m55.2 MB/s\u001b[0m eta \u001b[36m0:00:00\u001b[0m\n",
            "\u001b[?25h  Building wheel for rouge-score (setup.py) ... \u001b[?25l\u001b[?25hdone\n",
            "  Building wheel for seqeval (setup.py) ... \u001b[?25l\u001b[?25hdone\n",
            "\u001b[31mERROR: pip's dependency resolver does not currently take into account all the packages that are installed. This behaviour is the source of the following dependency conflicts.\n",
            "torchaudio 2.0.2+cu118 requires torch==2.0.1, but you have torch 1.13.1 which is incompatible.\n",
            "torchdata 0.6.1 requires torch==2.0.1, but you have torch 1.13.1 which is incompatible.\n",
            "torchtext 0.15.2 requires torch==2.0.1, but you have torch 1.13.1 which is incompatible.\u001b[0m\u001b[31m\n",
            "\u001b[0m"
          ]
        }
      ],
      "source": [
        "! pip install -q transformers[sentencepiece] fastbook fastai ohmeow-blurr nbdev"
      ]
    },
    {
      "cell_type": "code",
      "execution_count": 4,
      "metadata": {
        "colab": {
          "base_uri": "https://localhost:8080/"
        },
        "id": "48UTowTDBQWQ",
        "outputId": "9386e798-e5fe-4e5d-c5ab-5baa12cb1008"
      },
      "outputs": [
        {
          "name": "stdout",
          "output_type": "stream",
          "text": [
            "Requirement already satisfied: sqlalchemy in /usr/local/lib/python3.10/dist-packages (2.0.20)\n",
            "Requirement already satisfied: torch in /usr/local/lib/python3.10/dist-packages (1.13.1)\n",
            "Collecting torch\n",
            "  Downloading torch-2.0.1-cp310-cp310-manylinux1_x86_64.whl (619.9 MB)\n",
            "\u001b[2K     \u001b[90m━━━━━━━━━━━━━━━━━━━━━━━━━━━━━━━━━━━━━━━\u001b[0m \u001b[32m619.9/619.9 MB\u001b[0m \u001b[31m2.4 MB/s\u001b[0m eta \u001b[36m0:00:00\u001b[0m\n",
            "\u001b[?25hRequirement already satisfied: torchaudio in /usr/local/lib/python3.10/dist-packages (2.0.2+cu118)\n",
            "Requirement already satisfied: torchdata in /usr/local/lib/python3.10/dist-packages (0.6.1)\n",
            "Requirement already satisfied: torchtext in /usr/local/lib/python3.10/dist-packages (0.15.2)\n",
            "Requirement already satisfied: typing-extensions>=4.2.0 in /usr/local/lib/python3.10/dist-packages (from sqlalchemy) (4.7.1)\n",
            "Requirement already satisfied: greenlet!=0.4.17 in /usr/local/lib/python3.10/dist-packages (from sqlalchemy) (2.0.2)\n",
            "Requirement already satisfied: filelock in /usr/local/lib/python3.10/dist-packages (from torch) (3.12.2)\n",
            "Requirement already satisfied: sympy in /usr/local/lib/python3.10/dist-packages (from torch) (1.12)\n",
            "Requirement already satisfied: networkx in /usr/local/lib/python3.10/dist-packages (from torch) (3.1)\n",
            "Requirement already satisfied: jinja2 in /usr/local/lib/python3.10/dist-packages (from torch) (3.1.2)\n",
            "Requirement already satisfied: nvidia-cuda-nvrtc-cu11==11.7.99 in /usr/local/lib/python3.10/dist-packages (from torch) (11.7.99)\n",
            "Requirement already satisfied: nvidia-cuda-runtime-cu11==11.7.99 in /usr/local/lib/python3.10/dist-packages (from torch) (11.7.99)\n",
            "Collecting nvidia-cuda-cupti-cu11==11.7.101 (from torch)\n",
            "  Downloading nvidia_cuda_cupti_cu11-11.7.101-py3-none-manylinux1_x86_64.whl (11.8 MB)\n",
            "\u001b[2K     \u001b[90m━━━━━━━━━━━━━━━━━━━━━━━━━━━━━━━━━━━━━━━━\u001b[0m \u001b[32m11.8/11.8 MB\u001b[0m \u001b[31m57.3 MB/s\u001b[0m eta \u001b[36m0:00:00\u001b[0m\n",
            "\u001b[?25hRequirement already satisfied: nvidia-cudnn-cu11==8.5.0.96 in /usr/local/lib/python3.10/dist-packages (from torch) (8.5.0.96)\n",
            "Requirement already satisfied: nvidia-cublas-cu11==11.10.3.66 in /usr/local/lib/python3.10/dist-packages (from torch) (11.10.3.66)\n",
            "Collecting nvidia-cufft-cu11==10.9.0.58 (from torch)\n",
            "  Downloading nvidia_cufft_cu11-10.9.0.58-py3-none-manylinux1_x86_64.whl (168.4 MB)\n",
            "\u001b[2K     \u001b[90m━━━━━━━━━━━━━━━━━━━━━━━━━━━━━━━━━━━━━━━\u001b[0m \u001b[32m168.4/168.4 MB\u001b[0m \u001b[31m7.2 MB/s\u001b[0m eta \u001b[36m0:00:00\u001b[0m\n",
            "\u001b[?25hCollecting nvidia-curand-cu11==10.2.10.91 (from torch)\n",
            "  Downloading nvidia_curand_cu11-10.2.10.91-py3-none-manylinux1_x86_64.whl (54.6 MB)\n",
            "\u001b[2K     \u001b[90m━━━━━━━━━━━━━━━━━━━━━━━━━━━━━━━━━━━━━━━━\u001b[0m \u001b[32m54.6/54.6 MB\u001b[0m \u001b[31m11.4 MB/s\u001b[0m eta \u001b[36m0:00:00\u001b[0m\n",
            "\u001b[?25hCollecting nvidia-cusolver-cu11==11.4.0.1 (from torch)\n",
            "  Downloading nvidia_cusolver_cu11-11.4.0.1-2-py3-none-manylinux1_x86_64.whl (102.6 MB)\n",
            "\u001b[2K     \u001b[90m━━━━━━━━━━━━━━━━━━━━━━━━━━━━━━━━━━━━━━━\u001b[0m \u001b[32m102.6/102.6 MB\u001b[0m \u001b[31m9.4 MB/s\u001b[0m eta \u001b[36m0:00:00\u001b[0m\n",
            "\u001b[?25hCollecting nvidia-cusparse-cu11==11.7.4.91 (from torch)\n",
            "  Downloading nvidia_cusparse_cu11-11.7.4.91-py3-none-manylinux1_x86_64.whl (173.2 MB)\n",
            "\u001b[2K     \u001b[90m━━━━━━━━━━━━━━━━━━━━━━━━━━━━━━━━━━━━━━━\u001b[0m \u001b[32m173.2/173.2 MB\u001b[0m \u001b[31m2.8 MB/s\u001b[0m eta \u001b[36m0:00:00\u001b[0m\n",
            "\u001b[?25hCollecting nvidia-nccl-cu11==2.14.3 (from torch)\n",
            "  Downloading nvidia_nccl_cu11-2.14.3-py3-none-manylinux1_x86_64.whl (177.1 MB)\n",
            "\u001b[2K     \u001b[90m━━━━━━━━━━━━━━━━━━━━━━━━━━━━━━━━━━━━━━━\u001b[0m \u001b[32m177.1/177.1 MB\u001b[0m \u001b[31m2.3 MB/s\u001b[0m eta \u001b[36m0:00:00\u001b[0m\n",
            "\u001b[?25hCollecting nvidia-nvtx-cu11==11.7.91 (from torch)\n",
            "  Downloading nvidia_nvtx_cu11-11.7.91-py3-none-manylinux1_x86_64.whl (98 kB)\n",
            "\u001b[2K     \u001b[90m━━━━━━━━━━━━━━━━━━━━━━━━━━━━━━━━━━━━━━━━\u001b[0m \u001b[32m98.6/98.6 kB\u001b[0m \u001b[31m10.4 MB/s\u001b[0m eta \u001b[36m0:00:00\u001b[0m\n",
            "\u001b[?25hRequirement already satisfied: triton==2.0.0 in /usr/local/lib/python3.10/dist-packages (from torch) (2.0.0)\n",
            "Requirement already satisfied: setuptools in /usr/local/lib/python3.10/dist-packages (from nvidia-cublas-cu11==11.10.3.66->torch) (67.7.2)\n",
            "Requirement already satisfied: wheel in /usr/local/lib/python3.10/dist-packages (from nvidia-cublas-cu11==11.10.3.66->torch) (0.41.2)\n",
            "Requirement already satisfied: cmake in /usr/local/lib/python3.10/dist-packages (from triton==2.0.0->torch) (3.27.2)\n",
            "Requirement already satisfied: lit in /usr/local/lib/python3.10/dist-packages (from triton==2.0.0->torch) (16.0.6)\n",
            "Requirement already satisfied: urllib3>=1.25 in /usr/local/lib/python3.10/dist-packages (from torchdata) (2.0.4)\n",
            "Requirement already satisfied: requests in /usr/local/lib/python3.10/dist-packages (from torchdata) (2.31.0)\n",
            "Requirement already satisfied: tqdm in /usr/local/lib/python3.10/dist-packages (from torchtext) (4.66.1)\n",
            "Requirement already satisfied: numpy in /usr/local/lib/python3.10/dist-packages (from torchtext) (1.23.5)\n",
            "Requirement already satisfied: MarkupSafe>=2.0 in /usr/local/lib/python3.10/dist-packages (from jinja2->torch) (2.1.3)\n",
            "Requirement already satisfied: charset-normalizer<4,>=2 in /usr/local/lib/python3.10/dist-packages (from requests->torchdata) (3.2.0)\n",
            "Requirement already satisfied: idna<4,>=2.5 in /usr/local/lib/python3.10/dist-packages (from requests->torchdata) (3.4)\n",
            "Requirement already satisfied: certifi>=2017.4.17 in /usr/local/lib/python3.10/dist-packages (from requests->torchdata) (2023.7.22)\n",
            "Requirement already satisfied: mpmath>=0.19 in /usr/local/lib/python3.10/dist-packages (from sympy->torch) (1.3.0)\n",
            "Installing collected packages: nvidia-nvtx-cu11, nvidia-nccl-cu11, nvidia-cusparse-cu11, nvidia-curand-cu11, nvidia-cufft-cu11, nvidia-cuda-cupti-cu11, nvidia-cusolver-cu11, torch\n",
            "  Attempting uninstall: torch\n",
            "    Found existing installation: torch 1.13.1\n",
            "    Uninstalling torch-1.13.1:\n",
            "      Successfully uninstalled torch-1.13.1\n",
            "\u001b[31mERROR: pip's dependency resolver does not currently take into account all the packages that are installed. This behaviour is the source of the following dependency conflicts.\n",
            "ohmeow-blurr 1.0.5 requires torch<2.0.0,>=1.7.0, but you have torch 2.0.1 which is incompatible.\n",
            "torchvision 0.14.1 requires torch==1.13.1, but you have torch 2.0.1 which is incompatible.\u001b[0m\u001b[31m\n",
            "\u001b[0mSuccessfully installed nvidia-cuda-cupti-cu11-11.7.101 nvidia-cufft-cu11-10.9.0.58 nvidia-curand-cu11-10.2.10.91 nvidia-cusolver-cu11-11.4.0.1 nvidia-cusparse-cu11-11.7.4.91 nvidia-nccl-cu11-2.14.3 nvidia-nvtx-cu11-11.7.91 torch-2.0.1\n"
          ]
        }
      ],
      "source": [
        "!pip install --upgrade sqlalchemy torch torchaudio torchdata torchtext"
      ]
    },
    {
      "cell_type": "code",
      "execution_count": 5,
      "metadata": {
        "colab": {
          "base_uri": "https://localhost:8080/",
          "height": 136,
          "referenced_widgets": [
            "4f795b3df2ed4e43907a8356b11d7fca",
            "8482bdadd72f4da6822cb4607ee7be31",
            "f985717040e7486186bcd829c3d8321d",
            "ca066a99ffc6496f81809d7f57ab6088",
            "43b3507cf7b54db48612a49da03368c0",
            "a9c9b4826eb74948b88031b78b9849c0",
            "276d84800a7141b88c33b55c39edf0db",
            "ce776f919b1f4dd381a16d7be1e41371",
            "1e61752f7da04a689923b396789135b0",
            "f27f8df205b5472e80ba3b1de05003d8",
            "0cad7b34a3d14a8b8b5a0aa8cdabf82b",
            "57a2d0e465d84132b11bdd443a691a11",
            "b8d946d4068b457789739e5fa3712d34",
            "f70bf03b401f4657ad8f9ceff7e44a82",
            "1c8836d6ee364b7d8183da6fd1acbe4f",
            "4437c7c1aa4b4bcfb8e40c8f322d5649",
            "884e7dfbf3b84b5c829c675a28bde001",
            "9156e401ea4846058df5f5a2b1116436",
            "138224102bb7491f96d9eb9051822f59",
            "af8a10e6ebb84f9f836f8b000b0cfe54",
            "db1fdea527fc4d14924c58a823410241",
            "a7f11bde1a4a4b26a58bd04418863d39"
          ]
        },
        "id": "IE1vSUJf9Fxb",
        "outputId": "df880ced-d41b-4be4-a319-a5889884c444"
      },
      "outputs": [
        {
          "name": "stderr",
          "output_type": "stream",
          "text": [
            "/usr/local/lib/python3.10/dist-packages/blurr/text/modeling/question_answering.py:31: FutureWarning: load_metric is deprecated and will be removed in the next major version of datasets. Use 'evaluate.load' instead, from the new library 🤗 Evaluate: https://huggingface.co/docs/evaluate\n",
            "  squad_metric = load_metric(\"squad\")\n"
          ]
        },
        {
          "data": {
            "application/vnd.jupyter.widget-view+json": {
              "model_id": "4f795b3df2ed4e43907a8356b11d7fca",
              "version_major": 2,
              "version_minor": 0
            },
            "text/plain": [
              "Downloading builder script:   0%|          | 0.00/1.72k [00:00<?, ?B/s]"
            ]
          },
          "metadata": {},
          "output_type": "display_data"
        },
        {
          "data": {
            "application/vnd.jupyter.widget-view+json": {
              "model_id": "57a2d0e465d84132b11bdd443a691a11",
              "version_major": 2,
              "version_minor": 0
            },
            "text/plain": [
              "Downloading extra modules:   0%|          | 0.00/1.11k [00:00<?, ?B/s]"
            ]
          },
          "metadata": {},
          "output_type": "display_data"
        }
      ],
      "source": [
        "import torch\n",
        "from transformers import AutoModelForSequenceClassification, AutoConfig\n",
        "from fastai.text.all import *\n",
        "from blurr.text.data.all import *\n",
        "from blurr.text.modeling.all import *"
      ]
    },
    {
      "cell_type": "code",
      "execution_count": 6,
      "metadata": {
        "colab": {
          "base_uri": "https://localhost:8080/"
        },
        "id": "HhA3IF-c9G7y",
        "outputId": "61920cd3-2dd0-456c-e03c-c047998be89b"
      },
      "outputs": [
        {
          "name": "stdout",
          "output_type": "stream",
          "text": [
            "Mounted at /content/drive\n"
          ]
        }
      ],
      "source": [
        "from google.colab import drive\n",
        "drive.mount('/content/drive')"
      ]
    },
    {
      "cell_type": "code",
      "execution_count": null,
      "metadata": {
        "colab": {
          "base_uri": "https://localhost:8080/"
        },
        "id": "9Y7NuszD9Iby",
        "outputId": "e5d256af-82f5-4677-a9c6-c64c395ae7ab"
      },
      "outputs": [],
      "source": [
        "%cd /content/drive/MyDrive/ML/QA_Classifier"
      ]
    },
    {
      "cell_type": "markdown",
      "metadata": {
        "id": "2BdMKFKo_NBc"
      },
      "source": [
        "# Data"
      ]
    },
    {
      "cell_type": "code",
      "execution_count": 8,
      "metadata": {
        "colab": {
          "base_uri": "https://localhost:8080/",
          "height": 692
        },
        "id": "EYyD3GF5_Na8",
        "outputId": "7dc5589e-fc91-4c94-bbe5-19b6ac29639f"
      },
      "outputs": [
        {
          "data": {
            "text/html": [
              "\n",
              "  <div id=\"df-0c321267-259c-4a05-942c-d46c20f7323f\" class=\"colab-df-container\">\n",
              "    <div>\n",
              "<style scoped>\n",
              "    .dataframe tbody tr th:only-of-type {\n",
              "        vertical-align: middle;\n",
              "    }\n",
              "\n",
              "    .dataframe tbody tr th {\n",
              "        vertical-align: top;\n",
              "    }\n",
              "\n",
              "    .dataframe thead th {\n",
              "        text-align: right;\n",
              "    }\n",
              "</style>\n",
              "<table border=\"1\" class=\"dataframe\">\n",
              "  <thead>\n",
              "    <tr style=\"text-align: right;\">\n",
              "      <th></th>\n",
              "      <th>Title</th>\n",
              "      <th>URL</th>\n",
              "      <th>Question</th>\n",
              "      <th>Categories</th>\n",
              "    </tr>\n",
              "  </thead>\n",
              "  <tbody>\n",
              "    <tr>\n",
              "      <th>0</th>\n",
              "      <td>your browser version is not supported using symfony browserkit</td>\n",
              "      <td>https://stackoverflow.com/questions/76981459/your-browser-version-is-not-supported-using-symfony-browserkit</td>\n",
              "      <td>I'm trying to automate some features and I need to scarp a web page.So, I'm using browserkit to make external request to website.Everything seems good but there's no useful result in my response because target page is using modern JavaScript.Let's take a look :PHP filerequire \"./vendor/autoload.php\";use Symfony\\Component\\HttpClient\\HttpClient;$client = HttpClient::create([    'max_redirects' =&gt; 7,]);$response = $client-&gt;request(    'GET',    'https://secure.e-konsulat.gov.pl');$statusCode = $response-&gt;getStatusCode();$contentType = $response-&gt;getHeaders()['content-type'][0];$content = $res...</td>\n",
              "      <td>['php', 'symfony', 'web-scraping']</td>\n",
              "    </tr>\n",
              "    <tr>\n",
              "      <th>1</th>\n",
              "      <td>how to get button text value in java</td>\n",
              "      <td>https://stackoverflow.com/questions/76981456/how-to-get-button-text-value-in-java</td>\n",
              "      <td>I want to get button text value to do the on click command, but i can't find the right code to do it. I think I need a code to replace the //button text value// on the code showed below.package test;import javax.swing.*;import java.awt.*;import java.awt.event.*;public class Main implements ActionListener{public static void main(String[] args) {        JFrame frame = new JFrame();    frame.setSize(420,420);    frame.setLayout(new GridLayout(1,1));    frame.setDefaultCloseOperation(JFrame.EXIT_ON_CLOSE);    JButton button = new JButton();    button.setText(\"1\");        }    @Override    publ...</td>\n",
              "      <td>['java', 'button']</td>\n",
              "    </tr>\n",
              "    <tr>\n",
              "      <th>2</th>\n",
              "      <td>How to make sure communication is stable when using a ZeroMQ REQ-REP in NodeJs-Golang</td>\n",
              "      <td>https://stackoverflow.com/questions/76981455/how-to-make-sure-communication-is-stable-when-using-a-zeromq-req-rep-in-nodejs-g</td>\n",
              "      <td>This is my Node codeasync function runClient() {    console.log('Connecting to hello world server…');    //  Socket to talk to server    const sock = new zmq.Request();    sock.connect('tcp://localhost:5555');    let i = 0;    while (true) {        const msgToSend = 'Hello';        console.log(`Count: ${i} Sending: ${msgToSend}`);        await sock.send(msgToSend);        const [result] = await sock.receive();        console.log(`Count: ${i} Received: ${result.toString()}`);        i++;    }}and here's my Golangpackage mainimport (    \"log\"    \"time\"    zmq \"github.com/pebbe/zmq4\")func mai...</td>\n",
              "      <td>['javascript', 'node.js', 'go', 'zeromq']</td>\n",
              "    </tr>\n",
              "    <tr>\n",
              "      <th>3</th>\n",
              "      <td>Cubical Agda Inclusion Order</td>\n",
              "      <td>https://stackoverflow.com/questions/76981453/cubical-agda-inclusion-order</td>\n",
              "      <td>I'm almost finished defining an Inclusion Order in Cubical Agda, But I'm stuck proving the second projections are equal for dependent pairs. I would appreciate it if someone can fill in the hole for the antisymmetric relation.{-# OPTIONS --cubical #-}{-# OPTIONS --without-K #-}{-# OPTIONS --safe #-}open import Cubical.Foundations.Preludeopen import Cubical.Foundations.Isomorphismopen import Agda.Primitiveprivate  variable    l l' al bl : Level    A : Type al    B : Type bl-- https://en.wikipedia.org/wiki/Partially_ordered_setrecord Poset (A : Type l)(l' : Level) : Type (lsuc (l ⊔ l'))  whe...</td>\n",
              "      <td>['agda']</td>\n",
              "    </tr>\n",
              "    <tr>\n",
              "      <th>4</th>\n",
              "      <td>How to convert depth map to image(.png) format for open3d to make a pointcloud?</td>\n",
              "      <td>https://stackoverflow.com/questions/76981450/how-to-convert-depth-map-to-image-png-format-for-open3d-to-make-a-pointcloud</td>\n",
              "      <td>I am using a depth camera which captures a 500x500 depth map in meters. I also have the corresponding RGB image. Now the function - open3d.geometry.RGBDImage.create_from_color_and_depth(RGB_image, depth_image) requires depth image in png form. When I convert the depth map array to a png image, I get an image which is very dark because all the depths are in the range of 3m to 6m.When I finally get the pointcloud using o3d.geometry.PointCloud.create_from_rgbd_image(), the pointcloud is sliced. By sliced I mean that there are discrete layers where a portion of the image is printed.I think I a...</td>\n",
              "      <td>['3d', 'computer-vision', 'point-clouds', 'vision', 'open3d']</td>\n",
              "    </tr>\n",
              "  </tbody>\n",
              "</table>\n",
              "</div>\n",
              "    <div class=\"colab-df-buttons\">\n",
              "\n",
              "  <div class=\"colab-df-container\">\n",
              "    <button class=\"colab-df-convert\" onclick=\"convertToInteractive('df-0c321267-259c-4a05-942c-d46c20f7323f')\"\n",
              "            title=\"Convert this dataframe to an interactive table.\"\n",
              "            style=\"display:none;\">\n",
              "\n",
              "  <svg xmlns=\"http://www.w3.org/2000/svg\" height=\"24px\" viewBox=\"0 -960 960 960\">\n",
              "    <path d=\"M120-120v-720h720v720H120Zm60-500h600v-160H180v160Zm220 220h160v-160H400v160Zm0 220h160v-160H400v160ZM180-400h160v-160H180v160Zm440 0h160v-160H620v160ZM180-180h160v-160H180v160Zm440 0h160v-160H620v160Z\"/>\n",
              "  </svg>\n",
              "    </button>\n",
              "\n",
              "  <style>\n",
              "    .colab-df-container {\n",
              "      display:flex;\n",
              "      gap: 12px;\n",
              "    }\n",
              "\n",
              "    .colab-df-convert {\n",
              "      background-color: #E8F0FE;\n",
              "      border: none;\n",
              "      border-radius: 50%;\n",
              "      cursor: pointer;\n",
              "      display: none;\n",
              "      fill: #1967D2;\n",
              "      height: 32px;\n",
              "      padding: 0 0 0 0;\n",
              "      width: 32px;\n",
              "    }\n",
              "\n",
              "    .colab-df-convert:hover {\n",
              "      background-color: #E2EBFA;\n",
              "      box-shadow: 0px 1px 2px rgba(60, 64, 67, 0.3), 0px 1px 3px 1px rgba(60, 64, 67, 0.15);\n",
              "      fill: #174EA6;\n",
              "    }\n",
              "\n",
              "    .colab-df-buttons div {\n",
              "      margin-bottom: 4px;\n",
              "    }\n",
              "\n",
              "    [theme=dark] .colab-df-convert {\n",
              "      background-color: #3B4455;\n",
              "      fill: #D2E3FC;\n",
              "    }\n",
              "\n",
              "    [theme=dark] .colab-df-convert:hover {\n",
              "      background-color: #434B5C;\n",
              "      box-shadow: 0px 1px 3px 1px rgba(0, 0, 0, 0.15);\n",
              "      filter: drop-shadow(0px 1px 2px rgba(0, 0, 0, 0.3));\n",
              "      fill: #FFFFFF;\n",
              "    }\n",
              "  </style>\n",
              "\n",
              "    <script>\n",
              "      const buttonEl =\n",
              "        document.querySelector('#df-0c321267-259c-4a05-942c-d46c20f7323f button.colab-df-convert');\n",
              "      buttonEl.style.display =\n",
              "        google.colab.kernel.accessAllowed ? 'block' : 'none';\n",
              "\n",
              "      async function convertToInteractive(key) {\n",
              "        const element = document.querySelector('#df-0c321267-259c-4a05-942c-d46c20f7323f');\n",
              "        const dataTable =\n",
              "          await google.colab.kernel.invokeFunction('convertToInteractive',\n",
              "                                                    [key], {});\n",
              "        if (!dataTable) return;\n",
              "\n",
              "        const docLinkHtml = 'Like what you see? Visit the ' +\n",
              "          '<a target=\"_blank\" href=https://colab.research.google.com/notebooks/data_table.ipynb>data table notebook</a>'\n",
              "          + ' to learn more about interactive tables.';\n",
              "        element.innerHTML = '';\n",
              "        dataTable['output_type'] = 'display_data';\n",
              "        await google.colab.output.renderOutput(dataTable, element);\n",
              "        const docLink = document.createElement('div');\n",
              "        docLink.innerHTML = docLinkHtml;\n",
              "        element.appendChild(docLink);\n",
              "      }\n",
              "    </script>\n",
              "  </div>\n",
              "\n",
              "\n",
              "<div id=\"df-9743397d-183d-47d8-b019-92f148c6be7e\">\n",
              "  <button class=\"colab-df-quickchart\" onclick=\"quickchart('df-9743397d-183d-47d8-b019-92f148c6be7e')\"\n",
              "            title=\"Suggest charts.\"\n",
              "            style=\"display:none;\">\n",
              "\n",
              "<svg xmlns=\"http://www.w3.org/2000/svg\" height=\"24px\"viewBox=\"0 0 24 24\"\n",
              "     width=\"24px\">\n",
              "    <g>\n",
              "        <path d=\"M19 3H5c-1.1 0-2 .9-2 2v14c0 1.1.9 2 2 2h14c1.1 0 2-.9 2-2V5c0-1.1-.9-2-2-2zM9 17H7v-7h2v7zm4 0h-2V7h2v10zm4 0h-2v-4h2v4z\"/>\n",
              "    </g>\n",
              "</svg>\n",
              "  </button>\n",
              "\n",
              "<style>\n",
              "  .colab-df-quickchart {\n",
              "    background-color: #E8F0FE;\n",
              "    border: none;\n",
              "    border-radius: 50%;\n",
              "    cursor: pointer;\n",
              "    display: none;\n",
              "    fill: #1967D2;\n",
              "    height: 32px;\n",
              "    padding: 0 0 0 0;\n",
              "    width: 32px;\n",
              "  }\n",
              "\n",
              "  .colab-df-quickchart:hover {\n",
              "    background-color: #E2EBFA;\n",
              "    box-shadow: 0px 1px 2px rgba(60, 64, 67, 0.3), 0px 1px 3px 1px rgba(60, 64, 67, 0.15);\n",
              "    fill: #174EA6;\n",
              "  }\n",
              "\n",
              "  [theme=dark] .colab-df-quickchart {\n",
              "    background-color: #3B4455;\n",
              "    fill: #D2E3FC;\n",
              "  }\n",
              "\n",
              "  [theme=dark] .colab-df-quickchart:hover {\n",
              "    background-color: #434B5C;\n",
              "    box-shadow: 0px 1px 3px 1px rgba(0, 0, 0, 0.15);\n",
              "    filter: drop-shadow(0px 1px 2px rgba(0, 0, 0, 0.3));\n",
              "    fill: #FFFFFF;\n",
              "  }\n",
              "</style>\n",
              "\n",
              "  <script>\n",
              "    async function quickchart(key) {\n",
              "      const charts = await google.colab.kernel.invokeFunction(\n",
              "          'suggestCharts', [key], {});\n",
              "    }\n",
              "    (() => {\n",
              "      let quickchartButtonEl =\n",
              "        document.querySelector('#df-9743397d-183d-47d8-b019-92f148c6be7e button');\n",
              "      quickchartButtonEl.style.display =\n",
              "        google.colab.kernel.accessAllowed ? 'block' : 'none';\n",
              "    })();\n",
              "  </script>\n",
              "</div>\n",
              "    </div>\n",
              "  </div>\n"
            ],
            "text/plain": [
              "                                                                                   Title  \\\n",
              "0                         your browser version is not supported using symfony browserkit   \n",
              "1                                                   how to get button text value in java   \n",
              "2  How to make sure communication is stable when using a ZeroMQ REQ-REP in NodeJs-Golang   \n",
              "3                                                           Cubical Agda Inclusion Order   \n",
              "4        How to convert depth map to image(.png) format for open3d to make a pointcloud?   \n",
              "\n",
              "                                                                                                                             URL  \\\n",
              "0                    https://stackoverflow.com/questions/76981459/your-browser-version-is-not-supported-using-symfony-browserkit   \n",
              "1                                              https://stackoverflow.com/questions/76981456/how-to-get-button-text-value-in-java   \n",
              "2  https://stackoverflow.com/questions/76981455/how-to-make-sure-communication-is-stable-when-using-a-zeromq-req-rep-in-nodejs-g   \n",
              "3                                                      https://stackoverflow.com/questions/76981453/cubical-agda-inclusion-order   \n",
              "4      https://stackoverflow.com/questions/76981450/how-to-convert-depth-map-to-image-png-format-for-open3d-to-make-a-pointcloud   \n",
              "\n",
              "                                                                                                                                                                                                                                                                                                                                                                                                                                                                                                                                                                                                                  Question  \\\n",
              "0  I'm trying to automate some features and I need to scarp a web page.So, I'm using browserkit to make external request to website.Everything seems good but there's no useful result in my response because target page is using modern JavaScript.Let's take a look :PHP filerequire \"./vendor/autoload.php\";use Symfony\\Component\\HttpClient\\HttpClient;$client = HttpClient::create([    'max_redirects' => 7,]);$response = $client->request(    'GET',    'https://secure.e-konsulat.gov.pl');$statusCode = $response->getStatusCode();$contentType = $response->getHeaders()['content-type'][0];$content = $res...   \n",
              "1  I want to get button text value to do the on click command, but i can't find the right code to do it. I think I need a code to replace the //button text value// on the code showed below.package test;import javax.swing.*;import java.awt.*;import java.awt.event.*;public class Main implements ActionListener{public static void main(String[] args) {        JFrame frame = new JFrame();    frame.setSize(420,420);    frame.setLayout(new GridLayout(1,1));    frame.setDefaultCloseOperation(JFrame.EXIT_ON_CLOSE);    JButton button = new JButton();    button.setText(\"1\");        }    @Override    publ...   \n",
              "2  This is my Node codeasync function runClient() {    console.log('Connecting to hello world server…');    //  Socket to talk to server    const sock = new zmq.Request();    sock.connect('tcp://localhost:5555');    let i = 0;    while (true) {        const msgToSend = 'Hello';        console.log(`Count: ${i} Sending: ${msgToSend}`);        await sock.send(msgToSend);        const [result] = await sock.receive();        console.log(`Count: ${i} Received: ${result.toString()}`);        i++;    }}and here's my Golangpackage mainimport (    \"log\"    \"time\"    zmq \"github.com/pebbe/zmq4\")func mai...   \n",
              "3  I'm almost finished defining an Inclusion Order in Cubical Agda, But I'm stuck proving the second projections are equal for dependent pairs. I would appreciate it if someone can fill in the hole for the antisymmetric relation.{-# OPTIONS --cubical #-}{-# OPTIONS --without-K #-}{-# OPTIONS --safe #-}open import Cubical.Foundations.Preludeopen import Cubical.Foundations.Isomorphismopen import Agda.Primitiveprivate  variable    l l' al bl : Level    A : Type al    B : Type bl-- https://en.wikipedia.org/wiki/Partially_ordered_setrecord Poset (A : Type l)(l' : Level) : Type (lsuc (l ⊔ l'))  whe...   \n",
              "4  I am using a depth camera which captures a 500x500 depth map in meters. I also have the corresponding RGB image. Now the function - open3d.geometry.RGBDImage.create_from_color_and_depth(RGB_image, depth_image) requires depth image in png form. When I convert the depth map array to a png image, I get an image which is very dark because all the depths are in the range of 3m to 6m.When I finally get the pointcloud using o3d.geometry.PointCloud.create_from_rgbd_image(), the pointcloud is sliced. By sliced I mean that there are discrete layers where a portion of the image is printed.I think I a...   \n",
              "\n",
              "                                                      Categories  \n",
              "0                             ['php', 'symfony', 'web-scraping']  \n",
              "1                                             ['java', 'button']  \n",
              "2                      ['javascript', 'node.js', 'go', 'zeromq']  \n",
              "3                                                       ['agda']  \n",
              "4  ['3d', 'computer-vision', 'point-clouds', 'vision', 'open3d']  "
            ]
          },
          "execution_count": 8,
          "metadata": {},
          "output_type": "execute_result"
        }
      ],
      "source": [
        "df = pd.read_csv(\"questions_details.csv\")\n",
        "df.head()"
      ]
    },
    {
      "cell_type": "code",
      "execution_count": null,
      "metadata": {
        "colab": {
          "base_uri": "https://localhost:8080/"
        },
        "id": "f6o1buscBnm9",
        "outputId": "3e0663d9-710f-4545-94bb-7c2e42005c72"
      },
      "outputs": [
        {
          "data": {
            "text/plain": [
              "(22123, 4)"
            ]
          },
          "execution_count": 40,
          "metadata": {},
          "output_type": "execute_result"
        }
      ],
      "source": [
        "df.shape"
      ]
    },
    {
      "cell_type": "code",
      "execution_count": null,
      "metadata": {
        "colab": {
          "base_uri": "https://localhost:8080/"
        },
        "id": "nRsuUxrhCg85",
        "outputId": "fe32b9b4-61c2-47b0-e66c-b5004d9e748e"
      },
      "outputs": [
        {
          "data": {
            "text/plain": [
              "Title         0\n",
              "URL           0\n",
              "Question      0\n",
              "Categories    0\n",
              "dtype: int64"
            ]
          },
          "execution_count": 41,
          "metadata": {},
          "output_type": "execute_result"
        }
      ],
      "source": [
        "df.isna().sum()"
      ]
    },
    {
      "cell_type": "code",
      "execution_count": null,
      "metadata": {
        "colab": {
          "base_uri": "https://localhost:8080/"
        },
        "id": "nDDRDSpoClM7",
        "outputId": "8b8af2c3-8539-4196-be96-46aef022f888"
      },
      "outputs": [
        {
          "name": "stdout",
          "output_type": "stream",
          "text": [
            "<class 'pandas.core.frame.DataFrame'>\n",
            "RangeIndex: 22123 entries, 0 to 22122\n",
            "Data columns (total 4 columns):\n",
            " #   Column      Non-Null Count  Dtype \n",
            "---  ------      --------------  ----- \n",
            " 0   Title       22123 non-null  object\n",
            " 1   URL         22123 non-null  object\n",
            " 2   Question    22123 non-null  object\n",
            " 3   Categories  22123 non-null  object\n",
            "dtypes: object(4)\n",
            "memory usage: 691.5+ KB\n"
          ]
        }
      ],
      "source": [
        "df.info()"
      ]
    },
    {
      "cell_type": "code",
      "execution_count": null,
      "metadata": {
        "colab": {
          "base_uri": "https://localhost:8080/"
        },
        "id": "pjYVobSMARF7",
        "outputId": "681d5ef3-e578-4bfa-e82b-9521a210aa3e"
      },
      "outputs": [
        {
          "data": {
            "text/plain": [
              "(22123, 4)"
            ]
          },
          "execution_count": 43,
          "metadata": {},
          "output_type": "execute_result"
        }
      ],
      "source": [
        "df = df.dropna().reset_index(drop=True)\n",
        "df.shape"
      ]
    },
    {
      "cell_type": "code",
      "execution_count": 9,
      "metadata": {
        "colab": {
          "base_uri": "https://localhost:8080/"
        },
        "id": "iPvxwr4__VYt",
        "outputId": "8e99dd18-ff61-4a15-a998-1c9a1ecd64d2"
      },
      "outputs": [
        {
          "name": "stdout",
          "output_type": "stream",
          "text": [
            "Number of Categories: 10634\n",
            "{'php': 592, 'symfony': 45, 'web-scraping': 103, 'java': 1146, 'button': 25, 'javascript': 1951, 'node.js': 625, 'go': 155, 'zeromq': 4, 'agda': 2, '3d': 29, 'computer-vision': 34, 'point-clouds': 4, 'vision': 1, 'open3d': 1, 'spring': 214, 'spring-security': 60, 'oauth-2.0': 47, 'c#': 1004, 'html': 759, 'css': 608, 'vue.js': 168, 'kubernetes': 145, 'kubectl': 19, 'kubernetes-secrets': 1, 'wordpress': 239, 'title': 4, 'opengl': 11, 'linker': 10, 'gnu': 5, 'ld': 7, 'reactjs': 1226, 'unit-testing': 59, 'jestjs': 46, 'ts-jest': 11, 'json': 206, 'extjs': 3, 'ios': 286, 'swift': 246, 'swiftui': 134, 'scrollview': 12, 'python': 2839, 'amazon-web-services': 265, 'terraform': 73, 'terraform-provider-aws': 18, 'terraform0.12+': 1, 'launch-template': 1, 'ffmpeg': 37, 'ffprobe': 3, 'amazon-dynamodb': 26, 'memory-leaks': 14, 'game-engine': 5, 'vulkan': 5, 'godot': 14, 'gdscript': 8, 'tween': 2, 'godot4': 11, 'selenium-webdriver': 199, 'powershell': 157, 'service': 16, 'windows-services': 8, 'cursor': 4, 'keyboard': 11, 'boot': 9, 'ruby-on-rails': 83, 'socket.io-1.0': 1, 'google-chrome': 87, 'tabs': 9, 'django': 281, 'django-views': 35, 'django-templates': 22, 'spring-boot': 365, 'microservices': 20, 'quarkus': 25, 'xcode': 71, 'woocommerce': 87, 'wpbakery': 2, 'android': 769, 'xml': 87, 'kotlin': 283, 'android-studio': 97, 'android-activity': 6, 'android-jetpack-compose': 96, 'sorting': 35, 'data-structures': 26, 'plot': 40, 'plotly': 33, 'bar-chart': 11, 'artificial-intelligence': 47, 'speech-recognition': 7, 'speech': 1, 'language-packs': 1, 'amazon-sqs': 7, 'elementor': 24, 'looker-studio': 14, 'arrays': 208, 'filter': 37, 'splice': 1, 'output': 11, 'font-awesome': 6, 'scenebuilder': 4, 'dataframe': 181, 'list': 76, 'multidimensional-array': 14, 'jupyter-notebook': 44, 'asp.net-mvc': 59, 'razor': 17, 'kendo-ui': 8, 'python-3.x': 362, 'maya': 3, 'google-sheets': 117, 'google-sheets-formula': 26, 'url': 29, 'aws-lambda': 65, 'ssl-certificate': 20, 'cookies': 39, 'xampp': 12, 'setcookie': 2, 'android-ffmpeg': 2, 'ffmpegkit': 2, 'typescript': 544, 'android-recyclerview': 14, 'adapter': 1, 'c++': 477, 'for-loop': 37, 'vector': 15, 'cout': 1, 'push-back': 1, 'selenide': 3, 'visual-studio-code': 198, 'vscode-code-runner': 3, 'microsoft-edge': 10, 'firefox': 21, 'next.js': 358, 'angular': 383, 'require': 4, 'sql': 419, 'sql-server': 188, 'linq': 24, 'dapper': 12, 'flask': 113, 'google-workspace-add-ons': 5, 'r': 574, 'operators': 7, 'filtering': 9, 'unity-game-engine': 169, 'math': 39, 'filenotfounderror': 2, 'binary': 11, 'npz-file': 1, 'excel': 303, 'pivot-table': 14, 'timeline': 1, '.net-core': 66, 'mklink': 1, 'mqtt': 19, 'tls1.2': 5, 'mosquitto': 6, 'gis': 15, 'floating-point': 14, 'graphql': 51, 'aws-appsync': 3, 'aws-appsync-resolver': 2, 'android-layout': 12, 'android-compose-textfield': 3, 'android-compose-layout': 2, 'pine-script': 32, 'pycharm': 36, 'homebrew': 7, 'pyside': 6, 'react-native': 294, 'expo': 72, 'deployment': 64, 'render': 12, 'npm-build': 2, 'api': 182, 'rest': 81, 'augmented-reality': 18, 'usdz': 2, 'express': 141, 'amazon-s3': 69, 'langchain': 43, 'py-langchain': 8, 'geometry': 17, 'sympy': 7, 'selenium-chromedriver': 58, 'webdriver': 22, 'sendkeys': 1, 'formula': 7, 'keras': 56, 'nlp': 42, 'tf.keras': 8, 'playwright': 30, 'playwright-dotnet': 3, 'jquery': 164, 'linked-list': 12, 'playlist': 3, 'mongodb': 193, 'github': 142, 'youtube': 17, 'pytube': 1, 'mongoose': 59, 'cyclic': 1, 'spring-mvc': 24, 'webserver': 9, 'fastapi': 46, 'render.com': 7, 'flutter': 704, 'dart': 284, 'sharedpreferences': 3, 'lambda': 30, 'aws-glue': 10, 'sqlite': 41, 'fly': 2, 'algorithm': 64, 'tile': 3, 'hexagonal-tiles': 1, 'google-app-engine': 13, 'react-hooks': 94, 'function': 80, 'model-view-controller': 21, 'regex': 106, 'printing': 30, 'pywin32': 6, 'matlab': 32, 'fft': 7, 'cross-correlation': 2, 'web': 66, 'visual-web-developer': 1, 'django-models': 50, 'types': 25, 'reflection': 10, 'stack-trace': 3, 'antd': 17, 'mergesort': 7, 'angularjs': 21, 'nix': 1, 'nixos': 3, 'nix-darwin': 1, 'home-manager': 1, 'get': 13, 'fetch-api': 22, 'git': 141, 'security': 69, 'oauth': 22, 'client': 11, 'credentials': 7, 'discord': 46, 'retrofit': 4, 'demo': 1, 'haskell': 20, 'gadt': 1, 'type-level-computation': 2, 'multithreading': 68, 'design-patterns': 18, 'ajax': 62, 'mysqli': 8, 'framer-motion': 10, 'expo-av': 4, 'arduino': 32, 'distance': 7, 'sensors': 4, 'exponential': 1, 'google-api': 17, 'google-drive-api': 21, 'google-oauth': 24, 'npm': 101, 'tailwind-css': 89, 'rollup': 9, 'poker': 2, 'appintents': 3, 'arduino-uno': 4, 'arduino-ide': 9, 'hc-05': 2, 'docker': 326, 'docker-compose': 74, 'dockerfile': 54, 'wordpress-rest-api': 6, 'twilio': 24, 'twilio-api': 9, 'twilio-functions': 1, 'gstreamer': 13, 'seek': 1, 'yt-dlp': 2, 'react-native-paper': 4, 'bash': 120, 'awk': 18, 'sed': 15, 'grep': 14, 'jboss': 8, 'apache-camel': 18, 'jms': 6, 'activemq-artemis': 5, 'dictionary': 39, 'webrtc': 12, 'image': 64, 'upload': 14, 'picker': 2, 'imagepicker': 4, 'docusignapi': 9, 'laravel': 259, 'database-design': 13, 'flutter-animation': 11, 'stream': 14, 'group-by': 32, 'min': 3, 'android-developer-api': 4, 'karate': 23, 'plotly-dash': 11, 'tkinter': 75, 'treeview': 10, 'openpyxl': 9, 'routes': 25, 'terminal': 53, 'callback': 10, 'readline': 3, 'sdk': 22, 'azure-iot-central': 4, 'batch-file': 54, 'cmd': 28, 'associations': 1, 'progid': 1, 'ionic-framework': 40, 'karma-jasmine': 1, 'capacitor': 17, 'capacitor-plugin': 1, 'amazon-athena': 11, 'macos': 135, 'nswindow': 1, 'assembly': 27, 'x86-64': 11, 'uefi': 3, 'fasm': 1, 'maven': 72, 'vuejs3': 104, 'vue-component': 14, 'astro': 6, 'astrojs': 2, 'time-series': 28, 'linear-regression': 9, 'breakpoints': 4, 'trendline': 1, 'postgresql': 253, 'kubernetes-helm': 22, 'airflow-webserver': 2, 'onclick': 11, 'react-props': 7, 'c': 230, 'pynput': 2, 'startupscript': 1, 'scancodes': 1, 'fn': 1, 'google-kubernetes-engine': 11, 'lets-encrypt': 5, 'cert-manager': 3, 'kubernetes-gateway-api': 1, 'gurobi': 5, 'mixed-integer-programming': 4, 'feasibility': 1, 'vba': 176, 'google-cloud-firestore': 78, 'tsx': 5, 'linux': 253, 'windows': 192, 'jacoco': 9, 'libcurl': 4, 'ssl': 41, 'amazon-eks': 18, 'aws-acm': 2, 'checkbox': 13, 'prepend': 1, 'pygame': 26, 'slider': 9, 'gradle': 84, 'code-coverage': 5, 'python-requests': 42, 'rxjs': 25, 'subject': 1, 'type-hinting': 11, 'python-typing': 10, 'date': 40, 'datetime': 50, 'date-pipe': 1, 'eslint': 16, 'tsconfig': 3, 'istanbul': 1, 'responsestream': 1, 'rtk-query': 14, 'debian': 19, 'virtual-machine': 15, 'navigation': 20, 'roku': 1, 'brightscript': 1, 'scenegraph': 1, 'firebase': 218, 'ubuntu': 105, 'openstack-nova': 3, 'dns': 26, 'cname': 3, 'elasticsearch': 62, 'filebeat': 2, 'azure-functions': 55, 'python-2.7': 15, 'cpanel': 12, 'web-hosting': 13, 'nfc': 11, 'machine-learning': 111, 'spacy': 6, 'exception': 37, 'console': 8, 'chat-gpt-4': 1, 'networkx': 4, 'graph-theory': 12, 'adjacency-list': 1, 'osmnx': 4, 'ruby': 64, 'rubygems': 15, 'h.264': 5, 'android-mediacodec': 1, 'nginx': 97, 'google-cloud-platform': 146, 'cloudflare': 13, 'requestanimationframe': 1, 'database-connection': 9, 'signals': 13, 'qthread': 1, 'google-apps-script': 104, 'excel-formula': 63, 'effects': 2, 'laravel-dusk': 1, '.htaccess': 25, 'google-chrome-extension': 47, 'instagram': 9, 'junit': 23, 'mockito': 19, 'testng': 11, 'gnu-assembler': 2, 'ruby-on-rails-2': 1, 'aframe': 5, '8thwall-web': 1, 'authentication': 99, 'next-auth': 15, 'next': 30, 'react-three-fiber': 10, 'firebird': 6, 'external-tables': 3, 'dynamic-programming': 9, 'neural-network': 28, 'importerror': 8, 'huggingface': 26, 'asp.net': 123, '.net': 275, 'multiprocessing': 17, 'pytest': 19, 'long-polling': 1, 'uiactivityviewcontroller': 1, 'uiactivity': 1, 'ios17': 10, 'audio': 30, 'request': 10, 'shazam': 1, 'trivy': 2, 'perl': 19, 'email': 45, 'gmail': 14, 'pygresql': 1, 'auth0': 11, 'tensorflow': 102, 'browser-cache': 8, 'i2c': 4, 'string': 76, 'stringbuilder': 4, 'stringbuffer': 1, 'react-native-cli': 3, 'navbar': 19, 'db2': 8, 'forms': 44, 'double-quotes': 4, 'coldfusion-11': 1, 'single-quotes': 1, 'deep-learning': 73, 'lstm': 12, 'signal-processing': 3, 'strapi': 21, 'amazon-lightsail': 1, 'pandas': 282, 'eclipse': 29, 'pydev': 1, 'input': 16, 'environment-variables': 24, 'format': 14, 'adb': 16, 'oracle': 107, 'match-recognize': 1, 'rails-activestorage': 5, 'gdal': 4, 'html5-video': 13, 'twitter-bootstrap': 18, 'bootstrap-modal': 4, 'htmx': 5, 'mysql': 224, 'hql': 3, 'presto': 10, 'round-robin': 1, 'com': 6, 'solidworks': 1, 'pdm': 3, 'scoop-installer': 1, 'cockroachdb': 1, 'dm-script': 4, 'roomdb': 1, 'rust': 130, 'bookmarklet': 1, 'blazor': 61, 'blazor-server-side': 27, 'numpy': 97, 'performance': 72, 'igraph': 1, 'complex-networks': 1, 'variable-assignment': 6, 'keypress': 1, 'nextjs13': 61, 'azure': 313, 'google-cloud-functions': 45, 'pivot': 12, 'powerpivot': 1, 'openai-api': 67, 'gpt-3': 5, 'scroll': 33, 'text-to-speech': 4, 'cron': 14, 'tms': 1, 'c++builder-xe4': 1, 'amazon-cognito': 12, 'aws-amplify': 18, 'python-telegram-bot': 9, 'moviepy': 2, 'angular-reactive-forms': 9, 'angular-components': 3, 'dynamic-forms': 1, 'pip': 34, 'conda': 25, 'elevation': 1, 'search': 27, 'cuda': 13, 'numba': 6, 'networking': 57, 'portforwarding': 5, 'header': 6, 'php-curl': 4, 'azure-bicep': 12, 'lua': 24, 'roblox': 11, 'while-loop': 13, 'certificate': 14, 'keycloak': 37, 'x509': 3, 'mtls': 1, 'asynchronous': 66, 'parallel-processing': 16, 'command': 11, 'chat': 9, 'vim': 12, 'ideavim': 1, 'amazon-redshift': 11, 'tomcat': 30, 'amazon-linux': 2, 'laravel-livewire': 16, 'plsql-package': 2, 'electron': 34, 'keyboard-shortcuts': 5, 'mousetrap': 1, 'sockets': 42, 'azure-devops': 61, 'popen': 1, 'reshape': 4, 'r-faq': 5, 'xmlupdate': 1, 'server-side-rendering': 25, 'pyinstaller': 18, 'dylib': 1, 'admob': 13, 'svg': 44, 'safari': 14, 'single-sign-on': 16, 'omniauth': 5, 'apple-sso': 1, 'omniauth-apple': 1, 'google-photos': 1, 'databricks': 49, 'directed-acyclic-graphs': 4, 'aws-databricks': 1, 'testing': 54, 'automation': 42, 'cypress': 37, 'refresh-token': 2, 'if-statement': 46, 'calculated-columns': 6, 'tableau-desktop': 9, 'pane': 1, 'sitemap': 5, 'noindex': 1, 'x-robots-tag': 1, 'udp': 8, 'python-asyncio': 20, 'performance-testing': 8, 'lighthouse': 3, 'lighthouse-ci': 1, 'playwright-lighthouse': 2, 'regression': 21, 'cross-validation': 4, 'mobile-application': 6, 'apache': 39, 'segmentation-fault': 9, 'amazon-rds': 20, 'amazon-aurora': 7, 'azure-active-directory': 49, 'user-interface': 50, 'javafx': 29, 'onmouseover': 1, 'onmouseout': 1, 'dropzone.js': 2, 'http': 81, 'entity-framework-core': 63, 'windows-subsystem-for-linux': 18, 'lmdb': 1, 'jenkins-pipeline': 18, 'jenkins-declarative-pipeline': 3, 'ms-access': 25, 'asp.net-core-mvc': 24, 'visual-studio-2022': 30, 'asp.net-core-7.0': 8, 'wildfly': 7, 'java-17': 12, 'vuejs2': 18, 'vite': 73, 'animation': 36, 'dynamic': 15, 'real-time': 3, 'pinia': 5, 'single-spa': 2, 'disk': 1, 'mbr': 1, 'r-box': 1, 'variables': 26, 'string-interpolation': 2, 'promise': 16, 'firebase-storage': 19, 'charts': 31, 'graphics': 12, 'stock': 5, 'struct': 15, 'stm32': 20, 'uart': 7, 'frontend': 42, 'keycloak-rest-api': 4, 'huggingface-transformers': 33, 'llm': 25, 'huggingface-hub': 2, 'parameter-passing': 6, 'xslt-3.0': 4, 'snowflake-cloud-data-platform': 36, 'cell': 7, 'powerbi': 85, 'numbers': 5, 'row': 8, 'return-value': 7, 'lookup': 5, 'nuke': 1, 'compositing': 1, 'serialization': 16, 'asp.net-web-api': 22, 'json.net': 7, 'jags': 5, 'https': 30, 'observable': 12, 'nativescript': 2, 'database': 160, 'merge': 17, 'kettle': 2, 'automl': 4, 'azure-auto-ml': 1, 'solidity': 19, 'hedera-hashgraph': 1, 'error-handling': 50, 'antlr4': 9, 'docstring': 3, 'numpydoc': 1, 'opencv': 61, 'image-processing': 28, 'extract': 17, 'video-tracking': 1, 'zip': 7, 'duckdb': 5, 'intellij-idea': 41, 'maven-repository': 2, 'niagara-4': 1, 'pdf': 79, 'puppeteer': 19, 'gcc': 41, 'compiler-options': 1, 'magic-square': 1, 'rotational-matrices': 1, 'multiple-columns': 6, 'boolean': 7, 'toggle': 3, 'undetected-chromedriver': 7, 'seleniumbase': 3, 'pytorch': 79, 'docker-desktop': 6, 'testcontainers': 5, 'containerd': 1, 'winapi': 27, 'svd': 1, 'diff': 1, 'difference': 4, 'julia': 28, 'kubernetes-go-client': 2, 'django-rest-framework': 48, 'drf-spectacular': 2, 'nao-robot': 1, 'physics': 3, 'gravity': 3, 'orbital-mechanics': 1, 'parameters': 12, 'powerquery': 29, 'println': 1, 'join': 28, 'count': 8, 'datediff': 2, 'mobile': 42, 'python-datetime': 2, 'eda': 1, 'kotlin-coroutines': 17, 'continuations': 1, 'heroku': 24, 'telegram-bot': 24, 'pixel': 2, 'game-development': 35, 'move': 4, 'tkinter-canvas': 4, 'css-grid': 15, 'server': 53, 'hash': 9, 'salesforce': 22, 'tcl': 5, 'visual-studio': 93, 'blazor-webassembly': 23, 'ncrunch': 2, 'scala': 33, 'sbt': 4, 'scalafmt': 1, 'iis-10': 7, 'rotation': 9, 'quaternions': 3, 'particles': 3, 'react-particles-js': 1, 'react-router-dom': 26, 'react-redux': 36, 'preg-match': 1, 'alembic': 3, 'microsoft-graph-api': 33, 'intune': 2, 'microsoft-graph-intune': 1, 'html5-canvas': 10, 'leaflet': 20, 'gitlab': 43, 'gitlab-api': 2, 'gitlab-ce': 1, 'matrix-multiplication': 3, 'azure-ad-b2c': 14, 'microsoft-graph-sdks': 7, 'datadog': 8, 'fadeout': 1, 'ubuntu-22.04': 10, 'rstudio-server': 1, 'dask': 5, 'dask-distributed': 1, 'concurrent.futures': 2, 'time-complexity': 14, 'breadth-first-search': 2, 'google-tag-manager': 9, 'learndash': 1, 'vuetify.js': 23, 'classpath': 2, 'multi-module': 2, 'pymysql': 3, 'material-ui': 71, 'babeljs': 6, 'create-react-app': 5, 'database-restore': 1, 'axios': 62, 'xmlhttprequest': 12, 'opera': 3, 'navigator': 3, 'opera-extension': 1, 'android-emulator': 19, 'rx-java': 4, 'android-room': 10, 'rx-java3': 1, 'setuptools': 11, 'socket.io': 30, 'circular-dependency': 6, 'typeerror': 14, 'deepface': 3, 'podofo': 1, 'vuforia': 8, 'vuforia-cloud-recognition': 3, 'jaxb': 6, 'jaxb2-maven-plugin': 1, 'jwt': 54, 'smartcontracts': 11, 'web3js': 8, 'chainlink': 1, 'ziparchive': 1, 'gzipstream': 1, 'facebook': 27, 'facebook-graph-api': 18, 'styled-components': 5, 'liquid': 7, 'icalendar': 2, 'godaddy-api': 5, 'dagger-hilt': 9, 'foreground-service': 8, 'oop': 47, 'javascript-objects': 9, 'nuxtjs3': 17, 'nuxt3': 18, 'vue-apollo': 1, 'nuxt-strapi': 1, 'cassandra': 15, 'virtualbox': 9, 'macvlan': 1, 'stylish': 1, 'svelte': 33, 'sveltekit': 20, 'ssim': 1, 'spring-data-jpa': 48, 'data-jpa-test': 1, 'pushstate': 1, 'apache-spark': 78, 'pyspark': 84, 'casting': 14, 'ef-core-7.0': 3, 'cometchat': 2, 'manifest': 2, 'enums': 8, 'drupal': 6, 'drupal-modules': 2, 'php-8.1': 3, 'combobox': 9, 'bit-manipulation': 3, 'unsigned-char': 1, 'bitwise-and': 3, 'hl7': 1, 'medical': 1, 'hl7-v2': 1, 'shell': 60, 'pipe': 7, 'parameter-expansion': 1, 'signalhandler': 1, 'process-isolation': 1, 'shader': 8, 'drawing': 4, 'mesh': 4, 'raycasting': 2, 'multipartform-data': 11, 'swagger-ui': 7, 'openapi': 25, 'ant': 3, 'saxon': 4, 'fileset': 1, 'classification': 12, 'lightgbm': 5, 'shap': 5, 'avro': 8, 'scrapy': 19, 'css-animations': 9, 'kdtree': 2, 'hangfire': 4, 'hangfire-console': 1, 'onnx': 4, 'xgboost': 4, 'amazon-workspaces': 2, 'emacs': 6, 'client-server': 4, 'background-service': 4, 'colors': 22, 'gtk2': 1, 'flash': 4, 'eas': 8, 'ssms': 13, 'quarkus-reactive': 4, 'smallrye-reactive-messaging': 2, 'hibernate-reactive': 1, 'quarkus-hibernate-reactive': 2, 'ssh': 39, 'authorized-keys': 1, 'azure-devops-rest-api': 7, 'powerbi-embedded': 7, 'escaping': 6, 'quote': 1, 'azureservicebus': 6, 'masstransit': 7, 'encoding': 20, 'replacewith': 1, 'cucumber': 11, 'icons': 13, 'font-face': 3, 'scipy': 22, 'correlation': 8, 'alpine-linux': 9, 'bitpay-c#-sdk': 1, 'text': 19, 'cosine-similarity': 3, 'quanteda': 3, 'webpack': 61, 'metro-bundler': 1, 'turborepo': 3, 'expo-router': 3, 'indexeddb': 4, 'nvidia': 9, 'jsonpath': 3, 'gitlab-ci': 36, 'commitlint': 1, 'interpolation': 6, 'resolution': 1, 'promql': 3, 'decision-tree': 7, 'apache-spark-mllib': 2, 'fairseq': 3, 'bluetooth': 16, 'controller': 13, 'keymapping': 1, 'rsa': 4, 'wso2-api-manager': 7, 'h2': 11, 'video': 20, 'playwright-python': 1, 'netlify': 9, 'mailjet': 2, 'netlify-function': 1, 'mailerlite': 2, 'tinymce': 11, 'wsl-2': 13, 'rest-assured': 6, 'grpc': 22, 'google-bigquery': 70, 'sql-update': 6, 'async-await': 38, 'mongodb-query': 10, 'mongoose-schema': 5, 'namespaces': 6, 'vb.net': 50, 'sass': 33, 'workflow': 6, 'power-automate': 20, 'webapi': 12, 'dataverse': 6, 'fontconfig': 1, 'winforms': 48, 'events': 19, 'mouseevent': 6, 'panel': 4, 'datatables': 10, 'knitr': 6, 'quarto': 15, 'compiler-errors': 27, 'laravel-elixir': 1, 'azure-virtual-machine': 5, 'azure-cli': 5, 'mlflow': 6, 'tfs': 3, 'powerbi-desktop': 28, 'materialized-views': 1, 'uri': 3, 'split': 13, 'apache2': 9, 'singly-linked-list': 4, 'function-definition': 1, 'moq': 9, 'moq-3': 1, 'azure-web-app-service': 29, 'azure-database-mysql': 1, 'executor': 1, 'optimization': 51, 'android-camera': 4, 'android-camera2': 4, 'android-camerax': 4, 'servlets': 10, 'response': 10, 'spring-filter': 1, 'png': 4, 'vml': 2, 'gradio': 3, 'anaconda': 24, 'yaml': 28, 'flasgger': 1, 'gradle-plugin': 4, 'ipywidgets': 2, 'grouping': 5, 'backend': 35, 'autodesk-viewer': 8, 'autodesk-construction-cloud': 1, 'seleniumwire': 1, 'browser': 23, 'trpc': 2, 'android-testing': 3, 'android-junit': 1, 'android-unit-testing': 1, 'androidjunitrunner': 1, 'generics': 28, 'pagination': 19, 'permission-denied': 3, 'ecmascript-6': 6, 'uniswap': 6, 'delphi': 26, 'firemonkey': 3, 'delphi-11-alexandria': 1, 'project': 7, 'workspace': 1, 'memory': 37, 'malware-detection': 2, 'file-type': 3, 'plugins': 34, 'account': 2, 'metamask': 8, 'updateview': 1, 'azure-appservice': 3, 'azure-app-service-plans': 1, 'knn': 4, 'imputation': 1, 'qt': 51, 'appium': 15, 'automation-testing': 2, 'plotly-python': 6, 'actionscript-3': 3, 'actionscript': 1, 'actionscript-2': 3, 'sequelize.js': 23, 'strawberry-graphql': 2, 'strawberry-graphql-django': 1, 'compiler-construction': 8, 'ssrs-2012': 5, 'mime-types': 3, 'react-router': 31, 'jsx': 17, 'search-engine': 1, 'google-search': 3, 'google-search-api': 2, 'mocking': 21, 'cors': 46, 'spring-boot-3': 8, 'content-security-policy': 9, 'hadoop': 8, 'hive': 17, 'mapreduce': 2, 'sqoop': 1, 'cycle-sort': 1, 'geolocation': 11, 'popup': 8, 'visible': 1, 'ggplot2': 86, 'download': 11, 'webclient': 6, 'class': 48, 'interface': 11, 'overriding': 8, 'interface-implementation': 1, 'time': 9, 'difftime': 1, 'timedate': 1, 'open-source': 6, 'azure-blob-storage': 13, 'azure-storage': 10, 'azure-front-door': 2, 'microsoft-dynamics': 10, 'axapta': 2, 'torch': 12, 'loss-function': 8, 'loss': 3, 'mse': 1, 'firebase-admin': 3, 'mvvm': 18, 'repository-pattern': 3, 'openssl': 30, 'cryptography': 20, 'pkcs#11': 2, 'cng': 1, 'ecdh': 1, 'ctags': 1, 'omnicomplete': 1, 'django-haystack': 1, 'neo4j': 14, 'cypher': 8, 'nested': 14, 'pymongo': 4, 'mapbox': 14, 'react-map-gl': 1, 'nullreferenceexception': 7, 'parse-url': 1, 'powershell-az-module': 1, 'kvm': 4, 'iis': 22, 'kernel': 11, 'swiftui-list': 7, 'core-bluetooth': 3, 'l2cap': 1, 'scapy': 5, 'containers': 23, 'root': 11, 'haproxy': 3, 'rsyslog': 2, 'combinelatest': 1, 'mdx': 4, 'genie.jl': 1, 'storybook': 14, 'primevue': 3, 'arcpy': 3, 'arcmap': 1, 'state': 13, 'telegram': 35, 'registration': 8, 'fsm': 1, 'aiogram': 12, 'pipeline': 12, 'azure-synapse': 20, 'azure-synapse-analytics': 5, 'azure-synapse-pipeline': 3, 'sanity': 7, 'continuous-integration': 22, 'github-actions': 67, 'xcodebuild': 1, 'dsym': 2, 'slate': 1, 'import': 35, 'vosk': 1, 'gpt4all': 2, 'glmnet': 1, 'object-detection': 9, 'video-player': 3, 'entity': 4, 'relationship': 5, 'diagram': 2, 'jax': 6, 'perl-critic': 1, 'clang': 13, 'llvm': 12, 'cython': 12, 'linker-errors': 8, 'address-sanitizer': 2, 'replace': 12, 'grepl': 4, 'rounding': 7, 'urllib3': 4, 'azure-sql-database': 14, 'data-migration': 2, 'azure-migrate': 2, 'arraylist': 11, 'macros': 13, 'xlsx': 7, 'subtotal': 1, 'websocket': 52, 'angular-material': 29, 'angular-material-table': 4, 'mod-rewrite': 8, 'copy': 7, 'dplyr': 56, 'makefile': 19, 'prisma': 38, 'inheritance': 33, 'prototype-programming': 1, 'fetch': 15, 'cloudinary': 7, 'gt': 4, 'iframe': 26, 'victory-charts': 2, 'alpine.js': 6, 'wmi': 5, 'snmp': 4, 'zabbix': 6, 'jsonconverter': 1, 'clip': 2, 'debugging': 49, 'tradingview-api': 14, 'trading': 7, 'pine-script-v4': 6, 'accessibility': 16, 'frequency-analysis': 1, 'python-flet': 1, 'ejs': 14, 'keda': 1, 'proxy': 27, 'http-proxy-middleware': 1, 'visual-c++': 17, 'base64': 6, 'video-streaming': 17, 'elixir': 6, 'ex-unit': 1, 'knex.js': 5, 'pyautogui': 8, 'asp.net-core': 119, 'ef-core-8.0': 1, 'azure-aks': 10, 'azure-sdk': 1, 'azure-role-environment': 1, 'azure-acr': 2, 'ansible': 37, 'key': 6, 'apt': 6, 'token': 19, 'yacc': 2, 'unexpected-token': 3, 'pulumi': 2, 'uikit': 25, 'java-time': 5, 'springdoc': 3, 'springdoc-openapi-ui': 2, 'springdoc-openui': 1, 'apache-kafka': 66, 'spring-kafka': 14, 'apache-kafka-streams': 6, 'automapper': 4, 'r-sf': 4, 'react-table': 6, 'solid-js': 5, 'tanstack': 3, 'xcode14.3': 2, 'loops': 54, 'purrr': 5, 'mutate': 6, 'sym': 1, 'maui': 68, 'chart.js': 18, 'nested-loops': 5, 'systemd': 8, 'ballerina': 15, 'kotlin-multiplatform': 8, 'kotlin-native': 1, 'tidyverse': 12, 'tidyr': 7, 'tidyeval': 3, 'sql.js': 2, 'jira-plugin': 4, 'atlassian-plugin-sdk': 1, 'svelte-component': 3, 'python-decorators': 7, 'nonlinear-optimization': 3, 'functools': 1, 'alteryx': 2, 'watchos': 2, 'zsh': 17, 'nvm': 4, 'indexoutofboundsexception': 1, 'npm-install': 10, 'npm-scripts': 6, 'data-science': 17, 'google-cloud-vertex-ai': 8, 'fine-tuning': 6, 'react-markdown': 3, 'monorepo': 11, 'nrwl-nx': 7, 'micro-frontend': 7, 'webpack-module-federation': 8, 'nomachine-nx': 6, 'symfony4': 2, 'python-turtle': 2, 'python-class': 1, 'three.js': 21, 'monaco-editor': 5, 'binary-search-tree': 2, 'inorder': 1, 'csv': 52, 'jackson-dataformat-csv': 1, 'rspec': 6, 'autoload': 2, 'ruby-on-rails-7': 13, 'rails-engines': 1, 'd3.js': 9, 'apexcharts': 7, 'spyder': 7, 'python-3.9': 3, 'python-3.11': 9, 'webkit': 1, 'nstextview': 3, 'textkit': 2, 'google-docs': 4, 'saving-data': 1, 'http-compression': 2, 'file-comparison': 1, 'javascript-import': 1, 'serverless': 13, 'google-cloud-scheduler': 3, 'build': 30, 'sap-gui': 2, 'ip': 11, 'acl': 1, 'blocking': 4, 'git-merge': 3, 'git-rebase': 4, 'histogram': 5, 'legend': 6, 'alphabetical': 1, 'plotly-express': 4, 'vba7': 4, 'vba6': 2, 'stripe-payments': 27, 'session': 20, 'autoscaling': 2, 'concatenation': 4, 'deep-linking': 5, 'weblogic11g': 1, 'oracle-rest-data-services': 1, 'aquamacs': 1, 'streamlit': 15, 'http-headers': 12, 'zio': 1, 'tapir': 1, 'irs': 1, 'r-markdown': 20, 'hugo': 2, 'shapely': 2, 'wkt': 1, 'recursion': 37, 'task': 15, 'netsuite': 11, 'crm': 1, 'airflow': 24, 'asp.net-core-webapi': 24, 'samba': 2, 'wicket': 2, 'return-type': 3, 'tabulator': 1, 'tcp': 18, 'java-11': 15, 'javafx-17': 1, 'matrix': 27, 'linear-algebra': 8, 'differential-equations': 5, 'dax': 34, 'production-environment': 2, 'azure-log-analytics': 2, 'database-partitioning': 4, 'griddb': 4, 'checkpointing': 1, 'sh': 4, 'netcat': 1, 'busybox': 3, 'backpropagation': 4, 'jenkins': 56, 'nvda': 2, 'vagrant': 3, 'cluster-analysis': 11, 'android-bitmap': 2, 'installation': 26, 'command-line-interface': 7, 'rhel': 5, 'denodo': 1, 'package': 31, 'quasar-framework': 7, 'orm': 18, 'razor-pages': 17, 'bootstrap-5': 45, 'instagrapi': 1, 'http2': 3, 'rcpp': 6, 'rcppparallel': 3, 'paystack': 1, 'uac': 2, 'trojan': 1, 'callstack': 3, 'localhost': 17, 'connection-refused': 1, 'repository': 13, 'package.json': 11, 'google-cloud-storage': 21, 'streaming': 7, 'asyncfileupload': 1, 'delta-lake': 11, 'concurrency': 23, 'greedy': 1, 'swagger': 28, 'api-platform.com': 7, 'roles': 5, 'install.packages': 2, 'tar.gz': 1, 'botan': 1, 'android-jetpack-compose-material3': 3, 'multiprocess': 3, 'playwright-typescript': 3, 'nextauth.js': 3, 'ocr': 13, 'tesseract': 7, 'python-tesseract': 6, 'cytoscape': 2, 'plot-grid': 2, 'ejabberd': 2, 'bearer-token': 6, 'strophe.js': 1, 'junit5': 13, 'pointers': 23, 'podman': 8, 'open-json': 1, 'awesome-wm': 2, 'xfce': 1, 'cmake': 49, 'amazon-ec2': 51, 'ide': 9, 'editor': 6, 'jetbrains-ide': 6, 'jsp': 11, 'bottomnavigationview': 2, 'serial-port': 10, 'tty': 3, 'react-leaflet': 6, 'sql-parser': 1, 'bert-language-model': 8, 'opacity': 1, 'apple-push-notifications': 6, 'apple-wallet': 3, 'flutter-dependencies': 41, 'app-update': 2, 'materialpageroute': 1, 'set': 6, 'pic': 4, 'pwm': 1, 'servo': 3, 'motordriver': 2, 'dc': 1, 'gwt': 2, 'gxt': 1, 'hwnd': 1, 'registerhotkey': 1, 'getmessage': 1, 'ionic2': 2, 'ionic3': 3, 'serve': 2, 'mern': 23, 'gpu': 20, 'multi-process-service': 1, 'nodes': 4, 'gephi': 1, 'bootstrap-table': 2, 'office-scripts': 2, 'minecraft': 13, 'forge': 2, 'nuxt.js': 43, 'vue-composition-api': 5, 'return': 8, 'parsing': 33, 'file': 43, 'command-line': 17, 'cat': 2, 'null': 16, 'zero': 1, 'firebase-authentication': 39, 'gnu-make': 5, 'git-config': 1, 'volatile': 3, 'mongotemplate': 3, 'supabase': 32, 'deno': 5, 'edge-function': 1, 'hyper-v': 1, 'remote-desktop': 3, 'windows-11': 14, 'rtsp-server': 2, 'geiser': 1, 'bubble-sort': 3, 'fold': 1, 'redux-toolkit': 34, 'ssis': 17, 'winscp': 2, 'transition': 3, 'chrome-extension-manifest-v3': 11, 'snapshot': 3, 'amazon-redshift-serverless': 1, 'pytorch-lightning': 9, 'aws-sdk': 6, 'es6-modules': 7, 'aes': 7, 'pluto-grid': 1, 'case': 7, 'event-handling': 12, 'validation': 35, 'laravel-blade': 12, 'constraints': 8, 'c++20': 20, 'argument-matching': 1, 'codebuild': 2, 'fullcalendar': 11, 'fullcalendar-5': 1, 'facet-wrap': 8, 'errorbar': 2, 'language-lawyer': 14, 'datepicker': 15, 'kotlin-flow': 9, 'tsql': 29, 'crashlytics': 6, 'react-native-firebase': 3, 'lwc': 4, 'aws-data-pipeline': 1, 'transparency': 3, 'ribbon': 3, 'aws-api-gateway': 19, 'aws-cdk': 13, 'driver': 15, 'digital-signature': 7, 'timestamp': 11, 'pytest-fixtures': 2, 'runtime-error': 20, 'memory-management': 19, 'unsafe': 2, 'amazon-cloudwatch': 9, 'open-telemetry': 7, 'open-telemetry-collector': 4, 'chatgpt-api': 18, 'chatgpt-plugin': 2, 'outlook': 32, 'dynamics-crm': 10, 'sqlcipher': 2, 'koin': 1, 'sqldelight': 2, 'wix': 8, 'waf': 1, 'scikit-learn': 40, 'smote': 1, 'msgpack': 2, 'python-multithreading': 6, 'operator-keyword': 3, 'google-cloud-composer': 3, 'airflow-2.x': 6, 'cross-entropy': 2, 'mathematical-expressions': 2, 'relu': 1, 'computer-science': 6, 'complexity-theory': 2, 'junit4': 2, 'matplotlib': 65, 'latex': 17, 'docx': 11, 'anova': 9, 'css-transitions': 7, 'open-policy-agent': 2, '2captcha': 1, 'boto3': 12, 'discord.js': 24, 'bots': 23, 'inertiajs': 9, 'laravel-10': 19, 'ziggy': 1, 'kivy': 21, 'flutter-sharedpreference': 1, 'typography': 4, 'python-unittest': 3, 'redhat': 14, 'dmn': 2, 'businesscentral': 2, 'azure-functions-runtime': 1, 'azure-functions-core-tools': 1, 'tabbar': 3, 'window-functions': 10, 'vhdl': 4, 'test-bench': 3, 'gtkwave': 1, 'aws-cloudformation': 9, 'google-datalayer': 1, 'ga4': 10, 'linux-mint': 4, 'quantum-computing': 3, 'actionmailer': 2, 'nuget': 17, 'safety-critical': 1, 'rce': 1, 'vmware': 6, 'vcenter': 3, 'android-darkmode': 1, 'redirect': 36, 'conceptual': 1, 'openid': 6, 'pipenv': 5, 'pipenv-install': 2, 'outlook-addin': 3, 'atomic': 4, 'amd-processor': 1, 'google-bi-engine': 1, 'vue-router': 6, 'vue-router4': 3, 'dataset': 18, 'numpy-ndarray': 8, 'gaussian-process': 3, 'gpflow': 1, 'pyqt6': 7, 'qmediaplayer': 2, 'qmediacontent': 2, 'rename': 8, 'qt5': 8, 'ipython': 4, 'wifi': 7, 'embedded-linux': 10, 'hotspot': 3, 'intel': 8, 'webcam': 3, 'v4l2loopback': 2, 'slice': 8, 'dom': 23, 'polymorphism': 8, 'visual-studio-extensions': 6, 'visual-studio-2019': 6, 'smartcard': 3, 'try-except': 4, 'nested-if': 3, 'netbeans-13': 1, 'clangd': 2, 'janus': 1, 'lazy-loading': 5, 'react-testing-library': 9, 'caching': 28, 'hazelcast': 4, 'invalidation': 1, 'rpy2': 1, 'unicode': 11, 'django-forms': 18, 'upgrade': 15, 'actix-web': 6, 'acme': 2, 'openstruct': 1, 'angular-forms': 5, 'colorbar': 5, 'thymeleaf': 16, 'wso2': 16, 'user-profile': 2, 'statistics': 28, 'python-xarray': 10, 'rolling-computation': 3, 'autosar': 2, 'amazon-connect': 6, 'variable-variables': 1, 'pascal': 4, 'cicd': 31, 'protobuf-go': 2, 'beautifulsoup': 41, 'enterprise-architect': 2, 'python-textfsm': 1, 'nls': 1, 'acumatica': 3, 'pattern-mining': 1, 'google-signin': 15, 'object': 36, 'local': 2, 'pihole': 1, 'stata': 8, 'interaction': 3, 'margins': 2, 'network-programming': 10, 'networkextension': 1, 'spring-boot-test': 4, 'go-gin': 1, 'lucidchart': 1, 'goroutine': 3, 'waitgroup': 1, 'umbraco': 5, 'amazon-ecs': 19, 'aws-fargate': 9, 'logging': 43, 'loguru': 1, 'arm64': 3, 'nvidia-jetson-nano': 2, 'graph': 20, 'stored-procedures': 18, 'linechart': 3, 'decomposition': 2, 'mapster': 2, 'contour': 6, 'palantir-foundry': 4, 'irb': 1, 'jmeter': 26, 'queryselector': 2, 'middleware': 10, 'sas': 14, 'hyperlink': 13, 'wordpress-theming': 9, 'custom-wordpress-pages': 2, 'oxygenbuilder': 1, 'alerts': 4, 'templates': 29, 'c++17': 19, 'if-constexpr': 1, 'genetics': 2, 'conv-neural-network': 19, 'cocoa': 5, 'appkit': 5, 'nsoutlineview': 2, 'nssplitview': 1, 'redux': 35, 'grid': 12, 'telerik': 10, 'telerik-grid': 2, 'mediacapture': 1, 'seo': 11, 'canonical-link': 2, 'subsequence': 1, 'nestjs': 75, 'dto': 4, 'class-validator': 3, 'arima': 3, 'cloud': 21, 'iot': 7, 'traits': 2, 'woocommerce-rest-api': 2, 'ssas': 5, 'olap': 1, 'mathematical-optimization': 6, 'google-maps': 34, 'google-maps-markers': 9, 'google-maps-flutter': 2, 'kerberos': 6, 'httpsys': 1, 'spring-cloud-feign': 4, 'feign': 4, 'mediawiki': 3, 'port': 7, 'scope': 12, 'match': 2, 'edit': 2, 'sitemap.xml': 2, 'pre-trained-model': 6, 'fine-tune': 4, 'generator': 7, 'combinatorics': 1, 'plotnine': 2, 'realm': 11, 'custom-keyboard': 2, 'realm-mobile-platform': 1, 'realm-studio': 1, 'subcaption': 1, 'tableview': 4, 'excel-365': 5, 'mutex': 6, 'rust-tokio': 8, 'jetpack': 2, 'android-jetpack-compose-testing': 2, 'apollo-client': 8, 'pm2': 7, 'qobject': 1, 'slots': 2, 'ffi': 4, 'project-panama': 2, 'java-20': 2, 'slurm': 6, 'hpc': 5, 'swing': 22, 'jframe': 2, 'jpanel': 2, 'jscrollpane': 1, 'redis': 52, 'stackexchange.redis': 3, 'azure-redis-cache': 3, 'node-modules': 22, 'python-venv': 5, 'python-idle': 1, 'default-value': 3, 'binding': 8, 'swiftui-foreach': 1, 'tsserver': 1, 'cumulative-sum': 4, 'spring-camel': 1, 'django-imagekit': 1, 'whitenoise': 1, 'django-grappelli': 1, 'instagram-api': 5, 'instagram-reels': 2, 'popper.js': 1, 'metronic': 3, 'aem': 5, 'query-builder': 3, 'external-links': 1, 'blockchain': 17, 'cosmos': 1, 'mips': 1, 'llvm-ir': 1, 'codegen': 2, 'spring-integration-sftp': 1, 'android-threading': 1, 'timeout': 9, 'talend': 4, 'jasperserver': 1, 'incremental': 2, 'utf-8': 14, 'smtp': 14, 'postfix-mta': 3, 'extended-ascii': 1, 'opencl': 3, 'patch-package': 1, 'google-chrome-devtools': 14, 'webview': 20, 'laravel-8': 12, 'flutterwebviewplugin': 2, 'tawk.to': 2, 'google-translate': 3, 'scrape': 2, 'github-pages': 15, 'github-pages-deploy-action': 2, 'field': 2, 'checkout': 6, 'vuelidate': 1, 'vuejs3-composition-api': 1, 'mysql-connector': 8, 'licensing': 3, 'devart': 2, 'settings': 5, 'rubymine': 3, 'wpf': 69, 'datagrid': 11, 'syncfusion': 7, 'itemssource': 1, 'pydantic': 18, 'mstest': 1, 'global-variables': 10, 'global': 2, 'umd': 1, 'azure-data-factory': 41, 'azure-logic-apps': 12, 'embed': 4, 'amazon-sagemaker': 8, 'pyathena': 1, 'android-relativelayout': 1, 'android-constraintlayout': 5, 'android-framelayout': 2, 'lotus-domino': 1, 'scanf': 2, 'odoo-15': 2, 'reporting-services': 14, 'firebase-hosting': 4, 'try-catch': 9, 'iperf': 1, 'iperf3': 1, 'okhttp': 11, '404-page': 1, 'asp-classic': 2, 'mp4': 5, 'constructor': 12, 'p5.js': 4, 'statsmodels': 6, 'yubico': 3, 'yubikey': 3, 'playframework': 2, 'react-native-flatlist': 4, 'react-native-sectionlist': 2, 'volttron': 1, 'bacnet': 1, 'reportlab': 5, 'sts': 2, 'protocol-buffers': 17, 'aws-lambda-layers': 2, 'jackson': 13, 'couchbase': 2, 'spring-transactions': 2, 'objectmapper': 3, 'spring-data-couchbase': 1, 'gin': 3, 'angular-universal': 4, 'hydration': 1, 'pre-rendering': 1, 'tree': 10, 'ag-grid': 12, 'ag-grid-vue': 3, 'pki': 2, 'hybrid-mobile-app': 4, 'special-characters': 6, 'qualtrics': 2, 'program-entry-point': 3, 'mainwindow': 1, 'full-text-search': 6, 'ftp': 7, 'sftp': 9, 'sql-server-2019': 4, 'responsive-design': 16, 'intrinsic-content-size': 2, 'container-queries': 3, 'cgi': 2, 'node-schedule': 1, 'usb': 9, 'background-process': 8, 'barcode': 4, 'barcode-scanner': 2, 'kibana': 16, 'nuget-package': 6, 'nuget-spec': 1, 'hyperscript': 1, 'warp': 1, 'background-image': 9, 'touchableopacity': 1, 'onpress': 1, 'pressable': 1, 'hibernate': 54, 'hibernate-envers': 2, 'nested-object': 2, 'google-cloud-build': 5, 'computation-theory': 1, 'finite-automata': 1, 'dfa': 1, 'nfa': 1, 'external-dependencies': 1, 'windows-xp': 1, 'intellij-plugin': 3, 'clickable': 2, 'destructor': 1, 'copy-constructor': 2, 'bridge': 3, 'frida': 3, 'il2cpp': 2, 'applepay': 12, 'applepay-web': 2, 'python-imaging-library': 7, 'conda-forge': 1, 'prometheus': 28, 'kube-prometheus-stack': 3, 'tally': 2, 'upsetr': 1, 'upsetplot': 1, 'msbuild': 11, 'winui-3': 10, 'msix': 2, 'figma': 3, 'ml-agent': 2, 'zendesk-api': 1, 'admin': 5, 'x509certificate': 4, 'searchview': 2, 'directory': 14, 'odata': 6, 'native-module': 1, 'annotations': 13, 'deprecated': 4, 'flexbox': 31, 'arguments': 11, 'background-foreground': 1, 'azure-pipelines': 26, 'azure-service-principal': 3, 'xamarin.android': 10, 'xhtml': 1, 'madcap': 1, 'rabbitmq': 11, 'module': 20, 'sys.path': 1, 'android-espresso': 2, 'autocompletetextview': 1, 'paypal': 8, 'mongodb-indexes': 1, 'soap': 15, 'wsdl': 4, 'payment-gateway': 11, 'properties': 12, 'google-forms': 4, 'google-forms-api': 1, 'dart-analyzer': 1, 'vue-reactivity': 2, 'bayesian': 4, 'rjags': 1, 'hierarchical-bayesian': 1, 'xaml': 36, '.net-4.8': 8, 'jhipster': 6, 'viewport': 3, 'mariadb': 19, 'microsoft-graph-mail': 3, 'hmail-server': 1, '.net-6.0': 29, 'static-analysis': 2, 'code-analysis': 1, 'cygwin': 5, 'microsoft-graph-teams': 2, 'android-permissions': 7, 'android-camera-intent': 1, 'react-native-image-picker': 2, 'vpn': 12, 'sum': 10, 'aggregate': 11, 'lag': 4, 'sqlalchemy': 53, 'protocols': 5, 'mypy': 6, 'jekyll': 4, 'jekyll-extensions': 1, 'typeorm': 34, 'querydsl': 2, 'x86': 15, 'limit': 5, 'jpa': 30, 'jackson-databind': 6, 'jupyter': 9, 'jupyter-lab': 7, 'celery': 6, 'celery-task': 3, 'native-base': 3, 'gluestack': 1, 'translation': 3, 'windows-kernel': 1, 'retrofit2': 5, 'jar': 7, 'classloader': 2, 'svn': 2, 'modulenotfounderror': 4, 'uppy': 1, 'firebase-extensions': 2, 'ubuntu-20.04': 8, 'geofence': 1, 'push-notification': 18, 'notifications': 13, 'sms': 12, 'push': 3, 'python-unicode': 1, 'python-os': 1, 'rvest': 3, 'pine-script-v5': 30, 'algorithmic-trading': 9, 'flags': 3, 'dbf': 2, 'ucanaccess': 1, 'iteration': 11, 'browser-history': 2, 'alfresco': 1, 'http-status-code-403': 8, 'web-services': 7, 'http-status-code-301': 4, 'web-extension': 2, 'safari-web-extension': 1, 'mainframe': 6, 'zos': 2, '3270': 1, 'ros': 6, 'ros2': 4, 'catkin': 1, 'scientific-computing': 1, 'heatmap': 6, 'tfvc': 2, 'groovy': 19, 'apache-nifi': 6, 'can-bus': 4, 'asammdf': 1, 'j1939': 1, 'bioinformatics': 8, 'illumina': 2, 'android-volley': 3, 'lasso-regression': 2, 'risk-analysis': 1, 'gwas': 1, 'hibernate-annotations': 1, 'http-status-code-500': 4, 'next-api': 1, 'duplicates': 14, 'partition': 4, 'device': 1, 'google-cloud-dataflow': 12, 'apache-beam': 10, 'gnu-parallel': 1, 'react-datepicker': 2, 'vlookup': 7, 'firebase-security': 5, 'pyside2': 6, 'firebase-cloud-messaging': 26, 'activerecord': 2, 'arduino-c++': 10, 'data-modeling': 4, 'operator-overloading': 5, 'move-semantics': 2, 'return-value-optimization': 1, 'shopify': 20, 'jspdf': 8, 'html2canvas': 4, 'infinite-scroll': 4, 'intersection-observer': 2, 'qt-designer': 3, 'pyuic': 1, 'drag-and-drop': 12, 'vscode-extensions': 20, 'developer-tools': 3, 'debug-console': 1, 'django-admin': 9, 'npgsql': 4, 'next-router': 1, 'font-size': 4, 'customtkinter': 11, 'spring-authorization-server': 1, 'lumen': 3, 'pg-search': 1, 'ipfs': 2, 'pcap': 6, 'power-automate-custom-connector': 2, 'authorization': 27, 'minimal-apis': 3, 'emgucv': 6, 'face-recognition': 5, 'ibm-mq': 5, 'moodle': 10, 'tshark': 3, 'sql-function': 1, 'ssl-handshake': 1, 'log4j': 6, 'constants': 3, 'rbac': 2, 'kubernetes-custom-resources': 2, 'kubernetes-rbac': 1, 'tensorflow2.0': 8, 'auto-keras': 1, 'insert-update': 1, 'r6': 1, 'pusher': 2, 'pusherswift': 1, 'jinja2': 17, 'graphene-python': 2, 'ariadne-graphql': 1, 'android-tv': 6, 'xiaomi': 2, 'device-owner': 2, 'adjacency-matrix': 2, 'hamiltonian-cycle': 1, 'project-organization': 1, 'append': 7, 'swiper.js': 12, 'ionic4': 1, 'ionic5': 3, 'filesystems': 8, 'lvm': 2, 'repair': 2, 'btrfs': 1, 'luks': 1, 'qwik': 2, 'agent': 4, 'xdebug': 2, 'llama-index': 4, 'simulation': 18, 'finance': 5, 'hft': 1, 'html-select': 2, 'random-forest': 8, 'predict': 1, 'asterisk': 2, 'sip': 4, 'voip': 2, 'python-poetry': 7, 'aws-codecommit': 2, 'aws-sso': 1, 'left-join': 8, 'css-loader': 2, 'ts-loader': 1, 'webpack-config': 1, 'google-community-connector': 1, 'swift-concurrency': 3, 'dependency-injection': 18, 'autofac': 1, 'apache-spark-2.0': 1, 'alexa': 2, 'cs50': 11, 'sa': 1, 'weblogic': 4, 'spring-annotations': 3, 'ruby-on-rails-3': 5, 'rvm': 3, 'rbenv': 2, 'visualization': 21, 'apache-superset': 5, 'sp-send-dbmail': 1, 'voice-control': 2, 'navigation-drawer': 4, 'react-navigation-drawer': 1, 'sharepoint': 23, 'angular-google-chart': 1, 'virtualscroll': 3, 'frameworks': 10, 'android-source': 8, 'ashx': 2, 'datatable': 15, 'iterator': 6, 'markov-decision-process': 1, 'gnupg': 2, 'jks': 2, 'mobile-safari': 4, 'xamarin.forms': 17, 'xamarin.ios': 6, 'amazon-sns': 7, 'google-people-api': 2, 'microsoft-teams': 10, 'google-container-registry': 2, 'google-artifact-registry': 3, 'ip-address': 2, 'host': 3, 'subnet': 3, 'azure-ad-b2b': 1, 'cocoapods': 5, 'github-actions-self-hosted-runners': 1, 'webhooks': 17, 'google-analytics': 21, 'hotchocolate': 6, 'here-api': 3, 'abstract-class': 4, 'business-objects': 1, 'immutables-library': 1, 'pseudo-class': 3, 'css-variables': 1, 'npoi': 2, 'hashmap': 5, 'google-api-python-client': 2, 'flutter-in-app-purchase': 3, 'dll': 8, 'shared-memory': 5, 'ms-office': 5, 'ms-project': 3, 'bundle': 6, 'symfony6': 8, 'packagist': 1, 'audio-streaming': 6, 'background': 7, 'cloud9-ide': 1, 'aws-sam': 2, 'resources': 5, 'apache-spark-sql': 22, 'laravel-nova': 3, 'timezone': 8, 'timezone-offset': 2, 'raspberry-pi': 31, 'autostart': 1, 'thonny': 4, 'remix.run': 6, 'hlsl': 2, 'direct2d': 2, 'bottom-sheet': 4, 'template-templates': 2, 'carousel': 9, 'ninja': 7, 'working-directory': 2, 'test-framework': 1, 'uitableview': 3, 'voiceover': 2, 'angular-formbuilder': 1, 'angular-custom-validators': 1, 'dynamic-pivot': 1, 'horizontal-scrolling': 1, 'powerpoint': 5, 'window': 6, 'xpath': 12, 'markdown': 14, 'feature-selection': 1, 'gridsearchcv': 4, 'webpack-encore': 1, 'node-worker-threads': 2, 'model': 18, 'hadoop-yarn': 7, 'better-sqlite3': 1, 'ipad': 6, 'development-environment': 3, 'make.com': 1, 'integromat-apps': 1, 'vue-i18n': 2, 'ms-word': 28, 'k-means': 2, 'chatbot': 13, 'cesiumjs': 3, 'wms': 1, 'thredds': 1, 'logical-operators': 5, 'hover': 6, 'arrayindexoutofboundsexception': 2, 'centos7': 7, 'ddos': 3, 'mod-evasive': 2, 'vstack': 1, 'lazyvstack': 1, 'swiftui-vstack': 1, 'gridview': 2, 'exoplayer': 5, 'gps': 4, 'latitude-longitude': 3, 'webdrivermanager-java': 1, 'seleniummanager': 5, 'unnest': 2, 'bitcoin': 2, 'public-key': 2, 'file-handling': 4, 'anti-patterns': 1, 'boost': 17, 'quantlib': 1, 'fortran': 11, 'arm': 15, 'openmp': 2, 'powerapps': 19, 'biometrics': 5, 'android-biometric-prompt': 2, 'recaptcha': 7, 'coupon': 2, 'google-play': 26, 'google-play-console': 17, 'marshalling': 3, 'ldap': 14, 'django-auth-ldap': 1, 'pyqt': 12, 'pyqt5': 23, 'methods': 16, 'aggregation-framework': 7, 'aggregation': 6, 'regression-testing': 1, 'selenium-extent-report': 1, 'extent': 2, 'image-segmentation': 4, 'itk': 2, 'medical-imaging': 1, 'simpleitk': 2, 'jq': 8, 'encryption': 29, 'cryptojs': 2, 'google-compute-engine': 2, 'ping': 5, 'ansible-awx': 2, 'hp-ux': 1, 'bulma': 3, 'kql': 9, 'azure-monitor': 1, 'fonts': 14, 'html-rendering': 1, 'fontforge': 2, 'pyenv': 3, 'virtualenvwrapper': 1, 'jax-rs': 5, 'coroutine': 2, 'android-progressbar': 1, 'inline-functions': 1, 'fuel': 1, 'pg': 2, 'libpq': 2, 'argo-workflows': 5, 'argo': 6, 'paketo': 3, 'client-go': 3, 'lubridate': 1, 'zoo': 2, 'azure-resource-manager': 5, 'azure-keyvault': 8, 'azure-api-management': 5, 'plsql': 21, 'oracle-apex': 18, 'faceted-search': 1, 'windows-10': 12, 'gpytorch': 1, 'post': 21, 'spring-webflux': 9, 'micrometer': 3, 'package-management': 1, 'software-packaging': 1, 'packager': 1, 'redux-thunk': 3, 'identityserver4': 5, 'openid-connect': 21, 'duende-identity-server': 4, 'google-analytics-api': 7, 'google-analytics-4': 10, 'pybind11': 8, 'macos-ventura': 6, 'appendchild': 1, 'openseadragon': 1, 'ngzone': 1, 'selenium-grid': 2, 'keylistener': 1, 'reference': 14, 'checkmarx': 3, 'angular-cli': 9, 'pylint': 1, 'bitbucket-pipelines': 5, 'gdb': 10, 'jersey': 1, 'servlet-filters': 4, 'ngrx': 7, 'ngrx-store': 5, 'event-listener': 4, 'android-intent': 8, 'docx4j': 2, 'entity-framework': 39, 'in-memory-database': 1, 'advanced-custom-fields': 6, 'custom-post-type': 3, 'do-while': 3, 'partial-views': 1, 'servicenow': 4, 'hot-reload': 4, 'readme': 1, 'game-physics': 6, 'physics-engine': 1, 'runge-kutta': 1, 'bold': 1, 'italic': 1, 'locale': 4, 'badass-runtime-plugin': 1, 'zapier': 7, 'cpu': 4, 'cpu-cache': 3, 'memory-profiling': 1, 'wireless': 3, 'jsonb': 3, 'xslt-2.0': 2, 'race-condition': 3, 'draggable': 6, 'devops': 31, 'vbox': 1, 'crud': 4, 'terraform-provider-azure': 11, 'terraform-cdk': 1, 'tfstate': 1, 'listview': 12, 'xamarin': 29, 'flyout': 1, 'multivariate-time-series': 3, 'sparse-matrix': 3, 'keycloak-spi': 2, 'ui-automation': 7, 'stdvector': 3, 'google-chat': 2, 'swig': 2, 'webview2': 4, 'geoserver': 3, 'uiview': 1, 'cgaffinetransform': 1, '.net-4.0': 2, 'pinecone': 3, 'indexing': 19, 'android-fragments': 12, 'laravel-9': 8, 'staticresource': 1, 'xamlparseexception': 1, 'locking': 8, 'kestrel-http-server': 2, 'httpcookie': 2, 'kestrel': 1, 'nginx-reverse-proxy': 16, 'autohotkey': 7, 'scenekit': 4, 'qiskit': 3, 'ida': 1, 'reversing': 1, 'odoo': 11, 'odoo-16': 6, 'reinforcement-learning': 11, 'vowpalwabbit': 1, 'digital-ocean': 9, 'ansible-vault': 1, 'mod-proxy': 1, 'angular-httpclient': 3, 'angular-transfer-state': 1, 'keyboard-layout': 1, 'clean-architecture': 8, 'android-mvvm': 2, 'build.gradle': 18, 'drupal-9': 5, 'react-native-testing-library': 2, 'testing-libraryreact-native': 1, 'python-module': 3, 'classnotfoundexception': 6, 'methodnotfound': 1, 'screenshot': 3, 'screen-recording': 2, 'mermaid': 4, 'android-contacts': 4, 'android-contentresolver': 3, 'localstack': 4, 'junit-jupiter': 1, 'pouchdb': 1, 'prism': 2, 'radwindow': 1, 'anylogic': 14, 'clr': 3, 'compiler-optimization': 4, 'cil': 1, 'asp.net-core-6.0': 9, 'nuget-package-restore': 1, 'ionic-storage': 1, 'solr': 5, 'solrcloud': 3, 'mysql-workbench': 8, 'xunit': 6, 'angular-lazyloading': 1, 'android-custom-view': 3, 'r-highcharter': 2, 'amazon-elastic-beanstalk': 15, 'amazon-iam': 5, 'collections': 12, 'missing-data': 3, 'rpa': 3, 'blueprism': 2, 'clone': 2, 'cross-compiling': 7, 'qemu': 10, 'expo-notifications': 2, 'shortcut': 6, 'vscode-keybinding': 3, 'react-link': 2, 'jackson2': 1, 'subdomain': 4, 'facebook-javascript-sdk': 2, 'wildcard-subdomain': 1, 'f#': 5, 'bitwise-operators': 6, 'units-of-measurement': 1, 'calculated-field': 2, 'mastercard': 1, 'mpgs-session-js': 1, 'pem': 4, 'xslt': 19, 'increment': 5, 'synchronization': 9, 'multiplayer': 4, 'parquet': 10, 'parquet-mr': 1, 'triggers': 16, 'google-workspace': 12, 'python-polars': 21, 'arcore': 3, 'surface': 5, 'ar-foundation': 1, 'location': 6, 'distribute': 1, 'screen-time': 3, 'glassfish': 5, 'slf4j': 5, 'pspdfkit': 1, 'gtk': 9, 'grafana': 29, 'xamarin-forms-4': 1, 'css-position': 3, 'sticky': 4, 'wso2-identity-server': 6, 'podplayer': 1, 'sublimetext2': 1, 'indentation': 3, 'static-assert': 1, 'postman': 43, 'postman-pre-request-script': 1, 'grafana-loki': 11, 'grafana-agent': 1, 'azure-application-gateway': 5, 'caffeine-cache': 2, 'documentation': 9, 'powerbi-rest-api': 1, 'webforms': 9, 'apple-m1': 9, 'deeplab': 2, 'react-player': 1, 'infinispan': 2, 'jgroups': 1, 'serilog': 9, 'sentry': 6, 'python-import': 12, 'gatsby': 12, 'converters': 3, 'bibtex': 2, 'oracle-cloud-infrastructure': 7, 'oracle-visual-builder': 1, 'gmp': 2, 'mandelbrot': 2, 'mpfr': 1, 'dynamic-sql': 3, 'attributeerror': 7, 'advanced-queuing': 2, 'jmeter-plugins': 5, 'pentaho': 8, 'pentaho-report-designer': 2, 'textbox': 10, 'pgadmin': 8, 'vpc': 3, 'spring-data-envers': 1, 'service-accounts': 5, 'liferay': 1, 'angular8': 4, 'chromadb': 9, 'jetpack-compose-animation': 1, 'maven-surefire-plugin': 3, 'shopping-cart': 3, 'price': 4, 'select': 12, 'random': 20, 'shortcode': 5, 'breadcrumbs': 2, 'yoast': 1, 'spring-batch': 7, 'transactions': 23, 'ado.net': 3, 'transactionscope': 1, 'unrar': 1, 'excelpackage': 1, 'oracle19c': 7, 'xmltable': 1, 'spring-websocket': 6, 'psycopg2': 5, 'functional-programming': 6, 'monads': 1, 'c1flexgrid': 1, 'eloquent': 20, 'gekko': 3, 'ray-tune': 3, 'elasticnet': 2, 'azure-table-storage': 2, 'project-reactor': 3, 'spring-data-r2dbc': 1, 'blockhound': 1, 'point': 7, 'django-crispy-forms': 1, 'web-worker': 3, '.npmrc': 1, 'composer-php': 11, 'microcontroller': 11, 'pic18': 2, 'menu': 4, 'popupmenu': 1, 'windows-authentication': 2, 'ws-federation': 1, 'enterprise': 3, 'kubernetes-operator': 1, 'interface-builder': 3, 'builder': 2, 'graalvm': 5, 'graaljs': 1, 'tailwind-elements': 2, 'spark-notebook': 1, 'lexicaljs': 1, 'timepicker': 1, 'angular15': 6, 'ef-core-3.1': 1, 'sonarqube': 8, 'test-coverage': 1, 'quality-gate': 1, 'registry': 5, 'mapstruct': 4, 'elastic-stack': 12, 'multi-index': 5, 'xposed': 1, 'samsung': 2, 'switch-statement': 8, 'conditional-operator': 1, 'cppcheck': 2, 'selenium-webdriver-python': 3, 'data-lakehouse': 2, 'prestashop': 5, 'include': 6, 'flutter-material': 2, 'pytorch-dataloader': 5, 'pytorch-datapipe': 1, 'torchdata': 1, 'sumifs': 3, 'sumproduct': 1, 'strdup': 1, 'google-translation-api': 1, 'pca': 4, 'eigenvector': 1, 'mockup-tool': 1, 'media-player': 4, 'vimeo': 2, 'genexus': 2, 'openlayers-6': 1, 'gsap': 4, 'koloda': 1, 'jasmine': 4, 'volumes': 2, 'build-runner': 1, 'sirishortcuts': 3, 'gitignore': 8, 'robotframework': 13, 'configuration': 21, 'filestream': 2, 'esp8266': 5, 'ota': 1, 'torchvision': 3, 'intellisense': 8, 'sap-commerce-cloud': 6, 'spartacus-storefront': 3, 'smartedit': 2, 'onedrive': 4, 'multi-tenant': 8, 'view': 7, 'android-linearlayout': 1, 'android-xml': 3, 'home-automation': 1, 'xquery': 1, 'sqlxml': 1, 'uinavigationcontroller': 1, 'legend-properties': 2, 'octokit-js': 1, 'yolo': 7, 'azure-machine-learning-service': 6, 'hangfire-sql': 2, 'crash': 14, 'autolayout': 1, 'snapkit': 1, 'cnosdb': 10, 'nullable': 2, 'java-8': 17, 'watchservice': 1, 'file-monitoring': 1, 'architecture': 17, 'solid': 1, 'servicestack': 1, 'structure': 3, 'swiftui-navigationlink': 6, 'mkdocs': 1, 'jdbc': 15, 'prepared-statement': 4, 'gulp': 6, 'glob': 2, 'unpivot': 3, 'union-all': 1, 'fractals': 3, 'h3': 2, 'analytics': 9, 'apache-poi': 8, 'pdfbox': 5, 'allure': 7, 'shiny': 35, 'shinydashboard': 9, 'shiny-reactivity': 2, 'overlay': 5, 'primeng': 15, 'nextjs-image': 3, 'mongo-shell': 4, 'amazon-fire-tv': 2, 'gitlab-ci-runner': 10, 'virus-scanning': 3, 'react-custom-hooks': 2, 'width': 4, 'pdfmake': 2, 'stretch': 1, 'user-experience': 2, 'postgresql-9.5': 1, 'flutter-navigation': 3, 'flutter-go-router': 7, 'flutter-routes': 2, 'simd': 8, 'sse': 1, 'avx': 3, 'subprocess': 7, 'permissions': 17, 'backups': 1, 'ag-grid-angular': 7, 'ag-grid-react': 5, 'databricks-sql': 2, 'pie-chart': 4, 'facet-grid': 3, 'proportions': 4, 'data-mining': 4, 'mlxtend': 1, 'gpt-2': 1, 'gpt-4': 3, 'shiboken2': 2, 'qcoreapplication': 1, 'spreadsheet': 9, 'yocto': 9, 'http-authentication': 1, 'ethernet': 5, 'cpan': 2, 'idl': 1, 'python-3.10': 5, 'django-queryset': 3, 'django-model-field': 1, 'django-database-functions': 1, 'slick.js': 5, 'uml': 4, 'composition': 2, 'model-associations': 1, 'spring-data': 11, 'minecraft-forge': 4, 'spectrogram': 1, 'matplotlib-animation': 2, 'bitbucket-server': 1, 'libreoffice': 6, 'abstract': 1, 'mui-x-data-grid': 4, 'mui-x': 3, 'product': 12, 'pickle': 8, 'jquery-select2': 6, 'graalvm-native-image': 6, 'maps': 6, 'zipcode': 1, 'aws-application-load-balancer': 8, 'shadow': 3, 'fatjar': 1, 'shadowjar': 1, 'weasyprint': 1, 'cordova': 22, 'cordova-plugins': 3, 'varchar': 1, 'element': 7, 'debugdiag': 1, 'skaffold': 2, 'snakemake': 2, 'applescript': 7, 'duration': 1, 'array-broadcasting': 2, 'discriminated-union': 1, 'iasyncenumerable': 1, 'infrastructure-as-code': 1, 'survival-analysis': 3, 'microsoft-teams-js': 1, 'jira': 10, 'jira-rest-api': 4, 'jira-rest-java-api': 3, 'scriptrunner-for-jira': 3, 'continuous-deployment': 4, 'aidl': 3, 'wkhtmltopdf': 4, 'mobsf': 2, 'gnuplot': 4, 'scheduled-tasks': 11, 'programmers-notepad': 2, 'graphene-django': 1, 'migration': 24, 'database-migration': 8, 'word-2016': 1, 'k2': 1, 'spring-jms': 3, 'spring-micrometer': 3, 'micrometer-tracing': 3, 'codeigniter-3': 2, 'jcrop': 1, 'opensearch': 10, 'replicaset': 3, 'mongodb-replica-set': 1, 'query-optimization': 12, 'kubernetes-pvc': 3, 'underscore.js': 2, 'memoization': 1, 'throttling': 6, 'spark-streaming': 8, 'beamer': 2, 'android-drawable': 3, 'flutter-intl': 1, 'function-pointers': 2, 'roslyn': 4, 'system-calls': 3, 'serversocket': 3, 'tiles': 1, 'unordered-set': 3, 'android-textinputedittext': 1, 'winui': 3, 'sonata': 2, 'azure-cognitive-services': 1, 'photo': 4, 'target': 3, 'adsense-api': 1, 'spine.js': 1, 'spine': 1, 'google-identity-toolkit': 2, 'docusign-sdk': 2, 'dio': 3, 'fileprovider-extension': 1, 'tiktok': 2, 'tiktok-api': 2, 'dart-pub': 6, 'renderer': 2, 'usd': 1, 'amazon-ecr': 8, 'startup': 5, 'administrator': 1, 'rich-text-editor': 4, 'trix': 1, 'aws-amplify-cli': 4, 'amplifyjs': 1, 'url-rewriting': 7, 'operating-system': 12, 'system.text.json': 2, 'gtk4': 4, 'alignment': 5, 'contextmenu': 1, 'k3s': 3, 'k3d': 2, 'kyma': 1, 'dinktopdf': 1, 'mapnik': 1, 'chromium': 9, 'webstorm': 3, 'parameterinfo': 1, 'graph-explorer': 2, 'java.util.concurrent': 2, 'p2p': 4, 'language-design': 3, 'default-parameters': 3, 'least-astonishment': 3, 'source-maps': 3, 'sentryreact': 1, 'curl': 34, 'oracle11g': 4, 'detection': 2, 'voice': 4, 'avspeechsynthesizer': 1, 'file-get-contents': 2, 'ggtext': 1, 'speech-to-text': 6, 'android-13': 7, 'liquibase': 7, 'policy': 3, 'row-level-security': 5, 'aws-auto-scaling': 2, 'cortex-m': 2, 'armv7': 5, 'boost-iostreams': 1, 'verilog': 8, 'system-verilog': 10, 'ng-container': 1, 'specflow': 2, 'facebook-authentication': 1, 'wear-os': 5, 'wearables': 1, 'python-watchdog': 1, 'power-automate-flow': 5, 'language-agnostic': 3, 'allocation': 3, 'database-administration': 4, 'minecraft-commands': 1, 'doctrine-orm': 6, 'dlt': 1, 'dlt-daemon': 1, 'lucene': 1, 'solrj': 1, 'solrclient': 1, 'clickhouse': 14, 'http-status-code-400': 2, 'microsoft-documentation': 1, 'windows-laps': 1, 'imshow': 1, 'astropy': 2, 'fits': 1, 'find': 8, 'nx-monorepo': 4, 'firebase-realtime-database': 18, 'azure-cosmosdb': 19, 'azure-cosmosdb-gremlinapi': 5, 'gremlinpython': 1, 'pointer-arithmetic': 3, 'strict-aliasing': 2, 'type-punning': 4, 'nightwatch': 1, 'laravel-formrequest': 1, 'attention-model': 4, 'self-attention': 2, 'xilinx': 2, 'openonload': 1, 'many-to-many': 5, 'c++-cli': 2, 'owl-carousel': 4, 'class-method': 2, 'code-reuse': 1, 'modelsummary': 1, 'cpu-usage': 1, 'ruamel.yaml': 2, 'solution': 4, 'web.xml': 2, 'session-cookies': 6, 'http-redirect': 2, 'apigee': 1, 'jsessionid': 1, 'bamboo': 2, 'bamboo-specs': 1, 'bamboo-artifacts': 1, 'django-auditlog': 1, 'google-colaboratory': 30, 'embedded': 23, 'rp2040': 3, 'tampermonkey': 3, 'greasemonkey-4': 1, 'typo3': 9, 'typoscript': 3, 'typo3-9.x': 1, 'pyrogram': 3, 'git-bash': 7, 'buffer-overflow': 2, 'stdout': 1, 'stderr': 1, 'java-stream': 8, 'gson': 1, 'ffmpeg-php': 2, 'twitter-api-v2': 5, 'twitter-api-v1': 3, 'passport.js': 8, 'isolation': 2, 'impala': 3, 'elasticsearch-indices': 1, 'haar-classifier': 1, 'ml.net': 5, 'polyglot': 1, 'trigonometry': 4, 'angle': 1, 'plausible-analytics': 1, 'protobuf-c': 1, 'surrealdb': 4, 'apache-commons-csv': 1, 'semantic-web': 2, 'conventions': 1, 'semantic-markup': 2, 'json-api': 2, 'google-calendar-api': 7, 'focus': 4, 'xterm': 1, 'rgba': 3, 'tags': 8, 'formarray': 2, 'etl': 16, 'sap-data-services': 1, 'justpy': 1, 'flutter-bloc': 7, 'cubit': 1, 'flutter-cubit': 1, 'apparmor': 1, 'save': 9, 'mininet': 4, 'sdn': 5, 'topology': 1, 'openapi-generator': 8, 'convolution': 2, 'data-fitting': 1, 'datagram': 2, 'schema': 6, 'consistency': 1, 'scylla': 2, 'signature': 2, 'dsc': 1, 'webassembly': 8, 'emscripten': 1, 'emsdk': 1, 'shopware6': 9, 'nginx-config': 9, 'svm': 3, 'logistic-regression': 6, 'applepayjs': 2, 'navigationbar': 4, 'git-commit': 3, 'ef-code-first': 2, 'nvarchar': 1, 'sealed-class': 1, 'tensorboard': 2, 'sequential': 1, 'crossfilter': 1, 'measure': 3, 'equation': 6, 'algebra': 1, 'odbc': 12, 'e2e-testing': 2, 'wallet-connect': 6, 'form-submit': 3, 'sweetalert': 2, 'delete-method': 1, 'samesite': 1, 'cookie-httponly': 1, 'zipkin': 2, 'distributed-tracing': 1, 'webusb': 1, 'electron.net': 1, '.d.ts': 1, 'coordinates': 6, 'scroll-snap': 1, 'cgal': 4, 'word-wrap': 4, '.doc': 1, 'dbus': 3, 'unix-timestamp': 2, 'jakarta-mail': 3, 'bean-validation': 2, 'micronaut': 9, 'altair': 6, 'custom-pages': 1, 'jobs': 6, 'rpc': 3, 'http-tunneling': 1, 'firebase-remote-config': 1, 'sslpinning': 1, 'ranking': 2, 'get-aduser': 1, 'yew': 2, 'linear-programming': 5, 'office-js': 8, 'office-addins': 6, 'excel-addins': 2, 'avaloniaui': 3, 'avalonia': 4, 'sql-delete': 3, 'delete-row': 3, 'keycloak-services': 4, 'viewcontroller': 1, 'userdefaults': 1, 'jobrunr': 1, 'conditional-statements': 16, 'dialog': 6, 'windows-installer': 4, 'phpstorm': 4, 'user-roles': 5, 'vitest': 7, 'git-fork': 2, 'odin-inspector': 1, 'ocaml': 2, 'dotnet-httpclient': 3, 'undo-redo': 1, 'asio': 2, 'ember.js': 6, 'momentjs': 2, 'entity-framework-6': 5, 'solver': 3, 'jetstream': 3, 'parceljs': 2, 'swift-data': 3, 'terraform-provider-oci': 1, 'azure-identity': 2, 'shadow-dom': 4, 'prediction': 4, 'hidden-markov-models': 2, 'google-cloud-gen-app-builder': 1, 'dummy-variable': 1, 'file-upload': 20, 'http-post': 5, 'ceph': 1, 'hosting': 15, 'cdn': 7, 'crystal-reports-2010': 1, 'sapb1': 1, 'coloranimation': 1, 'sanctum': 2, 'google-maps-embed': 1, 'badparcelableexception': 1, 'react-chartjs-2': 3, 'sqldatatypes': 2, 'mapping': 10, 'raspberry-pi4': 10, 'texture-mapping': 1, 'lidar': 3, 'autodesk-forge': 15, 'autodesk': 6, 'google-fonts': 4, 'volar': 1, 'nosql': 7, 'mongodb-atlas': 9, 'android-api-levels': 2, 'powerapps-canvas': 7, 'powerapps-formula': 5, 'neo4j-apoc': 1, 'angular-cdk': 3, 'core': 9, 'yup': 6, 'react-state-management': 2, 'checkboxlist': 2, 'autopostback': 1, 'google-text-to-speech': 1, 'gtts': 1, 'gdi+': 5, 'printers': 2, 'dex': 2, 'spacing': 1, 'vuetifyjs3': 7, 'react-table-v7': 2, 'grpc-python': 1, 'proto3': 1, 'drop-down-menu': 11, 'joomla': 9, 'nav': 1, 'biztalk': 1, 'edi': 1, 'biztalk-2016': 1, 'biztalk-mapper': 1, 'azure-databricks': 25, 'flutter-listview': 2, 'case-sensitive': 2, 'case-insensitive': 2, 'blazorise': 1, 'putty': 1, 'azure-notificationhub': 1, 'webdav': 2, 'reinforced-typings': 1, 'text-extraction': 3, 'idp': 2, 'in-app-purchase': 7, 'apk': 16, 'xpsdocument': 1, 'command-pattern': 1, 'microsoft-extensions-di': 1, 'unique': 5, 'categories': 3, 'aliexpress': 1, 'syntax': 13, 'data.table': 15, 'apple-silicon': 2, 'factory': 2, 'tvos': 1, 'apple-tv': 2, 'hostname': 3, 'dhcp': 3, 'domain-name': 1, 'number-formatting': 3, 'publish': 5, 'linux-kernel': 17, 'dataadapter': 1, 'jaspersoft-studio': 1, 'multiplexing': 3, 'grand-central-dispatch': 2, 'ipaas': 1, 'apache-httpclient-4.x': 1, 'tiff': 3, 'virtual-reality': 7, 'geotiff': 2, 'vizard': 1, 'identity': 3, 'asn.1': 1, 'pd.grouper': 1, 'castor': 1, 'load-testing': 6, 'trace': 3, 'k6': 2, 'transformation': 4, 'jolt': 2, 'aspose-cells': 2, 'google-sites': 1, 'notion': 1, 'google-sites-2016': 1, 'strophe': 1, 'ejabberd-auth': 1, 'version': 8, 'netty': 2, 'facebook-android-sdk': 1, 'facebook-analytics': 1, 'tiled': 2, 'flame': 4, 'action': 5, 'array-difference': 2, 'kendo-grid': 3, 'jaas': 1, 'raspberry-pi3': 3, 'protractor': 2, 'webdriver-manager': 3, 'xctest': 2, 'pdo': 5, 'https-proxy-agent': 1, 'datagridview': 9, 'datagridviewcolumn': 1, 'reactor-kafka': 1, 'draw2d-js': 1, 'css-modules': 3, 'react-css-modules': 1, 'reverse-proxy': 12, 'proxypass': 1, 'c++-concepts': 3, 'precision': 4, 'calculation': 4, 'git-submodules': 4, 'amazon-codebuild': 1, 'playback': 4, 'local-storage': 6, 'amazon-efs': 4, 'aws-policies': 2, 'firebase-in-app-messaging': 1, 'fanotify': 1, 'system-variable': 1, 'setx': 1, 'vue-directives': 1, 'mount': 5, 'umount': 1, 'overlayfs': 1, 'eigen3': 1, 'reverse': 5, 'date-range': 1, 'empty-list': 1, 'elk': 6, 'elasticsearch-8': 1, 'sql-view': 2, 'xbase': 1, 'sqlplus': 1, 'mobaxterm': 3, 'gamekit': 1, 'flask-sqlalchemy': 8, 'whatsapp': 12, 'whatsapp-cloud-api': 3, 'pyserial': 4, 'databricks-asset-bundle': 1, 'wso2-enterprise-integrator': 3, 'pymupdf': 2, 'amcharts': 2, 'amcharts5': 1, 'hashlib': 2, 'android-button': 1, 'memgraphdb': 4, 'mnist': 3, 'txt': 3, 'face-id': 2, 'localauthentication': 1, 'active-directory': 14, 'file-io': 4, 'freopen': 1, 'mongodb-compass': 4, 'testlink': 1, 'devextreme': 4, 'devextreme-react': 1, 'bayesian-networks': 1, 'bnlearn': 1, 'namecheap': 3, 'ads': 9, 'option-type': 1, 'vue-script-setup': 2, 'pdf.js': 4, 'react-pdf': 7, 'shopify-api': 5, 'ckeditor': 7, 'google-mlkit': 5, 'rollback': 2, 'status': 2, 'undo': 1, 'lm': 3, 'flash-builder': 1, 'spi': 6, 'ftdi': 1, 'openrewrite': 3, 'grafana-alerts': 4, 'data-security': 1, 'vps': 9, 'whm': 2, 'java-melody': 1, 'telethon': 6, 'transformer-model': 8, 'devexpress': 6, 'xtragrid': 1, 'devexpress-gridcontrol': 2, 'app-router': 12, 'jmeter-5.0': 1, 'threadgroup': 1, 'libstdc++': 1, 'docker-build': 1, 'unary-operator': 1, 'blazor-hybrid': 1, 'manpage': 2, 'linux-namespaces': 1, 'sprint': 1, 'pmd': 2, 'angular-oauth2-oidc': 2, 'grpc-web': 1, 'amazon-elb': 4, 'ado': 3, 'flaui': 1, 'blender': 6, 'react-three-drei': 4, 'mixamo': 1, 'virtualenv': 3, 'tracking': 4, 'angularjs-directive': 1, 'aws-lambda-containers': 1, 'scanning': 1, 'process': 8, 'ctypes': 4, 'messagebox': 1, 'pg-dump': 2, 'median': 1, 'imx6': 1, 'rootfs': 1, 'excel-2019': 1, 'quill': 4, 'accelerometer': 1, 'terraform-modules': 1, 'gpio': 5, 'arduino-esp32': 7, 'rust-polars': 7, 'libav': 2, 'aws-serverless': 5, 'aws-cloudformation-custom-resource': 2, 'predis': 1, 'phpredis': 1, 'openaiembeddings': 2, 'requirements.txt': 3, 'materialize': 2, 'multiple-select': 1, 'google-developer-tools': 1, 'xargs': 2, 'gmail-api': 7, 'php-jwt': 2, 'wpa-supplicant': 2, 'broadcom': 2, 'android-firmware': 1, 'bundler': 3, 'fastlane': 7, 'tizen': 4, 'samsung-smart-tv': 2, 'infrared': 1, 'discord.py': 29, 'event-bubbling': 1, 'react-modal': 2, 'stream-builder': 3, 'fedora': 7, 'personal-hotspot': 1, 'rexx': 1, 'ispf': 1, 'tso': 1, 'teechart': 1, 'dynamics-365': 5, 'abap': 4, 'adventureworks': 3, 'google-places-api': 7, 'openstreetmap': 7, 'google-earth': 1, 'openshift': 8, 'confluent-schema-registry': 3, 'constexpr': 3, 'jquery-ui': 5, 'bloc': 6, 'drawtext': 1, 'android-jetpack-compose-canvas': 1, 'orientation': 3, 'screen-orientation': 1, 'orientation-changes': 1, 'cloudkit': 2, 'inverse': 3, 'node.js-telegram': 1, 'drupal-6': 1, 'http-status-code-504': 2, 'glsl': 2, 'webgl': 2, 'listener': 5, 'lifecycle': 2, 'azure-data-lake-gen2': 4, 'data-ingestion': 2, 'outlook-web-addins': 4, 'mean': 4, 'tabulate': 1, 'range': 6, 'offset': 3, 'redhat-openjdk': 1, 'coding-style': 1, 'reveal.js': 3, 'vbscript': 2, 'chilkat': 1, 'shopify-api-node': 2, 'firebase-performance': 1, 'pass-by-reference': 5, 'google-visualization': 3, 'series': 3, 'candlesticks': 1, 'swt': 2, 'jface': 1, 'daxstudio': 1, 'powerbi-paginated-reports': 4, 'type-conversion': 9, 'argparse': 5, 'hardware': 4, 'javascript-marked': 1, 'docsify': 1, 'adsense': 4, 'flyway': 2, 'subset': 7, 't.test': 2, 'power-platform': 3, 'akka': 4, 'akka-stream': 2, 'qtopengl': 1, 'openglcontext': 1, 'recode': 1, 'mesa': 2, 'firebase-console': 3, 'sapui5': 7, 'sap-cap': 4, 'depth-first-search': 4, 'position': 9, 'pnpm': 5, 'automated-tests': 14, 'lombok': 4, 'java-19': 1, 'recommendation-engine': 1, 'google-publisher-tag': 1, 'mask': 1, 'euclidean-distance': 1, 'ndimage': 1, 'github-for-windows': 3, 'hard-drive': 1, 'apfs': 1, 'hfs': 1, 'exfat': 1, 'azure-ad-b2c-custom-policy': 9, 'siri': 2, 'sirikit': 1, 'get-request': 1, 'numerical-methods': 3, 'spectra': 2, 'firewall': 2, 'opnsense': 1, 'nswag': 4, 'libvtk9.1-qt': 1, 'couchdb': 1, 'couchdb-futon': 1, 'notice': 1, 'portaudio': 1, 'phpmyadmin': 7, 'cpu-architecture': 7, 'cpu-registers': 5, 'flake8': 2, 'netbeans': 5, 'keyerror': 3, 'montecarlo': 1, 'probability-theory': 1, 'plc': 3, 'opc': 1, 'siemens': 1, 'open62541': 1, 'stdthread': 1, 'shared-hosting': 1, 'laravel-7': 1, 'tex': 4, 'cvxpy': 1, 'docker-machine': 3, 'nodemon': 5, 'json-path-expression': 1, 'cargo-features': 1, 'windowing': 1, 'rstudio': 10, 'na': 1, 'skew': 1, 'factor-analysis': 2, 'exploratory-data-analysis': 2, 'express-fileupload': 1, 'mingw': 4, 'csrf': 8, 'pinvoke': 1, 'lisp': 3, 'common-lisp': 5, 'notepad++': 5, 'fork': 2, 'execl': 1, 'programming-languages': 1, 'date-format': 3, 'dayofweek': 1, 'e': 1, 'insert': 2, 'sql-insert': 3, 'closures': 6, 'aws-sdk-cpp': 1, 'application-integration': 1, 'integration': 12, 'whatsapi': 2, 'subscription': 6, 'paypal-subscriptions': 1, 'payment-processing': 3, 'bigcartel': 2, 'web-applications': 25, 'formidable': 1, 'itext7': 5, 'urdu': 2, 'facebook-chatbot': 2, 'aws-chatbot': 1, 'ojdbc': 2, 'rollupjs': 3, 'google-pay': 4, 'fill': 4, 'multer': 4, 'node.js-fs': 3, 'createwritestream': 1, 'react-query': 13, 'undefined': 5, 'preprocessor': 2, 'expression-evaluation': 1, 'microsoft-edge-extension': 1, 'css-selectors': 8, 'apache-iotdb': 9, 'iotdb': 9, 'spring-mybatis': 1, 'logic': 9, 'twilio-php': 2, 'twilio-twiml': 2, 'environment': 6, 'p-lang': 1, 'harmony': 1, 'ilogger': 1, 'apache2.4': 2, 'connection-timeout': 3, 'coreldraw': 1, 'graphviz': 4, 'quartz-scheduler': 4, 'autodesk-bim360': 3, 'camera': 18, 'html5-filesystem': 1, 'dolphindb': 5, 'youtube-livestreaming-api': 2, 'geojson': 5, 'pythonanywhere': 5, 'flask-mail': 1, 'r-caret': 1, 'setattribute': 1, 'urllib2': 1, 'spring-context': 2, 'axis-labels': 1, 'progressive-web-apps': 17, 'ionic-native': 1, 'attachment': 5, 'test-results': 1, 'birt': 1, 'blob': 5, 'bfg-repo-cleaner': 1, 'git-filter-repo': 1, 'vegan': 2, 'apply': 3, 'rust-cargo': 3, 'chromium-os': 2, 'botframework': 6, 'hbase': 2, 'apache-phoenix': 1, 'itext': 7, 'folium': 7, 'lost-focus': 1, 'roots-sage': 1, 'bedrock': 1, 'nodemailer': 4, 'errno': 1, 'media-queries': 8, 'adobe': 10, 'lint': 3, 'dayjs': 3, 'nestjs-config': 4, 'coin-change': 1, 'objectid': 1, 'predictive': 1, 'ktor': 8, 'recurrent-neural-network': 1, 'recurrent': 1, 'grails': 2, 'apktool': 2, 'capitalization': 1, 'capitalize': 1, 'maple': 1, 'katalon-studio': 2, 'web-testing': 1, 'exchangewebservices': 3, 'tflearn': 1, 'azure-pipelines-yaml': 3, 'azure-pipelines-build-task': 1, 'reverse-engineering': 4, 'virtualization': 2, 'gtsummary': 4, 'msys2': 3, 'javafx-2': 1, 'sdl-2': 6, 'html-table': 10, 'html-email': 5, 'styling': 4, 'email-signature': 1, 'code-generation': 5, '.net-7.0': 27, 'xunit.net': 2, 'c#-10.0': 1, 'sql-server-2016': 4, 'go-gorm': 5, 'scorm': 1, 'kivy-language': 5, 'simplify': 2, 'google-chrome-headless': 3, 'oppo': 1, 'scrollbar': 7, 'typescript-typings': 7, 'roxygen2': 1, 'r-usethis': 1, 'wcf': 5, 'command-line-arguments': 4, 'aapt': 3, 'fedex': 2, 'kernighan-and-ritchie': 1, 'papermill': 3, 'adobe-embed-api': 2, 'desktop-bridge': 2, 'devise': 3, 'apple-id': 1, 'tsvector': 1, 'generated-columns': 1, 'list-comprehension': 4, 'facet': 2, 'spotipy': 1, 'static': 5, 'typing': 4, 'fatal-error': 4, 'github-copilot': 1, 'layout': 10, 'inner-join': 5, 'perforce': 2, 'p4python': 1, 'fluent-ui': 1, 'fluentui-react': 1, 'query-string': 1, 'laravel-modules': 2, 'exiftool': 2, 'raw': 1, 'dropdown': 8, 'vcf-variant-call-format': 1, 'debouncing': 4, 'coldfusion': 2, 'coldfusion-2018': 1, 'bass': 1, 'particles.js': 1, 'crystal-reports': 6, 'report': 11, 'minikube': 7, 'rtsp': 5, 'core-data': 15, 'core-data-migration': 1, 'spotfire': 3, 'truncated': 1, 'quasar': 3, 'codeigniter': 15, 'freepascal': 4, 'mms': 1, 'spock': 3, 'wasapi': 1, 'amazon-selling-partner-api': 3, 'integer': 8, 'gpu.js': 1, 'string.format': 1, 'aad-b2c': 4, 'internationalization': 13, 'jetbrains-toolbox': 1, 'objective-c': 14, 'themes': 10, 'system': 3, 'moving-average': 2, 'suiteql': 2, 'netsuite-rest-api': 3, 'sharepoint-online': 11, 'vapor': 2, 'winrm': 2, 'credssp': 1, 'oracle-sqldeveloper': 10, 'autocomplete': 10, 'tab-completion': 2, 'string.h': 1, 'bluetooth-lowenergy': 14, 'mapbox-gl-js': 5, 'mapbox-gl': 4, 'user-defined-literals': 1, 'netcdf': 5, 'iris-dataset': 1, 'backup': 6, 'contacts': 3, 'android-backup-service': 1, 'spark-koalas': 2, 'vercel': 28, 'atlas': 2, 'android-navigation': 4, 'android-safe-args': 1, 'android-bottomnavigationview': 1, 'angular-momentum': 1, 'buildozer': 6, 'elevated-privileges': 1, 'credential-providers': 1, 'babel-loader': 3, 'swc': 5, 'swc-compiler': 2, 'etrade-api': 1, 'overflow': 6, 'path': 29, 'message': 3, 'executable': 7, 'kubernetes-deployment': 1, 'wagtail': 6, 'nginx-njs': 1, 'singleton': 3, 'least-squares': 1, 'posix': 8, 'turbo': 2, 'correlated-subquery': 1, 'payment': 10, 'iphone': 15, 'avfoundation': 2, 'avaudioengine': 1, 'azure-ad-msal': 4, 'scaffolding': 2, 'asp.net-mvc-scaffolding': 1, 'office365': 15, 'gunicorn': 10, 'http-live-streaming': 6, 'transcoding': 1, 'binary-search': 5, 'hex': 5, 'rs485': 3, 'progress-bar': 6, 'quicksort': 2, 'tqdm': 2, 'seaborn': 10, 'teradata': 6, 'explain': 1, 'raster': 11, 'terra': 10, 'webviewclient': 1, 'google-cloud-code': 1, 'psql': 2, 'oh-my-zsh': 3, 'gtkentry': 1, 'load-balancing': 8, 'akamai': 1, 'android-cardview': 2, 'gatling': 2, 'passport-saml': 1, 'wai-aria': 4, 'remote-server': 2, 'session-variables': 1, 'typetraits': 1, 'memoryview': 2, 'webfonts': 2, 'aws-load-balancer-controller': 1, 'rethinkdb': 1, 'reql': 2, 'aggregate-functions': 4, 'xelatex': 1, 'deno-deploy': 1, 'google-cloud-run': 5, 'tsc': 2, 'mp3': 2, 'audio-player': 2, 'kubernetes-ingress': 6, '.env': 4, 'react-share': 1, 'billing': 3, 'wxpython': 3, 'zooming': 3, 'reactive': 2, 'react-context': 7, 'plaid': 3, 'google-ads-api': 5, 'google-ads-script': 3, 'hardhat': 4, 'uicollectionview': 1, 'parse-platform': 2, 'primeng-table': 4, 'combinations': 5, 'enumeration': 1, 'backtracking': 3, 'ggplotly': 2, 'nullpointerexception': 6, 'illegalstateexception': 1, 'bitbucket': 7, 'spotlight': 3, 'access-token': 4, 'kotlin-exposed': 1, 'nginx-location': 5, 'intellij-14': 1, 'spring-thymeleaf': 1, 'react-native-animatable': 1, 'property-placeholder': 1, 'pre-signed-url': 4, 'ckan': 2, 'azure-virtual-network-gateway': 1, 'weka': 1, 'phyloseq': 1, 'protobuf-java': 1, 'doctrine': 4, 'spring-tools-4': 1, 'puppet-enterprise': 1, 'substring': 8, 'scripting': 9, 'javabeans': 3, 'elf': 5, 'loader': 4, 'autodesk-model-derivative': 1, 'power-analysis': 2, 'uiscrollview': 2, 'crop': 3, 'eeprom': 3, 'label': 6, 'outliers': 1, 'pairplot': 1, 'content-management-system': 4, 'xls': 1, 'azure-webapps': 5, 'x-forwarded-for': 1, 'stm32f4': 1, 'micropython': 6, 'raspberry-pi-pico': 3, 'overlap': 3, 'subscribe': 1, 'flexdashboard': 2, 'r-leaflet': 1, 'oracle-integration-cloud': 1, 'file-not-found': 2, 'linkedin-api': 14, 'vscode-debugger': 11, 'mode': 1, 'mute': 3, 'system.reactive': 2, 'pug': 2, 'poco': 2, 'grpc-go': 2, 'telegraf.js': 1, 'gspread': 4, 'install4j': 1, 'bcp': 1, 'nextui': 1, 'sharding': 2, 'azure-mobile-services': 1, 'offline': 5, 'ancs': 1, 'modbus': 1, 'garbage-collection': 7, 'weak-references': 1, 'weakmap': 2, 'data-conversion': 3, 'octave': 4, 'octave-gui': 1, 'hook-woocommerce': 3, 'turtle-graphics': 3, 'angular16': 6, 'b2': 1, 'yii2': 7, 'android-gps': 1, 'revit-api': 2, 'pyrevit': 1, 'rasterize': 1, 'konvajs': 4, 'gnn': 4, 'graphsage': 1, 'tracker': 2, 'apache-unomi': 2, 'clion': 4, 'miktex': 2, 'rdl': 2, 'replit': 4, 'keystore': 1, 'r-raster': 2, 'multicollinearity': 1, 'tint': 1, 'progressview': 1, 'occlusion': 1, 'data-analysis': 12, 'survey': 1, 'hypothesis-test': 2, 'ionos': 2, 'ultimate-member': 2, 'pfsense': 2, 'angular-eslint': 1, 'controls': 4, 'toolbox': 2, 'phpmailer': 6, 'multi-gpu': 2, 'file-exists': 1, 'selectpdf': 1, 'hmac': 1, 'adobe-analytics': 1, 'permutation': 5, 'modal-dialog': 5, 'objcopy': 1, 'sdcc': 1, 'spring-boot-maven-plugin': 1, 'spring-amqp': 1, 'spring-rabbit': 2, 'fluid': 2, 'openfoam': 2, 'fluid-dynamics': 1, 'git-push': 7, 'std-filesystem': 1, 'sfml': 5, 'breakout': 1, 'trino': 4, 'nokogiri': 1, 'widget': 16, 'qdoublespinbox': 1, 'sap-cloud-sdk': 3, 'collectionview': 3, 'response-headers': 3, 'typescript-generics': 10, 'projection': 5, 'lit-element': 2, 'catia': 2, 'aws-batch': 2, 'web-crawler': 9, 'text-files': 2, 'java.util.scanner': 2, 'network-drive': 1, 'serviceloader': 1, 'domainservices': 1, 'react-native-native-module': 1, 'private': 6, 'tui': 1, 'connection': 7, 'azerothcore': 2, 'realm-list': 1, 'world-of-warcraft': 1, 'nspredicate': 2, 'swiftui-state': 1, 'imap': 5, 'password-encryption': 1, 'password-hash': 5, 'courier': 2, 'cross-domain': 2, 'block': 4, 'traefik': 4, 'whitelist': 1, 'customization': 2, 'erp': 3, 'erpnext': 3, 'frappe': 4, 'passwords': 10, 'delphi-xe2': 1, 'arkit': 8, 'auto-py-to-exe': 4, 'sidebar': 5, 'event-driven-design': 1, 'redis-streams': 1, 'pfx': 1, 'device-driver': 1, 'spring-boot-security': 2, 'p4v': 2, 'changelist': 1, 'perforce-client-spec': 1, 'compatibility': 3, 'transpose': 3, 'reshape2': 1, 'dataformat': 2, 'sprite': 1, 'react-tsx': 5, 'certbot': 2, 'attiny': 3, 'http-status-code-404': 6, 'ag-grid-ng2': 1, 'conemu': 1, 'dotenv': 3, 'ts-node': 3, 'pyodbc': 4, 'dbt': 12, 'setup.py': 3, 'python-packaging': 4, 'ecmascript-next': 1, 'bluehost': 1, 'timer': 10, 'babylonjs': 1, 'decimal': 4, 'desmos': 2, 'netflix-eureka': 2, 'config.json': 1, 'amazon-vpc-lattice': 1, 'release-notes': 1, 'system.memory': 1, 'rebus': 1, 'rebus-azureservicebus': 1, 'exe': 5, 'aws-amplify-sdk-js': 1, 'vtable': 1, 'android-viewmodel': 5, 'postgresql-13': 2, 'kafkaflow': 1, 'on-the-fly': 1, 'string-length': 2, 'spring-restcontroller': 2, 'spring-rest': 1, 'model-binding': 2, 'iformfile': 1, 'nsentitydescription': 1, 'coq': 1, 'coq-tactic': 1, 'logical-foundations': 1, 'crossover': 1, 'locf': 1, 'code-signing-certificate': 2, 'dynamics-business-central': 3, 'apache-flink': 18, 'flink-checkpoint': 1, 'arduino-esp8266': 5, 'nodemcu': 1, 'blynk': 1, '32-bit': 2, 'nanostores': 1, 'cargo': 3, 'nhibernate': 2, 'instant-messaging': 1, 'openedge': 2, 'data-engineering': 10, 'meltano': 1, 'singer-io': 1, 'mesi': 1, 'markerclusterer': 2, 'mapbox-marker': 2, 'orders': 3, 'gradle-kotlin-dsl': 4, 'org.beryx.runtime': 1, 'fpga': 3, 'bitbake': 3, 'vivado': 3, 'discord-jda': 3, 'mirth': 1, 'flask-login': 1, 'dependency-management': 6, 'maven-dependency': 1, 'macos-monterey': 3, 'wro4j': 1, 'apple-developer': 1, 'message-queue': 4, 'sas-macro': 1, 'dragtarget': 1, 'react-paginate': 1, 'reorganize': 1, 'riverpod': 12, 'tei': 1, 'powerbi-custom-visuals': 2, 'stdtuple': 2, 'visionos': 2, 'jacoco-plugin': 1, 'variadic-templates': 4, 'static-initialization': 1, 'datacontext': 1, 'windows-server-2016': 3, 'corruption': 2, 'dism': 1, 'user-input': 4, 'pkcs#7': 2, 'dss': 1, 'pades': 1, 'ram': 7, 'quartus': 1, 'burndowncharts': 1, 'mechanicalsoup': 1, 'hidden': 1, 'pyomo': 3, 'scipy-optimize': 2, 'planetscale': 1, 'visual-studio-debugging': 3, 'amazon-timestream': 1, 'compilation': 12, 'runtime': 7, 'get-childitem': 2, 'leading-zero': 1, 'export-csv': 1, 'microsoft-graph-toolkit': 1, 'ghostscript': 2, 'postman-collection-runner': 2, 'mono': 2, 'module-federationnextjs-mfutils': 1, 'proxy-server': 3, 'oledb': 3, 'oledbcommand': 1, 'oledbexception': 1, 'salt-stack': 2, 'ipxe': 1, 'facebook-opengraph': 4, 'informatica': 4, 'informatica-cloud': 4, 'iics': 3, 'bitbucket-cloud': 1, 'string-matching': 2, 'nat': 3, 'ssh-tunnel': 4, 'wireguard': 4, 'gremlin': 3, 'aspect-ratio': 1, 'dom-events': 2, 'out-of-memory': 4, 'azure-service-fabric': 2, 'asp.net-core-middleware': 1, 'dpdk': 2, 'dpdk-pmd': 1, 'thread-safety': 5, 'streamwriter': 2, 'cart': 4, 'neovim': 11, 'treesitter': 2, 'external': 4, 'reportbuilder3.0': 1, 'reportbuilder': 2, 'vs-extensibility': 2, 'azure-virtual-network': 3, 'azure-site-recovery': 2, 'radix-ui': 1, 'azure-managed-identity': 4, 'facebook-ads-api': 1, 'facebook-ads': 2, 'testcase': 3, 'libreoffice-calc': 2, 'android-12': 4, 'cordova-android': 2, 'androidsdk31': 1, 'luau': 1, 'strtotime': 1, 'multiple-input': 1, 'arp': 2, 'indy10': 2, 'delphi-10.4-sydney': 2, 'over-the-air': 1, 'rvalue-reference': 3, 'azure-eventhub': 10, 'azure-eventgrid': 3, 'availability-zone': 1, 'qgis': 7, 'evm': 2, 'python-embedding': 3, 'nginx-ingress': 5, 'syslog': 1, 'winston': 2, 'bitnami': 2, 'cakephp': 2, 'cakephp-4.x': 1, 'pulp': 3, 'large-data': 5, 'glm': 6, 'mixed-models': 6, 'singularity-container': 4, 'nsevent': 1, 'kafka-consumer-api': 7, 'provider': 7, 'box-api': 1, 'ehostunreach': 1, 'buffer': 3, 'splunk': 6, 'eeglab': 1, 'rke': 1, 'rhel7': 1, 'amazon-emr': 2, 'wordsearch': 3, 'contourf': 2, 'imagej': 1, 'fiji': 1, 'user-defined-functions': 8, 'googletrans': 1, 'marklogic-10': 1, 'rocky-os': 3, 'mailto': 2, 'nats.io': 1, 'weather': 2, 'web-audio-api': 4, 'chmod': 3, 'chown': 1, 'emmeans': 1, 'azure-policy': 3, 'foreach': 10, 'operations-research': 1, 'firebird1.5': 1, 'node-firebird': 1, 'ts-mockito': 1, 'imageurl': 1, 'rust-chrono': 1, 'azure-cosmosdb-mongoapi': 2, 'retry-logic': 5, 'gqlgen': 1, 'dashboard': 9, 'web-developer-toolbar': 1, 'packagereference': 1, 'tinymce-5': 3, 'tinymce-plugins': 2, 'solana-web3js': 1, 'solana-transaction-instruction': 1, 'pycord': 4, 'koin-scope': 1, 'percentage': 3, 'ifc': 1, 'pom.xml': 7, 'cucumber-junit': 2, 'android-notification.mediastyle': 2, 'laravel-authentication': 2, 'php-8.2': 5, 'printf': 6, 'ajaxcontroltoolkit': 2, 'subplot': 3, 'repast-simphony': 1, 'ggpattern': 2, 'decorator': 6, 'typescript-decorator': 3, 'android-webview': 6, 'netflix': 2, 'sfsafariviewcontroller': 1, 'log4j2': 5, 'webmethods': 1, 'reactive-streams': 2, 'product-quantity': 2, 'forecast': 1, 'fibonacci': 5, 'aws-certificate-manager': 1, 'highcharts': 12, 'vuedraggable': 1, 'webdriver-io': 10, 'google-sheets-api': 10, 'bslib': 1, 'components': 18, 'azure-devops-extensions': 2, 'logstash': 4, 'logstash-grok': 2, 'gcloud': 6, 'nanopb': 1, 'transform': 7, 'spring-test-dbunit': 1, 'python-sockets': 1, 'texas-instruments': 1, 'code-completion': 1, 'elixirls': 1, 'cannon.js': 1, 'bokeh': 4, 'confluence': 3, 'rnaturalearth': 1, 'sql-timestamp': 1, 'agile': 1, 'decoding': 3, 'crc': 1, 'semaphore': 2, 'wp-nav-walker': 1, 'wp-nav-menu-item': 1, 'uwp-navigation': 1, 'c++11': 20, 'condition-variable': 2, 'data-preprocessing': 4, 'image-preprocessing': 2, 'jax-ws': 1, 'xjc': 1, 'laravel-6': 1, 'std-ranges': 4, 'auto-vectorization': 1, 'v-autocomplete': 2, 'text-mining': 1, 'sentiment-analysis': 3, 'goland': 5, 'twitter': 12, 'appwrite': 3, 'open-liberty': 2, 'coreml': 1, 'coremltools': 1, 'azure-feature-manager': 1, 'gnome-terminal': 1, 'viewmodel': 5, 'android-adapter': 1, 'riot-games-api': 1, 'w3c': 3, 'docker-swarm': 5, 'dspace': 3, 'gpgpu': 3, 'envoyproxy': 3, 'osgi': 5, 'formik': 4, 'autolisp': 1, 'difflib': 2, 'ethereum': 14, 'touch': 1, 'touch-event': 1, 'abort': 1, 'g++': 10, 'moment-timezone': 1, 'destructuring': 1, 'duplicity': 1, 'duplicity-backup': 1, 'flutter-sliver': 1, 'flutter-sliverappbar': 1, 'amazon-ses': 5, 'process.start': 2, 'catplot': 2, 'countplot': 2, 'nearprotocol': 1, 'thanos': 1, 'business-intelligence': 1, 'drop-duplicates': 1, 'svelte-store': 1, 'flutter-list-tile': 1, 'sublist': 1, 'google-maps-api-2': 2, 'paramiko': 2, 'cisco': 1, 'wireshark': 7, 'key-bindings': 2, 'web-api-testing': 5, 'azure-durable-functions': 2, 'aws-codeartifact': 1, 'fxml': 3, 'slicers': 2, 'smartphone': 1, 'cloud-document-ai': 1, 'netcdf4': 2, 'browser-console': 1, 'azure-devops-wiki': 1, 'tensorflow-lite': 5, 'symfony3.x': 1, 'symfony-messenger': 1, 'export': 12, 'properties-file': 1, 'pdfkit': 1, 'swissqrbill': 1, 'document-loader': 1, 'java-native-interface': 4, 'addr2line': 1, 'fragment-shader': 1, 'vertex-shader': 2, 'ogl': 1, 'firebase-tools': 6, 'google-cloud-vision': 3, 'esp32': 20, 'dokan': 2, 'esp8266wifi': 2, 'regex-lookarounds': 4, 'regex-negation': 4, 'ebpf': 4, 'bcc-bpf': 2, 'libbpf': 2, 'subquery': 8, 'where-clause': 7, 'mat-autocomplete': 2, 'ngx-infinite-scroll': 1, 'oracle12c': 1, 'android-gradle-plugin': 13, 'dependencies': 6, 'file-permissions': 4, 'vscode-devcontainer': 6, 'unix': 14, 'hashicorp': 1, 'prolog': 2, 'whenever': 1, 'pdflatex': 3, 'yarn-v2': 3, 'dao': 3, 'ktorm': 1, 'javac': 3, 'nuxt-content': 2, 'heapq': 1, 'embedded-jetty': 1, 'azure-maps': 1, 'abp': 6, 'network-interface': 1, 'assets': 6, 'flutter-assetimage': 1, 'typescript-language-server': 1, 'codeigniter-4': 6, 'callkit': 2, 'cloudbees': 1, 'nlb': 1, 'kubernetes-networking': 1, 'ingress-nginx': 3, 'jsonschema': 5, 'jsf': 7, 'primefaces': 3, 'oculusquest': 3, 'ngx-charts': 3, 'file-transfer': 1, 'django-channels': 2, 'nsis': 2, 'cpack': 1, 'influxdb': 4, 'flux': 2, 'ruby-on-rails-5': 4, 'ruby-hash': 1, 'cloud-init': 3, 'v-for': 1, 'prometheus-alertmanager': 6, 'promtail': 2, 'neovim-plugin': 2, 'amazon-qldb': 2, 'flask-wtforms': 4, 'syntax-highlighting': 6, 'statusbar': 3, 'minimization': 1, 'scipy-optimize-minimize': 2, 'initialization': 12, 'captiveportal': 2, 'restsharp': 5, 'freshdesk': 3, 'mongoose-populate': 1, 'universal': 2, 'ascii': 8, 'slack': 7, 'spring-cloud': 7, 'spring-cloud-netflix': 1, 'pnp-js': 2, 'msw': 3, 'slack-api': 4, 'strip': 1, 'overloading': 4, 'f5': 1, '400-bad-request': 2, 'serde': 4, 'reqwest': 1, 'curve-fitting': 3, 'bloom-filter': 1, 'redis-stack': 1, 'xml-deserialization': 1, 'datacontractserializer': 1, 'laragon': 2, 'apache-arrow': 4, 'using': 2, 'inherited-constructors': 1, 'kotlin-lateinit': 1, 'nlohmann-json': 1, 'criteria-api': 2, 'criteriaquery': 1, 'web-development-server': 3, 'setstate': 5, 'rerender': 1, 'nis': 1, 'heredoc': 2, 'apache-fop': 1, 'c++builder': 4, 'alias': 3, 'naudio': 1, 'python-dataclasses': 4, 'sap-fiori': 4, 'c++23': 2, 'stdoptional': 3, 'flutter-ffmpeg': 1, 'one-hot-encoding': 2, 'qmake': 1, 'definition': 1, 'saprfc': 1, 'sapnwrfc': 1, 'codesign': 2, 'xml-parsing': 7, 'html-helper': 2, 'editorfor': 1, 'openstack': 6, 'testcafe': 3, 'reliability': 1, 'pymssql': 1, 'gesturedetector': 1, 'client-certificates': 3, 'spring-retry': 1, 'apex': 8, 'salesforce-lightning': 9, 'soql': 2, 'aws-code-deploy': 6, 'nohup': 2, 'newline': 7, 'carriage-return': 2, 'linefeed': 1, 'scatter-plot': 6, 'plotly.js': 3, 'rpgle': 1, 'rpg': 1, 'batch-processing': 7, 'remote-access': 1, 'pgadmin-4': 5, 'aws-secrets-manager': 1, 'dependency-resolver': 2, 'scene': 1, 'ipados': 1, 'libgdx': 2, 'robovm': 1, 'ml': 1, 'sequence': 6, 'django-rest-framework-simplejwt': 3, 'djoser': 3, 'social-auth-app-django': 2, 'react-hook-form': 15, 'face-detection': 4, 'flutter-image-picker': 1, 'mwaa': 1, 'xts': 2, 'manim': 2, 'non-ascii-characters': 2, 'idn': 1, 'aspxgridview': 3, '.net-core-3.1': 1, 'encryption-symmetric': 2, 'react-native-keychain': 1, 'windows-server-2012': 1, 'high-availability': 3, 'pacemaker': 1, 'corosync': 1, 'canvas': 25, 'abstraction': 3, 'windows-defender': 1, 'git-clone': 2, 'refactoring': 2, 'thunderclient': 3, 'next-intl': 3, 'dump': 4, 'stm32cubeide': 3, 'nucleo': 1, 'role-base-authorization': 3, 'claims-authentication': 1, 'react-native-navigation': 2, 'starlette': 1, 'background-color': 5, 'activeadmin': 1, 'dompdf': 2, 'jitpack': 2, 'minimax': 2, 'nim-game': 1, 'ownership': 1, 'paho': 1, 'apache-httpasyncclient': 1, 'manual-testing': 1, 'httpclient': 11, 'istio': 9, 'api-gateway': 6, 'kubeflow-kserve': 1, 'express-validator': 2, 'twilio-programmable-chat': 1, 'kivymd': 6, 'informatica-powercenter': 3, 'android-wifi': 2, '.net-4.5': 2, 'flutter-network': 1, 'chain': 1, 'ebextensions': 1, 'hook': 5, 'swift-composable-architecture': 1, 'restore': 6, 'volume': 1, 'worksheet-function': 3, 'android-automotive': 3, 'docker-image': 2, 'npm-vulnerabilities': 1, 'auto-increment': 1, 'expo-build': 1, 'pandasgui': 1, 'postmessage': 1, 'mysql-error-1045': 1, 'resampling': 1, 'jython': 1, 'utl-file': 1, 'nestjs-typeorm': 13, 'react-select': 8, 'react-data-table-component': 2, 'bootstrap-4': 12, 'tooltip': 7, 'sparklines': 1, 'inputformatter': 1, 'scale': 3, 'closedxml': 1, 'unobtrusive-ajax': 1, 'decimal-point': 1, 'ref': 2, 'dereference': 3, 'wiki': 1, 'fuzzy-search': 1, 'fuzzy-comparison': 1, 'autodesk-inventor': 1, 'forward': 3, 'google-secret-manager': 3, 'keytool': 2, 'bevy': 2, 'xslt-1.0': 3, 'pyopengl': 4, 'youtube-api': 14, 'border': 3, 'python-docx': 2, 'heading': 1, 'horizontal-line': 1, 's3cmd': 1, 'higher-order-functions': 1, 'py-telegram-bot-api': 1, 'jakarta-migration': 2, 'queue': 4, 'compute-shader': 1, 'color-space': 2, 'typescript-eslint': 3, 'eslint-rule-schema': 1, 'immutability': 4, 'tfsbuild': 1, 'azure-devops-server-2019': 1, 'pimcore': 4, 'nunit': 4, 'pyside6': 5, 'compose-recomposition': 3, 'mingw-w64': 5, 'prestashop-1.7': 1, 'prestashop-modules': 1, 'google-cloud-workstations': 1, 'cmakelists-options': 2, 'bitbucket-aws-code-deploy': 2, 'yolov8': 8, 'shinyapps': 3, 'global-scope': 1, 'thirdweb': 3, 'fso': 1, 'prettier': 6, 'prettier-eslint': 1, 'prettier-vscode': 1, 'prettier-standard': 1, 'azure-data-studio': 3, 'fivem': 1, 'ocrmypdf': 1, 'devtools': 2, 'liquibase-hibernate': 1, 'clickhouse-backup': 1, 'aix': 2, 'spss': 5, 'index-match': 2, 'raku': 2, 'aws-step-functions': 7, 'jtree': 1, 'textcolor': 1, 'syntax-error': 8, 'google-cloud-sql': 5, 'codenameone': 2, 'ethers.js': 7, 'browserify': 1, 'sankey-diagram': 3, 'holoviews': 1, 'borrow-checker': 8, 'refcell': 1, 'functional-interface': 1, 'azure-queues': 2, 'qt-creator': 2, 'mds': 1, 'counting': 1, 'int': 1, 'jsonparser': 4, 'magento': 5, 'magento2': 6, 'optaplanner': 2, 'anaconda3': 4, 'opencsv': 1, 'vsto': 1, 'google-cloud-pubsub': 7, 'httpd.conf': 3, 'partial-matches': 1, 'html-to-pdf': 2, 'next-redux-wrapper': 1, 'release': 5, 'this': 3, 'x86-16': 1, 'dos': 1, 'dosbox': 1, 'php-8': 3, 'postgresql-15': 1, 'splash-screen': 3, 'android-theme': 1, 'android-splashscreen': 2, 'ng-bootstrap': 1, 'transfer': 2, 'bep20': 1, 'azure-b2c': 5, 'azure-oauth2': 1, 'react-native-dropdown-picker': 1, 'identityserver3': 1, 'partitioning': 1, 'metal': 4, 'eigen': 1, 'assertion': 4, 'asp.net-minimal-apis': 3, 'quarkus-jpa': 1, 'web-component': 4, 'lit': 1, 'lit-html': 1, 'jooq': 2, 'vultr': 1, 'spring-cloud-dataflow': 1, 'spring-cloud-task': 1, 'sony': 1, 'libgphoto2': 1, 'anomaly-detection': 1, 'isolation-forest': 1, 'dataform': 3, 'google-bigquery-dataform': 1, 'nsattributedstring': 2, 'workbox': 1, 'vue-pwa': 1, 'glfw': 6, 'health-check': 2, 'mixed-mode': 1, 'xquery-3.1': 1, 'bdd': 3, 'apache-calcite': 2, 'azure-storage-queues': 1, 'replication': 5, 'fbsdk': 1, 'react-native-fbsdk-next': 1, 'nano': 1, 'mozilla': 1, 'integer-promotion': 1, 'auto-generate': 3, 'api-documentation': 1, 'w3c-validation': 1, 'django-allauth': 3, 'comments': 3, 'frappe-charts': 1, 'vcpkg': 6, 'jose': 1, 'nonetype': 3, 'unity-ui': 4, 'rspec-rails': 2, 'hotwire-rails': 1, 'anchor': 4, 'preg-match-all': 2, 'sendgrid': 7, 'volume-shadow-service': 1, 'geospatial': 7, 'azure-cost-calculation': 1, 'gridextra': 1, 'clipboard': 4, 'rpsystembroadcastpickerview': 1, 'archlinux': 3, 'window-managers': 1, 'pthreads': 6, 'ngrx-effects': 3, 'post-processing': 2, 'iis-6': 1, 'cx-oracle': 3, 'z3': 1, 'z3py': 1, 'sbv': 1, 'pyexz3': 1, 'c#-4.0': 4, 'bitmap': 2, 'data-corruption': 1, 'gallery': 2, 'local-variables': 5, 'rocket.chat': 2, 'sqlconnection': 2, 'data-import': 1, 'concurrenthashmap': 1, 'dynamics-nav': 1, 'using-statement': 1, 'manualresetevent': 1, 'xcode15': 4, 'url-parameters': 1, 'gtk-rs': 2, 'initrd': 1, 'initramfs': 1, 'sparql': 3, 'wikidata': 1, 'wikidata-query-service': 1, 'vercel-ai': 1, 'udeploy': 1, 'early-stopping': 1, 'c#-3.0': 3, 'idris': 1, 'django-csrf': 2, 'encapsulation': 3, 'xmlmapper': 3, 'postgresql-11': 1, 'arrow-functions': 1, 'injectable': 1, 'pbs': 2, 'pentaho-data-integration': 3, 'electronic-signature': 1, 'xlsxwriter': 2, 'desktop': 8, 'flutterflow': 9, 'noclassdeffounderror': 2, 'mpi': 5, 'valgrind': 2, 'height': 3, 'telescope': 1, 'fluentvalidation': 7, 'wget': 2, 'tbitmap': 1, 'maven-plugin': 2, 'console.log': 4, 'aptana3': 1, 'backdrop': 1, 'jodit': 1, 'rtp': 2, 'stale': 1, 'simulator': 2, 'beta': 1, 'pimpl-idiom': 1, 'github-api': 7, 'github-app': 1, 'github-api-v4': 1, 'virtual': 1, 'delimiter': 3, 'mantine': 2, 'livecharts': 2, 'spannable': 1, 'database-replication': 2, 'liveserver': 3, 'text-processing': 1, 'avahi': 2, 'emqx': 1, 'selenium-firefoxdriver': 2, 'poisson': 1, 'numeric': 3, 'subset-sum': 1, '64-bit': 2, 'masm': 1, 'googletest': 4, 'adaptive-cards': 4, 'artillery': 1, 'spring-logback': 2, 'pdfsharp': 5, 'uipath': 1, 'uipath-studio': 1, 'quartz.net': 4, 'tex-live': 1, 'tlmgr': 1, 'apache-kafka-connect': 5, 'showdialog': 1, 'caddy': 4, 'session-state': 2, 'single-page-application': 4, 'vertical-scrolling': 1, 'informix': 2, 'version-control': 10, 'git-rewrite-history': 3, 'apache-spark-dataset': 1, 'equality': 4, 'exec': 4, 'bytecode': 2, 'azure-sdk-.net': 2, 'vaadin': 8, 'vaadin7': 1, 'vaadin-testbench': 1, 'jetpack-compose-navigation': 2, 'google-reviews': 1, 'python-logging': 3, 'onchange': 3, 'oserror': 1, 'windows-server-2022': 2, 'currency-formatting': 1, 'savon': 1, 'yolov5': 3, 'homescreen': 1, 'windows-scripting': 1, 'jwcrypto': 1, 'building': 1, 'schedule': 1, 'sign-in-with-google': 1, 'hateoas': 1, 'gradle-ssh-plugin': 1, 'odoo-14': 2, 'odoo-enterprise': 1, 'pox': 1, 'dicom': 3, 'pydicom': 3, 'recovery': 3, 'httr': 3, 'plumber': 1, 'pandoc': 3, 'service-worker': 9, 'service-worker-events': 1, 'state-machine': 4, 'spring-statemachine': 2, 'owl': 3, 'inference': 2, 'graphdb': 2, 'knowledge-graph': 2, 'updates': 3, 'mysql-python': 1, 'laravel-middleware': 2, 'laravel-api': 1, 'pylance': 1, 'gsheets': 1, 'software-design': 4, 'saas': 2, 'head': 1, 'uitextview': 1, 'google-cloud-data-fusion': 3, 'wallet': 2, 'passkit': 2, 'pure-virtual': 1, 'fluent': 1, 'fluent-bit': 1, 'http-status-code-401': 1, 'klipfolio': 1, 'crossmint': 1, 'apptainer': 1, 'gantt-chart': 2, 'angular14': 3, 'kendo-gantt': 1, 'mudblazor': 7, 'swr': 2, 'django-cache': 6, 'inno-setup': 5, 'uninstallation': 4, 'sc.exe': 1, 'qtreewidget': 1, 'add-on': 2, 'attributes': 6, 'llama': 14, 'abp.io': 2, 'monitoring': 5, 'zabbix-api': 1, 'swap': 2, 'cryptocurrency': 2, 'xrp': 1, 'textfield': 4, 'textformfield': 1, 'deprecation-warning': 2, 'multipart': 1, 'openwrt': 2, 'data-transfer': 2, 'google-bigquery-storage-api': 1, 'swagger-codegen': 2, 'autoit': 2, 'spring-integration': 3, 'spring-messaging': 1, 'modelica': 7, 'openmodelica': 8, 'fmi': 2, 'vectorization': 5, 'large-files': 3, 'android-edittext': 3, 'android-4.0-ice-cream-sandwich': 1, 'capistrano': 1, 'mfc': 2, 'matomo': 1, 'screen': 5, 'brightness': 1, 'fluentd': 3, 'caret': 1, 'python-c-api': 1, 'cupy': 1, 'apim': 2, 'socat': 2, 'preset': 1, 'ggrepel': 2, 'crm-ribbon-workbench': 1, 'j': 1, 'sha1': 1, 'visualcron': 1, 'phpunit': 7, 'isalpha': 1, 'archunit': 2, 'django-authentication': 2, 'graphql-js': 2, 'kubeflow': 4, 'kubeflow-pipelines': 4, 'xmldocument': 2, 'xmlelement': 1, 'code-snippets': 2, 'adonis.js': 1, 'relative-path': 1, 'pwd': 1, 'spatial': 2, 'clang-format': 2, 'salesforce-marketing-cloud': 3, 'react-leaflet-v3': 1, 'mql5': 3, 'pgvector': 1, 'network-printers': 2, 'githooks': 3, 'husky': 3, 'git-husky': 1, 'line': 1, 'meta-tags': 4, 'react-helmet': 1, 'powerpoint-addins': 1, 'datamatrix': 1, 'comparator': 3, 'hana': 2, 'accumulate': 2, 'vue-cli': 3, 'undefined-reference': 7, 'sunburst-diagram': 1, 'smartgwt': 1, 'sqldatasource': 1, 'xstream': 1, 'storyboard': 4, 'object-literal': 1, 'ansible-role': 1, 'patch': 3, 'normalization': 4, 'youtube-iframe-api': 1, '2d': 9, 'blender-2.67': 1, 'blender-2.76': 1, 'urlencode': 3, 'micronaut-data': 2, 'esbuild': 4, 'mongodb-nodejs-driver': 1, 'reload': 2, 'tap': 1, 'emoji': 3, 'uipageviewcontroller': 1, 'android-file': 1, 'android-media3': 3, 'xss': 2, 'android-compose': 3, 'puppet': 1, 'eyaml': 1, 'profile': 1, 'samsung-mobile': 2, 'cgpdfdocument': 1, 'uigraphicsimagerenderer': 1, 'faker': 1, 'php-faker': 1, 'google-closure-compiler': 1, 'webpack-5': 8, 'external-accessory': 2, 'c-preprocessor': 2, 'azure-data-explorer': 5, 'treenode': 1, 'windows-app-sdk': 2, 'openxava': 1, 'intermittent': 1, 'cache-control': 1, 'aws-data-wrangler': 1, 'powershell-core': 2, 'clickstream': 1, 'cloud-foundry': 2, 'ftp-client': 1, 'grpc-c++': 1, 'image-classification': 5, 'quantization': 1, 'call': 2, 'tailwind-3': 3, 'pandas-rolling': 2, 'serverless-framework': 4, 'serverless-architecture': 1, 'integration-testing': 7, 'abp-framework': 1, 'snowflake-schema': 3, 'laminas': 4, 'spring-aop': 1, 'receipt-validation': 1, 'auto-renewing': 1, 'auto-renewable': 1, 'nested-lists': 4, 'mutable': 3, 'observer-pattern': 2, 'io': 6, 'boost-asio': 8, 'pose-estimation': 2, 'slam': 2, 'volume-rendering': 2, 'iis-7': 1, 'data-integration': 1, 'audio-processing': 3, 'juce': 1, 'terraform-provider-gcp': 4, 'terraform-provider-databricks': 2, 'c++-coroutine': 2, 'laravel-query-builder': 1, 'webpack-dev-server': 5, 'parallax': 1, 'flutter-video-player': 2, 'sentinel': 2, 'redis-sentinel': 3, 'fiware': 2, 'mobx-state-tree': 1, 'cmake-js': 1, 'mesa-abm': 1, 'react-spring': 2, 'http-verbs': 1, 'http-patch': 1, 'file-conversion': 2, 'subclass': 2, 'apollo-cache-inmemory': 1, 'rhel8': 1, 'pgpool': 1, 'persistence': 5, 'relation': 2, 'linode': 2, 'xml-signature': 1, 'camera-flash': 1, 'android-jetpack': 11, 'android-jetpack-navigation': 2, 'face-api': 1, 'symlink': 1, 'hardlink': 1, 'wordpress-gutenberg': 5, 'wordpress-plugin-creation': 4, 'frequency': 4, 'phase': 2, 'page-break': 1, 'artifactory': 4, 'jfrog': 5, 'emulation': 3, 'kali-linux': 10, 'pyvis': 1, 'node-sass': 1, 'fsevents': 1, 'learnr': 1, 'amazon-linux-2': 3, 'cad': 2, 'pythonocc': 1, 'getstream-io': 2, 'wagmi': 3, 'readability': 1, 'stringi': 3, 'max': 3, 'ecdsa': 3, 'ngx-editor': 1, 'react-google-charts': 1, 'python-re': 2, 'mulesoft': 11, 'pattern-matching': 4, 'shortest-path': 1, 'imagemagick': 6, 'inkscape': 1, 'mcl': 1, 'angular-leaflet-directive': 1, 'mudselect': 1, 'polylang': 3, 'visual-studio-2015': 3, 'ruby-on-rails-6': 3, 'spring-cloud-gateway': 4, 'plpgsql': 4, 'upsert': 1, 'supabase-database': 4, 'shinywidgets': 2, 'shinytree': 1, 'receiver': 1, 'shared-libraries': 3, 'read-eval-print-loop': 1, 'postgrest': 1, 'scp': 1, 'react-google-maps': 1, 'twincat-hmi': 1, 'llama-cpp-python': 3, 'coverlet': 1, 'doccano': 1, 'docker-registry': 3, '.net-framework-version': 3, 'tcsh': 1, 'typesense': 2, 'execution-time': 1, 'mp4parser': 1, 'interactive': 1, 'rider': 5, 'jetbrains-rider': 1, 'spectre.console': 1, 'plesk': 4, 'coder': 1, 'musl': 2, 'video-processing': 4, 'video-watermarking': 1, 'qml': 13, 'typescript-types': 1, 'server-sent-events': 2, 'post-increment': 1, 'postfix-operator': 1, 'flutter-module': 1, 'recursive-descent': 1, 'intersection': 3, 'ibm-odm': 1, 'unreal-engine4': 3, 'unreal-engine5': 5, 'konva': 3, 'jspsych': 1, 'datastax-csharp-driver': 1, 'apache-storm': 3, 'apache-storm-topology': 2, 'apache-storm-configs': 2, 'signalr': 8, 'androidx': 1, 'react-native-reanimated': 4, 'supertest': 2, 'self-reference': 2, 'sentence-transformers': 2, 'ckeditor5': 8, 'xtext': 1, 'xtend': 1, 'language-server-protocol': 3, 'android-sqlite': 2, 'sqflite': 2, 'cluster-computing': 3, 'p4a': 1, 'directquery': 2, 'metallb': 2, 'dtplyr': 1, 'compression': 7, 'battery-saver': 1, 'partition-by': 1, 'backslash': 2, 'strategy-pattern': 1, 'react-konva': 2, 'add-references-dialog': 1, 'healthkit': 1, 'hippomocks': 1, 'archive': 3, 'esmodules': 2, 'delegates': 3, 'scala-3': 3, 'opaque-types': 1, 'amazon-vpc': 6, 'config': 9, 'pg-notify': 1, 'visual-studio-2008': 1, 'data-binding': 6, 'attr': 1, 'hdfs': 5, 'datanode': 1, 'cobol': 2, 'jcl': 1, 'synology': 2, 'wildcard': 3, 'abap-adt': 2, 'one-time-password': 2, 'two-factor-authentication': 3, 'tailscale': 1, 'character': 7, 'posixlt': 1, 'roslyn-code-analysis': 2, 'azure-openai': 8, 'systemctl': 3, 'deadlock': 2, 'criteriabuilder': 1, 'googlemock': 1, 'redisinsights': 2, 'linux-device-driver': 5, 'kernel-module': 3, 'adc': 3, 'iio': 1, 'aws-security-group': 3, 'ingress-controller': 2, 'aws-nlb': 2, 'getter': 3, 'vscodevim': 2, 'linkageerror': 2, 'realitykit': 2, 'eway': 1, 'base-url': 1, 'android-seekbar': 2, 'imagemagick-convert': 1, 'ipv6': 4, 'runner': 2, 'localization': 10, 'culture': 1, 'production': 3, 'angular-upgrade': 1, 'string-literals': 2, 'quoting': 2, 'std': 5, 'airflow-xcom': 2, 'readfile': 1, 'data-warehouse': 2, 'dsl': 2, 'eql': 1, 'google-play-services': 6, 'html5-audio': 3, 'mediastream': 4, 'mediarecorder-api': 2, 'apollo-server': 4, 'dataloader': 1, 'apollo-federation': 1, 'djongo': 2, 'significance': 2, 'roundcube': 1, 'log-rotation': 1, 'copy-paste': 5, 'blending': 2, 'alphablending': 2, 'data-generation': 1, 'guzzle': 1, 'speechbrain': 1, 'image-rotation': 1, 'php-gd': 1, 'heap-memory': 4, 'telerik-reporting': 3, 'cs-cart': 1, 'task-queue': 1, 'kudu': 1, 'xfs': 1, 'timescaledb': 3, 'hyperledger-fabric': 1, 'hyperledger': 3, 'hyperledger-chaincode': 1, 'hyperledger-fabric-orderer': 1, 'rss': 2, 'feed': 1, 'rome': 1, 'flutter-scaffold': 1, 'jinja2-cli': 1, 'debezium': 5, 'cdc': 3, 'listtile': 1, 'quantitative-finance': 3, 'highlight.js': 1, 'block-cipher': 1, 'rgb': 4, 'color-management': 1, 'xyz': 2, 'colortransform': 1, 'html-webpack-plugin': 1, 'freemarker': 2, 'megamenu': 2, 'android-lifecycle': 1, 'android-viewbinding': 2, 'substitution': 1, 'connectexception': 1, 'phaser-framework': 2, 'phaserjs': 2, 'mapbox-ios': 2, 'square': 2, 'mat-dialog': 3, 'privacy-policy': 2, 'node-telegram-bot-api': 1, 'yarn-workspaces': 2, 'flutter-release': 1, 'syntactic-sugar': 2, 'model-view': 1, '5g': 2, 'google-api-php-client': 1, 'android-mediaplayer': 4, 'android-anr-dialog': 2, 'anr': 2, 'http-proxy': 2, 'libraries': 3, 'codesandbox': 1, 'react-library': 1, 'eslint-config-airbnb': 1, 'configmap': 4, 'gcov': 1, 'display': 8, 'imx8': 1, 'weston': 1, 'angular11': 1, 'pdfa': 2, 'android-vectordrawable': 2, 'r-exams': 1, 'openolat': 1, 'code-push': 1, 'bind-variables': 1, 'mat-card': 1, 'webdriver-io-v4': 1, 'vue-konva': 1, 'resultset': 1, 'angular12': 3, 'zipper': 1, 'ibm-watson': 2, 'machine-translation': 3, 'google-speech-to-text-api': 1, 'amazon-translate': 1, 'unityscript': 8, 'themeprovider': 1, 'url-routing': 4, 'binance': 6, 'inkcanvas': 1, 'robocopy': 1, 'shfb': 1, 'spoofing': 2, 'mouse': 7, 'otrs': 1, 'listbox': 4, 'cxf': 2, 'xml-dsig': 1, 'infragistics': 1, 'rendering': 4, 'extended-events': 1, 'nivo-react': 1, 'amazon-route53': 5, 'interceptor': 4, 'code-behind': 1, 'rdlc': 2, 'asp.net-mvc-4': 3, 'iis-express': 2, 'questdb': 1, 'boost-stacktrace': 1, 'resnet': 2, 'webp': 1, 'wmi-query': 1, 'git-lfs': 1, 'text-recognition': 1, 'variadic-functions': 1, 'variadic': 1, 'sound-recognition': 1, 'sharepoint-list': 2, 'opengl-es': 3, 'fopen': 1, 'rsacryptoserviceprovider': 1, 'ryu': 1, 'eel': 1, 'settimeout': 1, 'stopwatch': 2, 'flutter-design': 2, 'cdf': 1, 'change-data-capture': 4, 'mongoid': 1, 'paperclip': 2, 'git-api': 1, 'velo': 3, 'automake': 3, 'icu': 2, 'winpcap': 1, 'go-fiber': 2, 'powerbi-datasource': 3, 'google-api-java-client': 1, 'excel-tables': 2, 'react-navigation': 12, 'instance-variables': 2, 'attr-accessor': 1, 'mustache': 3, 'text-rendering': 1, 'mustache-sharp': 1, 'pygame-surface': 2, 'shopware': 6, 'android-download-manager': 1, 'android-sdk-2.3': 1, 'download-manager': 1, 'android-version': 1, 'angular-router-guards': 1, 'httpconnection': 1, 'nox': 3, 'minimum-spanning-tree': 1, 'apache-drill': 1, 'aql': 2, 'bookmarks': 1, 'location-href': 1, 'mfi': 1, 'connect': 1, 'flip': 1, 'dom-manipulation': 1, 'nest': 7, 'apache-ranger': 2, 'laravel-filament': 7, 'unpack': 1, 'nodejs-server': 2, 'resilience4j': 4, 'bulkhead': 1, 'data-layers': 1, 'mdbootstrap': 1, 'wpf-controls': 2, 'string-comparison': 2, 'textmeshpro': 2, 'drive': 2, 'libssh2': 1, 'prisma-graphql': 1, 'repeat': 4, 'citus': 1, 'geography': 1, 'gltf': 1, 'satellite': 1, 'duende': 1, 'release-builds': 1, 'neo4jclient': 1, 'reset-password': 1, 'private-key': 3, 'excel-interop': 2, 'or-tools': 2, 'cp-sat-solver': 2, 'ml.net-model-builder': 1, 'netmiko': 2, 'wtforms': 1, 'mocha.js': 9, 'openxlsx': 3, 'aws-vpn': 2, 'centos': 7, 'sandbox': 1, 'maya-business': 1, 'iphone-x': 1, 'admob-rewardedvideoad': 1, 'aws-cli': 7, 'max-heap': 1, 'knockout.js': 1, 'e-commerce': 7, 'magento2.4': 2, 'mailmerge': 2, 'docx-mailmerge': 1, 'azure-static-web-app': 5, 'tensorflow2': 1, 'array-formulas': 1, 'tcpdump': 3, 'sketchup': 1, '3ds': 1, 'broker': 1, 'app-store-connect': 3, 'bean-io': 1, 'fixed-length-record': 1, 'keras-layer': 2, 'wkwebview': 3, 'getusermedia': 1, 'mac-catalyst': 3, 'mediadevices': 1, 'pyopenssl': 1, 'extentreports': 2, 'free': 3, 'unreal': 1, 'kong': 5, 'openresty': 1, 'class-diagram': 1, 'system-design': 4, 'angular9': 1, 'angular-library': 3, 'ng-packagr': 1, 'prefix': 1, 'docker-buildkit': 2, 'jwk': 1, 'material-design': 2, 'searchbar': 2, 'relative-import': 1, 'web3py': 2, 'bsc': 3, 'bulkinsert': 2, 'abaqus': 1, 'select-for-update': 1, 'seekbar': 1, 'scheduling': 4, 'fscalendar': 1, 'keras-tuner': 2, 'calculator': 4, 'windows-10-desktop': 1, 'word-interop': 2, 'kotlin-stateflow': 4, 'cracking': 1, 'point-of-sale': 2, 'r-haven': 2, 'r-labelled': 1, 'carplay': 2, 'agora': 1, 'netezza': 1, 'erb': 1, 'firefox-addon': 4, 'resize': 3, 'channel': 5, 'grayscale': 2, 'python-importlib': 1, 'dynamic-import': 1, 'jasper-reports': 6, 'encode': 2, 'animator': 1, 'dllnotfoundexception': 1, 'go-chi': 1, 'callable-object': 1, 'versioning': 3, 'controlsfx': 1, 'julia-jump': 2, 'countif': 3, 'correspondence-analysis': 1, 'react-native-maps': 2, 'read.csv': 3, '3dsmax': 2, 'maxscript': 1, 'curve': 1, 'bezier': 2, 'stream-analytics': 1, 'sbcl': 3, 'parent-child': 2, 'mobile-website': 1, 'postgis': 4, 'aws-elb': 1, 'rust-axum': 1, 'tensorflow-datasets': 1, 'seq2seq': 2, 'sbatch': 2, 'supercomputers': 1, 'power-virtual-agents': 2, 'new-operator': 3, 'kml': 2, 'caddyfile': 1, 'cloudflare-pages': 2, 'geom-point': 1, 'typo3-extensions': 1, 'django-i18n': 1, 'amazon-rds-proxy': 1, 'vscode-remote': 7, 'cerberus': 1, 'large-language-model': 6, 'termux': 5, 'shadowing': 2, 'tensorflow.js': 3, 'bodypix': 1, 'wechat-miniprogram': 1, 'power-bi-report-server': 1, 'aem-6': 1, 'on-premises-instances': 1, 'contextmanager': 3, 'tostring': 2, 'multiple-monitors': 1, 'google-chrome-storage': 1, 'textarea': 2, 'jquery-ui-datepicker': 1, 'entitymanager': 1, 'gaps-and-islands': 3, 'python-sphinx': 3, 'read-the-docs': 1, 'symbolicatecrash': 1, 'azure-iot-hub': 5, 'huggingface-datasets': 2, 'static-linking': 1, 'stdstring': 1, 'avaudioplayer': 2, 'tinytex': 1, 'python-bytearray': 1, 'text-decoding': 1, 'spring-test': 2, 'tokio': 3, 'csproj': 2, 'hour': 2, 'corretto': 1, 'shpaml': 1, 'httprequest': 5, 'grafana-api': 2, 'newsapi': 2, 'imei': 1, 'direct3d11': 2, 'spark-structured-streaming': 10, 'databricks-autoloader': 2, 'photon': 3, 'postgresql-14': 5, 'adblock': 2, 'ublock-origin': 1, 'password-protection': 1, 'jpype': 2, 'unixodbc': 1, 'eventhub': 3, 'yolov7': 3, 'kill': 2, 'branch.io': 2, 'footer': 1, 'ctest': 1, 'heartrate': 1, 'pyd': 1, 'confluent-kafka-dotnet': 2, 'targetprocess': 1, 'undefined-behavior': 4, 'pong': 1, 'ios-shortcut': 1, 'cheerp': 1, 'blessed': 1, 'filepond': 4, 'pytest-django': 1, 'spring-cloud-config-server': 1, 'future': 2, 'intel-fortran': 2, 'tk-toolkit': 1, 'docusaurus': 2, 'spfx': 1, 'comparison': 1, 'textinput': 2, 'react-native-textinput': 1, 'getopt': 2, 'flutter-streambuilder': 3, 'onscroll': 1, 'setter': 1, 'automatic-properties': 1, 'bgp': 1, 'introspection': 1, 'entry-point': 1, 'malware': 4, 'command-prompt': 5, 'armv8': 2, 'svc': 1, 'ds-5': 1, 'messenger': 1, 'wifimanager': 1, 'dune': 1, 'dune-analytics': 1, 'youtube-data-api': 10, 'asp.net-core-identity': 2, 'coc.nvim': 1, 'bing-maps': 2, 'unidata': 1, 'seeeduino': 1, 'ktable': 3, 'zone.js': 1, 'peer-dependencies': 2, 'parameter-pack': 1, 'lto': 1, 'dotnet-counters': 1, 'pixelmatch': 1, 'google-search-console': 5, 'task-parallel-library': 2, 'tpl-dataflow': 1, 'python-behave': 2, 'android-navigation-bar': 2, 'dioxus': 1, 'tdataset': 1, 'embedding': 4, 'pytorch-geometric': 6, 'taxonomy-terms': 6, 'migrate': 2, 'kendo-asp.net-mvc': 1, 'telerik-mvc': 1, 'responsive': 8, 'fullscreen': 1, 'mui-x-date-picker': 4, 'memory-efficient': 1, 'oracle-bi': 1, 'google-admin-sdk': 3, 'stable-diffusion': 6, 'fluent-ffmpeg': 1, 'tinymce-6': 2, 'python-3.2': 1, 'dynamic-variables': 1, 'saml': 4, 'okta': 6, 'google-drive-shared-drive': 5, 'mojarra': 1, 'gnome-shell': 1, 'gnome-shell-extensions': 1, 'gnome-3': 1, 'ganache': 1, 'loadimage': 1, 'spinlock': 2, 'php-shorttags': 1, 'systemd-journald': 1, 'azure-dns': 1, 'coinpayments-api': 1, 'graph-neural-network': 3, 'tensorflow-gnn': 2, 'qweb': 1, 'chron': 1, 'headless-ui': 2, 'zlib': 1, 'tableau-api': 3, 'expression': 6, 'iif': 1, 'size': 1, 'android-spinner': 1, 'onitemclicklistener': 1, 'onitemselectedlistener': 1, 'ibm-cloud': 1, 'ibm-cloud-infrastructure': 1, 'minute': 1, 'combining-marks': 1, 'grammar': 2, 'tmlanguage': 1, 'sublime-syntax': 1, 'vistime': 1, 'java-http-client': 1, 'a2hs': 1, 'pdf-generation': 6, 'ruby-grape': 2, 'winsock': 1, 'winsock2': 1, 'qos': 1, 'sql-merge': 1, 'http-status-code-405': 4, 'spring-data-jdbc': 1, 'cognos-11': 1, 'flarum': 1, 'loading': 3, 'revenuecat': 3, 'twiki': 1, 'yfinance': 1, 'stock-data': 1, 'endianness': 2, 'ntfs': 2, 'richfaces': 1, 'seam': 1, 'rust-sqlx': 3, 'axum': 1, 'mit-scratch': 1, 'turbolinks': 2, 'background-audio': 1, 'turbo-android': 1, 'boost-interprocess': 1, 'julia-dataframe': 1, 'swiftui-navigationview': 3, 'swiftui-navigationstack': 1, 'charset': 2, 'powershell-3.0': 1, 'apache-synapse': 1, 'sudo': 4, 'warnings': 5, 'logistic': 3, 'binary-data': 1, 'glmm': 4, 'overdispersion': 1, 'xstate': 1, 'c#-7.0': 2, 'unix-socket': 1, 'daphne': 1, 'formatting': 10, 'framemaker': 1, 'editorjs': 1, 'amazon-waf': 2, 'event-tracking': 2, 'utm': 1, 'dmx512': 1, 'nearest-neighbor': 2, 'swiftui-ontapgesture': 1, 'swiftui-gridrow': 1, 'orbeon': 1, 'backstage': 1, 'having': 1, 'yarnpkg': 4, 'postcss': 1, 'metadata': 9, 'redcarpet': 1, 'dynamodb-queries': 4, 'domain-driven-design': 8, 'onesignal': 2, 'flutter-notification': 2, 'endpoint': 2, 'azure-batch': 3, 'scoring': 1, 'hierarchy': 3, 'static-web-apps': 1, 'hugo-theme': 1, 'wizard': 3, 'required': 3, 'dialogflow-es': 3, 'sql-server-2022': 1, 'stringr': 5, 'gsub': 4, 'huggingface-tokenizers': 3, 'openai-whisper': 4, 'flutter-hive': 2, 'oracle-sql-data-modeler': 1, 'drawer': 3, 'identity-management': 3, 'pysimplegui': 3, 'actioncable': 2, 'collation': 1, 'image-size': 1, 'swift-package-manager': 2, 'nimbus-jose-jwt': 1, 'tonic': 1, 'avr': 4, 'rdf': 4, 'rdflib': 2, 'decompiling': 1, 'unity-components': 1, 'advanced-search': 1, 'csp': 3, 'google-tag-manager-server-side': 1, 'etcd': 1, 'etcdctl': 1, 'gam': 2, 'innerhtml': 2, 'createelement': 1, 'devexpress-windows-ui': 1, 'microsoft-identity-platform': 1, 'eventtrigger': 3, 'wso2-micro-integrator': 2, 'reactive-programming': 2, 'quarkus-panache': 2, 'observableobject': 1, 'instance': 1, '.net-4.6': 1, 'camel-rest': 1, 'google-cloud-spanner': 4, 'lapply': 8, 'video-capture': 4, 'bitmapimage': 2, 'webcam-capture': 2, 'axelar': 1, 'asciidoc': 1, 'text-formatting': 2, 'd3-force': 1, 'list-manipulation': 1, 'lua-table': 1, 'logrocket': 1, 'android-billing': 1, 'long-format-data': 1, 'wide-format-data': 1, 'mailgun': 1, 'imaplib': 3, 'email-client': 1, 'accessibilityservice': 4, 'google-developers-console': 3, 'fastify': 3, 'github-desktop': 1, 'android-keystore': 1, 'android-identifiers': 1, 'big-o': 3, 'flutter-appbar': 3, 'calendar': 7, 'memberpress': 1, 'sybase': 1, 'language-model': 1, 'tableau-cloud': 3, 'ihttpclientfactory': 1, 'websphere': 2, 'react-flow': 4, 'tflite': 3, 'non-maximum-suppression': 1, 'azure-powershell': 5, 'regex-replace': 1, 'pid-controller': 2, 'rich': 1, 'supabase-py': 1, 'createuser': 1, 'aws-iam-identity-center': 1, 'delta-live-tables': 5, 'apollo': 6, 'neo4j-ogm': 2, 'applicationcontext': 1, 'git-status': 1, 'elasticsearch-aggregation': 3, 'elasticsearch-dsl': 9, 'spotify': 3, 'data-partitioning': 1, 'raw-ethernet': 1, 'monitor': 1, 'azure-monitoring': 2, 'azure-alerts': 1, 'binaryfiles': 1, 'threadpool': 3, 'threadpoolexecutor': 2, 'midi': 2, 'resteasy': 3, 'ucp': 1, 'firefox-headless': 1, 'google-data-catalog': 1, 'gitlab-ci.yml': 4, 'azure-form-recognizer': 2, 'cloud-storage': 1, 'storage-access-framework': 1, 'nspasteboard': 1, 'writer': 1, 'mingw32': 2, 'mailkit': 1, 'robot': 2, 'saml-2.0': 5, 'query-by-example': 1, 'codec': 2, 'preg-replace': 2, 'regex-group': 1, 'pty': 2, 'mpg123': 1, 'alamofire': 2, 'windows-task-scheduler': 2, 'mediarecorder': 3, 'recording': 2, 'html-lists': 3, 'git-pull': 1, 'git-remote': 1, 'mounted-volumes': 1, 'router': 1, 'slash': 1, 'kdb': 4, 'mongodb-.net-driver': 3, 'local-network': 1, 'state-management': 5, 'google-earth-engine': 8, 'similarity': 2, 'urlsession': 1, 'v2ray': 1, 'freeze': 2, 'javascript-debugger': 1, 'dataview': 1, 'amazon-dynamodb-index': 2, 'blur': 1, 'card': 1, 'color-palette': 1, 'ggfortify': 1, 'autoplot': 1, 'oscilloscope': 1, 'outer-join': 2, 'multi-select': 4, 'email-notifications': 1, 'shipping-method': 2, 'metrics': 5, 'database-performance': 2, 'database-management': 1, 'jetson-xavier': 2, 'getattribute': 1, 'dt': 2, 'mount-point': 1, 'disk-partitioning': 1, 'standards': 2, 'multiline': 3, 'refresh': 2, 'filetree': 1, 'angular-promise': 1, 'ggpubr': 3, 'ggbreak': 1, 'font-family': 2, 'aws-sdk-java-2.0': 3, 'prototypejs': 1, 'sql-server-2008': 2, 'laravel-5': 3, 'gateway': 4, 'nextflow': 3, 'grafana-variable': 4, 'pdf-scraping': 1, 'azure-eventhub-client': 2, 'explicit': 1, 'android-database': 1, 'android-sensors': 1, 'formatter': 2, 'user-controls': 2, 'sharing': 1, 'nessus': 1, 'spring-security-6': 1, 'datagrip': 2, 'dbvisualizer': 1, 'filenames': 3, 'flutter-plugin': 3, 'flutter-packages': 1, 'flutter-method-channel': 1, 'flutter-background': 1, 'tor': 1, 'tor-browser-bundle': 1, 'jpeg2000': 1, 'episerver': 1, '.net-4.7': 1, 'array-combine': 1, 'simplemodal': 1, 'pyspark-schema': 1, 'pdb-files': 1, 'precompiled-headers': 2, 'bind': 1, 'gethostbyname': 1, 'm': 2, 'bellman-ford': 1, 'testflight': 2, 'crash-reports': 1, 'synchronous': 1, 'windows-update': 1, 'sanitization': 1, 'sanitize': 1, 'tiptap': 1, 'sanitizer': 1, 'graphql-java': 2, 'graphql-kotlin': 1, 'copying': 1, 'pasting': 1, 'google-api-js-client': 2, 'platformio': 2, 'django-settings': 1, 'django-environ': 1, 'wysiwyg': 4, 'likert': 1, 'circlize': 1, 'mysql-connector-python': 1, 'pypika': 1, 'ansible-template': 3, 'hierarchyid': 1, 'isar': 1, 'ggh4x': 1, 'eloquent-relationship': 2, 'ignition': 1, 'scada-ignition': 1, 'text-classification': 2, 'locate': 1, 'jtag': 2, 'c#-11.0': 1, 'aeson': 1, 'compose-desktop': 1, 'material3': 2, 'ibm-midrange': 2, 'postman-native-app': 1, 'youtube-dl': 2, 'smtplib': 1, 'kalman-filter': 1, 'stuff': 1, 'asyncstorage': 2, 'vsct': 1, 'dynamic-memory-allocation': 4, 'static-memory-allocation': 1, 'nextcord': 3, 'deflate': 1, 'data-recovery': 1, 'lldb': 3, 'hibernate-validator': 2, 'named-entity-recognition': 2, 'presidio': 1, 'store': 4, 'guard': 1, 'mojolicious': 1, 'zap': 1, 'android-virtual-device': 4, 'obs': 1, 'virtual-camera': 3, 'sql-server-2014': 1, 'slack-commands': 3, 'slack-dialog': 1, 'slack-bolt': 2, 'logback': 3, 'logback-classic': 1, 'files-app': 1, 'swiftui-fileimporter': 1, 'activemq': 1, 'apache-tomee': 1, 'nnet': 1, 'renv': 1, 'lowpass-filter': 1, 'highpass-filter': 1, 'uvm': 4, 'amba': 3, 'connectivity': 1, 'network-connection': 1, 'tensor': 6, 'latent-semantic-analysis': 1, 'owin': 3, 'hasura': 2, 'hasura-docker': 1, 'hasura-cli': 1, 'android-menu': 1, 'screen-capture': 1, 'google-street-view': 2, 'system.drawing': 1, 'antialiasing': 2, 'nfs': 5, 'peft': 1, 'wav': 1, 'modgrammar': 1, 'k-fold': 1, 'kombu': 1, 'echo': 1, 'modifier': 2, 'vi': 2, 'npx': 4, 'textmate': 2, 'dynamic-management-views': 1, 'zephyr-rtos': 2, 'genome': 1, 'shotgun': 1, 'llamacpp': 5, 'calc': 1, 'winappdriver': 3, 'interrupt': 6, 'laravelcollective': 1, 'mule4': 3, 'off-canvas-menu': 1, 'cybersource': 3, 'ios-simulator': 5, 'offsetdatetime': 2, 'electron-builder': 6, 'phpstan': 1, 'lucee': 1, 'railo': 1, 'cfdocument': 1, 'mrtg': 1, 'ngx-bootstrap': 1, 'ngx-daterangepicker-material': 1, 'yolov4': 2, 'html-parsing': 2, 'git-credential-manager': 2, 'wolframalpha': 1, 'static-classes': 1, 'monogame': 1, 'stress': 1, 'c-strings': 3, 'codelite': 2, 'icloud-drive': 1, 'openlayers': 6, 'autotools': 1, 'appsettings': 2, 'signalr-hub': 1, 'malloc': 4, 'memset': 1, 'django-caching': 4, 'spring-kafka-test': 3, 'cartopy': 1, 'metpy': 3, 'pyppeteer': 1, 'wsgi': 3, 'database-permissions': 1, 'pagespeed': 5, 'recaptcha-v3': 2, 'libvirt': 2, 'openstack-glance': 1, 'live': 1, 'pyqtgraph': 3, 'azure-automation': 4, 'hapi-fhir': 2, 'hibernate-criteria': 1, 'quickbase': 1, 'deserialization': 2, 'stack': 4, 'hardening': 1, 'arcgis': 5, 'claims': 2, 'flask-socketio': 5, 'accordion': 3, 'primefaces-extensions': 1, 'persistent-volumes': 4, 'persistent-volume-claims': 3, 'amazon-dynamodb-streams': 2, 'bson': 3, 'adx': 2, 'resolve': 1, 'reverse-dns': 1, 'dnlib': 1, 'analysis': 2, 'chi-squared': 1, 'ordinal': 1, 'contingency': 1, 'tax': 1, 'dbeaver': 5, 'gbm': 1, 'iife': 1, 'placement-new': 2, 'tcpclient': 4, 'tx-news': 1, 'acrobat': 1, 'pypdf': 6, 'form-fields': 1, 'angular-jest': 1, 'document': 1, 'react-18': 3, 'msp430': 2, 'rust-embedded': 1, 'spring-data-cassandra': 1, 'amazon-keyspaces': 1, 'cqlsh': 2, 'hsqldb': 1, 'metricbeat': 2, 'aws-nuke': 1, 'core.autocrlf': 1, 'phoenix-live-view': 2, 'ifnull': 2, 'openstack-keystone': 1, 'aws-java-sdk-2.x': 1, 'intervals': 2, 'ui5-tooling': 1, 'ui5-webcomponents': 1, 'array.prototype.map': 1, 'goreleaser': 1, 'bounding-box': 1, 'mjml': 1, 'express-graphql': 1, 'arq': 1, 'nsjsonserialization': 1, 'data-class': 1, 'kendo-angular-ui': 2, '.git-folder': 1, 'mamp': 3, 'scrollable': 1, 'presentation': 1, 'mediapipe': 2, 'titlebar': 1, 'rap': 1, 'azureml-python-sdk': 1, 'title-case': 1, 'porting': 2, 'qnx': 1, 'rundeck': 1, 'sjplot': 2, 'sql-server-2005': 2, 'exit-code': 1, 'redux-devtools': 1, 'redux-devtools-extension': 1, 'worker': 1, 'screen-scraping': 2, 'playwright-test': 7, 'azure-blob-trigger': 2, 'freertos': 5, 'raspberry-pi-zero': 2, 'time-difference': 1, 'spell-checking': 2, 'data-annotations': 1, 'requiredfieldvalidator': 1, 'jwe': 2, 'azure-data-lake': 2, 'macbookpro': 1, 'qwidget': 1, 'visibility': 4, 'vector-database': 3, 'espocrm': 1, 'luajit': 1, 'draftjs': 1, 'react-draft-wysiwyg': 1, 'tikzdevice': 1, 'flutter-row': 1, 'biginteger': 2, 'asp.net-web-api-routing': 1, 'rxjs-observables': 1, 'maven-release-plugin': 1, 'gitea': 2, 'maven-scm-plugin': 1, 'maven-multi-module': 1, 'wix4': 3, 'false-positive': 1, 'custom-training': 1, 'minio': 6, 'object-storage': 1, 'psi': 1, 'bootstrap-switch': 1, 'rdd': 1, 'topic-modeling': 2, 'stm': 3, 'topicmodels': 1, 'swift-macro': 1, 'virtualhost': 4, 'swift-extensions': 1, 'amazon-elasticache': 2, 'data-studio-custom-visuals': 2, 'glibc': 4, 'iml': 1, 'quarkus-rest-client': 2, 'spigot': 2, 'progress': 1, 'path-finding': 1, 'objectbox': 1, 'avcapturedevice': 1, 'avcaptureoutput': 1, 'avdepthdata': 1, 'avcameracalibrationdata': 1, 'scaffold': 1, 'memory-barriers': 2, 'stdatomic': 1, 'spiffs': 1, 'google-openid': 1, 'control-flow': 2, 'trial': 1, 'file-rename': 2, 'rename-item-cmdlet': 1, 'motherboard': 3, 'chipset': 1, 'react-highcharts': 2, 'xwiki': 2, 'tinterfacedobject': 1, 'bootbox': 1, 'ecmascript-5': 2, 'ssh-keys': 7, 'spring-cloud-stream': 3, 'oculus': 1, 'gtk3': 1, 'suitecrm': 1, 'redmine': 2, 'redmine-api': 1, 'awt': 1, 'fuzzing': 1, 'authorize.net': 2, 'graph-visualization': 1, 'neo4j-bloom': 1, 'cplex': 4, 'tarjans-algorithm': 1, 'vert.x': 3, 'json-deserialization': 2, 'dirname': 1, 'basename': 1, 'fileversioninfo': 1, 'teamcity': 2, 'bouncycastle': 1, 'kotlin-coroutine-channel': 1, 'csom': 1, 'luigi': 1, 'nsundomanager': 1, 'shopify-app': 3, 'flickity': 1, 'snmpwalk': 1, 'neopixel': 2, 'qslider': 1, 'pyspark-pandas': 3, 'vue-test-utils': 1, 'apache-beam-kafkaio': 1, 'intel-oneapi': 1, 'sycl': 1, 'dpc++': 1, 'abortcontroller': 1, 'favicon': 3, 'bios': 2, 'edk2': 1, 'pcre': 2, 'microsoft-graph-calendar': 1, 'type-inference': 3, 'generic-constraints': 1, 'dbms-scheduler': 1, 'jenkins-groovy': 5, 'jenkins-job-dsl': 3, 'rebase': 4, 'ms-yarp': 2, 'swampy': 1, 'eventemitter': 2, 'angular-event-emitter': 1, 'snapcraft': 2, 'snap': 2, 'css-float': 2, 'datastax-astra': 2, 'vector-search': 2, 'fragment': 2, 'android-jetpack-compose-ui': 1, 'blobstorage': 1, 'meld': 1, 'git-difftool': 1, 'beyondcompare4': 2, 'tabula': 1, 'pdf-extraction': 1, 'pdftables': 1, 'wpml': 2, 'minizinc': 1, 'ldap-query': 2, 'laravel-echo': 3, 'connection-string': 2, 'filenotfoundexception': 2, 'generator-expression': 1, 'pandas-profiling': 2, 'fastapi-middleware': 1, 'newrelic': 4, 'setup-project': 2, 'android-push-notification': 1, 'android-12l': 1, 'preloader': 1, 'spek': 1, 'aws-cdk-custom-resource': 1, 'microsoft-fabric': 2, 'procedure': 3, 'go-pg': 1, 'react-test-renderer': 1, 'google-cloud-compute-engine': 1, 'kofax': 1, 'element-ui': 1, 'element-plus': 1, 'jointjs': 1, 'adobe-illustrator': 1, 'extendscript': 1, 'ghc': 1, 'cabal': 2, 'derivative': 2, 'maxima': 2, 'pdi': 2, 'incremental-load': 1, 'codemagic': 3, 'flutter-ios-build': 1, 'gatsby-plugin': 1, 'rust-diesel': 1, 'lengthawarepaginator': 1, 'swiftyuserdefaults': 1, 'git-diff': 1, 'git-log': 2, 'unity-editor': 1, 'drupal-8': 1, 'crash-dumps': 1, 'bun': 1, 'regexp-replace': 3, 'selenium': 1, 'jpql': 3, 'orc': 1, 'snappy': 1, 'with-statement': 1, 'git-worktree': 1, 'pact': 2, 'ssh-keygen': 1, 'yandex-api': 1, 'color-picker': 1, 'adaboost': 1, 'boosting': 2, 'amazon-app-runner': 2, 'debugpy': 1, 'drop-database': 1, 'pulseaudio': 2, 'input-devices': 2, 'blogs': 1, 'hexo': 1, 'tuples': 4, 'deck.gl': 1, 'flutter-inappwebview': 1, 'implementation': 3, 'event-driven': 3, 'generalized-linear-model': 2, 'google-cloud-datastore': 2, 'datastore': 1, 'obfuscar': 1, '3d-engine': 1, 'bulletedlist': 1, 'pydroid': 1, 'time-tracking': 1, 'webpacker': 1, 'shakapacker': 1, 'sorbet': 1, 'sensor-fusion': 1, 'zod': 2, 'appbar': 2, 'line-plot': 1, 'oracleforms': 1, 'spring-data-mongodb': 2, 'strongly-typed-dataset': 1, 'rubiks-cube': 1, 'combine': 3, 'gradient-descent': 2, 'gradienttape': 1, 'react-native-hermes': 1, 'reportviewer': 1, 'typo3-11.x': 2, 'load': 1, 'upstream': 1, 'tauri': 1, 'mat-tab': 1, 'npm-start': 1, 'dataweave': 3, 'captcha': 5, 'auto-registration': 2, 'aruco': 1, 'producer-consumer': 1, 'thread-synchronization': 3, 'microsoft-odata': 1, 'karma-coverage': 1, 'datarow': 1, 'blogger': 1, 'data-theme': 1, 'forms-authentication': 1, 'traefik-ingress': 1, 'unique-key': 1, 'wiremock': 2, 'wiremock-record': 1, 'spring-boot-cloud': 1, 'symfony-forms': 2, 'asp.net-core-3.1': 2, 'text-editor': 2, 'lexikjwtauthbundle': 1, 'pragma-pack': 1, 'executionpolicy': 1, 'somee': 1, 'krakend': 1, 'rate-limiting': 2, 'kong-plugin': 1, 'otel': 2, 'livewires': 1, 'orange-pi': 2, 'sink': 2, 'divide': 1, 'resttemplate': 5, 'gmsh': 1, 'identityserver6': 1, 'libpcap': 1, 'sigint': 1, 'variant': 3, 'build-error': 3, 'kotlin-gradle-plugin': 1, 'httpresponsemessage': 1, 'rayshader': 1, 'python-appium': 1, 'hapi.js': 1, 'railway': 2, 'tomcat9': 4, 'uwp': 7, 'jetty': 1, 'jetty-10': 1, 'asp.net-identity': 3, 'exif': 3, 'stamp': 1, 'process-mining': 1, 'angular-signals': 2, 'httpurlconnection': 2, 'aws-codepipeline': 1, 'sharp': 2, 'next.js13': 5, 'scikit-image': 2, 'del': 1, 'tkcalendar': 1, 'quic': 1, 'http3': 1, 'kubebuilder': 1, 'jsonata': 1, 'git-flow': 1, 'lifetime': 2, 'flask-restplus': 1, 'yii2-model': 1, 'conditional-formatting': 3, 'jqxgrid': 1, 'autopep8': 1, 'pycodestyle': 1, 'xaf': 1, 'chocolatey': 2, 'flutter-getx': 6, 'conv1d': 1, 'node-mssql': 2, 'chrome-app-developer-tool': 1, 'povray': 1, 'openbabel': 1, 'gzip': 4, 'django-migrations': 2, 'networkd3': 1, 'browserstack': 1, 'highlight': 2, 'sql-server-2012': 1, 'mssql-jdbc': 1, 'docker-networking': 4, 'container-storage-interface': 1, 'init': 2, 'kruskal-wallis': 1, 'ca': 1, 'hierarchical-data': 2, 'zerobrane': 1, 'android-intent-chooser': 1, 'meteor': 2, 'apm': 2, 'amazon-cloudfront': 7, 'azure-container-service': 1, 'azure-container-apps': 4, 'typo3-10.x': 1, 'uwsgi': 3, 'asyncdisplaykit': 1, 'componentkit': 1, 'apicurio-registry': 1, 'userform': 5, 'itfoxtec-identity-saml2': 1, 'forum': 2, 'product-management': 1, 'asp.net-apicontroller': 1, 'jmx': 2, 'use-form': 1, 'wordpress-theme-astra': 1, 'crc32': 1, 'google-generativeai': 1, 'imagick': 2, 'angular-ng-if': 1, 'e-signature': 1, 'adobe-sign': 2, 'vis.js': 1, 'solar': 1, 'bootcamp': 1, 'geom-bar': 2, 'conditional-types': 2, 'tmpfs': 1, 'azure-file-share': 2, 'file-writing': 1, 'hexdump': 1, 'sector': 1, 'ssjs': 1, 'ampscript': 1, 'primeng-datatable': 3, 'walmart-api': 1, 'fulfillment': 2, 'wfs': 1, 'runumap': 1, 'table-calendar': 1, 'ms-access-2016': 1, 'powerbi-datagateway': 1, 'metalkit': 2, 'azure-devops-services': 1, 'graphql-tools': 1, 'windows-api-code-pack': 2, 'asp.net-core-8': 1, 'trait-objects': 1, 'revolution-slider': 1, 'friendly-url': 1, 'after-effects': 1, 'branching-and-merging': 1, 'dynamic-arrays': 2, 'confusion-matrix': 1, 'precision-recall': 1, 'audit': 1, 'oid': 1, 'oim': 1, 'oracle-access-manager': 1, 'dot': 1, 'evernote': 1, 'orleans': 1, 'cucumber-jvm': 1, 'floating-accuracy': 1, 'jest-preset-angular': 1, 'docker-volume': 1, 'csv-import': 1, 'draw.io': 1, 'ngx-stripe': 2, 'scipy.stats': 1, 'formik-material-ui': 1, 'bpf': 1, 'kprobe': 1, 'webflow': 2, 'muuri': 1, 'javax.imageio': 1, 'twelvemonkeys': 1, 'struts2': 1, 'swagger-codegen-maven-plugin': 1, 'depth': 1, 'stereo-3d': 1, 'informatica-data-integration-hub': 2, 'inline-assembly': 1, 'ojs': 1, 'fabricjs': 5, 'srt': 1, 'ytdl': 1, 'vertx-httpclient': 1, 'modeling': 2, 'temp-tables': 1, 'filehandle': 1, 'smarty': 1, 'angular-ngselect': 2, 's': 1, 'dispatcher': 1, 'ms-access-2010': 2, 'public': 3, 'arcade': 2, 'external-secrets-operator': 1, 'vega': 2, 'azure-ad-graph-api': 2, 'azure-defender': 2, 'shopware6-api': 1, 'angular-storybook': 1, 'mapbox-android': 1, 'postback': 1, 'placeholder': 3, 'fluent-migrator': 2, 'call-by-value': 1, 'kodein': 1, 'compose-multiplatform': 3, 'ansible-2.x': 3, 'ansible-facts': 2, 'android-notifications': 2, 'powerapps-portal': 1, 'foreman': 1, 'flutter-showmodalbottomsheet': 2, 'azure-purview': 1, 'measurement-protocol': 3, 'laravel-dompdf': 1, 'barryvdh': 1, 'vaadin-flow': 4, 'vaadin-charts': 1, 'kss': 1, 'gruntjs': 2, 'grunt-build-control': 1, 'actor': 1, 'akka-cluster': 2, 'akka-remote-actor': 1, 'akka-dispatcher': 1, 'kotlin-delegate': 1, 'polygon': 8, 'android-webview-javascript': 1, 'swd': 1, 'onvif': 1, 'python-onvif': 1, 'laravel-resource': 1, 'react-data-grid': 2, 'simulink': 6, 'sd-card': 2, 'stm32cubemx': 1, 'uwp-xaml': 2, 'telebot': 4, 'weighted': 1, 'aqua-data-studio': 1, 'symfony5': 1, 'symfony5.4': 1, 'tekton': 1, 'tekton-pipelines': 1, 'typegoose': 1, 'babel-jest': 2, 'declaration': 4, 'helper': 1, 'react-chartjs': 3, 'mcafee': 1, 'primes': 2, 'travis-ci': 1, 'react-typescript': 11, 'jquery-ajax': 1, 'qt-design-studio': 1, 'iics-di': 3, 'rust-actix': 1, 'react-admin': 2, 'reduce': 4, 'python-oracledb': 1, 'mhtml': 1, 'data-cleaning': 3, 'opentracing': 1, 'graphql-codegen': 1, 'mutation-observers': 1, 'flatmap': 1, 'silverlight': 1, 'silverlight-5.0': 1, 'arcgis-runtime-net': 1, 'vpc-endpoint': 2, 'xml-comments': 1, 'rewardedvideoad': 1, 'ironsource': 1, 'weighted-average': 2, 'flatlist': 4, 'ibooks': 2, 'material-react-table': 1, 'dicomdir': 1, 'pyflink': 2, 'formbuilder': 1, 'sleep': 1, 'android-uiautomator': 2, 'wine': 3, 'psapi': 1, 'inputstream': 1, 'jsch': 1, 'spring-boot-actuator': 3, 'jsxgraph': 1, 'mule': 4, 'apikit': 1, 'google-distancematrix-api': 3, 'rviz': 2, 'urdf': 1, 'building-github-actions': 1, 'queuetrigger': 1, 'gsutil': 2, 'mcu': 1, 'datetime-format': 2, 'xticks': 1, 'laravel-artisan': 1, 'livesearch': 1, 'effector': 1, 'delphi-10.4.2': 1, 'single-instance': 1, 'mobilenet': 1, 'kubernetes-jobs': 1, 'splidejs': 2, 'process-pool': 1, 'export-to-csv': 2, 'turfjs': 2, 'netlogo': 1, 'map-projections': 1, 'truetype': 1, 'paddle-paddle': 3, 'paddleocr': 3, 'firebase-dynamic-links': 2, 'foundry-workshop': 1, 'autoencoder': 5, 'james': 2, 'rayon': 1, 'screen-readers': 3, 'exceptionhandler': 1, 'uncaughtexceptionhandler': 1, 'azure-resource-graph': 1, 'carthage': 1, 'go-sqlmock': 1, 'jfrog-xray': 2, 'angular-structural-directive': 1, 'adafruit-circuitpython': 1, 'lxml': 3, 'byte': 2, 'nashorn': 1, 'jpeg': 1, 'divi': 2, 'solaris': 1, 'xamarin-native': 1, 'angular-module-federation': 2, 'zend-framework': 2, 'virtual-tour': 1, 'lithium': 1, 'workload-identity': 2, 'defaultazurecredential': 1, 'check-constraints': 2, 'ode': 3, 'noise': 1, 'jupyterhub': 2, 'entity-framework-migrations': 3, 'jmx-exporter': 1, 'android-motionlayout': 2, 'power-automate-desktop': 2, 'commit': 3, 'keyword': 2, 'turbo-frames': 1, 'hotwire': 1, 'live-streaming': 3, 'gstreamer-1.0': 1, 'python-gstreamer': 1, 'rtmps': 1, 'redux-saga': 1, 'keycloak-nodejs-connect': 1, 'sdl': 3, 'frame-rate': 1, 'ton': 3, 'huobi': 1, 'sqlclr': 1, 'r2dbc': 2, 'html-framework-7': 2, 'dotnetnuke': 2, 'elmah': 1, 'unique-index': 1, 'function-declaration': 1, 'interpretation': 1, 'netbeans-12': 1, 'jsonb-api': 1, 'yasson': 1, 'jlayeredpane': 1, 'rank': 1, 'method-call': 1, 'scope-resolution-operator': 1, 'editorconfig': 1, 'papaparse': 1, 'ios16': 2, 'phphotolibrary': 1, 'phpickerviewcontroller': 2, 'picturebox': 1, '16-bit': 1, 'nameerror': 2, 'spring-native': 2, 'spring-cloud-loadbalancer': 1, 'verification': 2, 'matching': 1, 'gtkmm4': 3, 'normal-distribution': 1, 'sipjs': 1, 'sip-over-websocket': 2, 'fitnesse': 1, 'taint': 1, 'php-extension': 3, 'protobuf-php': 1, 'sliding-window': 1, 'obfuscation': 2, 'api-key': 1, 'pysnmp': 1, 'azure-arc': 1, 'state-pattern': 1, 'ply': 1, 'pcl': 1, 'particle-system': 2, 'azure-repos': 1, 'rtf': 1, 'bi-publisher': 1, 'flowbite': 1, 'mgcv': 1, 'supabase-js': 1, 'setinterval': 4, 'cryptoapi': 1, 'android-compatibility': 1, 'gfortran': 3, 'blas': 2, 'portal': 1, 'azure-pipelines-release-pipeline': 1, 'audit.net': 1, 'sql-execution-plan': 1, 'tess-two': 1, 'postgresql-performance': 1, 'indy': 1, 'scriptable': 1, 'aws-event-bridge': 5, 'aws-service-catalog': 1, 'unity3d-editor': 4, 'intldateformatter': 1, 'urlmon': 1, 'orocommerce': 2, 'orocrm': 2, 'protobuf-net': 2, 'argocd': 4, 'intel-pmu': 1, 'roofline': 1, 'code-formatting': 2, 'linegraph': 1, 'yajra-datatable': 3, 'fal': 1, 'azure-cognitive-search': 2, 'consul-kv': 1, 'stm32f4discovery': 2, 'dbscan': 1, 'mat-select': 1, 'ioexception': 1, 'litedb': 2, 'radio-button': 1, 'flir': 1, 'rcp': 1, 'gcp-load-balancer': 2, 'azure-notebooks': 1, 'fuzzy-logic': 2, 'css-import': 1, 'uncertainty': 1, 'initializer-list': 1, 'google-cloud-iam': 2, 'tkinter-button': 2, 'openpose': 1, 'pose-detection': 1, 'wdk': 2, 'inf': 1, 'cefsharp': 2, 'cefsharp.offscreen': 1, 'reflectable': 1, 'excelize': 2, '360entsecgroup-skylar-excelize': 1, 'led': 4, 'getelementbyid': 5, 'chrome-dev-tool': 1, 'common-table-expression': 8, 'ngrok': 4, 'friend-function': 1, 'openxml': 2, 'autoconf': 1, 'fingerprint': 3, 'image-masking': 1, 'record': 1, 'hotkeys': 2, 'terminator': 1, 'monodevelop': 1, 'xamarin-studio': 1, 'policies': 1, 'launch-screen': 1, 'fpic': 2, 'position-independent-code': 1, 'forecasting': 3, 'sarimax': 2, 'netbeans-15': 1, 'android-bluetooth': 4, 'layer': 2, 'codeql': 1, 'filamentphp': 3, 'video.js': 3, 'aws-cloudwatch-log-insights': 2, 'authorize.net-webhooks': 1, 'azure-triggers': 1, 'ocelot': 2, 'onappear': 1, 'datawedge': 1, 'zebra-scanners': 1, 'angular-flex-layout': 1, 'bnd': 1, 'bndtools': 1, 'rtmp': 1, 'sdp': 1, 'dagre': 1, 'prompt': 2, 'polynomial-math': 2, 'jenkins-kubernetes': 1, 'point-in-polygon': 2, 'eclipse-gef': 1, 'prebid.js': 1, 'prebid': 1, 'textview': 6, 'clasp': 1, 'great-expectations': 1, 'adobe-premiere': 1, 'prometheus-node-exporter': 1, 'react-apexcharts': 4, 'binaryformatter': 2, 'binary-serialization': 1, 'sqlhelper': 1, 'qaf': 1, 'basichttpbinding': 1, 'domdocument': 1, 'bitconverter': 1, 'interop': 3, 'cassandra-3.0': 2, 'vlc': 3, 'easyadmin': 4, 'oracle-autonomous-db': 1, 'realsense': 1, 'c++builder-11-alexandria': 2, 'microsoft365-defender': 2, 'multivalue': 1, 'amazonsellercentral': 1, 'stable-baselines': 2, 'upi': 2, 'phonepe': 1, 'jvm': 10, 'jaydebeapi': 1, 'ws': 1, 'react-bootstrap-table': 1, 'errordocument': 1, 'python-exec': 1, 'python-zlib': 1, 'scep': 1, 'starship': 1, 'c++-faq': 3, 'unresolved-external': 2, 'aws-sdk-js': 1, 'aws-sdk-nodejs': 1, 'facebook-login': 2, 'kiwi-tcms': 1, 'unmarshalling': 2, 'twilio-conversations': 2, 'xamarin.forms.carouselview': 1, 'disnake': 1, 'mat': 1, 'dymola': 2, 'information-extraction': 2, 'pwabuilder': 1, 'system-administration': 2, 'windows-server-2019': 2, 'group-policy': 2, 'server-administration': 1, 'telemetry': 3, 'amadeus': 1, 'icomoon': 1, 'ini': 1, 'stacked-bar-chart': 3, 'delay': 2, 'nim-lang': 1, 'windows-7': 2, 'bit.dev': 2, 'knative': 1, 'character-encoding': 6, 'fileoutputstream': 1, 'shift-jis': 1, 'tanstackreact-query': 4, 'android-settings': 1, 'qcheckbox': 1, 'qgroupbox': 1, 'number-systems': 1, 'binary-tree': 2, 'b-tree': 1, 'vmware-clarity': 1, 'nominatim': 1, 'latency': 2, 'ulong': 1, 'workflow-activity': 1, 'daemon': 1, 'pointer-events': 1, 'weblogic12c': 1, 'soa': 1, 'bpel': 1, 'code-signing': 4, 'hardware-security-module': 1, 'aar': 3, 'css-in-js': 1, 'spring-cloud-sleuth': 1, 'getdate': 1, 'android-service': 4, 'mod': 1, 'db2-luw': 1, '360-virtual-reality': 1, 'vue-socket.io': 1, 'aac': 1, 'algolia': 1, 'in-operator': 1, 'invoke-webrequest': 1, 'druid': 2, 'fpm': 2, 'widgetkit': 2, 'cheerio': 2, 'vb6': 1, 'vb6-migration': 1, 'vimpulse': 1, 'nan': 1, 'ffmpeg-python': 2, 'twitter-oauth': 1, 'generative-adversarial-network': 1, 'tiny-tds': 1, 'mysql-x-devapi': 1, 'mousehover': 1, 'quartz': 1, 'execute': 1, 'postgresql-12': 2, 'tcpdf': 1, 'next-images': 1, 'androidphone': 2, 'mariadb-10.1': 1, 'pass-by-value': 1, 'phpwkhtmltopdf': 1, 'modelmapper': 2, 'grok': 1, 'multi-factor-authentication': 3, 'totp': 1, 'intelephense': 1, 'semantic-release': 1, 'crafter-cms': 1, 'bulkupdate': 1, 'jjwt': 1, 'servlet-3.0': 1, 'webautomation': 2, 'amazon-appflow': 1, 'outputstream': 1, 'flush': 2, 'hackage': 1, 'mediainfo': 1, 'pyaudioanalysis': 1, 'speaker-diarization': 1, 'node-streams': 1, 'gdi': 1, 'buffering': 1, 'sprite-kit': 1, 'prometheus-operator': 2, 'linphone': 1, 'broadcastreceiver': 1, 'jna': 2, 'azure-application-insights': 5, 'azure-application-insights-profiler': 1, 'suitesparse': 1, 'flutter-futurebuilder': 2, 'mediaquery': 1, 'logout': 2, 'rdp': 1, 'winlogon': 1, 'gitpython': 1, 'toast': 1, 'comparison-operators': 3, 'locust': 4, 'oracle-golden-gate': 1, 'bullet': 1, 'numbered-list': 1, 'xsd': 3, 'gesture': 2, 'complex-numbers': 1, 'unpkg': 1, 'flutter-provider': 2, 'openlitespeed': 1, 'buildx': 1, 'vertical-alignment': 5, 'vscode-git': 1, 'nm': 1, 'date-fns': 2, 'add-filter': 1, 'learnpress': 1, 'amazon-quicksight': 1, 'epplus': 1, 'selinux': 2, 'logcat': 1, 'jpamodelgen': 1, 'hypersistence': 1, 'suitescript': 2, 'restlet': 1, 'summary': 1, 'contact-form-7': 1, 'sapply': 2, 'geopandas': 8, 'multiplication': 2, 'javadoc': 2, 'lib': 3, 'label-encoding': 1, 'sdf': 2, 'netlist': 1, 'mbeans': 1, 'ember-table': 1, 'graph-data-science': 2, 'isql': 1, 'angular-material2': 1, 'angular-material-stepper': 1, 'checksum': 2, 'roboflow': 1, 'decode': 2, 'soft-delete': 2, 'viewbinding': 1, 'dafny': 4, 'formal-verification': 4, 'gitops': 2, 'v-data-table': 1, 'vuetify-datatable': 1, 'bing': 1, 'flutter-pageview': 3, 'effect': 2, 'theming': 1, 'glow': 2, 'cgroups': 1, 'mido': 1, 'midi-instrument': 1, 'voxel': 1, 'ursina': 2, 'static-site': 1, 'google-domain-api': 1, 'lamp': 2, 'smil': 1, 'lme4-nlme': 1, 'user-agent': 1, 'teams-toolkit': 2, 'webbrowser-control': 2, 'stroke': 1, 'stroke-dasharray': 1, 'lan': 2, 'structured-bindings': 1, 'rcurl': 1, 'm2m': 1, 'kendo-react-ui': 2, 'storage': 4, 'pygithub': 1, 'mpsc': 1, 'submit': 2, 'automator': 2, 'keystroke': 1, 'evil-mode': 1, 'bazel': 3, 'rvalue': 1, 'aws-organizations': 1, 'annotation-processing': 3, 'eventlet': 1, 'css-filters': 2, 'isam': 1, 'messaging': 1, 'remix': 2, 'win32gui': 2, 'training-data': 3, 'ignite': 7, 'windows-forms-designer': 4, 'nasm': 5, 'addressing-mode': 2, 'rowwise': 1, 'amazon-cloudwatchlogs': 2, 'wptoolkit': 1, 'default': 1, 'shared': 1, 'bootstrapper': 1, 'burn': 1, 'wix3': 1, 'wix3.11': 1, 'trail': 1, 'windows-terminal': 2, 'oh-my-posh': 2, 'android-flexboxlayout': 1, 'c++-templates': 1, 'office365-apps': 1, 'traceback': 1, 'abstract-syntax-tree': 2, 'vlsi': 1, 'karatsuba': 1, 'microk8s': 3, 'retinanet': 1, 'user-warning': 1, 'linq-to-entities': 2, 'cds': 1, 'app-store': 3, 'storekit': 2, 'yum': 2, 'glm-math': 3, 'yocto-recipe': 1, 'tox': 1, 'testcomplete': 1, 'azure-agent': 1, 'dokku': 2, 'trunk': 1, 'probability-density': 1, 'beta-distribution': 1, 'partiql': 1, 'jplist': 1, 'oracle-net-services': 1, 'privacy': 2, 'yarp': 1, 'word-embedding': 4, 'quickbooks-online': 1, 'fastboot': 1, 'jekyll-theme': 1, 'minima': 1, 'apple-appclips': 2, 'app-store-connect-api': 1, 'headless': 3, 'object-detection-api': 2, 'vgg-net': 1, 'nic': 1, 'sast': 2, 'extension-methods': 2, 'mapbox-studio': 1, 'mapbox-api-vectortiles': 1, 'serenity-bdd': 1, 'rust-rocket': 2, 'openvswitch': 2, 'ng2-charts': 2, 'xlsb': 2, 'excel-solver': 1, 'share': 2, 'keepass': 1, 'psd': 1, 'gimpfu': 1, 'vector-tiles': 1, 'magnific-popup': 1, 'panel-data': 2, 'html-datalist': 1, 'ipc': 2, 'libgee': 1, 'broadcast': 1, 'ipv4': 1, 'let': 1, 'express-session': 2, 'linkerd': 1, 'android-orientation': 1, 'landscape-portrait': 1, 'checkedlistbox': 2, 'jakarta-ee': 4, 'payara': 3, 'footnotes': 1, 'dialogflow-cx': 2, 'convex-optimization': 1, 'convergence': 1, 'websecurity': 2, 'dacpac': 1, 'innodb': 1, 'vhosts': 3, 'lpsolve': 1, 'ompr': 1, 'surfaceview': 2, 'flutter-form-builder': 1, 'indicator': 3, 'back-testing': 2, 'audiokit': 1, 'plist': 2, 'qr-code': 10, 'zxing': 1, 'erlang': 2, 'wxwidgets': 3, 'communication': 2, 'erlang-otp': 1, 'gen-server': 1, 'quotes': 1, 'twincat': 1, 'stdapply': 1, 'async.js': 1, 'cumulocity': 1, 'waffle-chart': 1, 'monkeypatching': 1, 'resthighlevelclient': 1, 'baseline-profile': 1, 'macrobenchmark': 1, 'interbase': 1, 'fileserver': 1, 'ghdl': 2, 'wso2-esb': 1, 'wso2-integration-studio': 1, 'rapidapi': 2, 'aws-iam-policy': 2, 'static-files': 3, 'portability': 1, 'fltk': 1, 'orchestration': 1, 'r-mice': 1, 'transcription': 1, 'terminology': 2, 'att': 2, 'conda-build': 1, 'autocloseable': 1, 'audio-recording': 3, 'python-sounddevice': 1, 'animated-gif': 1, 'gganimate': 3, 'rna-seq': 1, 'service-fabric-on-premises': 1, 'rsync': 1, 'soc': 1, 'affinetransform': 1, 'offline-mode': 1, 'multihead-attention': 2, 'ng-template': 1, 'distributed-computing': 1, 'css-transforms': 2, 'sendgrid-api-v3': 2, 'sendgrid-templates': 1, 'assign': 2, 'ms-clarity': 1, 'azure-webjobs': 1, 'openrowset': 1, 'nested-function': 1, 'autotest': 1, 'atmega': 1, 'agora.io': 1, 'create-table': 2, 'navmesh': 1, 'xmlstarlet': 1, 'friend': 2, 'local-class': 1, 'squish': 2, 'auth-guard': 1, 'angular-animations': 1, 'hololens': 2, 'preflight': 3, 'backcolor': 2, 'squash': 1, 'dockerode': 1, 'shiny.i18n': 1, 'vapor-fluent': 1, 'tinydb': 1, 'intranet': 1, 'spring-starter': 1, 'angular-ui-grid': 1, 'inversion-of-control': 1, 'get-wmiobject': 1, 'android-view': 2, 'pscp': 1, 'urlvariables': 1, 'dynamic-linq': 1, 'ef-core-6.0': 2, 'derby': 1, 'hdf5': 2, 'exchange-server': 1, 'unity-webgl': 3, 'react-responsive-carousel': 2, 'camera-calibration': 2, 'triangulation': 1, 'api-design': 1, 'quantmod': 2, 'react-native-voice': 1, 'raytracing': 1, 'snackbar': 2, 'package-lock.json': 1, 'cucumberjs': 2, 'google-coral': 1, 'edge-tpu': 1, 'opticalflow': 1, 'observability': 1, 'kubernetes-apiserver': 1, 'vds': 1, 'deep-fake': 1, 'coil': 1, 'google-maps-api-3': 10, 'file-sharing': 1, 'ios-extensions': 1, 'rdf-star': 1, 'istio-gateway': 3, 'react-native-calendars': 1, 'uiaccessibility': 1, 'mobile-development': 1, 'realloc': 1, 'office-interop': 2, 'seeding': 1, 'nmea': 1, 'webauthn': 3, 'compass': 1, 'swiftui-animation': 3, 'aiohttp': 3, 'excel-dates': 1, 'swift-protocols': 1, 'associated-types': 1, 'sendfile': 1, 'polaris': 1, 'bundling-and-minification': 1, 'confidence-interval': 1, 'dart-polymer': 1, 'divide-and-conquer': 1, 'nspanel': 1, 'daisyui': 1, 'openstack-neutron': 2, 'curity': 1, 'leaflet.markercluster': 1, 'conio': 1, 'amazon-kinesis': 1, 'amazon-kinesis-firehose': 2, 'provisioning': 2, 'smali': 1, 'gemfile': 1, 'background-task': 2, 'inferred-type': 1, 'textchanged': 2, 'aws-codebuild': 2, 'remote-debugging': 1, 'iedriverserver': 1, 'sonatype': 1, 'man-in-the-middle': 1, 'dev-appserver': 1, 'alpha': 1, 'alpha-transparency': 2, 'webdriverwait': 1, 'python-lru-cache': 1, 'stomp': 2, 'chai': 3, 'spring-tool-suite': 2, 'hsts': 1, 'https-redirect': 1, 'reporting': 3, 'libvlc': 2, 'libvlcsharp': 1, 'azure-servicebus-queues': 2, 'group': 1, 'openocd': 1, 'clique-problem': 1, 'jmockit': 1, 'javascript-intellisense': 1, 'php-toolkit': 1, 'apache-commons': 1, 'yield': 2, 'appium-android': 2, 'appium-java': 1, 'apksigner': 1, 'google-iam': 3, 'google-cloud-python': 2, 'kornia': 1, 'charindex': 1, 'libgit2sharp': 1, 'shapefile': 1, 'matplotlib-basemap': 1, 'oracle-text': 1, 'visualforce': 1, 'in-app-subscription': 1, 'solr9': 1, 'solr-9.3.0': 2, 'typescript1.8': 1, 'eval': 1, 'behavior': 1, 'pojo': 1, 'smb': 1, 'lme4': 6, 'mql4': 2, 'cache-expiration': 1, 'mapply': 1, 'secret-key': 2, 'dependabot': 1, 'imgui': 1, 'redis-cluster': 7, 'pgbouncer': 1, 'web-performance': 1, 'x++': 2, 'sqlreportingservice': 1, 'autograd': 1, 'ng': 1, 'theorem': 1, 'system.data.sqlclient': 1, '.net-8.0': 1, 'codable': 1, 'http-status-codes': 4, 'kingswaysoft': 1, 'jenkins-plugins': 5, 'auto-update': 2, 'unboundid-ldap-sdk': 3, 'activedirectorymembership': 1, 'test-suite': 1, 'splitbrain': 1, 'docker-login': 1, 'mifare': 2, 'magnetic-cards': 1, 'orgchart': 1, 'single-responsibility-principle': 2, 'lighting': 1, 'modular': 1, 'mapped-types': 1, 'keycloak-angular': 1, 'keycloak-js': 1, 'oracle-apex-5.1': 1, 'disqus': 2, 'disqus-react': 1, 'insomnia': 1, 'homogenous-transformation': 1, 'matrix-transform': 1, 'transformation-matrix': 1, 'hoisting': 2, 'transparent': 2, 'running-balance': 1, 'object-construction': 1, 'multibranch-pipeline': 1, 'audio-device': 1, 'centos8': 1, 'obd-ii': 1, 'react-native-ble-plx': 1, 'nightwatch.js': 1, 'tensorflow-hub': 3, 'tls1.3': 3, 'addeventlistener': 3, 'drools': 2, 'runc': 1, 'rss-reader': 1, 'openfeign': 1, 'radio': 1, 'ui-thread': 1, 'microsoft-translator': 1, 'master-detail': 2, 'pagerank': 1, 'getopt-long': 1, 'federated': 1, 'ios8-share-extension': 1, 'apple-cryptokit': 1, 'type-assertion': 1, 'fileutils': 1, 'hce': 1, 'gatsby-image': 1, 'review': 1, 'polly': 4, 'grpc-c#': 2, 'assert': 1, 'marklogic': 1, 'enhanced-ecommerce': 1, 'azure-files': 1, 'routed-commands': 1, 'mochawesome': 1, 'debian-bookworm': 1, 'multiple-inheritance': 4, 'page-refresh': 1, 'file-processing': 1, 'docker-run': 1, 'symbols': 3, 'bins': 1, 'discrete': 1, 'tabbedpage': 1, 'swipeview': 1, 'pandas-melt': 1, 'mps': 2, 'typeof': 1, 'splunk-query': 3, 'splunk-formula': 1, 'random-effects': 1, 'ionic6': 2, 'sam': 2, 'watermark': 1, 'telegram-api': 2, 'kotlin-android-extensions': 1, 'datarelation': 1, 'maui-android': 2, 'webgoat': 1, 'application-pool': 1, 'nexus': 3, 'multiclass-classification': 2, 'payload': 1, 'imbalanced-data': 1, 'ray': 2, 'rllib': 1, 'prismic.io': 1, 'python-requests-html': 2, 'google-directions-api': 2, 'android-api-33': 2, 'ps1': 1, 'azure-ai-translator': 1, 'genexus-sd': 1, 'lerna': 2, 'bit-fields': 1, 'typescript-5': 1, 'uno-platform': 2, 'joomla4': 2, 'svgator': 1, 'implicit': 1, 'actor-critics': 1, 'game-center': 1, 'ts-node-dev': 1, 'unboundid': 1, 'elasticsearch-painless': 1, 'elastalert': 1, 'vsix': 3, 'natvis': 1, 'benchmarking': 2, 'equatable': 1, 'layout-manager': 1, 'azure-configuration': 1, 'wait': 1, 'java-ee-8': 1, 'bfile': 1, 'okta-api': 2, 'maui-blazor': 4, 'heidisql': 1, 'inventory': 2, 'arangodb': 1, 'projects-and-solutions': 2, 'gridfs-stream': 1, 'multer-gridfs-storage': 1, 'html-encode': 1, 'multer-s3': 1, '.net-sdk': 1, 'azure-devops-server-2022': 1, 'browser-automation': 2, 'maui-ios': 2, 'window-resize': 1, 'type-mismatch': 2, 'cas': 1, 'apereo': 1, 'duosecurity': 2, 'horovod': 1, 'flyte': 1, 'sql-like': 3, 'processing-efficiency': 1, 'string-formatting': 2, 'lazarus': 1, '.net-4.6.1': 1, 'java-annotations': 1, 'diskspace': 2, 'code-first': 1, 'aiobotocore': 1, 'cloudevents': 2, 'wacom': 1, '.net-standard': 1, 'shinyjs': 2, 'shinyjqui': 1, 'swipe': 2, 'reverse-shell': 2, 'system-verilog-assertions': 1, 'equation-solving': 2, 'react-native-debugger': 1, 'utf8mb4': 1, 'apache-karaf': 1, 'osgi-fragment': 1, 'firefox-addon-webextensions': 1, 'azure-rm': 2, 'easing': 1, 'maplibre-gl': 1, 'console-application': 2, 'key-value': 4, 'spotless-maven-plugin': 1, 'menuitem': 1, 'ambiguous': 1, 'devcontainer': 2, 'safari-push-notifications': 1, 'semisupervised-learning': 1, 'desktop-application': 4, 'radgridview': 1, 'ssms-18': 1, 'mysql-function': 1, 'react-native-linking': 1, 'simple-salesforce': 3, 'caldav': 1, 'sabredav': 1, 'routed-events': 1, 'capture': 2, 'fixest': 1, 'r-marginaleffects': 1, 'gtk#': 2, 'dynamics-365-sales': 1, 'distinct': 2, 'fuseki': 1, 'web-debug-config': 1, 'evaluator': 1, 'uitableviewdiffabledatasource': 1, 'jvm-hotspot': 2, 'microbenchmark': 1, 'hostheaders': 1, 'bigint': 1, 'fakeiteasy': 1, 'confluence-rest-api': 1, 'xcode14': 2, 'visual-studio-app-center-distribute': 1, 'skia': 2, 'gn': 3, 'concurrentdictionary': 1, 'primitive': 1, 'viewstate': 1, 'change-notification': 1, 'continuous-query-notification': 1, 'angular-directive': 1, 'spring-webclient': 4, 'coefficients': 1, 'librosa': 1, 'usim': 1, 'strawberryshake': 2, 'qt-quick': 1, 'ripple-effect': 1, 'icacls': 2, 'spnego': 1, 'spring-security-kerberos': 1, 'lti': 1, 'conventional-commits': 1, 'commitizen': 1, 'geom-col': 1, 'raid': 1, 'elasticsearch-5': 3, 'optuna': 2, 'gru': 1, 'r2dbc-postgresql': 1, 'bluetooth-profile': 1, 'aws-codestar': 1, 'variance': 1, 'dimensionality-reduction': 2, 'istio-sidecar': 3, 'rdbms': 2, 'executorservice': 1, 'pearson-correlation': 1, 'flask-pymongo': 1, 'cancellation': 2, 'wcf-binding': 1, 'mbtiles': 1, 'sql-null': 1, 'fuzzyjoin': 1, 'wordpress-shortcode': 2, 'metaclass': 1, 'angular-fullstack': 2, 'rake': 1, 'scrollviewer': 2, 'aws-lambda-edge': 1, 'autocad': 2, 'dxf': 1, 'apache-pinot': 1, 'pinot': 1, 'recoiljs': 2, 'docker-java': 1, 'alu': 1, 'ultrawingrid': 1, 'multipleselection': 2, 'tabview': 1, 'smpp': 1, 'adobe-reader': 1, 'python-unittest.mock': 2, 'magicmock': 1, 'cdi': 1, 'jandex': 1, 'opencart': 2, 'circleci': 4, 'single-spa-angular': 2, 'single-spa-react': 1, 'vuex': 4, 'service-locator': 1, 'nvidia-smi': 2, 'github-packages': 2, 'azure-media-services': 1, 'azure-marketplace': 1, 'react-web': 1, 'google-advertising-id': 2, 'liquidsoap': 1, 'oxygenxml': 1, 'aws-chime-sdk': 1, 'amazon-chime': 1, 'app-engine-flexible': 1, 'django-storage': 3, 'django-tenants': 2, 'char': 4, 'getchar': 1, 'pyproject.toml': 1, 'looker': 2, 'mercure': 3, 'buildpack': 2, 'rfid': 4, 'spring-session': 1, 'libwebsockets': 1, 'outline-view': 1, 'grunt-contrib-copy': 1, 'alert': 3, 'httplib': 1, 'boost-beast': 1, 'ambiguous-call': 2, 'mac-address': 1, 'jodatime': 1, 'rasa': 3, 'rasa-nlu': 1, 'rasa-core': 2, 'cloudflare-workers': 1, 'playwright-java': 1, 'sample': 1, 'percy': 1, 'openvpn': 3, 'tunnel': 1, 'eclipse-pdt': 1, 'expression-trees': 1, 'helidon': 2, 'json-each': 1, 'data-entry': 2, 'docker-in-docker': 2, 'aircrack-ng': 1, 'bottle': 2, 'code-injection': 1, 'directx': 2, 'dxgi': 1, 'jfrog-cli': 1, 'jfrog-pipelines': 1, 'jfrog-mission-control': 1, 'flutter-custompainter': 1, 'flutter-canvas': 2, 'aop': 2, 'serilog-sinks-elasticsearch': 1, 'launch': 1, 'unity-container': 1, 'facebook-unity-sdk': 1, 'jqgrid': 1, 'transliteration': 1, 'jitsi-meet': 1, 'petite-vue': 1, 'azure-container-registry': 1, 'userscripts': 1, 'demangler': 1, 'vaadin-grid': 1, 'iceberg': 2, 'apache-iceberg': 2, 'boxplot': 5, 'crosstab': 1, 'android-tablayout': 2, 'android-collapsingtoolbarlayout': 1, 'rancher': 3, 'kubernetes-dashboard': 2, 'gmm': 2, 'httpserver': 2, 'lwip': 2, 'stm32h7': 1, 'wordtopdf': 1, 'phpcs': 1, 'docker-network': 2, 'pwa-studio': 1, 'ehcache': 1, 'terracotta': 1, 'call-recording': 1, 'adafruit': 2, 'dotnet-tool': 1, 'liferay-7': 2, 'liferay-theme': 1, 'liferay-aui': 1, 'liferay-7.1': 1, 'liferay-7.2': 1, 'http-status-code-503': 3, 'unbabel-comet': 1, 'unsupervised-learning': 1, 'rating-system': 1, 'ontology': 1, 'linked-data': 1, 'unc': 1, 'database-cursor': 2, 'uitabbaritem': 1, 'alarmmanager': 2, 'contentview': 1, 'siamese-network': 1, 'py4j': 1, 'device-tree': 1, 'expander': 1, 'vision-transformer': 1, 'standard-deviation': 2, 'android-deep-link': 1, 'flutter-deep-link': 1, 'victory-native': 1, 'break': 1, 'exit': 1, 'tvos14': 1, 'trailing-slash': 1, 'clickhouse-go': 1, 'rocksdb': 2, 'phpspreadsheet': 1, 'laravel-excel': 1, 'aws-app-config': 1, 'figure': 2, 'doxygen': 1, 'paytabs': 1, 'intervention': 1, 'content-disposition': 1, 'optional-parameters': 1, 'fastparquet': 1, 'asp.net-routing': 1, 'cadvisor': 1, 'sip.js': 1, 'flutter-local-notification': 2, 'rmi': 1, 'jconsole': 2, 'motion-detection': 1, 'parallelism-amdahl': 1, 'csvwriter': 1, 'pandera': 1, 'renovate': 1, 'bit-shift': 1, 'boundary': 1, 'flutter-html': 1, 'notarize': 1, 'facebook-pixel': 1, 'golangci-lint': 2, 'stl': 2, 'sidekiq': 1, 'rollbar': 1, 'mel': 1, 'hevc': 3, 'h.265': 3, 'ldap3': 1, 'dbi': 1, 'gitbook': 1, 'obsidian': 1, 'teradatasql': 1, 'medusajs': 1, 'rust-tonic': 1, 'chronicle-queue': 1, 'spark-jdbc': 2, 'datasource': 2, 'tensorflow-transform': 1, 'coredns': 3, 'gssapi': 1, 'mod-auth-kerb': 1, 'zammad': 1, 'lang': 1, 'soap-client': 2, 'operator-precedence': 2, 'tailwind-ui': 2, 'opensea': 2, 'java-threads': 2, 'powershell-remoting': 2, 'android-animation': 2, 'dropbox': 2, 'dropbox-api': 2, 'dropbox-sdk-js': 1, 'np': 1, 'urllib': 2, 'urlopen': 1, 'richtextbox': 3, 'mpdf': 1, 'fpdi': 1, 'sonata-admin': 1, 'numpy-slicing': 1, 'pde': 2, 'keycloak-admin-client': 1, 'launchdarkly': 1, 'aiml': 1, 'tidygraph': 1, 'react-quill': 1, 'dpkg': 1, 'aws-route53': 1, 'flit': 1, 'static-methods': 1, 'instance-methods': 1, 'react-daterange-picker': 1, 'azure-logic-app-standard': 1, 'logic-app': 1, 'react-final-form': 1, 'final-form': 1, 'locationmanager': 1, 'currentlocation': 2, 'data-retrieval': 1, 'plot-annotations': 1, 'signalr.client': 1, 'asp.net-core-signalr': 2, 'azure-signalr': 1, 'rda': 1, 'less': 2, 'secp256k1': 1, 'debian-buster': 2, 'global-hotkey': 1, 'program-analysis': 1, 'iab': 1, 'opensuse': 1, 'iterm2': 2, 'iterm': 1, 'choco': 1, 'elliptic-curve': 2, 'mongodb-kafka-connector': 1, 'metastore': 1, 'header-files': 1, 'document.write': 1, 'key-pair': 2, 'csvtojson': 1, 'json2csv': 1, 'semantic-ui': 1, 'esp-idf': 4, 'processbuilder': 2, 'poc': 1, 'rights': 1, 'pentaho-spoon': 1, 'actiontext': 1, 'varbinary': 1, 'jts': 1, 'spring-integration-dsl': 1, 'filereader': 3, 'private-network-access': 1, 'uitabbar': 1, 'beam': 1, 'eclipselink': 1, 'osdev': 3, 'nexus2': 1, 'intel-vtune': 1, 'clientcredential': 1, 'oauth-2.1': 1, 'dry': 1, 'convention-over-configur': 1, 'pagespeed-insights': 1, 'srcset': 1, 'android-11': 2, 'collision-detection': 2, 'lwjgl': 1, 'joml': 1, 'newman': 2, 'postman-newman': 2, 'babel-eslint': 1, 'android-wear-data-api': 1, 'autocode': 1, 'timefold': 1, 'fmt': 2, 'truffle': 1, 'spring-data-redis': 3, 'google-cloud-memorystore': 2, 'scrollcontroller': 1, 'decoupling': 1, 'python-decouple': 1, 'nft': 1, 'spline': 1, 'vsphere': 2, 'angular-ngmodel': 1, 'python-social-auth': 1, 'pyhive': 1, 'google-cloud-dataproc': 1, 'spark3': 1, 'path-provider': 1, 'avplayer': 1, 'platform': 3, 'unhandled-exception': 1, 'url-launcher': 1, 'read-csv': 1, 'vtk': 2, 'pyvista': 2, 'anychart': 3, 'proguard': 2, 'multi-release-jar': 1, 'auto-route': 1, 'multiplatform': 2, 'grouped-bar-chart': 1, 'language-features': 1, 'wildfly-27': 1, 'x264': 1, 'sage50': 1, 'dynamics-ax-2012': 1, 'dynamics-ax-2012-r2': 1, 'dynamics-ax-2012-r3': 1, 'azure-functions-isolated': 1, 'grpc-java': 3, 'byte-buddy': 1, 'datetimeoffset': 1, 'scss-mixins': 2, 'p-value': 1, 'lexer': 3, 'browsershot': 1, 'maven-jaxb2-plugin': 1, 'cxf-xjc-plugin': 1, 'teachable-machine': 1, 'topojson': 1, 'fiona': 1, 'cut': 1, 'tr': 1, 'github-secret': 1, 'state-saving': 1, 'hikvision': 1, 'android-dialogfragment': 2, 'onbackpressed': 1, 'undefined-index': 2, 'smartcard-reader': 1, 'contactless-smartcard': 1, 'activity-lifecycle': 1, 'android-biometric': 1, 'angular-routing': 1, 'toolbar': 1, 'extbase': 1, 'event-log': 1, 'centering': 1, 'docker-container': 2, 'virtual-keyboard': 1, 'datalust-seq': 1, 'jboss-logging': 1, 'multiple-users': 2, 'nrwl': 3, 'nx-workspace': 1, 'statmodels': 1, 'i18next': 7, 'ejb': 1, 'android-scrollview': 1, 'android-scroll': 1, 'android-overscoll': 1, 'file-structure': 1, 'azure-web-pubsub': 1, 'oauth2-playground': 1, 'static-ip-address': 1, 'erd': 1, 'openldap': 2, 'node-mocks-http': 1, 'mockhttpmessagehandler': 1, 'grub': 1, 'bochs': 1, 'floppy': 1, 'react-functional-component': 3, 'findoneandupdate': 1, 'twitter-search': 1, 'nvidia-jetson': 2, 'laravel-eloquentmany': 1, 'ubuntu-18.04': 2, 'sails.js': 1, 'i18next-http-backend': 1, 'freezed': 1, 'spark-streaming-kafka': 1, 'colcon': 2, 'libreoffice-macros': 1, 'audit-logging': 2, 'swarmplot': 1, 'libusb': 1, 'spring-ldap': 1, 'polynomials': 3, 'twitter-bootstrap-3': 1, 'angular-material-15': 1, 'dreal': 1, 'aws-sts': 1, 'fvm': 1, 'x11': 3, 'xcb': 1, 'xembed': 1, 'bigdata': 4, 'direct3d': 1, 'tokenize': 2, 'protege': 1, 'owl-api': 1, 'manchester-syntax': 1, 'hierarchical-clustering': 2, 'sinon': 4, 'azure-communication-services': 1, 'vtiger': 1, 'vtigercrm': 1, 'dvc': 2, 'thread-priority': 1, 'nice': 1, 'nreco': 1, 'client-side': 2, 'google-maps-advanced-marker-element': 1, 'msxml': 1, 'codeblocks': 1, 'inner-classes': 2, 'jenkins-cli': 1, 'jenkins-api': 1, 'storing-data': 1, 'liferay-service-builder': 1, 'talkback': 2, 'dgl': 1, 'nextcloud': 1, 'self-hosting': 1, 'using-directives': 2, 'dst': 1, 'kubernetes-networkpolicy': 1, 'kind': 1, 'wheelcollider': 1, 'android-livedata': 3, 'forex': 1, 'metatrader5': 1, 'tablesorter': 1, 'btreemap': 2, 'qmainwindow': 1, 'qevent': 1, 'sift': 1, 'flann': 1, 'mmcli': 1, 'android-workmanager': 3, 'bcd': 1, 'symengine': 1, 'native': 5, 'opc-ua': 2, 'node-set': 1, 'primary-key': 1, 'apache-spark-xml': 1, 'global-asax': 1, 'cost-management': 1, 'apache-kafka-mirrormaker': 1, 'unit-of-work': 1, 'non-linear-regression': 1, 'apache-pulsar': 1, 'flutter-workmanager': 1, 'shiprocket': 1, 'cypress-wait-until': 1, 'rabbitmq-exchange': 1, 'freshworks': 1, 'freshservice': 1, 'freshservice-api': 1, 'requirejs': 1, 'aioredis': 1, 'logql': 2, 'grafana-dashboard': 2, 'facebook-business-sdk': 1, 'slim': 1, 'coredump': 1, 'npm-publish': 1, 'github-package-registry': 1, 'roc': 1, 'auc': 1, 'bootloader': 2, 'u-boot': 1, 'geonames': 1, 'gitlab-omnibus': 1, 'pluggable-database': 1, 'google-home': 1, 'google-smart-home': 1, 'delphi-7': 1, 'pimcore-datahub': 1, 'dcom': 1, 'mfrc522': 1, 'kaggle': 2, 'keycloak-connect': 1, 'elasticsearch-query': 1, 'django-celery': 1, 'angular-router': 1, 'solana': 2, 'key-generator': 1, 'slug': 2, 'ncdf4': 1, 'parse-error': 1, 'azure-ai': 3, 'callr': 1, 'lazycolumn': 1, 'android-jetpack-compose-lazy-column': 2, 'rosetta': 1, 'manticore-search': 1, 'manticore': 1, 'android-auto': 1, 'yii2-basic-app': 1, 'postsharp': 1, 'log4postsharp': 1, 'httpwebresponse': 1, 'sap-basis': 1, 'react-i18next': 3, 'core-location': 1, 'ibeacon': 1, 'webex': 2, 'export-to-pdf': 2, 'sap-business-one-di-api': 1, 'laravel-breeze': 2, 'win64': 1, 'react-table-v6': 1, 'imageview': 2, 'contact-form': 1, 'apache-hudi': 1, 'whitespace': 3, 'translate': 3, 'clerk': 1, 'ejbca': 1, 'signserver': 1, 'rtk': 1, 'composable': 2, 'voice-recording': 1, 'appimage': 1, 'appimage-builder': 1, 'mdc-components': 1, 'sql-job': 2, 'azure-stack': 1, 'xmlserializer': 1, 'python-camelot': 1, 'source-control-explorer': 1, 'merge-conflict-resolution': 1, 'image-extraction': 1, 'headless-cms': 2, 'google-index': 1, 'v4l2': 2, 'no-data': 1, 'hubspot': 4, 'azure-devops-server-2020': 1, 'bolts-framework': 1, 'maven-compiler-plugin': 1, 'maven-javadoc-plugin': 1, 'flutter-textformfield': 1, 'django-socialauth': 2, 'octobercms': 1, 'blueprint': 1, 'codemirror-6': 1, 'primereact': 2, 'workload': 1, 'dock': 1, 'progress-4gl': 1, 'flask-restful': 2, 'nonblocking': 2, 'amphp': 1, 'android-navigation-graph': 2, 'botpress': 1, 'z-index': 2, 'charles-proxy': 2, 'python-3.8': 2, 'tensorrt': 2, 'tensorrt-python': 1, 'kill-process': 1, 'userlocation': 1, 'email-attachments': 2, 'inline-attachments': 1, 'urlfetch': 1, 'batch-request': 1, 'directus': 1, 'egit': 1, 'ndjson': 1, 'migradoc': 1, 'pdfsharpcore': 1, 'sql-server-native-client': 1, 'ghcup': 1, 'lvalue': 1, 'graph-databases': 3, 'qsort': 1, 'gradlew': 3, 'overlapping': 1, 'gumroad': 1, 'kubeadm': 1, 'kubespray': 1, 'b-lang': 1, 'widgetliveactivity': 1, 'firebase-analytics': 2, 'bacpac': 2, 'dml': 1, 'okapi': 1, 'answer-set-programming': 1, 'clingo': 1, 'spring-framework-beans': 1, 'unmarked-package': 1, 'videocall': 1, 'flutter-webrtc': 1, 'usermanager': 1, 'python-dateutil': 1, 'singlechildscrollview': 1, 'npm-package': 2, 'google-cloud-url-maps': 1, 'dart-isolates': 1, 'azure-sql-managed-instance': 1, 'laravel-4': 1, 'misra': 2, 'sha256': 1, 'ddev': 1, 'h2o': 1, 'hl7-fhir': 3, 'ng-zorro-antd': 1, 'logitech': 1, 'logitech-gaming-software': 1, '2d-games': 1, 'openssh': 4, 'ssh-agent': 1, 'cfgrib': 1, 'eccodes': 1, 'merchant-account': 1, 'agent-based-modeling': 1, 'formgroups': 1, 'robocode': 1, 'autocad-plugin': 1, 'objectarx': 1, 'redcap': 2, 'libc': 2, 'uic': 1, 'extract-value': 1, 'master-slave': 1, 'image-stitching': 1, 'javacv': 1, 'frame-grab': 1, 'statsd': 1, 'zig': 1, 'tukey': 1, 'debezium-engine': 1, 'postgres15': 1, 'heroku-cli': 1, 'avasset': 1, 'computational-geometry': 1, 'aws-lake-formation': 1, 'hibernate-mapping': 1, 'named-query': 1, 'nas': 1, 'yaxis': 2, 'cci': 1, 'android-softkeyboard': 1, 'joblib': 3, 'pycaret': 1, 'odm': 1, 'gameobject': 2, 'gamlss': 1, 'r-environment': 1, 'eclipse-plugin': 2, 'nextjs-dynamic-routing': 5, 'dynamic-routing': 2, 'tomcat8': 2, 'jit': 1, 'gcs': 1, 'powershell-jobs': 1, 'relational-database': 4, 'angular-unit-test': 1, 'pyav': 2, 'hide': 1, 'uiscenedelegate': 1, 'flink-streaming': 6, 'line-breaks': 2, 'pyvenv': 1, 'cropperjs': 1, 'image-cropper': 1, 'python-wheel': 2, 'cypress-testing-library': 1, 'resource-adapter': 1, 'shapes': 1, 'spring-security-oauth2': 1, 'instanceof': 1, '.net-assembly': 2, 'assembly-binding-redirect': 1, 'python-multiprocessing': 2, 'wavelet-transform': 1, 'pywavelets': 1, 'windows-runtime': 2, 'android-14': 2, 'android-build': 1, 'mamba': 1, 'micromamba': 1, 'e1071': 1, 'gtfs': 1, 'html.dropdownlistfor': 1, 'strongly-typed-view': 1, 'html.hiddenfor': 1, 'htop': 1, 'jira-xray': 2, 'x-ray': 1, 'azure-cosmosdb-sqlapi': 3, 'addition': 2, 'shortest': 1, 'axis': 3, 'multiple-axes': 1, 'django-urls': 2, 'resolver': 1, 'mercurius': 1, 'traffic': 1, 'dgrams': 1, 'react-native-permissions': 1, 'piano': 1, 'magenta': 1, 'tensor2tensor': 1, 'trax': 1, 'twig': 1, 'discrete-mathematics': 1, 'monoids': 1, 'semigroup': 1, 'cassandra-python-driver': 1, 'sveltekit-adapter-node': 1, 'feature-engineering': 3, 'tsfresh': 1, 'dapr': 1, 'membership': 1, 'sccm': 2, 'division': 3, 'negative-number': 1, 'gpiozero': 1, 'yocto-wic': 1, 'sql-convert': 1, 'nd4j': 1, 'video-embedding': 1, 'google-cloud-resource-manager': 1, 'c++03': 1, 'ttl': 1, 'teraterm': 1, 'qitemdelegate': 1, 'react-sidebar': 1, 'rasterio': 3, 'pickerinput': 1, 'hungarian-algorithm': 1, 'winbugs': 1, 'r2jags': 1, 'google-play-core': 1, 'iostream': 1, 'stdmap': 2, 'cross-reference': 1, 'tpm': 3, 'google-fit': 1, 'healthconnect': 1, 'jsplumb': 1, 'shallow-copy': 1, 'ezdxf': 1, 'flutter-downloader': 1, 'react-google-recaptcha': 1, 'git-subtree': 1, 'cross-browser': 2, 'uninitialized-constant': 1, 'jeditorpane': 1, 'wdm': 1, 'auth0-js': 1, 'popover': 1, 'whisper': 2, 'rsuite': 1, 'react-server-components': 1, 'method-chaining': 1, 'neon': 1, 'cortex-a': 1, 'tablelayoutpanel': 1, 'onnxruntime': 1, 'htmlcollection': 1, 'mule-studio': 2, 'anypoint-studio': 2, 'mule-el': 1, 'wsh': 1, 'keyword-argument': 1, 'default-interface-member': 1, 'mvvm-light': 1, 'prisma2': 2, 'caprover': 1, 'brotli': 1, 'http4s': 1, 'vimeo-api': 1, 'pyvimeo': 1, 'sql-injection': 1, 'libgit2': 1, 'subscript': 1, 'distutils': 1, 'visual-studio-2017-build-tools': 1, 'android-studio-3.0': 1, 'android-usb': 1, 'dd': 1, 'webos': 2, 'northwind': 1, 'taglib': 1, 'android-app-signing': 1, 'hashicorp-vault': 5, 'vault': 2, 'google-identity': 1, 'cross-origin-opener-policy': 1, 'error-code': 1, 'ether': 1, 'eigenvalue': 1, 'matrix-decomposition': 1, 'vonage': 2, 'pending-transition': 1, 'react-bootstrap': 3, 'vscode-tasks': 2, 'dunn.test': 2, 'multcompview': 1, 'sqlmodel': 2, 'openair': 1, 'proc': 1, 'apache-zookeeper': 2, 'lets-plot': 1, 'bitlocker': 1, 'fpdf': 1, 'robotics': 3, 'unzip': 2, 'assertj': 1, 'private-subnet': 1, 'matlab-figure': 1, 'edgar': 2, 'sec': 1, 'flatfiledestination': 1, 'softmax': 1, 'xml-generation': 1, 'johnsnowlabs-spark-nlp': 1, 'mapper': 1, 'rwlock': 2, 'pragma': 1, 'automated-refactoring': 1, 'mail-server': 1, 'node-csv-parse': 1, 'echarts4r': 2, 'download-speed': 1, 'window.open': 1, 'access-keys': 1, 'usernametoken': 1, 'initializer': 1, 'stargate-oss': 1, 'agora-web-sdk-ng': 1, 'aws-php-sdk': 2, 'thingsboard': 2, 'gnome': 3, 'wayland': 1, 'gdbus': 1, 'cross-platform': 2, 'inspector': 1, 'data-wrangling': 2, 'cycle-detection': 1, 'maven-3': 1, 'frontend-maven-plugin': 1, 'benchmarkdotnet': 1, 'pikepdf': 1, 'zshrc': 1, 'ngfor': 2, 'angular-dynamic-components': 1, 'supervisord': 1, 'clang++': 2, 'typed-memory-views': 1, 'crtp': 1, 'eyedropper': 1, 'tde': 1, 'aggregateroot': 1, 'vnc': 2, 'data-representation': 1, 'module-alias': 1, 'firebird-3.0': 1, 'android-pay': 1, 'foreach-loop-container': 1, 'cron-task': 1, 'binutils': 1, 'pango': 1, 'datagridcolumn': 1, 'dsharp+': 1, 'flutter-bottomnavigation': 1, 'javasound': 1, 'wave': 1, 'riff': 1, 'portable-applications': 1, 'pluto.jl': 1, 'timeit': 1, 'google-play-developer-api': 1, 'outbound': 1, 'inbound': 1, 'inotifypropertychanged': 1, 'statefulwidget': 1, 'shared-ptr': 1, 'in-place': 1, 'es2022': 1, 'ecmascript-2021': 1, 'return-by-reference': 1, 'postman-flows': 1, 'powershell-2.0': 2, 'semantic-segmentation': 1, 'model-fitting': 2, 'keras-metrics': 1, 'nomad': 1, 'google-docs-api': 2, 'technical-debt': 1, 'dbcontext': 1, 'invalidoperationexception': 2, 'page-title': 1, 'custom-domain': 1, 'azure-container-instances': 1, 'raise': 1, 'access-denied': 1, 'new-psdrive': 1, 'haskell-stack': 1, 'digit': 1, 'rebuild': 1, 'frames': 1, 'parallel-foreach': 1, 'uiimageview': 1, 'android-ndk': 5, 'strcpy': 2, 'tailwind-variants': 1, 'memory-model': 1, 'restriction': 2, 'fullcalendar-6': 1, 'pyarrow': 4, 'libpqxx': 1, 'bin-packing': 1, 'self': 1, 'metatable': 1, 'decap-cms': 1, 'gf': 1, 'selection': 3, 'aws-msk': 1, 'aws-msk-connect': 1, 'reboot': 1, 'sysinternals': 1, 'movefile': 1, 'movefileex': 1, 'gmap.net': 2, 'espressif-idf': 1, 'ad-hoc-distribution': 1, 'xcode-archive': 1, 'chef-infra': 2, 'chef-client': 1, 'federation': 1, 'zustand': 4, 'contravariance': 2, 'node-sqlite3': 1, 'same-origin-policy': 2, 'beginner': 1, 'hdl': 1, 'systemverilog': 2, 'tinymce-react': 1, 'tron': 2, 'tronweb': 1, 'one-to-many': 2, 'entity-relationship': 1, 'publish-subscribe': 2, 'gazebo-simu': 1, 'inventory-management': 1, 'email-bounces': 1, 'catch-all': 1, 'ng-switch': 1, 'fido': 2, 'azure-app-configuration': 1, 'opensql': 1, 'heremaps': 1, 'heremap-navigation': 1, 'datetimepicker': 1, 'redundancy': 1, 'figma-plugin': 1, 'django-constance': 1, 'nexus3': 1, 'integral': 1, 'integrate': 1, 'chrome-devtools-protocol': 1, 'almalinux': 1, 'master-pages': 1, 'rdkit': 1, 'inlines': 1, 'react-aria': 1, 'phoenix-framework': 1, 'mvn-repo': 1, 'isolatedstorage': 1, 'caching-application-block': 1, 'manifest.json': 3, 'tinkerpop': 2, 'invisible-recaptcha': 1, 'findstr': 1, 'errorlevel': 1, 'knapsack-problem': 1, 'dynamic-reports': 1, 'extends': 1, 'varray': 1, 'edb': 1, 'roo': 1, 'seccomp': 1, 'garrys-mod': 1, 'itsdangerous': 1, 'heartbeat': 1, 'mobx': 1, 'pause': 1, 'epsg': 1, 'apache-axis': 1, 'thick-client': 1, 'ada': 2, 'core-telephony': 1, 'nrf52840': 1, 'incognito-mode': 1, 'android-tiramisu': 1, 'custom-element': 1, 'google-dataform': 1, 'self-referencing-table': 1, 'multisite': 1, 'amazon-opensearch': 2, 'avalonedit': 1, 'user-registration': 1, 'glog': 1, 'gflags': 1, 'bazel-cpp': 2, 'apache-zeppelin': 1, 'flink-sql': 1, 'rest-client': 1, 'advanced-rest-client': 1, 'object-files': 2, 'spancat': 1, 'pandasql': 1, 'probability': 2, 'bulk': 1, 'drake': 1, 'average': 2, 'nsdocument': 2, 'accelerate-framework': 1, 'criteria': 2, 'processor': 1, 'trusted-computing': 1, 'wstring': 1, 'qpid-proton': 1, 'gulp-browser-sync': 1, 'spider-chart': 1, 'ribbonx': 1, 'reactor-netty': 2, 'horizontal-pager': 1, 'angular-http-interceptors': 1, 'contains': 1, 'flutter-macos-2.0.0-stable': 1, 'scientific-notation': 2, 'nidaqmx': 1, 'excel-dna': 2, 'excel-udf': 1, 'mean-stack': 1, 'system.reflection': 1, 'angular2-observables': 1, 'bibliography': 1, 'tic-tac-toe': 1, 'ggboxplot': 1, 'watchdog': 1, 'paytm': 2, 'vite-reactjs': 1, 'razorgenerator': 1, 'alsa': 1, 'url-rewrite-module': 1, 'sap-pi': 1, 'stan': 1, 'psalm-php': 1, 'mediator': 2, 'android-soong': 1, 'chess': 1, 'strong-soap': 1, 'nlp-question-answering': 1, 'react-native-web': 1, 'boolean-indexing': 1, 'file-manager': 1, 'lf': 1, 'naming': 1, 'fully-qualified-naming': 1, 'beagleboneblack': 1, 'dart-packages': 1, 'android-asynctask': 1, 'flutter-datetime-picker': 1, 'opentext': 1, 'hpx': 1, 'hp-exstream': 1, 'nestjs-graphql': 1, 'osascript': 1, 'airbyte': 1, 'disassembly': 1, 'objdump': 1, 'fluent-assertions': 1, 'valuetask': 1, 'kapt': 1, 'pcre2': 1, 'jose4j': 1, 'aptos': 1, 'yq': 1, 'currying': 1, 'spaceship-operator': 1, 'scala-macros': 2, 'gml': 1, 'commonjs': 1, 'flutter-windows': 1, 'isbn': 1, 'string-function': 1, 'pdf-reader': 1, 'add-in': 1, 'comaddin': 1, 'msal-react': 1, 'groovy-grape': 1, 'usefetch': 1, 'vertx-verticle': 1, 'vertx-eventbus': 1, 'vert.x-webclient': 1, 'accessibility-insights': 1, 'django-ckeditor': 1, 'ngb-datepicker': 1, 'amazon-glacier': 1, 'kubernetes-cronjob': 1, 'mailx': 2, 'directory-structure': 1, 'kebab-case': 1, 'python-ggplot': 1, 'conditional-compilation': 1, 'plex': 1, 'ieee-754': 2, 'proxmox': 1, 'codeception': 1, 'reportportal': 2, 'jet-engine': 1, 'gulp-4': 1, 'es6-class': 1, 'stub': 1, 'contentlayer': 1, 'taurus': 1, 'zpl': 2, 'laravel-queue': 1, 'phpoffice-phpspreadsheet': 1, 'src': 1, 'clojure': 4, 'clojurescript': 1, 'electric-clojure': 1, 'hyperfiddle': 1, 'opensearchdescription': 1, 'libjpeg-turbo': 1, 'micronaut-client': 1, 'micronaut-rest': 1, 'micronaut-mongodb': 1, 'cropimage.net': 1, 'polyglot-notebooks': 1, 'chart.js-datalabels': 1, 'lightbox': 1, 'mongodump': 1, 'pythonw': 1, 'before-filter': 1, 'ngx-datatable': 1, 'system-verilog-dpi': 1, 'sendmessage': 1, 'doctrine-extensions': 1, 'glue-crawler': 1, 'terragrunt': 1, 'react-navigation-bottom-tab': 2, 'shutdown': 1, 'launchd': 1, 'jaro-winkler': 1, 'low-level-code': 1, 'binary-heap': 1, 'rational-team-concert': 1, 'identify': 1, 'python-internals': 1, 'destroy': 1, 'structural-pattern-matching': 2, 'sonarcloud': 2, 's3-lifecycle-policy': 1, 'markov-chains': 1, 'markov': 1, 'hmmlearn': 1, 'jboss7.x': 1, 'msteams-react-base-component': 1, 'task-module': 1, 'summarization': 1, 'android-jetpack-compose-modifier': 1, 'rxjs5': 1, 'rxjs-pipeable-operators': 1, 'pep8': 1, 'testthat': 1, 'product-variations': 2, 'query-planner': 1, 'hashbytes': 1, 'jest-mock-axios': 1, 'axios-retry': 1, 'retry-axios': 1, 'go-cobra': 1, 'photosphere': 1, 'photosphereviewer': 1, 'nrql': 1, 'mapsui': 1, 'usage-statistics': 1, 'nstoolbar': 1, 'distortion': 1, 'wamp': 3, 'sitecore': 1, 'usb-camera': 1, 'gherkin': 1, 'fisheye': 1, 'face': 1, 'python-language-server': 1, 'pylsp': 1, 'midl': 1, 'rodbc': 1, 'compare': 3, 'plsqldeveloper': 1, 'oracle-adf': 1, 'obs-studio': 1, 'node-red': 2, 'embedded-kafka': 2, 'yii': 2, 'covariance': 2, 'tomcat10': 1, 'pjsip': 1, 'rbind': 1, 'vcl': 1, 'dwscript': 1, 'data-quality': 1, 'lmplot': 1, 'foreign-keys': 3, 'officer': 1, 'compound-assignment': 1, 'multilevel-analysis': 2, 'cascading-deletes': 1, 'keyboard-events': 1, 'exceldatareader': 1, 'formmail': 1, 'google-places-autocomplete': 1, 'rasa-sdk': 1, 'dllimport': 2, 'void-pointers': 1, 'public-key-encryption': 1, 'internals': 1, 'netoffice': 1, 'procdump': 1, 'github-issues': 2, 'dropdownbutton': 2, 'mismatch': 1, 'pgrouting': 1, 'unique-constraint': 1, 'cookieconsent': 2, 'openiddict': 3, 'angular-formly': 1, 'ngx-formly': 1, 'android-appbarlayout': 1, 'android-nestedscrollview': 1, 'flutter-patrol': 1, 'uuid': 1, 'predicate': 1, 'autofill': 2, 'moqui': 1, 'uiimage': 1, 'custom-configuration': 1, 'built-in': 1, 'directed-graph': 1, 'd3-graphviz': 1, 'apple-watch': 1, 'watchos-10': 1, 'ueye': 1, 'c++-winrt': 2, 'react-native-windows': 1, 'ios-pdfkit': 1, 'apple-pdfkit': 2, 'flutter-change-notifier': 1, 'nsubstitute': 1, 'react-strictmode': 2, 'read-data': 1, 'uiviewcontrollerrepresentable': 1, 'segment': 1, 'oauth2-proxy': 1, 'microblaze': 1, 'bytebuffer': 1, 'ruby-3.1': 1, 'templatetags': 1, 'django-custom-tags': 1, 'map-matching': 1, 'leveldb': 1, 'raspbian': 2, 'dtype': 1, 'completion': 1, 'kmdf': 1, 'minifilter': 1, 'odeint': 1, 'httpwebrequest': 1, 'system.net.httpwebrequest': 1, 'candlestick-chart': 1, 'gutenberg-blocks': 1, 'amazon-lex': 1, 'parcelable': 2, 'memorystream': 1, 'azure-management-groups': 1, 'redis-search': 1, 'nxjs': 1, 'google-apis-explorer': 1, 'photo-gallery': 2, 'file-recovery': 1, 'path-converters': 1, 'tkinter-layout': 2, 'kube-scheduler': 1, 'reticulate': 1, 'databricks-repos': 1, 'elasticsearch-plugin': 1, 'scadalts': 1, 'pg-cron': 1, 'passport-local': 1, 'mayanedms': 1, 'angular14upgrade': 1, '.net-core-angular': 1, 'swashbuckle.aspnetcore': 1, 'nswagstudio': 2, 'row-value-expression': 1, 'cypress-origin': 2, 'meter': 1, 'fiware-orion': 1, 'azure-app-registration': 1, 'viewbox': 1, 'fparsec': 1, 'imessage': 1, 'amqp': 1, 'kie': 1, 'seven-segment-display': 1, 'aero-glass': 1, 'gluon': 2, 'google-code': 1, 'libtiff': 1, 'uibutton': 1, 'react-state': 2, 'react-class-based-component': 1, 'transactionmanager': 1, 'spring-boot-starter': 1, 'microprofile': 1, 'smallrye': 1, 'vscode-snippets': 2, 'ultisnips': 1, 'ssas-tabular': 2, 'janusgraph': 1, 'tinkerpop3': 1, 'uinavigationbar': 1, 'qfiledialog': 1, 'tailwind-in-js': 3, 'cudnn': 2, 'fastcgi': 1, 'autodoc': 1, 'swift-package': 1, 'ghostscript.net': 1, 'qt6': 2, 'qqmlapplicationengine': 1, 'v8': 1, 'apple-m2': 1, 'mercurial': 1, 'waitress': 1, 'kallithea': 1, 'pos-for-.net': 1, 'sql-order-by': 2, 'posts': 1, 'impressions': 1, 'glpk': 1, 'amplitude': 1, 'test-plan': 1, 'freebsd': 1, 'hana-xs': 1, 'scheme': 2, 'lilypond': 1, 'mplab': 1, 'bug-reporting': 1, 'xpages': 1, 'xpages-ssjs': 1, 'sqlite3-python': 1, 'cuda-graphs': 1, 'opensaml': 1, 'constructor-injection': 1, 'g1gc': 1, 'fault-tolerance': 1, 'key-management': 1, 'postman-testcase': 1, 'react-native-gesture-handler': 1, 'docker-cli': 2, 'java-security': 1, 'mmap': 1, 'nxp-microcontroller': 1, 'tabcontrol': 1, 'semantic-search': 1, 'collision': 2, 'meilisearch': 1, 'aws-iot': 1, 'population': 1, 'es6-promise': 2, 'spring-batch-tasklet': 1, 'spring-batch-job-monitoring': 1, 'binary-image': 1, 'go-templates': 2, 'grafana-templating': 1, 'recursive-query': 3, 'date-arithmetic': 1, 'ssas-2008': 1, 'ssas-2012': 1, 'zoom-sdk': 1, 'android-network-security-config': 1, 'localizable.strings': 1, 'mapped-drive': 1, 'ssh.net': 1, 'sockjs': 1, 'python-pptx': 1, 'margin': 3, 'countdown': 1, 'nvcc': 1, 'model-viewer': 1, 'flutter-pubspec': 2, 'nodejs-express-server': 1, 'django-redis': 1, 'cumsum': 1, 'spfx-extension': 1, 'iocp': 1, 'gdprconsentform': 1, 'multistage': 1, 'hbbtv': 1, 'bbc-tal': 1, 'flash-memory': 1, 'acumatica-kb': 1, 'sqlfiddle': 1, 'smtpclient': 2, 'calloc': 1, 'waveform': 1, 'real-time-data': 2, 'newrelic-platform': 1, 'just-audio': 2, 'spleeter': 1, 'fast-ai': 1, 'geometry-shader': 1, 'google-filament': 1, 'onkeydown': 1, 'bluetoothheadset': 1, 'faust': 1, 'http-response-codes': 1, 'jedis': 1, 'lettuce': 1, 'controltemplate': 1, 'commandparameter': 1, 'twilio-video': 1, 'quickfix': 2, 'quickfixgo': 1, 'epc': 2, 'nightmare': 1, 'angular-template-variable': 1, 'exoplayer2.x': 1, 'vbe': 1, 'software-update': 1, 'httpexception': 1, 'sktime': 1, 'kafkajs': 1, 'es6-proxy': 1, 'timber': 1, 'synchronized': 1, 'uidynamicbehavior': 1, 'react-native-webview': 1, 'darkmode': 1, 'spring-resttemplate': 1, 'texstudio': 2, 'nvim-lspconfig': 1, 'interlocked': 1, 'textspan': 1, 'inlinespan': 1, 'text.rich': 1, 'jquery-isotope': 1, 'lightgallery-2': 1, 'continuous': 1, 'sap-analysis-for-office': 1, 'aspose.words': 1, 'dnspy': 1, 'connection-pooling': 1, 'pendo': 1, 'application-settings': 1, 'automatic-mixed-precision': 1, 'google-bucket': 1, 'relational-division': 1, 'pypi': 2, 'buildroot': 1, 'exceljs': 1, 'unbound': 1, 'ksh': 1, 'dockerhub': 1, 'aws-devops': 1, 'eclipse-cdt': 1, 'cygwin-64': 1, 'union': 3, 'lateral-join': 1, 'superuser': 1, 'pg-catalog': 1, 'snapshot-testing': 1, 'bentoml': 1, 'owasp-dependency-track': 1, 'touchscreen': 2, 'google-cloud-monitoring': 2, 'adfs': 1, 'perf': 2, 'equals': 1, 'distribution': 2, 'jquery-widgets': 1, 'dyno': 1, 'php-carbon': 1, 'e2e': 2, 'windows-hello': 1, 'ticket-system': 1, 'fortran2018': 1, 'padding': 3, 'sentence-similarity': 1, 'milvus': 1, 'clap': 1, 'region': 1, 'refreshable': 1, 'm2eclipse': 1, 'xv6': 2, 'rally': 1, 'rallyapi': 1, 'jitcode-jitcdde-jitcsde': 1, 'resizable': 1, 'react-grid-layout': 2, 'html2pdf': 1, 'react-rails': 1, 'modeshape': 1, 'redislabs': 1, 'databricks-python-sdk': 1, 'onerror': 1, 'c++-modules': 1, 'jest-mock-extended': 1, 'interactive-brokers': 1, 'tws': 1, 'handlebars.js': 1, 'boost-test': 1, 'lego-mindstorms': 1, 'lego-mindstorms-ev3': 1, 'netstat': 2, 'kafka-join': 1, 'intrinsics': 3, 'riscv': 1, 'mongoose-im': 1, 'browser-sync': 1, 'android-imageview': 1, 'recharts': 1, 'stdio': 1, 'custom-events': 1, 'file-extension': 1, 'creation': 1, 'whiteboard': 1, 'lcd': 2, 'pascalscript': 1, 'getcomputedstyle': 1, 'google-mobile-ads': 2, 'vungle-ads': 1, 'react-dnd': 1, 'chromebook': 1, 'banno-digital-toolkit': 1, 'reach-router': 1, 'multi-window': 1, 'ios-state-restoration': 1, 'xero-api': 2, 'onactivityresult': 1, 'new-outlook': 1, 'simplesamlphp': 1, 'alexa-skills-kit': 2, 'node-oidc-provider': 1, 'scopes': 1, 'fragment-identifier': 1, 'bilinear-interpolation': 1, 'azure-mapping-data-flow': 1, 'blazemeter': 1, 'angular-devkit': 1, 'angular-ssr': 1, 'nx-angular': 1, 'aes-gcm': 1, 'bitcoinlib': 1, 'backticks': 1, 'db2-400': 1, 'testautomationfx': 1, 'gpx': 1, 'react-select-search': 1, 'temporal-tables': 3, 'zoho': 2, 'zoho-deluge': 1, 'webdeploy': 1, 'xcode-cloud': 1, 'lapack': 1, 'echarts': 1, 'apache-echarts': 1, 'play-billing-library': 1, 'sinatra': 1, 'sshd': 1, 'tofixed': 1, 'elasticsearch-analyzers': 1, 'pandas-groupby': 2, 'spring-jdbc': 1, 'swashbuckle': 2, 'sim800': 1, 'sim800l': 1, 'text2vec': 1, 'notion-api': 1, 'airtable': 1, 'zohobooks': 1, 'wwwroot': 1, 'cllocation': 1, 'ios-background-mode': 1, 'laravel-valet': 1, 'valet': 1, 'rolling-sum': 1, 'py-appscript': 1, 'hal': 2, 'workato': 1, 'stargazer': 1, 'marginal-effects': 1, 'method-resolution-order': 1, 'sqlexception': 1, 'database-backups': 2, 'nltk': 1, 'letter-spacing': 1, 'ignore': 1, 'annotorious': 1, 'mxml': 1, 'banner': 2, 'canoe': 1, 'react-native-google-mobile-ads': 1, 'noexcept': 1, 'xmlsec': 1, 'amazon-kcl': 1, 'graylog': 1, 'graylog2': 1, 'graylog3': 1, 'excel-2010': 1, 'cqrs': 2, 'sql-server-data-tools': 1, 'integrity': 2, 'android-sdk-tools': 2, 'flutter-aws-amplify': 1, 'email-validation': 1, 'direct-line-botframework': 2, 'uniq': 1, 'azure-http-trigger': 1, 'isnumeric': 1, 'google-search-platform': 1, 'cordova-ios': 2, 'directory-listing': 1, 'openscenegraph': 1, 'blacklist': 1, 'invalid-characters': 1, 'super': 1, 'typechecking': 1, 'subscriber': 1, 'producer': 1, 'fido-u2f': 1, 'passkey': 1, 'video-upload': 1, 'spring-cloud-gcp': 1, 'substr': 1, 'use-case': 1, 'use-case-diagram': 1, 'family-tree': 1, 'error-log': 1, 'hpa': 1, 'mdm': 2, 'lockdown': 1, 'qtwebengine': 1, 'django-errors': 1, 'type-safety': 1, 'apdu': 1, 'pcsc': 1, 'pac4j': 1, 'dom-element': 1, 'clickonce': 1, 'isbnlib': 1, 'stylus-pen': 1, 'inspect-element': 1, 'android-canvas': 2, 'react-intl': 1, 'android-binder': 1, 'heroku-postgres': 1, 'apostrophe': 1, 'data-anomalies': 1, 'kafka-producer-api': 1, 'apache-camel-k': 1, 'wiremock-standalone': 1, 'spring-scheduled': 1, 'pancakeswap': 2, 'traccar': 1, 'mediastore': 1, 'avd-manager': 2, '.net-runtime': 1, 'lambda-calculus': 1, 'impersonation': 1, 'scrapy-playwright': 1, 'turnjs': 1, 'application.properties': 1, 'simple-html-dom': 1, 'handwriting-recognition': 1, 'android-management-api': 1, 'opencart2.x': 1, 'opencart-3': 1, 'opencart2.3': 1, 'devextreme-angular': 1, 'nicegui': 1, 'depth-buffer': 1, 'depth-testing': 1, 'zbuffer': 1, 'auto-sklearn': 1, 'template-meta-programming': 1, 'confluent-platform': 1, 'confluent-control-center': 1, 'observers': 1, 'rhandsontable': 1, 'facebook-business-manager': 1, 'iar': 1, 'multipeer-connectivity': 1, 'libp2p': 1, 'badge': 1, 'pathlib': 1, 'grapesjs': 1, 'docker-stack': 1, 'code-documentation': 1, 'powershell-cmdlet': 1, 'raw-input': 1, 'oxyplot': 1, 'openapi-generator-cli': 1, 'tensorflow-addons': 1, 'kite': 1, 'ipreviewhandler': 1, 'gmsplacepicker': 1, 'cross-origin-resource-policy': 2, 'executable-jar': 1, 'graphql-spqr': 1, 'ouath-outlook': 1, 'cvat': 1, 'pkce': 1, 'electron-updater': 1, 'jpa-2.0': 1, 'jpa-2.1': 1, 'file-management': 1, 'file-manipulation': 1, 'responsive-filemanager': 1, 'tag-cloud': 1, 'nsdata': 1, 'avkit': 1, 'cvpixelbuffer': 1, 'scheduler': 2, 'cfs': 1, 'lightsail': 1, 'skiasharp': 1, 'eof': 2, 'git-repo': 1, 'welcome-file': 1, 'ms-media-foundation': 1, 'ffpyplayer': 1, 'nt': 1, 'ctf': 1, 'timestep': 1, 'git-cherry-pick': 1, 'mpandroidchart': 2, 'tidyverts': 1, 'intel-pin': 1, 'utc': 1, 'iso8601': 1, 'automatic-license-plate-recognition': 1, 'vbo': 1, 'edge-detection': 1, 'jetpack-compose-accompanist': 1, 'kedro': 1, 'ipmi': 1, 'log4net-configuration': 1, 'log4net-appender': 1, 'primeng-menu': 1, 'sequence-points': 1, 'logical-replication': 1, 'pushy': 1, 'sites': 1, 'iequatable': 1, 'facebook-page': 1, 'pdf-conversion': 1, 'docxtemplater': 1, 'docx-to-pdf-conversion': 1, 'highlightjs': 1, 'quarkus-native': 1, 'double': 1, 'avi': 1, 'dot-matrix': 1, 'database-schema': 1, 'database-testing': 1, 'sql-generation': 1, 'file-type-associations': 1, 'cold-start': 1, 'floor': 1, 'ceil': 1, 'repaint': 1, 'fstream': 1, 'jstockchart': 1, 'mysql-error': 1, 'mainloop': 1, 'racket': 1, 'langchain-js': 1, 'visual-studio-2010': 1, 'gcloud-compute': 1, 'entropy': 2, 'custom-fields': 1, 'podio': 1, 'diagnostic-tools': 1, 'caniuse-lite': 1, 'zeplin': 1, 'ngx-mask': 1, 'jenssegers-mongodb': 1, 'lexical-analysis': 1, 'static-variables': 1, 'aws-roles': 1, 'cherry-pick': 1, 'java-me': 1, 'ioctl': 1, 'bitnami-kafka': 1, 'spring-initializr': 1, 'pyaudio': 1, 'ellipsize': 1, 'pcloud': 1, 'brave': 1, 'chuck': 1, 'arc-browser': 1, 'processing': 1, 'was': 1, 'grid-layout': 1, 'datagridtemplatecolumn': 1, 'image-resizing': 2, 'core-graphics': 1, 'airplay': 1, 'palm': 1, 'jstl': 1, 'trpc.io': 1, 'packaging': 1, 'bluej': 1, 'scrapyd': 1, 'edamam-api': 1, 'dimensions': 1, 'concurrentmodificationexception': 1, 'glmmtmb': 1, 'discord-interactions': 1, 'hatch': 2, 'ubuntu-server': 4, 'pv': 1, 'border-radius': 1, 'borderless': 1, 'adp': 1, 'pygtk': 1, 'pygobject': 1, 'linux-kernel-headers': 1, 'qcompleter': 1, 'sieve-language': 1, 'static-libraries': 2, 'raylib': 1, 'xor': 1, 'completable-future': 2, 'parcel': 2, 'landsat': 1, 'spring-vault': 1, 'guacamole': 1, 'guacamole-common.js': 1, 'cvs': 1, 'tosca': 1, 'memcached': 1, 'isinstance': 1, 'pseudo-element': 1, 'lookup-tables': 1, 'salesforce-commerce-cloud': 1, 'gridbaglayout': 1, 'discriminator': 1, 'apache-age': 1, 'keil': 2, 'st-link': 1, 'tidymodels': 1, 'vuejs-slots': 1, 'tinymce-4': 1, 'patroni': 1, 'systemc': 1, 'suspend': 1, 'paperjs': 1, 'yearmonth': 1, 'penetration-testing': 1, 'cve': 1, 'fstab': 1, 'medium.js': 1, 'matter.js': 1, 'xpath-1.0': 1, 'steganography': 1, 'spring-mongodb': 1, 'named': 1, 'line-count': 1, 'jsondb': 1, 'sublimetext3': 1, 'sublimetext': 2, 'svg-animate': 1, 'self-join': 1, 'coding-efficiency': 1, 'template-specialization': 1, 'pedestal': 1, 'pi': 2, 'messagebroker': 1, 'hivemq': 1, 'c11': 1, 'outofrangeexception': 2, 'objectify': 1, 'braintree': 1, 'shuffle': 1, 'expo-camera': 2, 'z-order': 1, 'civicrm': 1, 'getline': 1, 'tedgebrowser': 1, 'android-multidex': 1, 'nslocalizedstring': 1, 'dateformatter': 1, 'sap-business-technology-platform': 1, 'multilingual': 1, 'ecb': 1, 'javax.crypto': 1, 'latte': 1, 'qtableview': 1, 'qtwidgets': 1, 'qstandarditemmodel': 1, 'qstandarditem': 1, 'vst': 1, 'ableton-live': 1, 'nspopover': 1, 'battery': 1, 'mrtk': 1, 'multitasking': 1, 'gds': 1, '2048': 1, 'github-codespaces': 1, 'updatepanel': 1, 'floating-labels': 1, 'ar.js': 2, 'reserved-words': 1, 'health-monitoring': 1, 'data-masking': 2, 'bare-metal': 1, 'atl': 1, 'xades': 1, 'hyperparameters': 3, 'scikit-learn-pipeline': 1, 'rapier': 1, 'vacuum': 1, 'always-on-top': 1, 'google-cloud-load-balancer': 1, 'ruby-on-rails-4': 1, 'galera': 1, 'flutter-web-browser': 1, 'angularfire': 5, 'tf-idf': 1, 'tfidfvectorizer': 1, 'jdbctemplate': 1, 'tableofcontents': 1, 'lorawan': 1, 'content-encoding': 1, 'signaturepad': 1, 'subdirectory': 1, 'aws-sdk-js-v3': 1, 'visual-studio-mac': 1, 'qtstylesheets': 2, 'qprogressbar': 1, 'rigid-bodies': 2, 'google-chrome-os': 1, 'py2app': 1, 'supervised-learning': 1, 'jls': 2, 'subtyping': 1, '2checkout': 1, 'paylocity': 1, 'reddit': 2, 'trainingloss': 1, 'node-postgres': 1, 'assignment-operator': 1, 'octopus-deploy': 1, 'django-database': 1, 'circular-reference': 1, 'kitty': 1, 'feature-extraction': 2, 'keras-2': 1, 'class-constants': 1, 'kadena': 1, 'configure': 2, 'xlib': 2, 'ncurses': 2, 'curses': 1, 'tr1': 1, 'react-pdfrenderer': 1, 'omnisharp': 1, 'circuit-breaker': 2, 'sequelize-cli': 1, 'python-2.x': 1, 'rawstring': 1, 'moshi': 1, 'rive': 1, 'gpu-shared-memory': 1, 'bank-conflict': 1, 'thorpy': 1, 'dense-rank': 1, 'google-blogger-api': 1, 'git-for-windows': 1, 'stocktwits': 1, 'portainer': 1, 'zef': 1, 'bcc': 1, 'linux-security-module': 1, 'spring-repositories': 1, 'waterfall': 1, 'train-test-split': 1, 'pyscript': 2, 'customvalidator': 1, 'koa': 1, 'koa-router': 1, 'global-key': 1, 'dreamfusion': 1, 'kurento': 1, 'kurento-media-server': 1, 'allocator': 1, 'pocketsphinx': 1, 'xlrd': 1, 'youtube-analytics-api': 1, 'webgpu': 1, 'wgsl': 1, 'webmethod': 1, 'ansible-tower': 1, 'scrolltrigger': 1, 'boost-log': 1, 'delta-sharing': 1, 'android-actionbar': 1, 'symbolic-math': 1, 'semantics': 1, 'immer.js': 1, 'vcf-vcard': 2, 'classname': 1, 'textdecoder': 1, 'go-ethereum': 2, 'python-django-storages': 1, 'digital-ocean-spaces': 2, 'farsi': 1, 'mirror': 1, 'okd': 1, 'resharper': 1, 'reformat': 1, 'ident': 1, 'web-frontend': 2, 'avx2': 1, 'tail-recursion': 2, 'react-native-video': 1, 'mediawiki-extensions': 1, 'hotswap': 1, 'docplex': 1, 'int64': 1, 'microsoft-custom-vision': 1, 'jquery-plugins': 1, 'asp.net-ajax': 1, 'ajaxform': 1, 'pytest-bdd': 1, 'debian-based': 1, 'opengl-compat': 1, 'ember-octane': 1, 'distributedpubsub': 1, 'librdkafka': 3, 'rust-rdkafka': 2, 'wcf-security': 1, 'android-wear-complication': 1, 'samsung-galaxy-watch-4': 1, 'dijkstra': 1, 'sonar-runner': 1, 'encoder': 1, 'apache-poi-4': 1, 'fortify': 2, 'rust-tracing': 1, 'windows-ce': 1, 'typeddict': 1, 'django-elasticsearch-dsl': 1, 'javap': 1, 'dex2jar': 1, 'github-webhook': 1, 'tizen-web-app': 1, 'tizen-studio': 1, 'tizen-tv': 1, 'jtable': 2, 'jlabel': 1, 'imageicon': 1, 'issue-tracking': 1, 'wagtail-apiv2': 1, 'react-ref': 1, 'levelplot': 1, 'lodash': 1, 'rgee': 1, 'autoregressive-models': 1, 'bz2': 1, 'deb': 1, 'google-routes-api': 2, 'bypass': 2, 'xai': 2, 'preview': 1, 'tkinter-entry': 1, 'scrapy-splash': 1, 'jquery-animate': 1, 'eclipse-rcp': 1, 'flutter-upgrade': 1, 'podfile': 1, 'asp.net-mvc-5': 1, 'nuxt-i18n': 2, 'android-manifest': 1, 'purchase-order': 1, 'picture-in-picture': 1, 'hikaricp': 2, 'hyperledger-besu': 1, 'rounded-corners': 1, 'solid-principles': 2, 'stateflow': 1, 'aot': 1, 'native-aot': 1, 'qrcoder': 1, 'decoder': 1, 'video-codecs': 1, 'cypress-cucumber-preprocessor': 1, 'thumbnails': 1, 'kde-plasma': 1, 'ravendb': 1, 'ravendb5': 1, 'manjaro': 1, 'ssmtp': 1, 'jql': 1, 'infinite-loop': 3, 'desfire': 1, 'redhawksdr': 1, 'srs': 1, 'integrated': 1, 'databricks-unity-catalog': 1, 'openswoole': 1, 'database-connectivity': 1, 'binance-api-client': 1, 'lmertest': 1, 'economics': 1, 'trend': 1, 'inline': 1, 'apacheignite': 1, 'ostream': 1, 'webui': 1, 'absolute-value': 1, 'in-memory': 1, 'distributed-caching': 1, 'slideshow': 1, 'reddit-access-token': 1, 'pdb': 1, 'shorebird': 1, 'inverse-kinematics': 1, 'geogebra': 1, 'singlestore': 1, 'void': 1, 'superglobals': 1, 'quarkus-oidc': 1, 'html-editor': 1, 'explorer': 1, 'donut-chart': 1, 'imapx': 1, 'omniauth-facebook': 1, 'visual-studio-app-center': 1, 'feathersjs': 1, 'dispatch': 1, 'aforge': 1, 'masking': 1, 'ferry': 1, 'opendatabase': 1, 'taxonomy': 1, 'plots.jl': 1, 'custom-taxonomy': 1, 'android-sdk-manager': 2, 'android-device-manager': 1, 'gsm': 1, '4g': 1, 'sys': 1, 'facebook-messenger-bot': 1, 'facebook-webhooks': 1, 'uproot': 1, 'polish': 1, 'deep-copy': 1, 'zarr': 1, 'socket.io-client': 1, 'async-profiler': 1, 'json-serialization': 1, 'raml': 1, 'anypoint-platform': 1, 'aws-sam-cli': 1, 'build-settings': 1, 'technical-indicator': 1, 'foregroundstyle': 1, 'b2b': 1, 'ef-fluent-api': 1, 'data-transform': 1, 'flutter-search-delegate': 1, 'uipasteboard': 1, 'vespa': 1, 'lru': 1, 'react-fullstack': 1, 'kivy-recycleview': 1, 'mime': 1, 'geocoding': 1, 'mapael': 1, 'calculus': 2, 'dagshub': 1, 'gnu-screen': 1, 'swift3': 1, 'socks': 1, 'socks5': 1, 'opencv-solvepnp': 1, 'synthesis': 1, 'cd': 1, 'devicetwin': 1, 'google-maps-sdk-ios': 1, 'clip-path': 1, 'htmleditorextender': 1, '3d-model': 1, 'post-quantum-cryptography': 1, 'videoconverter': 1, 'samsung-galaxy': 1, 'pino': 1, 'lockscreen': 1, 'lockscreenwidget': 1, 'infinite': 1, 'aspose.pdf': 1, 'unityads': 2, 'portable-executable': 1, 'low-level': 1, 'msysgit': 1, 'vim-syntax-highlighting': 1, 'rtcpeerconnection': 1, 'response.redirect': 1, 'os.path': 1, 'searchable': 1, 'imagenet': 1, 'handle': 1, 'emm': 1, 'android-work-profile': 1, 'markdown-it': 1, 'vue3-markdown-it': 1, 'gke-networking': 1, 'apache-pig': 2, 'coalesce': 1, 'atom-editor': 1, 'jwilder-nginx-proxy': 1, 'iredmail': 1, 'letsencrypt-nginx-proxy-companion': 1, 'appendfile': 1, 'merge-file': 1, 'arrows': 1, 'flutter-pub': 1, 'ioerror': 1, 'webpack.config.js': 1, 'valueerror': 1, 'react-native-notifications': 1, 'pg-restore': 1, 'object-recognition': 1, 'gabor-filter': 1, 'google-analytics-firebase': 1, 'node.js-typeorm': 1, 'fl-chart': 1, 'docker-swarm-mode': 1, 'gemini': 1, 'flatfilesource': 1, 'dlib': 2, '8051': 2, 'cardinality': 1, 'samsung-dex': 1, 'android-storage': 1, 'antlr': 1, 'uiinputviewcontroller': 1, 'avr-gcc': 1, 'rollapply': 1, 'turbo-c': 1, 'shrine': 1, 'maven-bom': 1, 'spotless': 1, 'chromecast': 1, 'facebook-live-api': 1, 'praw': 1, 'react-google-login': 1, 'google-logging': 1, 'lint-staged': 1, 'labeling': 1, 'data-storage': 1, 'client-side-scripting': 1, 'flutter-dropdownbutton': 1, 'sap-erp': 1, 'bapi': 1, 'virtual-environment': 1, 'icmp': 1, 'hole-punching': 1, 'ant-design-blazor': 1, 'tsconfig.json': 1, 'pdfrenderer': 2, 'react-icons': 1, 'chartkick': 1, 'ibm-bpm': 1, 'discord.net': 1, 'vs-code-settings': 1, 'imutils': 1, 'number-theory': 1, 'diophantine': 1, 'vagrantfile': 1, 'vagrant-provision': 2, 'browser-extension': 1, 'polymorphic-associations': 1, 'flutter-run': 1, 'prefetch': 1, 'gdc': 1, 'ldc': 1, 'liveview': 1, 'vscode-liveshare': 1, 'html-agility-pack': 1, 'google-classroom': 2, 'degrees': 1, 'radians': 1, 'triangle': 1, 'circuit': 1, 'truthtable': 1, 'pytest-asyncio': 1, 'cidr': 1, 'dotnetbar': 1, 'schema.org': 1, 'uifont': 1, 'mod-wsgi': 1, 'reinstall': 1, 'visual-studio-cordova': 1, 'expandable': 1, 'legacy-database': 1, 'variable-fonts': 1, 'job-scheduling': 1, 'bullmq': 1, 'nestjs-mongodb': 1, 'rubocop': 1, 'daterangepicker': 1, 'sqlc': 1, 'message-passing': 1, 'changestream': 1, 'redis-py': 1, 'collapsable': 1, 'jspdf-autotable': 1, 'varnish': 1, 'jemalloc': 1, 'instapy': 1, 'irc': 1, 'twitch-api': 1, 'subgraph': 1, 'isomorphism': 1, 'human-interface': 1, 'flood-fill': 1, 'baduk': 1, 'xserver': 1, 'bitrate': 1, 'few-shot-learning': 1, 'polymorphic-deserialization': 1, 'patchwork': 1, 'shift': 1, 'sliding': 1, 'react-transition-group': 2, 'hashtable': 1, 'immutable.js': 1, 'esb': 1, 'white-framework': 1, 'text-alignment': 1, 'hubspot-crm': 1, 'hubspot-api': 1, 'cni': 1, 'mat-datepicker': 1, 'deepar': 1, 't-test': 1, 'categorical': 1, 'opl': 1, 'array-algorithms': 1, 'outlook-calendar': 1, 'outlook-graph-api': 1, 'orthogonal': 1, 'google-cloud-armor': 1, 'thunderbird': 1, 'flatpak': 1, 'peripherals': 1, 'sign-in-with-apple': 1, 'nsfetchrequest': 1, 'trusted-web-activity': 1, 'static-typing': 1, 'pyscripter': 1, 'spf': 1, 'dkim': 1, 'google-cloud-dns': 1, 'dmarc': 1, 'dsbulk': 1, 'line-height': 1, 'amazon-polly': 1, 'preload': 1, 'stdany': 1, 'hosts': 1, 'android-architecture-navigation': 1, 'python-imageio': 1, 'end-to-end': 1, 'faster-rcnn': 1, 'detach': 1, 'perfmon': 1, 'construct': 1, 'windows-7-x64': 1, 'blue-screen-of-death': 1, 'bitmapdata': 1, 'innertext': 1, 'flask-migrate': 1, 'android-cursor': 1, 'right-to-left': 1, 'zendesk': 1, 'razorpay': 1, 'postgresql-9.1': 1, 'asynchronous-javascript': 1, 'page-layout': 1, 'pdf-annotations': 1, 'expo-auth-session': 1, 'connector': 1, 'web-push': 2, 'bigdecimal': 2, 'numberformatexception': 1, 'aws-documentdb': 1, 'gtable': 1, 'twitch': 1, 'aws-networking': 1, 'spy': 1, 'node-mongodb-native': 1, 'slackware': 1, 'link-local': 1, 'libreadline': 1, 'gcc-warning': 1, 'avx512': 1, 'marshmallow': 2, 'infrastructure': 1, 'tronpy': 1, 'tmux': 1, 'etimedout': 1, 'steam': 1, 'folium-plugins': 1, 'flutter-debug': 1, 'fp-ts': 1, 'django-mptt': 1, 'plantuml': 1, 'xml-documentation': 1, 'file-format': 1, 'email-verification': 1, 'django-testing': 1, 'react-leaflet-v4': 1, 'tpu': 1, 'module-export': 1, 'cross-origin-read-blocking': 1, 'redux-reducers': 1, 'resourcedictionary': 1, 'sql-loader': 1, 'flutter-timer': 1, 'php-password-hash': 1, 'notnull': 1, 'binlog': 1, 'generative-art': 1, 'sortablejs': 1, 'shading': 1, 'mobility': 1, 'naiveui': 1, 'spring-graphql': 1, 'git-send-email': 1, 'keyevent': 1, 'jfreechart': 1, 'shopee': 1, 'hunchentoot': 1, 'clsql': 1, 'cl-who': 1, 'urlsearchparams': 2, 'cancelableoperation': 1, 'mongo-go': 1, 'xmi': 1, 'papyrus': 1, 'targetsdkversion': 1, 'shaka': 1, 'mxnet': 1, 'mxnet-gluon': 1, 'polkit': 1, 'delphi-6': 1, 'autorest': 1, 'project-template': 1, 'robust': 1, 'jsondecoder': 1, 'ssml': 1, 'azure-speech': 1, 'flutter-scrollbar': 1, 'inotify': 1, 'readdir': 1, 'on-screen-keyboard': 1, 'dependent-type': 1, 'coinduction': 1, 'cubical-type-theory': 1, 'usb-drive': 1, 'ddpg': 1, 'nativewind': 1, 'wtelegramclient': 1, 'virtual-inheritance': 1, 'public-method': 1, 'logbook': 1, 'jelastic': 1, 'azure-rbac': 1, 'facebook-prophet': 1, 'instructions': 1, 'spring-cache': 1, 'microstream': 1, 'ios-bluetooth': 1, 'braille': 1, 'c99': 1, 'c89': 1, 'integer-division': 1, 'kotlin-js': 1, 'shiny-server': 1, 'gdelt': 1, 'foreignobject': 1, 'second-level-cache': 1, 'custom-data-attribute': 1, 'teensy': 1, 'continuous-delivery': 1, 'werkzeug': 1, 'glew': 1, 'wordpad': 1, 'sklearn-pandas': 1, 'lightningchart': 2, 'laravel-fortify': 1, 'google-assistant': 1, 'challenge-response': 1, 'quantitative': 1, 'histplot': 1, 'arrow-keys': 1, 'tesseract-5.x': 1, 'react-dom': 1, 'odoo-13': 1, 'esxi': 1, 'sass-loader': 1, 'phylogeny': 1, 'content-tools': 1, 'spring-boot-configuration': 1, 'roadrunner': 1, 'sharedarraybuffer': 1, 'expandablelistview': 1, 'expandablelistadapter': 1, 'electron-react': 1, 'lightning': 1, 'urp': 1, 'xsd-validation': 1, 'referential-integrity': 1, 'late-binding': 1, 'early-binding': 1, 'chunks': 1, 'federated-learning': 1, 'dendrogram': 1, 'deploy-keys': 1, 'mvel': 1, 'href': 1, 'stdformat': 1, 'box2d': 1, 'combinators': 1, 'laravel-routing': 1, 'react-phone-input-2': 1, 'uisplitviewcontroller': 1, 'webengine': 1, 'type-bounds': 1, 'leiningen': 1, 'ring': 1, 'palindrome': 2, 'compile-time': 1, 'click': 1, 'page-transition': 1, 'spring-oauth2': 1, 'oauth2client': 1, 'woocommerce-memberships': 1, 'flask-session': 1, 'ballerina-http': 1, 'google-font-api': 1, 'polyline': 1, 'valuechangelistener': 1, 'redisson': 1, 'ienumerator': 1, 'app-route': 1, 'named-pipes': 2, 'google-document-viewer': 1, 'aws-cloudmap': 1, 'python-3.7': 1, 'spark2': 1, 'saxon-js': 1, 'imu': 1, 'flutter-state': 1, 'bottom-navigation-bar': 1, 'apex-code': 1, 'binning': 1, 'polybase': 1, 'laravel-passport': 1, 'mybatis-mapper': 1, 'tkinter-menu': 1, 'pull-request': 1, 'sliverappbar': 1, 'executioncontext': 1, 'sbt-native-packager': 1, 'examine': 1, 'statistical-test': 1, 'proxies': 1, 'httpx': 1, 'ckeditor4.x': 1, 'fckeditor': 1, 'react-stripe': 1, 'httpresponse': 1, 'spring-data-elasticsearch': 1, 'paraview': 1, 'alpha-beta-pruning': 1, 'vk': 1, 'truncate': 1, 'xamarin.mac': 1, 'rails-activerecord': 1, 'rails-activejob': 1, 'eventprocessorclient': 1, 'appearance': 1, 'imdb': 1, 'spark-avro': 1, 'avro-tools': 1, 'polyfills': 1, 'spring-data-neo4j': 1, 'apple-mail': 1, 'dedicated': 1, 'uibackgroundcolor': 1, 'cncontactviewcontroller': 1, 'epl': 1, 'knp-snappy': 1, 'qz-tray': 1, 'react-native-bridge': 1, 'progressive-enhancement': 1, 'monolithic': 1, 'smooth-scrolling': 1, 'e-sim': 1, 'type-variables': 1, 'gnat': 1, 'trim': 1, 'python-socketio': 1, 'redux-persist': 1, 'cytoscape.js': 1, 'dash-cytoscape': 1, 'azure-autoscaling-block': 1, 'log-likelihood': 1, 'copula': 1, 'user-data': 1, 'transient-failure': 1, 'row-removal': 1, 'qimage': 1, 'qpainter': 2, 'info.plist': 1, 'nwjs': 1, 'kepserverex': 1, 'cadence': 1, 'aws-lambda-integration': 1, 'toggleswitch': 1, 'sendmail': 1, 'visual-studio-mac-2022': 1, 'date-fns-tz': 1, 'finally': 1, 'try-finally': 1, 'sosql': 1, 'share-extension': 1, 'wordfence': 1, 'auto': 1, 'xlwings': 1, 'unicode-escapes': 1, 'requests-oauthlib': 1, 'jscript': 1, 'freshjs': 1, 'object-oriented-database': 1, 'owlready': 1, 'laravel-cashier': 1, 'aws-api-gateway-v2': 1, 'stepper': 1, 'dart-ui': 1, 'email-spam': 1, 'categorical-data': 1, 'code-separation': 1, 'utf-16': 1, 'clause': 1, 'charat': 1, 'dll-reference': 1, 'azure-stream-analytics': 1, 'go-reflect': 1, 'serial-communication': 1, 'usb-otg': 1, 'mathjax': 1, 'flume': 1, 'flume-ng': 1, 'flume-twitter': 1, 'observablecollection': 1, 'google-cloud-networking': 1, 'google-vpc': 1, 'fb-hydra': 1, 'continue': 1, 'temporal-database': 1, 'ng-build': 1, 'angular-cli-ghpages': 1, 'ebcdic': 1, 'xbox': 1, 'gamepad-api': 1, 'itunes': 1, 'finder': 1, 'apple-musickit': 1, 'cubes': 1, 'hypercube': 1, 'alexa-slot': 1, 'omnet++': 1, 'inet': 1, 'docker-mirrors': 1, 'registry-mirrors': 1, 'collider': 1, 'qpixmap': 1, 'reusability': 1, 'arabic': 1, 'google-geocoder': 1, 'react-insta-stories': 1, 'mlops': 1, 'decentralized-applications': 1, 'emu8086': 1, 'react-pdf-viewer': 1, 'riverpod-generator': 1, 'riverpod-annotation': 1, 'pci-dss': 1, 'rootless': 1, 'react-virtuoso': 1, 'java-7': 1, 'evaluatejavascript': 1, 'hybris-data-hub': 1, 'micro-optimization': 1, 'filehandler': 1, 'docking': 1, 'literals': 1, 'azure-rest-api': 1, 'web-application-firewall': 1, 'input-iterator': 1, 'performance-monitor': 1, 'ihostedservice': 1, 'beancreationexception': 1, 'sfdatagrid': 1, 'rake-task': 1, 'rakefile': 1, 'django-orm': 1, 'modelform': 1, 'formset': 1, 'mariadb-10.5': 1, 'reset': 1, 'share-open-graph': 1, 'twitter-share': 1, 'jenkins-update': 1, 'django-serializer': 1, 'path-variables': 1, 'jellyfin': 1, 'uibezierpath': 1, 'server-side': 1, 'httponly': 1, 'maatwebsite-excel': 1, 'jstree': 1, 'android-external-storage': 1, 'rails-models': 1, 'xps': 1, 'type-families': 1, 'popupwindow': 1, 'sparkr': 1, 'elisp': 1, 'image-upload': 1, 'geohashing': 1, 'getstream-chat': 1, 'ddl': 1, 'gridgain': 1, 'keynotfoundexception': 1, 'unordered-map': 1, 'ordereddictionary': 1, 'ordereddict': 1, 'semantic-versioning': 1, 'openacc': 1}\n"
          ]
        }
      ],
      "source": [
        "categories_list = df.Categories.to_list()\n",
        "category_count = {}\n",
        "for categories in categories_list:\n",
        "  category_list = eval(categories)\n",
        "  for category in category_list:\n",
        "    if category in category_count.keys():\n",
        "      category_count[category] += 1\n",
        "    else:\n",
        "      category_count[category] = 1\n",
        "print(f\"Number of Categories: {len(category_count)}\")\n",
        "print(category_count)"
      ]
    },
    {
      "cell_type": "code",
      "execution_count": null,
      "metadata": {
        "colab": {
          "base_uri": "https://localhost:8080/"
        },
        "id": "4pfKYRMvFgJG",
        "outputId": "05dbc00f-128f-4415-d238-f4beda2e2553"
      },
      "outputs": [
        {
          "data": {
            "text/plain": [
              "110"
            ]
          },
          "execution_count": 45,
          "metadata": {},
          "output_type": "execute_result"
        }
      ],
      "source": [
        "int(len(df) * 0.005)"
      ]
    },
    {
      "cell_type": "code",
      "execution_count": 10,
      "metadata": {
        "colab": {
          "base_uri": "https://localhost:8080/"
        },
        "id": "W3FCjoJg_YAn",
        "outputId": "b0e66db2-6ed9-4ada-ffe4-a1b6be081cda"
      },
      "outputs": [
        {
          "data": {
            "text/plain": [
              "(10565, ['symfony', 'web-scraping', 'button', 'zeromq', 'agda'])"
            ]
          },
          "execution_count": 10,
          "metadata": {},
          "output_type": "execute_result"
        }
      ],
      "source": [
        "threshold = int(len(df) * 0.005)\n",
        "rare_categories = [key for key, value in category_count.items() if value < threshold]\n",
        "len(rare_categories), rare_categories[:5]"
      ]
    },
    {
      "cell_type": "code",
      "execution_count": 11,
      "metadata": {
        "colab": {
          "base_uri": "https://localhost:8080/"
        },
        "id": "KuqB3iep_x-6",
        "outputId": "01d19e5b-4d23-4f7f-9523-0a0e11dc462c"
      },
      "outputs": [
        {
          "data": {
            "text/plain": [
              "(17011, 4)"
            ]
          },
          "execution_count": 11,
          "metadata": {},
          "output_type": "execute_result"
        }
      ],
      "source": [
        "categories_list = df.Categories.to_list()\n",
        "revised_category_list = []\n",
        "indices_to_drop = []\n",
        "\n",
        "for idx, categories in enumerate(categories_list):\n",
        "  category_list = eval(categories)\n",
        "  revised_categories = []\n",
        "\n",
        "  for category in category_list:\n",
        "    if category not in rare_categories:\n",
        "      revised_categories.append(category)\n",
        "\n",
        "  if len(revised_categories) == 0:\n",
        "    indices_to_drop.append(idx)\n",
        "  else:\n",
        "    revised_category_list.append(revised_categories)\n",
        "\n",
        "df = df.drop(indices_to_drop).reset_index(drop=True)\n",
        "df.shape"
      ]
    },
    {
      "cell_type": "code",
      "execution_count": 12,
      "metadata": {
        "id": "w2wkEqFdA4l0"
      },
      "outputs": [],
      "source": [
        "df['revised_categories'] = revised_category_list"
      ]
    },
    {
      "cell_type": "code",
      "execution_count": null,
      "metadata": {
        "colab": {
          "base_uri": "https://localhost:8080/",
          "height": 1000
        },
        "id": "YGIQixGyH8NJ",
        "outputId": "68e7f02b-b1f7-4588-a72a-d6fc43d90339"
      },
      "outputs": [
        {
          "data": {
            "text/html": [
              "\n",
              "  <div id=\"df-9efb2594-8494-482f-a8a0-56c0c62ce6f3\" class=\"colab-df-container\">\n",
              "    <div>\n",
              "<style scoped>\n",
              "    .dataframe tbody tr th:only-of-type {\n",
              "        vertical-align: middle;\n",
              "    }\n",
              "\n",
              "    .dataframe tbody tr th {\n",
              "        vertical-align: top;\n",
              "    }\n",
              "\n",
              "    .dataframe thead th {\n",
              "        text-align: right;\n",
              "    }\n",
              "</style>\n",
              "<table border=\"1\" class=\"dataframe\">\n",
              "  <thead>\n",
              "    <tr style=\"text-align: right;\">\n",
              "      <th></th>\n",
              "      <th>Title</th>\n",
              "      <th>URL</th>\n",
              "      <th>Question</th>\n",
              "      <th>Categories</th>\n",
              "      <th>revised_categories</th>\n",
              "    </tr>\n",
              "  </thead>\n",
              "  <tbody>\n",
              "    <tr>\n",
              "      <th>17006</th>\n",
              "      <td>username depednt redirection from login page</td>\n",
              "      <td>https://stackoverflow.com/questions/76933725/username-depednt-redirection-from-login-page</td>\n",
              "      <td>I am trying to create login page where each user redirect to page should be based on username. For example If Manager login, then it should redirect to manager landing page after login and when it login to staff page then it should redirect to staff . Here is my code of login page . But my code is generating error and not working . mysql table have user name \"user\" with four column which are (id, username, password and user_redirect_uri) Here is the code&lt;?php// Initialize the sessionsession_start(); // Check if the user is already logged in, if yes then redirect him to welcome pageif(isset...</td>\n",
              "      <td>['php', 'mysql', 'authentication']</td>\n",
              "      <td>[php, mysql]</td>\n",
              "    </tr>\n",
              "    <tr>\n",
              "      <th>17007</th>\n",
              "      <td>SqlAzureDacpacDeployment@1 - parameter problem</td>\n",
              "      <td>https://stackoverflow.com/questions/76933724/sqlazuredacpacdeployment1-parameter-problem</td>\n",
              "      <td>I have the following devops task in my pipeline:- task: SqlAzureDacpacDeployment@1        inputs:          azureSubscription: 'azureappsharedresources-tfssc-nonprod-dev-001'          ServerName: $(sqlServerName).database.windows.net          DatabaseName: 'sqldb-sms-router-dev-001'          AuthenticationType: 'aadAuthenticationIntegrated'          deployType: SqlTask          SqlFile: './deploy/azure-pipelines/addContainedUsers.sql'          SqlAdditionalArguments: '-UserName func-sms-router-dev-001 -DatabaseName sqldb-sms-router-dev-001'The content of the addContainedUsers.sql file is::s...</td>\n",
              "      <td>['powershell', 'azure-devops']</td>\n",
              "      <td>[powershell]</td>\n",
              "    </tr>\n",
              "    <tr>\n",
              "      <th>17008</th>\n",
              "      <td>How do I instantiate structs inside a nested class?</td>\n",
              "      <td>https://stackoverflow.com/questions/76933723/how-do-i-instantiate-structs-inside-a-nested-class</td>\n",
              "      <td>So I googled everywhere and cannot get a straight answer to my problem. I haven't touch C++ in a while so I wanted to approach a minimalist coding structure, but I ran into a problem.I have a parent class call Data in a .h fileI have 2 more classes nested in Data called \"Memory\" &amp; \"Functions\"I created 2 .cpp files, one for each nested classes, \"Memory.cpp\" stores variable and struct data and \"Functions.cpp\" stores function dataI am having issues with the \"Memory\" classI cannot find a way or solution to instantiate the \"Memory\" class's structs at all try as I mightHere is my Classes.h file#...</td>\n",
              "      <td>['c++', 'struct', 'nested', 'inner-classes']</td>\n",
              "      <td>[c++]</td>\n",
              "    </tr>\n",
              "    <tr>\n",
              "      <th>17009</th>\n",
              "      <td>How to reverse_lazy user in template view's get_context_data</td>\n",
              "      <td>https://stackoverflow.com/questions/76933722/how-to-reverse-lazy-user-in-template-views-get-context-data</td>\n",
              "      <td>Does anyone know how I can redirect the user to another link using the get_context_data? The reverse lazy below is not working:def get_context_data(self, **kwargs):    context = super(Name, self).get_context_data(**kwargs)    return reverse_lazy('link_name', kwargs={'pk': self.kwargs['pk']})</td>\n",
              "      <td>['django', 'django-models', 'django-views', 'django-forms', 'django-templates']</td>\n",
              "      <td>[django]</td>\n",
              "    </tr>\n",
              "    <tr>\n",
              "      <th>17010</th>\n",
              "      <td>How to learn React native [closed]</td>\n",
              "      <td>https://stackoverflow.com/questions/76933718/how-to-learn-react-native</td>\n",
              "      <td>Closed. This question is seeking recommendations for books, tools, software libraries, and more. It does not meet Stack Overflow guidelines. It is not currently accepting answers.We don’t allow questions seeking recommendations for books, tools, software libraries, and more. You can edit the question so it can be answered with facts and citations.Closed 6 days ago.Improve this questionI'm looking to learn React native, but I'm not sure where to start. I've been reading some tutorials, but I'm still feeling a bit lost. Does anyone have any recommendations for resources or courses that would...</td>\n",
              "      <td>['reactjs', 'user-interface', 'mobile', 'native']</td>\n",
              "      <td>[reactjs]</td>\n",
              "    </tr>\n",
              "  </tbody>\n",
              "</table>\n",
              "</div>\n",
              "    <div class=\"colab-df-buttons\">\n",
              "\n",
              "  <div class=\"colab-df-container\">\n",
              "    <button class=\"colab-df-convert\" onclick=\"convertToInteractive('df-9efb2594-8494-482f-a8a0-56c0c62ce6f3')\"\n",
              "            title=\"Convert this dataframe to an interactive table.\"\n",
              "            style=\"display:none;\">\n",
              "\n",
              "  <svg xmlns=\"http://www.w3.org/2000/svg\" height=\"24px\" viewBox=\"0 -960 960 960\">\n",
              "    <path d=\"M120-120v-720h720v720H120Zm60-500h600v-160H180v160Zm220 220h160v-160H400v160Zm0 220h160v-160H400v160ZM180-400h160v-160H180v160Zm440 0h160v-160H620v160ZM180-180h160v-160H180v160Zm440 0h160v-160H620v160Z\"/>\n",
              "  </svg>\n",
              "    </button>\n",
              "\n",
              "  <style>\n",
              "    .colab-df-container {\n",
              "      display:flex;\n",
              "      gap: 12px;\n",
              "    }\n",
              "\n",
              "    .colab-df-convert {\n",
              "      background-color: #E8F0FE;\n",
              "      border: none;\n",
              "      border-radius: 50%;\n",
              "      cursor: pointer;\n",
              "      display: none;\n",
              "      fill: #1967D2;\n",
              "      height: 32px;\n",
              "      padding: 0 0 0 0;\n",
              "      width: 32px;\n",
              "    }\n",
              "\n",
              "    .colab-df-convert:hover {\n",
              "      background-color: #E2EBFA;\n",
              "      box-shadow: 0px 1px 2px rgba(60, 64, 67, 0.3), 0px 1px 3px 1px rgba(60, 64, 67, 0.15);\n",
              "      fill: #174EA6;\n",
              "    }\n",
              "\n",
              "    .colab-df-buttons div {\n",
              "      margin-bottom: 4px;\n",
              "    }\n",
              "\n",
              "    [theme=dark] .colab-df-convert {\n",
              "      background-color: #3B4455;\n",
              "      fill: #D2E3FC;\n",
              "    }\n",
              "\n",
              "    [theme=dark] .colab-df-convert:hover {\n",
              "      background-color: #434B5C;\n",
              "      box-shadow: 0px 1px 3px 1px rgba(0, 0, 0, 0.15);\n",
              "      filter: drop-shadow(0px 1px 2px rgba(0, 0, 0, 0.3));\n",
              "      fill: #FFFFFF;\n",
              "    }\n",
              "  </style>\n",
              "\n",
              "    <script>\n",
              "      const buttonEl =\n",
              "        document.querySelector('#df-9efb2594-8494-482f-a8a0-56c0c62ce6f3 button.colab-df-convert');\n",
              "      buttonEl.style.display =\n",
              "        google.colab.kernel.accessAllowed ? 'block' : 'none';\n",
              "\n",
              "      async function convertToInteractive(key) {\n",
              "        const element = document.querySelector('#df-9efb2594-8494-482f-a8a0-56c0c62ce6f3');\n",
              "        const dataTable =\n",
              "          await google.colab.kernel.invokeFunction('convertToInteractive',\n",
              "                                                    [key], {});\n",
              "        if (!dataTable) return;\n",
              "\n",
              "        const docLinkHtml = 'Like what you see? Visit the ' +\n",
              "          '<a target=\"_blank\" href=https://colab.research.google.com/notebooks/data_table.ipynb>data table notebook</a>'\n",
              "          + ' to learn more about interactive tables.';\n",
              "        element.innerHTML = '';\n",
              "        dataTable['output_type'] = 'display_data';\n",
              "        await google.colab.output.renderOutput(dataTable, element);\n",
              "        const docLink = document.createElement('div');\n",
              "        docLink.innerHTML = docLinkHtml;\n",
              "        element.appendChild(docLink);\n",
              "      }\n",
              "    </script>\n",
              "  </div>\n",
              "\n",
              "\n",
              "<div id=\"df-4ec74c35-b5b8-401e-adbe-7cddafccfc98\">\n",
              "  <button class=\"colab-df-quickchart\" onclick=\"quickchart('df-4ec74c35-b5b8-401e-adbe-7cddafccfc98')\"\n",
              "            title=\"Suggest charts.\"\n",
              "            style=\"display:none;\">\n",
              "\n",
              "<svg xmlns=\"http://www.w3.org/2000/svg\" height=\"24px\"viewBox=\"0 0 24 24\"\n",
              "     width=\"24px\">\n",
              "    <g>\n",
              "        <path d=\"M19 3H5c-1.1 0-2 .9-2 2v14c0 1.1.9 2 2 2h14c1.1 0 2-.9 2-2V5c0-1.1-.9-2-2-2zM9 17H7v-7h2v7zm4 0h-2V7h2v10zm4 0h-2v-4h2v4z\"/>\n",
              "    </g>\n",
              "</svg>\n",
              "  </button>\n",
              "\n",
              "<style>\n",
              "  .colab-df-quickchart {\n",
              "    background-color: #E8F0FE;\n",
              "    border: none;\n",
              "    border-radius: 50%;\n",
              "    cursor: pointer;\n",
              "    display: none;\n",
              "    fill: #1967D2;\n",
              "    height: 32px;\n",
              "    padding: 0 0 0 0;\n",
              "    width: 32px;\n",
              "  }\n",
              "\n",
              "  .colab-df-quickchart:hover {\n",
              "    background-color: #E2EBFA;\n",
              "    box-shadow: 0px 1px 2px rgba(60, 64, 67, 0.3), 0px 1px 3px 1px rgba(60, 64, 67, 0.15);\n",
              "    fill: #174EA6;\n",
              "  }\n",
              "\n",
              "  [theme=dark] .colab-df-quickchart {\n",
              "    background-color: #3B4455;\n",
              "    fill: #D2E3FC;\n",
              "  }\n",
              "\n",
              "  [theme=dark] .colab-df-quickchart:hover {\n",
              "    background-color: #434B5C;\n",
              "    box-shadow: 0px 1px 3px 1px rgba(0, 0, 0, 0.15);\n",
              "    filter: drop-shadow(0px 1px 2px rgba(0, 0, 0, 0.3));\n",
              "    fill: #FFFFFF;\n",
              "  }\n",
              "</style>\n",
              "\n",
              "  <script>\n",
              "    async function quickchart(key) {\n",
              "      const charts = await google.colab.kernel.invokeFunction(\n",
              "          'suggestCharts', [key], {});\n",
              "    }\n",
              "    (() => {\n",
              "      let quickchartButtonEl =\n",
              "        document.querySelector('#df-4ec74c35-b5b8-401e-adbe-7cddafccfc98 button');\n",
              "      quickchartButtonEl.style.display =\n",
              "        google.colab.kernel.accessAllowed ? 'block' : 'none';\n",
              "    })();\n",
              "  </script>\n",
              "</div>\n",
              "    </div>\n",
              "  </div>\n"
            ],
            "text/plain": [
              "                                                              Title  \\\n",
              "17006                  username depednt redirection from login page   \n",
              "17007                SqlAzureDacpacDeployment@1 - parameter problem   \n",
              "17008           How do I instantiate structs inside a nested class?   \n",
              "17009  How to reverse_lazy user in template view's get_context_data   \n",
              "17010                            How to learn React native [closed]   \n",
              "\n",
              "                                                                                                            URL  \\\n",
              "17006                 https://stackoverflow.com/questions/76933725/username-depednt-redirection-from-login-page   \n",
              "17007                  https://stackoverflow.com/questions/76933724/sqlazuredacpacdeployment1-parameter-problem   \n",
              "17008           https://stackoverflow.com/questions/76933723/how-do-i-instantiate-structs-inside-a-nested-class   \n",
              "17009  https://stackoverflow.com/questions/76933722/how-to-reverse-lazy-user-in-template-views-get-context-data   \n",
              "17010                                    https://stackoverflow.com/questions/76933718/how-to-learn-react-native   \n",
              "\n",
              "                                                                                                                                                                                                                                                                                                                                                                                                                                                                                                                                                                                                                      Question  \\\n",
              "17006  I am trying to create login page where each user redirect to page should be based on username. For example If Manager login, then it should redirect to manager landing page after login and when it login to staff page then it should redirect to staff . Here is my code of login page . But my code is generating error and not working . mysql table have user name \"user\" with four column which are (id, username, password and user_redirect_uri) Here is the code<?php// Initialize the sessionsession_start(); // Check if the user is already logged in, if yes then redirect him to welcome pageif(isset...   \n",
              "17007  I have the following devops task in my pipeline:- task: SqlAzureDacpacDeployment@1        inputs:          azureSubscription: 'azureappsharedresources-tfssc-nonprod-dev-001'          ServerName: $(sqlServerName).database.windows.net          DatabaseName: 'sqldb-sms-router-dev-001'          AuthenticationType: 'aadAuthenticationIntegrated'          deployType: SqlTask          SqlFile: './deploy/azure-pipelines/addContainedUsers.sql'          SqlAdditionalArguments: '-UserName func-sms-router-dev-001 -DatabaseName sqldb-sms-router-dev-001'The content of the addContainedUsers.sql file is::s...   \n",
              "17008  So I googled everywhere and cannot get a straight answer to my problem. I haven't touch C++ in a while so I wanted to approach a minimalist coding structure, but I ran into a problem.I have a parent class call Data in a .h fileI have 2 more classes nested in Data called \"Memory\" & \"Functions\"I created 2 .cpp files, one for each nested classes, \"Memory.cpp\" stores variable and struct data and \"Functions.cpp\" stores function dataI am having issues with the \"Memory\" classI cannot find a way or solution to instantiate the \"Memory\" class's structs at all try as I mightHere is my Classes.h file#...   \n",
              "17009                                                                                                                                                                                                                                                                                                                     Does anyone know how I can redirect the user to another link using the get_context_data? The reverse lazy below is not working:def get_context_data(self, **kwargs):    context = super(Name, self).get_context_data(**kwargs)    return reverse_lazy('link_name', kwargs={'pk': self.kwargs['pk']})   \n",
              "17010  Closed. This question is seeking recommendations for books, tools, software libraries, and more. It does not meet Stack Overflow guidelines. It is not currently accepting answers.We don’t allow questions seeking recommendations for books, tools, software libraries, and more. You can edit the question so it can be answered with facts and citations.Closed 6 days ago.Improve this questionI'm looking to learn React native, but I'm not sure where to start. I've been reading some tutorials, but I'm still feeling a bit lost. Does anyone have any recommendations for resources or courses that would...   \n",
              "\n",
              "                                                                            Categories  \\\n",
              "17006                                               ['php', 'mysql', 'authentication']   \n",
              "17007                                                   ['powershell', 'azure-devops']   \n",
              "17008                                     ['c++', 'struct', 'nested', 'inner-classes']   \n",
              "17009  ['django', 'django-models', 'django-views', 'django-forms', 'django-templates']   \n",
              "17010                                ['reactjs', 'user-interface', 'mobile', 'native']   \n",
              "\n",
              "      revised_categories  \n",
              "17006       [php, mysql]  \n",
              "17007       [powershell]  \n",
              "17008              [c++]  \n",
              "17009           [django]  \n",
              "17010          [reactjs]  "
            ]
          },
          "execution_count": 49,
          "metadata": {},
          "output_type": "execute_result"
        }
      ],
      "source": [
        "df.tail()"
      ]
    },
    {
      "cell_type": "code",
      "execution_count": 13,
      "metadata": {
        "colab": {
          "base_uri": "https://localhost:8080/"
        },
        "id": "bSfkyG4zBFw9",
        "outputId": "8de66a21-ee9a-483a-fe41-5538d7eb00c1"
      },
      "outputs": [
        {
          "name": "stdout",
          "output_type": "stream",
          "text": [
            "Number of categories: 69\n",
            "{'php': 592, 'java': 1146, 'javascript': 1951, 'node.js': 625, 'go': 155, 'spring': 214, 'c#': 1004, 'html': 759, 'css': 608, 'vue.js': 168, 'kubernetes': 145, 'wordpress': 239, 'reactjs': 1226, 'json': 206, 'ios': 286, 'swift': 246, 'swiftui': 134, 'python': 2839, 'amazon-web-services': 265, 'selenium-webdriver': 199, 'powershell': 157, 'django': 281, 'spring-boot': 365, 'android': 769, 'kotlin': 283, 'arrays': 208, 'dataframe': 181, 'python-3.x': 362, 'google-sheets': 117, 'typescript': 544, 'c++': 477, 'visual-studio-code': 198, 'next.js': 358, 'angular': 383, 'sql': 419, 'sql-server': 188, 'flask': 113, 'r': 574, 'unity-game-engine': 169, 'excel': 303, 'react-native': 294, 'api': 182, 'express': 141, 'jquery': 164, 'mongodb': 193, 'github': 142, 'flutter': 704, 'dart': 284, 'git': 141, 'docker': 326, 'bash': 120, 'laravel': 259, 'macos': 135, 'postgresql': 253, 'c': 230, 'vba': 176, 'linux': 253, 'windows': 192, 'firebase': 218, 'machine-learning': 111, 'google-cloud-platform': 146, 'asp.net': 123, '.net': 275, 'pandas': 282, 'mysql': 224, 'rust': 130, 'azure': 313, 'database': 160, 'asp.net-core': 119}\n"
          ]
        }
      ],
      "source": [
        "revised_categories_list = df.revised_categories.to_list()\n",
        "revised_category_count = {}\n",
        "for categories in revised_categories_list:\n",
        "  category_list = categories\n",
        "  for category in category_list:\n",
        "    if category in revised_category_count.keys():\n",
        "      revised_category_count[category] += 1\n",
        "    else:\n",
        "      revised_category_count[category] = 1\n",
        "print(f\"Number of categories: {len(revised_category_count)}\")\n",
        "print(revised_category_count)"
      ]
    },
    {
      "cell_type": "code",
      "execution_count": 14,
      "metadata": {
        "id": "77hW5uGTRz2u"
      },
      "outputs": [],
      "source": [
        "encode_category_types = { key: idx for idx, (key, value) in enumerate(revised_category_count.items())}\n",
        "with open(\"category_types_encoded.json\", \"w\") as fp:\n",
        "  json.dump(encode_category_types, fp)"
      ]
    },
    {
      "cell_type": "code",
      "execution_count": 15,
      "metadata": {
        "colab": {
          "base_uri": "https://localhost:8080/"
        },
        "id": "OvQ3vjQTSrKO",
        "outputId": "8acd3a5b-c75c-42d6-f155-835744cdeaeb"
      },
      "outputs": [
        {
          "data": {
            "text/plain": [
              "[0, 1, 0, 0, 0, 1, 0, 0, 0, 0, 0, 0, 0, 0, 0, 0, 0, 0, 0, 0, 0, 0, 0]"
            ]
          },
          "execution_count": 15,
          "metadata": {},
          "output_type": "execute_result"
        }
      ],
      "source": [
        "# We need this because for multilabel classification all genres have possibility to be present in the predictions\n",
        "categorical_category_list = []\n",
        "revised_categories_list = df.revised_categories.to_list()\n",
        "\n",
        "for revised_categories in revised_categories_list:\n",
        "  categorical_list = [0] * len(encode_category_types)\n",
        "  for category in revised_categories:\n",
        "    category_type_index = encode_category_types[category]\n",
        "    categorical_list[category_type_index] = 1\n",
        "  categorical_category_list.append(categorical_list)\n",
        "\n",
        "categorical_category_list[3][:23]"
      ]
    },
    {
      "cell_type": "code",
      "execution_count": 16,
      "metadata": {
        "colab": {
          "base_uri": "https://localhost:8080/",
          "height": 1000
        },
        "id": "MVllFU9VT6fu",
        "outputId": "72c30061-9f4f-4478-debc-8817bf0fddb3"
      },
      "outputs": [
        {
          "data": {
            "text/html": [
              "\n",
              "  <div id=\"df-4887d2b9-61c8-4bdf-b36a-64ee1b5078ce\" class=\"colab-df-container\">\n",
              "    <div>\n",
              "<style scoped>\n",
              "    .dataframe tbody tr th:only-of-type {\n",
              "        vertical-align: middle;\n",
              "    }\n",
              "\n",
              "    .dataframe tbody tr th {\n",
              "        vertical-align: top;\n",
              "    }\n",
              "\n",
              "    .dataframe thead th {\n",
              "        text-align: right;\n",
              "    }\n",
              "</style>\n",
              "<table border=\"1\" class=\"dataframe\">\n",
              "  <thead>\n",
              "    <tr style=\"text-align: right;\">\n",
              "      <th></th>\n",
              "      <th>Title</th>\n",
              "      <th>URL</th>\n",
              "      <th>Question</th>\n",
              "      <th>Categories</th>\n",
              "      <th>revised_categories</th>\n",
              "      <th>category_cat_list</th>\n",
              "    </tr>\n",
              "  </thead>\n",
              "  <tbody>\n",
              "    <tr>\n",
              "      <th>0</th>\n",
              "      <td>your browser version is not supported using symfony browserkit</td>\n",
              "      <td>https://stackoverflow.com/questions/76981459/your-browser-version-is-not-supported-using-symfony-browserkit</td>\n",
              "      <td>I'm trying to automate some features and I need to scarp a web page.So, I'm using browserkit to make external request to website.Everything seems good but there's no useful result in my response because target page is using modern JavaScript.Let's take a look :PHP filerequire \"./vendor/autoload.php\";use Symfony\\Component\\HttpClient\\HttpClient;$client = HttpClient::create([    'max_redirects' =&gt; 7,]);$response = $client-&gt;request(    'GET',    'https://secure.e-konsulat.gov.pl');$statusCode = $response-&gt;getStatusCode();$contentType = $response-&gt;getHeaders()['content-type'][0];$content = $res...</td>\n",
              "      <td>['php', 'symfony', 'web-scraping']</td>\n",
              "      <td>[php]</td>\n",
              "      <td>[1, 0, 0, 0, 0, 0, 0, 0, 0, 0, 0, 0, 0, 0, 0, 0, 0, 0, 0, 0, 0, 0, 0, 0, 0, 0, 0, 0, 0, 0, 0, 0, 0, 0, 0, 0, 0, 0, 0, 0, 0, 0, 0, 0, 0, 0, 0, 0, 0, 0, 0, 0, 0, 0, 0, 0, 0, 0, 0, 0, 0, 0, 0, 0, 0, 0, 0, 0, 0]</td>\n",
              "    </tr>\n",
              "    <tr>\n",
              "      <th>1</th>\n",
              "      <td>how to get button text value in java</td>\n",
              "      <td>https://stackoverflow.com/questions/76981456/how-to-get-button-text-value-in-java</td>\n",
              "      <td>I want to get button text value to do the on click command, but i can't find the right code to do it. I think I need a code to replace the //button text value// on the code showed below.package test;import javax.swing.*;import java.awt.*;import java.awt.event.*;public class Main implements ActionListener{public static void main(String[] args) {        JFrame frame = new JFrame();    frame.setSize(420,420);    frame.setLayout(new GridLayout(1,1));    frame.setDefaultCloseOperation(JFrame.EXIT_ON_CLOSE);    JButton button = new JButton();    button.setText(\"1\");        }    @Override    publ...</td>\n",
              "      <td>['java', 'button']</td>\n",
              "      <td>[java]</td>\n",
              "      <td>[0, 1, 0, 0, 0, 0, 0, 0, 0, 0, 0, 0, 0, 0, 0, 0, 0, 0, 0, 0, 0, 0, 0, 0, 0, 0, 0, 0, 0, 0, 0, 0, 0, 0, 0, 0, 0, 0, 0, 0, 0, 0, 0, 0, 0, 0, 0, 0, 0, 0, 0, 0, 0, 0, 0, 0, 0, 0, 0, 0, 0, 0, 0, 0, 0, 0, 0, 0, 0]</td>\n",
              "    </tr>\n",
              "    <tr>\n",
              "      <th>2</th>\n",
              "      <td>How to make sure communication is stable when using a ZeroMQ REQ-REP in NodeJs-Golang</td>\n",
              "      <td>https://stackoverflow.com/questions/76981455/how-to-make-sure-communication-is-stable-when-using-a-zeromq-req-rep-in-nodejs-g</td>\n",
              "      <td>This is my Node codeasync function runClient() {    console.log('Connecting to hello world server…');    //  Socket to talk to server    const sock = new zmq.Request();    sock.connect('tcp://localhost:5555');    let i = 0;    while (true) {        const msgToSend = 'Hello';        console.log(`Count: ${i} Sending: ${msgToSend}`);        await sock.send(msgToSend);        const [result] = await sock.receive();        console.log(`Count: ${i} Received: ${result.toString()}`);        i++;    }}and here's my Golangpackage mainimport (    \"log\"    \"time\"    zmq \"github.com/pebbe/zmq4\")func mai...</td>\n",
              "      <td>['javascript', 'node.js', 'go', 'zeromq']</td>\n",
              "      <td>[javascript, node.js, go]</td>\n",
              "      <td>[0, 0, 1, 1, 1, 0, 0, 0, 0, 0, 0, 0, 0, 0, 0, 0, 0, 0, 0, 0, 0, 0, 0, 0, 0, 0, 0, 0, 0, 0, 0, 0, 0, 0, 0, 0, 0, 0, 0, 0, 0, 0, 0, 0, 0, 0, 0, 0, 0, 0, 0, 0, 0, 0, 0, 0, 0, 0, 0, 0, 0, 0, 0, 0, 0, 0, 0, 0, 0]</td>\n",
              "    </tr>\n",
              "    <tr>\n",
              "      <th>3</th>\n",
              "      <td>Spring Security for Mobile Application with 3rd Party SSO</td>\n",
              "      <td>https://stackoverflow.com/questions/76981449/spring-security-for-mobile-application-with-3rd-party-sso</td>\n",
              "      <td>I want to allow SSO (single sign-on) via Google, Facebook, or Apple, etc. while having my own User Entity in a database (Spring JPA) for my mobile application project. My User Entity will hold general info (i.e. Email, First/Last, etc.) along with app-related info (i.e. groups, permissions, etc.).The mobile application front-end is React Native, and my back-end is a Spring app (back-end only) that holds the REST API.It looks like I would first allow SSO for Google, Facebook, etc. via an OAuth2 Client on the mobile app front-end. The result of the OAuth2 sign-in (a JWT token) would be sent ...</td>\n",
              "      <td>['java', 'spring', 'spring-security', 'oauth-2.0']</td>\n",
              "      <td>[java, spring]</td>\n",
              "      <td>[0, 1, 0, 0, 0, 1, 0, 0, 0, 0, 0, 0, 0, 0, 0, 0, 0, 0, 0, 0, 0, 0, 0, 0, 0, 0, 0, 0, 0, 0, 0, 0, 0, 0, 0, 0, 0, 0, 0, 0, 0, 0, 0, 0, 0, 0, 0, 0, 0, 0, 0, 0, 0, 0, 0, 0, 0, 0, 0, 0, 0, 0, 0, 0, 0, 0, 0, 0, 0]</td>\n",
              "    </tr>\n",
              "    <tr>\n",
              "      <th>4</th>\n",
              "      <td>{C#, UNITY} Currently working on a flight script. Referenced \"playerAttrib.cs\" script in same folder. All but one var \"doesn't exist\". Details below</td>\n",
              "      <td>https://stackoverflow.com/questions/76981448/c-unity-currently-working-on-a-flight-script-referenced-playerattrib-cs-s</td>\n",
              "      <td>[EDIT ONE: THE FLIGHT CODE IS COMMENTED BECAUSE IT IS BROKEN]I'm currently working on a flight script for my project. I, being a beginner, asked ChatGPT for help regarding formulating this flight script.As of right now, I'm struggling to work on initiating a cooldown without having to bring all the variables from \"playerAttrib.cs\" into this current script, hence why I'm referencing it. Currently, this is the code:using System.Collections;using System.Collections.Generic;using UnityEngine;public class PlayerMovement : MonoBehaviour{    public CharacterController controller;    public float ...</td>\n",
              "      <td>['c#']</td>\n",
              "      <td>[c#]</td>\n",
              "      <td>[0, 0, 0, 0, 0, 0, 1, 0, 0, 0, 0, 0, 0, 0, 0, 0, 0, 0, 0, 0, 0, 0, 0, 0, 0, 0, 0, 0, 0, 0, 0, 0, 0, 0, 0, 0, 0, 0, 0, 0, 0, 0, 0, 0, 0, 0, 0, 0, 0, 0, 0, 0, 0, 0, 0, 0, 0, 0, 0, 0, 0, 0, 0, 0, 0, 0, 0, 0, 0]</td>\n",
              "    </tr>\n",
              "  </tbody>\n",
              "</table>\n",
              "</div>\n",
              "    <div class=\"colab-df-buttons\">\n",
              "\n",
              "  <div class=\"colab-df-container\">\n",
              "    <button class=\"colab-df-convert\" onclick=\"convertToInteractive('df-4887d2b9-61c8-4bdf-b36a-64ee1b5078ce')\"\n",
              "            title=\"Convert this dataframe to an interactive table.\"\n",
              "            style=\"display:none;\">\n",
              "\n",
              "  <svg xmlns=\"http://www.w3.org/2000/svg\" height=\"24px\" viewBox=\"0 -960 960 960\">\n",
              "    <path d=\"M120-120v-720h720v720H120Zm60-500h600v-160H180v160Zm220 220h160v-160H400v160Zm0 220h160v-160H400v160ZM180-400h160v-160H180v160Zm440 0h160v-160H620v160ZM180-180h160v-160H180v160Zm440 0h160v-160H620v160Z\"/>\n",
              "  </svg>\n",
              "    </button>\n",
              "\n",
              "  <style>\n",
              "    .colab-df-container {\n",
              "      display:flex;\n",
              "      gap: 12px;\n",
              "    }\n",
              "\n",
              "    .colab-df-convert {\n",
              "      background-color: #E8F0FE;\n",
              "      border: none;\n",
              "      border-radius: 50%;\n",
              "      cursor: pointer;\n",
              "      display: none;\n",
              "      fill: #1967D2;\n",
              "      height: 32px;\n",
              "      padding: 0 0 0 0;\n",
              "      width: 32px;\n",
              "    }\n",
              "\n",
              "    .colab-df-convert:hover {\n",
              "      background-color: #E2EBFA;\n",
              "      box-shadow: 0px 1px 2px rgba(60, 64, 67, 0.3), 0px 1px 3px 1px rgba(60, 64, 67, 0.15);\n",
              "      fill: #174EA6;\n",
              "    }\n",
              "\n",
              "    .colab-df-buttons div {\n",
              "      margin-bottom: 4px;\n",
              "    }\n",
              "\n",
              "    [theme=dark] .colab-df-convert {\n",
              "      background-color: #3B4455;\n",
              "      fill: #D2E3FC;\n",
              "    }\n",
              "\n",
              "    [theme=dark] .colab-df-convert:hover {\n",
              "      background-color: #434B5C;\n",
              "      box-shadow: 0px 1px 3px 1px rgba(0, 0, 0, 0.15);\n",
              "      filter: drop-shadow(0px 1px 2px rgba(0, 0, 0, 0.3));\n",
              "      fill: #FFFFFF;\n",
              "    }\n",
              "  </style>\n",
              "\n",
              "    <script>\n",
              "      const buttonEl =\n",
              "        document.querySelector('#df-4887d2b9-61c8-4bdf-b36a-64ee1b5078ce button.colab-df-convert');\n",
              "      buttonEl.style.display =\n",
              "        google.colab.kernel.accessAllowed ? 'block' : 'none';\n",
              "\n",
              "      async function convertToInteractive(key) {\n",
              "        const element = document.querySelector('#df-4887d2b9-61c8-4bdf-b36a-64ee1b5078ce');\n",
              "        const dataTable =\n",
              "          await google.colab.kernel.invokeFunction('convertToInteractive',\n",
              "                                                    [key], {});\n",
              "        if (!dataTable) return;\n",
              "\n",
              "        const docLinkHtml = 'Like what you see? Visit the ' +\n",
              "          '<a target=\"_blank\" href=https://colab.research.google.com/notebooks/data_table.ipynb>data table notebook</a>'\n",
              "          + ' to learn more about interactive tables.';\n",
              "        element.innerHTML = '';\n",
              "        dataTable['output_type'] = 'display_data';\n",
              "        await google.colab.output.renderOutput(dataTable, element);\n",
              "        const docLink = document.createElement('div');\n",
              "        docLink.innerHTML = docLinkHtml;\n",
              "        element.appendChild(docLink);\n",
              "      }\n",
              "    </script>\n",
              "  </div>\n",
              "\n",
              "\n",
              "<div id=\"df-4a26a2b0-cbfb-41a4-96a4-ec2b2392e681\">\n",
              "  <button class=\"colab-df-quickchart\" onclick=\"quickchart('df-4a26a2b0-cbfb-41a4-96a4-ec2b2392e681')\"\n",
              "            title=\"Suggest charts.\"\n",
              "            style=\"display:none;\">\n",
              "\n",
              "<svg xmlns=\"http://www.w3.org/2000/svg\" height=\"24px\"viewBox=\"0 0 24 24\"\n",
              "     width=\"24px\">\n",
              "    <g>\n",
              "        <path d=\"M19 3H5c-1.1 0-2 .9-2 2v14c0 1.1.9 2 2 2h14c1.1 0 2-.9 2-2V5c0-1.1-.9-2-2-2zM9 17H7v-7h2v7zm4 0h-2V7h2v10zm4 0h-2v-4h2v4z\"/>\n",
              "    </g>\n",
              "</svg>\n",
              "  </button>\n",
              "\n",
              "<style>\n",
              "  .colab-df-quickchart {\n",
              "    background-color: #E8F0FE;\n",
              "    border: none;\n",
              "    border-radius: 50%;\n",
              "    cursor: pointer;\n",
              "    display: none;\n",
              "    fill: #1967D2;\n",
              "    height: 32px;\n",
              "    padding: 0 0 0 0;\n",
              "    width: 32px;\n",
              "  }\n",
              "\n",
              "  .colab-df-quickchart:hover {\n",
              "    background-color: #E2EBFA;\n",
              "    box-shadow: 0px 1px 2px rgba(60, 64, 67, 0.3), 0px 1px 3px 1px rgba(60, 64, 67, 0.15);\n",
              "    fill: #174EA6;\n",
              "  }\n",
              "\n",
              "  [theme=dark] .colab-df-quickchart {\n",
              "    background-color: #3B4455;\n",
              "    fill: #D2E3FC;\n",
              "  }\n",
              "\n",
              "  [theme=dark] .colab-df-quickchart:hover {\n",
              "    background-color: #434B5C;\n",
              "    box-shadow: 0px 1px 3px 1px rgba(0, 0, 0, 0.15);\n",
              "    filter: drop-shadow(0px 1px 2px rgba(0, 0, 0, 0.3));\n",
              "    fill: #FFFFFF;\n",
              "  }\n",
              "</style>\n",
              "\n",
              "  <script>\n",
              "    async function quickchart(key) {\n",
              "      const charts = await google.colab.kernel.invokeFunction(\n",
              "          'suggestCharts', [key], {});\n",
              "    }\n",
              "    (() => {\n",
              "      let quickchartButtonEl =\n",
              "        document.querySelector('#df-4a26a2b0-cbfb-41a4-96a4-ec2b2392e681 button');\n",
              "      quickchartButtonEl.style.display =\n",
              "        google.colab.kernel.accessAllowed ? 'block' : 'none';\n",
              "    })();\n",
              "  </script>\n",
              "</div>\n",
              "    </div>\n",
              "  </div>\n"
            ],
            "text/plain": [
              "                                                                                                                                                  Title  \\\n",
              "0                                                                                        your browser version is not supported using symfony browserkit   \n",
              "1                                                                                                                  how to get button text value in java   \n",
              "2                                                                 How to make sure communication is stable when using a ZeroMQ REQ-REP in NodeJs-Golang   \n",
              "3                                                                                             Spring Security for Mobile Application with 3rd Party SSO   \n",
              "4  {C#, UNITY} Currently working on a flight script. Referenced \"playerAttrib.cs\" script in same folder. All but one var \"doesn't exist\". Details below   \n",
              "\n",
              "                                                                                                                             URL  \\\n",
              "0                    https://stackoverflow.com/questions/76981459/your-browser-version-is-not-supported-using-symfony-browserkit   \n",
              "1                                              https://stackoverflow.com/questions/76981456/how-to-get-button-text-value-in-java   \n",
              "2  https://stackoverflow.com/questions/76981455/how-to-make-sure-communication-is-stable-when-using-a-zeromq-req-rep-in-nodejs-g   \n",
              "3                         https://stackoverflow.com/questions/76981449/spring-security-for-mobile-application-with-3rd-party-sso   \n",
              "4         https://stackoverflow.com/questions/76981448/c-unity-currently-working-on-a-flight-script-referenced-playerattrib-cs-s   \n",
              "\n",
              "                                                                                                                                                                                                                                                                                                                                                                                                                                                                                                                                                                                                                  Question  \\\n",
              "0  I'm trying to automate some features and I need to scarp a web page.So, I'm using browserkit to make external request to website.Everything seems good but there's no useful result in my response because target page is using modern JavaScript.Let's take a look :PHP filerequire \"./vendor/autoload.php\";use Symfony\\Component\\HttpClient\\HttpClient;$client = HttpClient::create([    'max_redirects' => 7,]);$response = $client->request(    'GET',    'https://secure.e-konsulat.gov.pl');$statusCode = $response->getStatusCode();$contentType = $response->getHeaders()['content-type'][0];$content = $res...   \n",
              "1  I want to get button text value to do the on click command, but i can't find the right code to do it. I think I need a code to replace the //button text value// on the code showed below.package test;import javax.swing.*;import java.awt.*;import java.awt.event.*;public class Main implements ActionListener{public static void main(String[] args) {        JFrame frame = new JFrame();    frame.setSize(420,420);    frame.setLayout(new GridLayout(1,1));    frame.setDefaultCloseOperation(JFrame.EXIT_ON_CLOSE);    JButton button = new JButton();    button.setText(\"1\");        }    @Override    publ...   \n",
              "2  This is my Node codeasync function runClient() {    console.log('Connecting to hello world server…');    //  Socket to talk to server    const sock = new zmq.Request();    sock.connect('tcp://localhost:5555');    let i = 0;    while (true) {        const msgToSend = 'Hello';        console.log(`Count: ${i} Sending: ${msgToSend}`);        await sock.send(msgToSend);        const [result] = await sock.receive();        console.log(`Count: ${i} Received: ${result.toString()}`);        i++;    }}and here's my Golangpackage mainimport (    \"log\"    \"time\"    zmq \"github.com/pebbe/zmq4\")func mai...   \n",
              "3  I want to allow SSO (single sign-on) via Google, Facebook, or Apple, etc. while having my own User Entity in a database (Spring JPA) for my mobile application project. My User Entity will hold general info (i.e. Email, First/Last, etc.) along with app-related info (i.e. groups, permissions, etc.).The mobile application front-end is React Native, and my back-end is a Spring app (back-end only) that holds the REST API.It looks like I would first allow SSO for Google, Facebook, etc. via an OAuth2 Client on the mobile app front-end. The result of the OAuth2 sign-in (a JWT token) would be sent ...   \n",
              "4  [EDIT ONE: THE FLIGHT CODE IS COMMENTED BECAUSE IT IS BROKEN]I'm currently working on a flight script for my project. I, being a beginner, asked ChatGPT for help regarding formulating this flight script.As of right now, I'm struggling to work on initiating a cooldown without having to bring all the variables from \"playerAttrib.cs\" into this current script, hence why I'm referencing it. Currently, this is the code:using System.Collections;using System.Collections.Generic;using UnityEngine;public class PlayerMovement : MonoBehaviour{    public CharacterController controller;    public float ...   \n",
              "\n",
              "                                           Categories  \\\n",
              "0                  ['php', 'symfony', 'web-scraping']   \n",
              "1                                  ['java', 'button']   \n",
              "2           ['javascript', 'node.js', 'go', 'zeromq']   \n",
              "3  ['java', 'spring', 'spring-security', 'oauth-2.0']   \n",
              "4                                              ['c#']   \n",
              "\n",
              "          revised_categories  \\\n",
              "0                      [php]   \n",
              "1                     [java]   \n",
              "2  [javascript, node.js, go]   \n",
              "3             [java, spring]   \n",
              "4                       [c#]   \n",
              "\n",
              "                                                                                                                                                                                                 category_cat_list  \n",
              "0  [1, 0, 0, 0, 0, 0, 0, 0, 0, 0, 0, 0, 0, 0, 0, 0, 0, 0, 0, 0, 0, 0, 0, 0, 0, 0, 0, 0, 0, 0, 0, 0, 0, 0, 0, 0, 0, 0, 0, 0, 0, 0, 0, 0, 0, 0, 0, 0, 0, 0, 0, 0, 0, 0, 0, 0, 0, 0, 0, 0, 0, 0, 0, 0, 0, 0, 0, 0, 0]  \n",
              "1  [0, 1, 0, 0, 0, 0, 0, 0, 0, 0, 0, 0, 0, 0, 0, 0, 0, 0, 0, 0, 0, 0, 0, 0, 0, 0, 0, 0, 0, 0, 0, 0, 0, 0, 0, 0, 0, 0, 0, 0, 0, 0, 0, 0, 0, 0, 0, 0, 0, 0, 0, 0, 0, 0, 0, 0, 0, 0, 0, 0, 0, 0, 0, 0, 0, 0, 0, 0, 0]  \n",
              "2  [0, 0, 1, 1, 1, 0, 0, 0, 0, 0, 0, 0, 0, 0, 0, 0, 0, 0, 0, 0, 0, 0, 0, 0, 0, 0, 0, 0, 0, 0, 0, 0, 0, 0, 0, 0, 0, 0, 0, 0, 0, 0, 0, 0, 0, 0, 0, 0, 0, 0, 0, 0, 0, 0, 0, 0, 0, 0, 0, 0, 0, 0, 0, 0, 0, 0, 0, 0, 0]  \n",
              "3  [0, 1, 0, 0, 0, 1, 0, 0, 0, 0, 0, 0, 0, 0, 0, 0, 0, 0, 0, 0, 0, 0, 0, 0, 0, 0, 0, 0, 0, 0, 0, 0, 0, 0, 0, 0, 0, 0, 0, 0, 0, 0, 0, 0, 0, 0, 0, 0, 0, 0, 0, 0, 0, 0, 0, 0, 0, 0, 0, 0, 0, 0, 0, 0, 0, 0, 0, 0, 0]  \n",
              "4  [0, 0, 0, 0, 0, 0, 1, 0, 0, 0, 0, 0, 0, 0, 0, 0, 0, 0, 0, 0, 0, 0, 0, 0, 0, 0, 0, 0, 0, 0, 0, 0, 0, 0, 0, 0, 0, 0, 0, 0, 0, 0, 0, 0, 0, 0, 0, 0, 0, 0, 0, 0, 0, 0, 0, 0, 0, 0, 0, 0, 0, 0, 0, 0, 0, 0, 0, 0, 0]  "
            ]
          },
          "execution_count": 16,
          "metadata": {},
          "output_type": "execute_result"
        }
      ],
      "source": [
        "df['category_cat_list'] = categorical_category_list\n",
        "df.head()"
      ]
    },
    {
      "cell_type": "markdown",
      "metadata": {
        "id": "0iivDahQUQXM"
      },
      "source": [
        "# Dataloaders and Modeling"
      ]
    },
    {
      "cell_type": "code",
      "execution_count": 17,
      "metadata": {
        "id": "Xvhlz53fU5Pr"
      },
      "outputs": [],
      "source": [
        "labels = list(encode_category_types.keys())"
      ]
    },
    {
      "cell_type": "code",
      "execution_count": 18,
      "metadata": {
        "colab": {
          "base_uri": "https://localhost:8080/",
          "height": 177,
          "referenced_widgets": [
            "a4d4fbd004e24caa9f5ebc30cc102b60",
            "680b89172fad4b4aba99802eb3264022",
            "ff5bf722a0f9418a8659cd9eb5aa8aba",
            "d5b4b507c4654112849760c6a5c04da6",
            "e6371fba46824637a053eacfcaf367bf",
            "986a1128cac1404e8554e6a6fd9edda8",
            "3de4166e3a854ec397b72dc285e0cdee",
            "d6374ac93c8945c790a8fbc030170f15",
            "e6f1b4502e9a4d568fcd231b9b510f00",
            "a13beda18ceb4de7a1a5c680478e6095",
            "c1504be9cedc4f68833517e81e234256",
            "4427bee813c94484880febc30e7ddd68",
            "22daf803de8545709dd1f3182c23b0f0",
            "1b48474601e942dab02a88039272afdd",
            "58fe5f6a94eb45368f8555f305ad17eb",
            "bbd3ce88792e4d1387df168c184f5496",
            "ec94823cf48f452fae92220237808d54",
            "c947f22448e54829a227402bd78534a3",
            "c366987af8ee42359be6d4c4b4b725ab",
            "02bde85c8b1049559b5565e381f72e5d",
            "3034f11d05c64d3aaa791253657d94ec",
            "0d65515716164a2bae744652b393f734",
            "607bed0703044d068de6908bf458dcd5",
            "611aa9ea28c147f7b8dfb5a694a7022e",
            "4262e0d170254e309038b8ebc9c8eab1",
            "6037ff9d61224a2d8083555dc06baa50",
            "d2c76bae7887430a84d15e9d86b4b87d",
            "545294c4a0e64fddb112bf075350fa06",
            "3df07706c1784923a20314864b8d9a5f",
            "6e2eab4a76a745018e9787e6c3bc7f3d",
            "7630756c24664f04a6e5b0423dd92d79",
            "3d414bcb0e6d4959a63634d59d1e5040",
            "67ce6d9d5d7c48bba7451e6a72aae9c1",
            "f54358bf703b4cee851d9a5299173df4",
            "032233fc0d684eb2a19afe266bf09a90",
            "5f97b56ba9a942b48d830896558f32f1",
            "8600345dcb9749658e7be48b89caeacf",
            "0f508854f1d74ebbaa27879992c475aa",
            "c8987166498e49bd8699de237818a794",
            "28974b0ccdc34941ace852977af1057c",
            "b774010474324584a01340f4e2b962b9",
            "418f694e48b6430db2294255112a4ba2",
            "34dde5b7048747b583c3a9a976a630ae",
            "ee62633b32b14c76a37b72ff3bd24614",
            "c669c5a6bcd54df19c13cfab67803f9b",
            "5e56f64e7f5746f6ba065e73adc7b191",
            "6bb5f481f72b4d6f8a96752a17f5f36a",
            "20e2ecb5880e4d8faa1a5927b45a8fec",
            "4966f431454841d6860eb9d1e449092a",
            "8eb88b7c6dc3427cb07debda0899c6f8",
            "b65f7ee57c044e76b768f9a365365257",
            "dbb743f2bd134a3d81a00a87f4acda88",
            "133d2af7e6b9418687f33dbb5062be6c",
            "68838b452c3a4c93ab53afab0b79bf18",
            "6f10ac3c0f6a4174874bf0521bb4acba"
          ]
        },
        "id": "_H_vlv8RUUpc",
        "outputId": "3e97e372-7edb-42b6-eaa2-dcea8a6eee43"
      },
      "outputs": [
        {
          "data": {
            "application/vnd.jupyter.widget-view+json": {
              "model_id": "a4d4fbd004e24caa9f5ebc30cc102b60",
              "version_major": 2,
              "version_minor": 0
            },
            "text/plain": [
              "Downloading (…)lve/main/config.json:   0%|          | 0.00/480 [00:00<?, ?B/s]"
            ]
          },
          "metadata": {},
          "output_type": "display_data"
        },
        {
          "data": {
            "application/vnd.jupyter.widget-view+json": {
              "model_id": "4427bee813c94484880febc30e7ddd68",
              "version_major": 2,
              "version_minor": 0
            },
            "text/plain": [
              "Downloading (…)olve/main/vocab.json:   0%|          | 0.00/899k [00:00<?, ?B/s]"
            ]
          },
          "metadata": {},
          "output_type": "display_data"
        },
        {
          "data": {
            "application/vnd.jupyter.widget-view+json": {
              "model_id": "607bed0703044d068de6908bf458dcd5",
              "version_major": 2,
              "version_minor": 0
            },
            "text/plain": [
              "Downloading (…)olve/main/merges.txt:   0%|          | 0.00/456k [00:00<?, ?B/s]"
            ]
          },
          "metadata": {},
          "output_type": "display_data"
        },
        {
          "data": {
            "application/vnd.jupyter.widget-view+json": {
              "model_id": "f54358bf703b4cee851d9a5299173df4",
              "version_major": 2,
              "version_minor": 0
            },
            "text/plain": [
              "Downloading (…)/main/tokenizer.json:   0%|          | 0.00/1.36M [00:00<?, ?B/s]"
            ]
          },
          "metadata": {},
          "output_type": "display_data"
        },
        {
          "data": {
            "application/vnd.jupyter.widget-view+json": {
              "model_id": "c669c5a6bcd54df19c13cfab67803f9b",
              "version_major": 2,
              "version_minor": 0
            },
            "text/plain": [
              "Downloading model.safetensors:   0%|          | 0.00/331M [00:00<?, ?B/s]"
            ]
          },
          "metadata": {},
          "output_type": "display_data"
        }
      ],
      "source": [
        "model_name = \"distilroberta-base\"\n",
        "model_cls = AutoModelForSequenceClassification\n",
        "config = AutoConfig.from_pretrained(model_name)\n",
        "config.num_labels = len(labels)\n",
        "\n",
        "hf_arch, hf_config, hf_tokenizer, hf_model = get_hf_objects(model_name, model_cls=model_cls, config=config)\n",
        "hf_model.config.problem_type = \"multi_label_classification\""
      ]
    },
    {
      "cell_type": "code",
      "execution_count": 19,
      "metadata": {
        "id": "GZlQWjktUo68"
      },
      "outputs": [],
      "source": [
        "blocks = (TextBlock(hf_arch, hf_config, hf_tokenizer, hf_model), MultiCategoryBlock(encoded=True,vocab=labels))\n",
        "dblock = DataBlock(blocks=blocks, get_x=ColReader('Question'), get_y=ColReader('category_cat_list'), splitter=RandomSplitter(valid_pct=0.1, seed=42))"
      ]
    },
    {
      "cell_type": "code",
      "execution_count": null,
      "metadata": {
        "id": "MssGyiB5VBa4"
      },
      "outputs": [],
      "source": [
        "dls = dblock.dataloaders(df, bs=32)\n",
        "torch.save(dls, \"dataloaders/dls-multilabel-qa-classifier.pkl\")"
      ]
    },
    {
      "cell_type": "code",
      "execution_count": 21,
      "metadata": {
        "id": "CrUFMjsDVPWk"
      },
      "outputs": [],
      "source": [
        "# dls = torch.load(\"dataloaders/dls-multilabel-qa-classifier.pkl\")"
      ]
    },
    {
      "cell_type": "code",
      "execution_count": 22,
      "metadata": {
        "colab": {
          "base_uri": "https://localhost:8080/"
        },
        "id": "2MaVIXp7VTsF",
        "outputId": "0c01d2c0-6e41-41e3-cf51-e667b0b8756b"
      },
      "outputs": [
        {
          "data": {
            "text/plain": [
              "['php', 'java', 'javascript', 'node.js', 'go', 'spring', 'c#', 'html', 'css', 'vue.js', 'kubernetes', 'wordpress', 'reactjs', 'json', 'ios', 'swift', 'swiftui', 'python', 'amazon-web-services', 'selenium-webdriver', 'powershell', 'django', 'spring-boot', 'android', 'kotlin', 'arrays', 'dataframe', 'python-3.x', 'google-sheets', 'typescript', 'c++', 'visual-studio-code', 'next.js', 'angular', 'sql', 'sql-server', 'flask', 'r', 'unity-game-engine', 'excel', 'react-native', 'api', 'express', 'jquery', 'mongodb', 'github', 'flutter', 'dart', 'git', 'docker', 'bash', 'laravel', 'macos', 'postgresql', 'c', 'vba', 'linux', 'windows', 'firebase', 'machine-learning', 'google-cloud-platform', 'asp.net', '.net', 'pandas', 'mysql', 'rust', 'azure', 'database', 'asp.net-core']"
            ]
          },
          "execution_count": 22,
          "metadata": {},
          "output_type": "execute_result"
        }
      ],
      "source": [
        "dls.vocab"
      ]
    },
    {
      "cell_type": "code",
      "execution_count": 23,
      "metadata": {
        "colab": {
          "base_uri": "https://localhost:8080/",
          "height": 314
        },
        "id": "Em7boTDGVhb1",
        "outputId": "f455405e-ef13-4d94-a5df-d7e8375414d6"
      },
      "outputs": [
        {
          "data": {
            "text/html": [
              "<table border=\"1\" class=\"dataframe\">\n",
              "  <thead>\n",
              "    <tr style=\"text-align: right;\">\n",
              "      <th></th>\n",
              "      <th>text</th>\n",
              "      <th>target</th>\n",
              "    </tr>\n",
              "  </thead>\n",
              "  <tbody>\n",
              "    <tr>\n",
              "      <th>0</th>\n",
              "      <td>I got the following Error Message during deployment. The line where the Error occures, was never changed during editing.System.JSONException: Unexpected character ('\"' (code 34)): was expecting comma to separate OBJECT entries at [line:213, column:14] Stack Trace: (System Code) Class.OCRResponseWrapper.parse: line 96, column 1 Class.OCRServiceHandlerTest.testProcessOCRTickets: line 598, column 1This is a shortend version        String response = '{\\n' +               ' \"api_request\": {\\n' +               '</td>\n",
              "      <td>[json]</td>\n",
              "    </tr>\n",
              "    <tr>\n",
              "      <th>1</th>\n",
              "      <td>So I have this RefreshIndicator() which requires RefreshController and a child which is SinglechildScrollView() and I need to add scrollController in it to be able to manipulate the showing and hiding of a widget when a certain position in the screen is met. As below....ScrollController scrollController = ScrollController();...bool showFloatingCategories = false;...@override  void initState() {       scrollController.addListener(_scrollListener);    super.initState();  }...void _scrollListener() {    // Ge</td>\n",
              "      <td>[flutter, dart]</td>\n",
              "    </tr>\n",
              "    <tr>\n",
              "      <th>2</th>\n",
              "      <td>package medinacalc;/* * To change this license header, choose License Headers in Project Properties. * To change this template file, choose Tools | Templates * and open the template in the editor. *//** * * @author Sean */public class SimpleCalc extends javax.swing.JFrame {    double num1=0,num2=0;    String operator=null;    /**     * Creates new form SimpleCalc     */    public SimpleCalc() {        initComponents();    }    /**     * This method is called from within the constructor to initialize the fo</td>\n",
              "      <td>[java]</td>\n",
              "    </tr>\n",
              "    <tr>\n",
              "      <th>3</th>\n",
              "      <td>I am trying to create a resume website and when I launch it on local, it works perfectly, but on hosting the website on Github Pages(tried firebase as well), the column widget with the text is not visible.enter image description hereimport 'package:flutter/gestures.dart';import 'package:flutter/material.dart';import 'package:glitters/glitters.dart';import 'package:youtube_player_flutter/youtube_player_flutter.dart';import 'package:url_launcher/url_launcher.dart';import 'package:flutter_floating_bottom_bar/</td>\n",
              "      <td>[flutter]</td>\n",
              "    </tr>\n",
              "  </tbody>\n",
              "</table>"
            ],
            "text/plain": [
              "<IPython.core.display.HTML object>"
            ]
          },
          "metadata": {},
          "output_type": "display_data"
        }
      ],
      "source": [
        "dls.show_batch(dataloaders=dls, max_n=4, trunc_at=512)"
      ]
    },
    {
      "cell_type": "code",
      "execution_count": null,
      "metadata": {
        "colab": {
          "base_uri": "https://localhost:8080/",
          "height": 154
        },
        "id": "iW0G7xLnX8rt",
        "outputId": "2f3f42d4-90d9-40a8-a5b2-be003dc50735"
      },
      "outputs": [
        {
          "data": {
            "text/html": [
              "<hr/>\n",
              "<h3>accuracy_multi</h3>\n",
              "<blockquote><pre><code>accuracy_multi(inp, targ, thresh=0.5, sigmoid=True)</code></pre></blockquote><p>Compute accuracy when `inp` and `targ` are the same size.</p>\n",
              "<p><a href=\"https://docs.fast.ai/metrics.html#accuracy_multi\" target=\"_blank\" rel=\"noreferrer noopener\">Show in docs</a></p>"
            ],
            "text/plain": [
              "<IPython.core.display.HTML object>"
            ]
          },
          "metadata": {},
          "output_type": "display_data"
        }
      ],
      "source": [
        "doc(accuracy_multi)"
      ]
    },
    {
      "cell_type": "code",
      "execution_count": 24,
      "metadata": {
        "id": "Rdftrmy8Vp6m"
      },
      "outputs": [],
      "source": [
        "model = BaseModelWrapper(hf_model)\n",
        "\n",
        "acc_02 = partial(accuracy_multi, thresh=0.2)\n",
        "\n",
        "learner = Learner(dls,\n",
        "                  model,\n",
        "                  opt_func=partial(OptimWrapper, opt=torch.optim.AdamW),\n",
        "                  loss_func=BCEWithLogitsLossFlat(),\n",
        "                  metrics=[acc_02],\n",
        "                  cbs=[BaseModelCallback],\n",
        "                  splitter=blurr_splitter\n",
        "                  ).to_fp16()"
      ]
    },
    {
      "cell_type": "markdown",
      "metadata": {
        "id": "ZPvvzNxSV0t9"
      },
      "source": [
        "# Stage - 0"
      ]
    },
    {
      "cell_type": "code",
      "execution_count": null,
      "metadata": {
        "id": "ty81uoBYVzmE"
      },
      "outputs": [],
      "source": [
        "learner.freeze()"
      ]
    },
    {
      "cell_type": "code",
      "execution_count": null,
      "metadata": {
        "colab": {
          "base_uri": "https://localhost:8080/",
          "height": 471
        },
        "id": "I4rArCNEV3SE",
        "outputId": "0bc8901d-0bb8-43ce-fd59-43acc2bed13b"
      },
      "outputs": [
        {
          "data": {
            "text/html": [
              "\n",
              "<style>\n",
              "    /* Turns off some styling */\n",
              "    progress {\n",
              "        /* gets rid of default border in Firefox and Opera. */\n",
              "        border: none;\n",
              "        /* Needs to be in here for Safari polyfill so background images work as expected. */\n",
              "        background-size: auto;\n",
              "    }\n",
              "    progress:not([value]), progress:not([value])::-webkit-progress-bar {\n",
              "        background: repeating-linear-gradient(45deg, #7e7e7e, #7e7e7e 10px, #5c5c5c 10px, #5c5c5c 20px);\n",
              "    }\n",
              "    .progress-bar-interrupted, .progress-bar-interrupted::-webkit-progress-bar {\n",
              "        background: #F44336;\n",
              "    }\n",
              "</style>\n"
            ],
            "text/plain": [
              "<IPython.core.display.HTML object>"
            ]
          },
          "metadata": {},
          "output_type": "display_data"
        },
        {
          "data": {
            "text/html": [],
            "text/plain": [
              "<IPython.core.display.HTML object>"
            ]
          },
          "metadata": {},
          "output_type": "display_data"
        },
        {
          "data": {
            "text/plain": [
              "SuggestedLRs(slide=0.0010000000474974513, valley=0.00019054606673307717)"
            ]
          },
          "execution_count": 63,
          "metadata": {},
          "output_type": "execute_result"
        },
        {
          "data": {
            "image/png": "[encoded data removed]",
            "text/plain": [
              "<Figure size 640x480 with 1 Axes>"
            ]
          },
          "metadata": {},
          "output_type": "display_data"
        }
      ],
      "source": [
        "learner.lr_find(suggest_funcs=[slide, valley])"
      ]
    },
    {
      "cell_type": "code",
      "execution_count": null,
      "metadata": {
        "colab": {
          "base_uri": "https://localhost:8080/",
          "height": 112
        },
        "id": "f5EZdBxuWAo9",
        "outputId": "31146dd3-89dd-4be2-bdee-c50e7f473b52"
      },
      "outputs": [
        {
          "data": {
            "text/html": [
              "\n",
              "<style>\n",
              "    /* Turns off some styling */\n",
              "    progress {\n",
              "        /* gets rid of default border in Firefox and Opera. */\n",
              "        border: none;\n",
              "        /* Needs to be in here for Safari polyfill so background images work as expected. */\n",
              "        background-size: auto;\n",
              "    }\n",
              "    progress:not([value]), progress:not([value])::-webkit-progress-bar {\n",
              "        background: repeating-linear-gradient(45deg, #7e7e7e, #7e7e7e 10px, #5c5c5c 10px, #5c5c5c 20px);\n",
              "    }\n",
              "    .progress-bar-interrupted, .progress-bar-interrupted::-webkit-progress-bar {\n",
              "        background: #F44336;\n",
              "    }\n",
              "</style>\n"
            ],
            "text/plain": [
              "<IPython.core.display.HTML object>"
            ]
          },
          "metadata": {},
          "output_type": "display_data"
        },
        {
          "data": {
            "text/html": [
              "<table border=\"1\" class=\"dataframe\">\n",
              "  <thead>\n",
              "    <tr style=\"text-align: left;\">\n",
              "      <th>epoch</th>\n",
              "      <th>train_loss</th>\n",
              "      <th>valid_loss</th>\n",
              "      <th>accuracy_multi</th>\n",
              "      <th>time</th>\n",
              "    </tr>\n",
              "  </thead>\n",
              "  <tbody>\n",
              "    <tr>\n",
              "      <td>0</td>\n",
              "      <td>0.067470</td>\n",
              "      <td>0.061154</td>\n",
              "      <td>0.978120</td>\n",
              "      <td>02:45</td>\n",
              "    </tr>\n",
              "    <tr>\n",
              "      <td>1</td>\n",
              "      <td>0.052501</td>\n",
              "      <td>0.050358</td>\n",
              "      <td>0.981009</td>\n",
              "      <td>02:49</td>\n",
              "    </tr>\n",
              "  </tbody>\n",
              "</table>"
            ],
            "text/plain": [
              "<IPython.core.display.HTML object>"
            ]
          },
          "metadata": {},
          "output_type": "display_data"
        }
      ],
      "source": [
        "learner.fit_one_cycle(2,5.95e-4) # 0.000595273057"
      ]
    },
    {
      "cell_type": "code",
      "execution_count": null,
      "metadata": {
        "colab": {
          "base_uri": "https://localhost:8080/"
        },
        "id": "SPWUiFE5WFcA",
        "outputId": "ff4e3ce9-3f82-4754-c739-c2db718be2f2"
      },
      "outputs": [
        {
          "data": {
            "text/plain": [
              "Path('models/qa-classifier-stage-0.pth')"
            ]
          },
          "execution_count": 65,
          "metadata": {},
          "output_type": "execute_result"
        }
      ],
      "source": [
        "learner.save(\"qa-classifier-stage-0\")"
      ]
    },
    {
      "cell_type": "code",
      "execution_count": null,
      "metadata": {
        "id": "jtaeu-V_WK89"
      },
      "outputs": [],
      "source": [
        "learner.export(\"models/qa-classifier-stage-0.pkl\")"
      ]
    },
    {
      "cell_type": "markdown",
      "metadata": {
        "id": "grdg5-CTWMe1"
      },
      "source": [
        "# Stage - 1"
      ]
    },
    {
      "cell_type": "code",
      "execution_count": 25,
      "metadata": {
        "colab": {
          "base_uri": "https://localhost:8080/"
        },
        "id": "tDSMlbBiWN31",
        "outputId": "6fe9ef38-060d-4be2-98b3-73a8c16a661f"
      },
      "outputs": [
        {
          "data": {
            "text/plain": [
              "<fastai.learner.Learner at 0x7ab0b19190c0>"
            ]
          },
          "execution_count": 25,
          "metadata": {},
          "output_type": "execute_result"
        }
      ],
      "source": [
        "# learner.load(\"qa-classifier-stage-0\")"
      ]
    },
    {
      "cell_type": "code",
      "execution_count": 26,
      "metadata": {
        "id": "hIRcNyH8WRHP"
      },
      "outputs": [],
      "source": [
        "learner.unfreeze()"
      ]
    },
    {
      "cell_type": "code",
      "execution_count": 27,
      "metadata": {
        "colab": {
          "base_uri": "https://localhost:8080/",
          "height": 471
        },
        "id": "J9c73oaBWSbY",
        "outputId": "3247073b-ecfa-4db0-a2d1-99ca460cd73c"
      },
      "outputs": [
        {
          "data": {
            "text/html": [
              "\n",
              "<style>\n",
              "    /* Turns off some styling */\n",
              "    progress {\n",
              "        /* gets rid of default border in Firefox and Opera. */\n",
              "        border: none;\n",
              "        /* Needs to be in here for Safari polyfill so background images work as expected. */\n",
              "        background-size: auto;\n",
              "    }\n",
              "    progress:not([value]), progress:not([value])::-webkit-progress-bar {\n",
              "        background: repeating-linear-gradient(45deg, #7e7e7e, #7e7e7e 10px, #5c5c5c 10px, #5c5c5c 20px);\n",
              "    }\n",
              "    .progress-bar-interrupted, .progress-bar-interrupted::-webkit-progress-bar {\n",
              "        background: #F44336;\n",
              "    }\n",
              "</style>\n"
            ],
            "text/plain": [
              "<IPython.core.display.HTML object>"
            ]
          },
          "metadata": {},
          "output_type": "display_data"
        },
        {
          "data": {
            "text/html": [],
            "text/plain": [
              "<IPython.core.display.HTML object>"
            ]
          },
          "metadata": {},
          "output_type": "display_data"
        },
        {
          "data": {
            "text/plain": [
              "SuggestedLRs(slide=0.004365158267319202, valley=2.0892961401841603e-05)"
            ]
          },
          "execution_count": 27,
          "metadata": {},
          "output_type": "execute_result"
        },
        {
          "data": {
            "image/png": "[encoded data removed]",
            "text/plain": [
              "<Figure size 640x480 with 1 Axes>"
            ]
          },
          "metadata": {},
          "output_type": "display_data"
        }
      ],
      "source": [
        "learner.lr_find(suggest_funcs=[slide, valley])"
      ]
    },
    {
      "cell_type": "code",
      "execution_count": 28,
      "metadata": {
        "colab": {
          "base_uri": "https://localhost:8080/",
          "height": 143
        },
        "id": "FWTIFBbPWUNW",
        "outputId": "4aba61f0-2e43-4325-f8ca-bec64cc3bca2"
      },
      "outputs": [
        {
          "data": {
            "text/html": [
              "\n",
              "<style>\n",
              "    /* Turns off some styling */\n",
              "    progress {\n",
              "        /* gets rid of default border in Firefox and Opera. */\n",
              "        border: none;\n",
              "        /* Needs to be in here for Safari polyfill so background images work as expected. */\n",
              "        background-size: auto;\n",
              "    }\n",
              "    progress:not([value]), progress:not([value])::-webkit-progress-bar {\n",
              "        background: repeating-linear-gradient(45deg, #7e7e7e, #7e7e7e 10px, #5c5c5c 10px, #5c5c5c 20px);\n",
              "    }\n",
              "    .progress-bar-interrupted, .progress-bar-interrupted::-webkit-progress-bar {\n",
              "        background: #F44336;\n",
              "    }\n",
              "</style>\n"
            ],
            "text/plain": [
              "<IPython.core.display.HTML object>"
            ]
          },
          "metadata": {},
          "output_type": "display_data"
        },
        {
          "data": {
            "text/html": [
              "<table border=\"1\" class=\"dataframe\">\n",
              "  <thead>\n",
              "    <tr style=\"text-align: left;\">\n",
              "      <th>epoch</th>\n",
              "      <th>train_loss</th>\n",
              "      <th>valid_loss</th>\n",
              "      <th>accuracy_multi</th>\n",
              "      <th>time</th>\n",
              "    </tr>\n",
              "  </thead>\n",
              "  <tbody>\n",
              "    <tr>\n",
              "      <td>0</td>\n",
              "      <td>0.052378</td>\n",
              "      <td>0.050033</td>\n",
              "      <td>0.981826</td>\n",
              "      <td>03:18</td>\n",
              "    </tr>\n",
              "    <tr>\n",
              "      <td>1</td>\n",
              "      <td>0.039144</td>\n",
              "      <td>0.042286</td>\n",
              "      <td>0.983931</td>\n",
              "      <td>03:19</td>\n",
              "    </tr>\n",
              "    <tr>\n",
              "      <td>2</td>\n",
              "      <td>0.030715</td>\n",
              "      <td>0.040250</td>\n",
              "      <td>0.984468</td>\n",
              "      <td>03:19</td>\n",
              "    </tr>\n",
              "  </tbody>\n",
              "</table>"
            ],
            "text/plain": [
              "<IPython.core.display.HTML object>"
            ]
          },
          "metadata": {},
          "output_type": "display_data"
        }
      ],
      "source": [
        "# learner.fit_one_cycle(3,slice(1.1154e-3, 4.83e-05))\n",
        "learner.fit_one_cycle(3,slice(3.36e-3, 2.189e-05))"
      ]
    },
    {
      "cell_type": "code",
      "execution_count": 29,
      "metadata": {
        "colab": {
          "base_uri": "https://localhost:8080/"
        },
        "id": "b-J5n553WZz3",
        "outputId": "8f3a9acc-272d-42fe-fb45-c606d2e9c7d9"
      },
      "outputs": [
        {
          "data": {
            "text/plain": [
              "Path('models/qa-classifier-stage-1.pth')"
            ]
          },
          "execution_count": 29,
          "metadata": {},
          "output_type": "execute_result"
        }
      ],
      "source": [
        "learner.save(\"qa-classifier-stage-1\")"
      ]
    },
    {
      "cell_type": "code",
      "execution_count": 30,
      "metadata": {
        "id": "rMd7GV5PWayd"
      },
      "outputs": [],
      "source": [
        "learner.export(\"models/qa-classifier-stage-1.pkl\")"
      ]
    }
  ],
  "metadata": {
    "accelerator": "GPU",
    "colab": {
      "gpuType": "T4",
      "provenance": []
    },
    "kernelspec": {
      "display_name": "Python 3",
      "name": "python3"
    },
    "language_info": {
      "name": "python"
    },
    "widgets": {
      "application/vnd.jupyter.widget-state+json": {
        "02bde85c8b1049559b5565e381f72e5d": {
          "model_module": "@jupyter-widgets/controls",
          "model_module_version": "1.5.0",
          "model_name": "ProgressStyleModel",
          "state": {
            "_model_module": "@jupyter-widgets/controls",
            "_model_module_version": "1.5.0",
            "_model_name": "ProgressStyleModel",
            "_view_count": null,
            "_view_module": "@jupyter-widgets/base",
            "_view_module_version": "1.2.0",
            "_view_name": "StyleView",
            "bar_color": null,
            "description_width": ""
          }
        },
        "032233fc0d684eb2a19afe266bf09a90": {
          "model_module": "@jupyter-widgets/controls",
          "model_module_version": "1.5.0",
          "model_name": "HTMLModel",
          "state": {
            "_dom_classes": [],
            "_model_module": "@jupyter-widgets/controls",
            "_model_module_version": "1.5.0",
            "_model_name": "HTMLModel",
            "_view_count": null,
            "_view_module": "@jupyter-widgets/controls",
            "_view_module_version": "1.5.0",
            "_view_name": "HTMLView",
            "description": "",
            "description_tooltip": null,
            "layout": "IPY_MODEL_c8987166498e49bd8699de237818a794",
            "placeholder": "​",
            "style": "IPY_MODEL_28974b0ccdc34941ace852977af1057c",
            "value": "Downloading (…)/main/tokenizer.json: 100%"
          }
        },
        "0cad7b34a3d14a8b8b5a0aa8cdabf82b": {
          "model_module": "@jupyter-widgets/controls",
          "model_module_version": "1.5.0",
          "model_name": "DescriptionStyleModel",
          "state": {
            "_model_module": "@jupyter-widgets/controls",
            "_model_module_version": "1.5.0",
            "_model_name": "DescriptionStyleModel",
            "_view_count": null,
            "_view_module": "@jupyter-widgets/base",
            "_view_module_version": "1.2.0",
            "_view_name": "StyleView",
            "description_width": ""
          }
        },
        "0d65515716164a2bae744652b393f734": {
          "model_module": "@jupyter-widgets/controls",
          "model_module_version": "1.5.0",
          "model_name": "DescriptionStyleModel",
          "state": {
            "_model_module": "@jupyter-widgets/controls",
            "_model_module_version": "1.5.0",
            "_model_name": "DescriptionStyleModel",
            "_view_count": null,
            "_view_module": "@jupyter-widgets/base",
            "_view_module_version": "1.2.0",
            "_view_name": "StyleView",
            "description_width": ""
          }
        },
        "0f508854f1d74ebbaa27879992c475aa": {
          "model_module": "@jupyter-widgets/base",
          "model_module_version": "1.2.0",
          "model_name": "LayoutModel",
          "state": {
            "_model_module": "@jupyter-widgets/base",
            "_model_module_version": "1.2.0",
            "_model_name": "LayoutModel",
            "_view_count": null,
            "_view_module": "@jupyter-widgets/base",
            "_view_module_version": "1.2.0",
            "_view_name": "LayoutView",
            "align_content": null,
            "align_items": null,
            "align_self": null,
            "border": null,
            "bottom": null,
            "display": null,
            "flex": null,
            "flex_flow": null,
            "grid_area": null,
            "grid_auto_columns": null,
            "grid_auto_flow": null,
            "grid_auto_rows": null,
            "grid_column": null,
            "grid_gap": null,
            "grid_row": null,
            "grid_template_areas": null,
            "grid_template_columns": null,
            "grid_template_rows": null,
            "height": null,
            "justify_content": null,
            "justify_items": null,
            "left": null,
            "margin": null,
            "max_height": null,
            "max_width": null,
            "min_height": null,
            "min_width": null,
            "object_fit": null,
            "object_position": null,
            "order": null,
            "overflow": null,
            "overflow_x": null,
            "overflow_y": null,
            "padding": null,
            "right": null,
            "top": null,
            "visibility": null,
            "width": null
          }
        },
        "133d2af7e6b9418687f33dbb5062be6c": {
          "model_module": "@jupyter-widgets/controls",
          "model_module_version": "1.5.0",
          "model_name": "ProgressStyleModel",
          "state": {
            "_model_module": "@jupyter-widgets/controls",
            "_model_module_version": "1.5.0",
            "_model_name": "ProgressStyleModel",
            "_view_count": null,
            "_view_module": "@jupyter-widgets/base",
            "_view_module_version": "1.2.0",
            "_view_name": "StyleView",
            "bar_color": null,
            "description_width": ""
          }
        },
        "138224102bb7491f96d9eb9051822f59": {
          "model_module": "@jupyter-widgets/base",
          "model_module_version": "1.2.0",
          "model_name": "LayoutModel",
          "state": {
            "_model_module": "@jupyter-widgets/base",
            "_model_module_version": "1.2.0",
            "_model_name": "LayoutModel",
            "_view_count": null,
            "_view_module": "@jupyter-widgets/base",
            "_view_module_version": "1.2.0",
            "_view_name": "LayoutView",
            "align_content": null,
            "align_items": null,
            "align_self": null,
            "border": null,
            "bottom": null,
            "display": null,
            "flex": null,
            "flex_flow": null,
            "grid_area": null,
            "grid_auto_columns": null,
            "grid_auto_flow": null,
            "grid_auto_rows": null,
            "grid_column": null,
            "grid_gap": null,
            "grid_row": null,
            "grid_template_areas": null,
            "grid_template_columns": null,
            "grid_template_rows": null,
            "height": null,
            "justify_content": null,
            "justify_items": null,
            "left": null,
            "margin": null,
            "max_height": null,
            "max_width": null,
            "min_height": null,
            "min_width": null,
            "object_fit": null,
            "object_position": null,
            "order": null,
            "overflow": null,
            "overflow_x": null,
            "overflow_y": null,
            "padding": null,
            "right": null,
            "top": null,
            "visibility": null,
            "width": null
          }
        },
        "1b48474601e942dab02a88039272afdd": {
          "model_module": "@jupyter-widgets/controls",
          "model_module_version": "1.5.0",
          "model_name": "FloatProgressModel",
          "state": {
            "_dom_classes": [],
            "_model_module": "@jupyter-widgets/controls",
            "_model_module_version": "1.5.0",
            "_model_name": "FloatProgressModel",
            "_view_count": null,
            "_view_module": "@jupyter-widgets/controls",
            "_view_module_version": "1.5.0",
            "_view_name": "ProgressView",
            "bar_style": "success",
            "description": "",
            "description_tooltip": null,
            "layout": "IPY_MODEL_c366987af8ee42359be6d4c4b4b725ab",
            "max": 898823,
            "min": 0,
            "orientation": "horizontal",
            "style": "IPY_MODEL_02bde85c8b1049559b5565e381f72e5d",
            "value": 898823
          }
        },
        "1c8836d6ee364b7d8183da6fd1acbe4f": {
          "model_module": "@jupyter-widgets/controls",
          "model_module_version": "1.5.0",
          "model_name": "HTMLModel",
          "state": {
            "_dom_classes": [],
            "_model_module": "@jupyter-widgets/controls",
            "_model_module_version": "1.5.0",
            "_model_name": "HTMLModel",
            "_view_count": null,
            "_view_module": "@jupyter-widgets/controls",
            "_view_module_version": "1.5.0",
            "_view_name": "HTMLView",
            "description": "",
            "description_tooltip": null,
            "layout": "IPY_MODEL_db1fdea527fc4d14924c58a823410241",
            "placeholder": "​",
            "style": "IPY_MODEL_a7f11bde1a4a4b26a58bd04418863d39",
            "value": " 3.30k/? [00:00&lt;00:00, 61.9kB/s]"
          }
        },
        "1e61752f7da04a689923b396789135b0": {
          "model_module": "@jupyter-widgets/controls",
          "model_module_version": "1.5.0",
          "model_name": "ProgressStyleModel",
          "state": {
            "_model_module": "@jupyter-widgets/controls",
            "_model_module_version": "1.5.0",
            "_model_name": "ProgressStyleModel",
            "_view_count": null,
            "_view_module": "@jupyter-widgets/base",
            "_view_module_version": "1.2.0",
            "_view_name": "StyleView",
            "bar_color": null,
            "description_width": ""
          }
        },
        "20e2ecb5880e4d8faa1a5927b45a8fec": {
          "model_module": "@jupyter-widgets/controls",
          "model_module_version": "1.5.0",
          "model_name": "HTMLModel",
          "state": {
            "_dom_classes": [],
            "_model_module": "@jupyter-widgets/controls",
            "_model_module_version": "1.5.0",
            "_model_name": "HTMLModel",
            "_view_count": null,
            "_view_module": "@jupyter-widgets/controls",
            "_view_module_version": "1.5.0",
            "_view_name": "HTMLView",
            "description": "",
            "description_tooltip": null,
            "layout": "IPY_MODEL_68838b452c3a4c93ab53afab0b79bf18",
            "placeholder": "​",
            "style": "IPY_MODEL_6f10ac3c0f6a4174874bf0521bb4acba",
            "value": " 331M/331M [00:01&lt;00:00, 190MB/s]"
          }
        },
        "22daf803de8545709dd1f3182c23b0f0": {
          "model_module": "@jupyter-widgets/controls",
          "model_module_version": "1.5.0",
          "model_name": "HTMLModel",
          "state": {
            "_dom_classes": [],
            "_model_module": "@jupyter-widgets/controls",
            "_model_module_version": "1.5.0",
            "_model_name": "HTMLModel",
            "_view_count": null,
            "_view_module": "@jupyter-widgets/controls",
            "_view_module_version": "1.5.0",
            "_view_name": "HTMLView",
            "description": "",
            "description_tooltip": null,
            "layout": "IPY_MODEL_ec94823cf48f452fae92220237808d54",
            "placeholder": "​",
            "style": "IPY_MODEL_c947f22448e54829a227402bd78534a3",
            "value": "Downloading (…)olve/main/vocab.json: 100%"
          }
        },
        "276d84800a7141b88c33b55c39edf0db": {
          "model_module": "@jupyter-widgets/controls",
          "model_module_version": "1.5.0",
          "model_name": "DescriptionStyleModel",
          "state": {
            "_model_module": "@jupyter-widgets/controls",
            "_model_module_version": "1.5.0",
            "_model_name": "DescriptionStyleModel",
            "_view_count": null,
            "_view_module": "@jupyter-widgets/base",
            "_view_module_version": "1.2.0",
            "_view_name": "StyleView",
            "description_width": ""
          }
        },
        "28974b0ccdc34941ace852977af1057c": {
          "model_module": "@jupyter-widgets/controls",
          "model_module_version": "1.5.0",
          "model_name": "DescriptionStyleModel",
          "state": {
            "_model_module": "@jupyter-widgets/controls",
            "_model_module_version": "1.5.0",
            "_model_name": "DescriptionStyleModel",
            "_view_count": null,
            "_view_module": "@jupyter-widgets/base",
            "_view_module_version": "1.2.0",
            "_view_name": "StyleView",
            "description_width": ""
          }
        },
        "3034f11d05c64d3aaa791253657d94ec": {
          "model_module": "@jupyter-widgets/base",
          "model_module_version": "1.2.0",
          "model_name": "LayoutModel",
          "state": {
            "_model_module": "@jupyter-widgets/base",
            "_model_module_version": "1.2.0",
            "_model_name": "LayoutModel",
            "_view_count": null,
            "_view_module": "@jupyter-widgets/base",
            "_view_module_version": "1.2.0",
            "_view_name": "LayoutView",
            "align_content": null,
            "align_items": null,
            "align_self": null,
            "border": null,
            "bottom": null,
            "display": null,
            "flex": null,
            "flex_flow": null,
            "grid_area": null,
            "grid_auto_columns": null,
            "grid_auto_flow": null,
            "grid_auto_rows": null,
            "grid_column": null,
            "grid_gap": null,
            "grid_row": null,
            "grid_template_areas": null,
            "grid_template_columns": null,
            "grid_template_rows": null,
            "height": null,
            "justify_content": null,
            "justify_items": null,
            "left": null,
            "margin": null,
            "max_height": null,
            "max_width": null,
            "min_height": null,
            "min_width": null,
            "object_fit": null,
            "object_position": null,
            "order": null,
            "overflow": null,
            "overflow_x": null,
            "overflow_y": null,
            "padding": null,
            "right": null,
            "top": null,
            "visibility": null,
            "width": null
          }
        },
        "34dde5b7048747b583c3a9a976a630ae": {
          "model_module": "@jupyter-widgets/base",
          "model_module_version": "1.2.0",
          "model_name": "LayoutModel",
          "state": {
            "_model_module": "@jupyter-widgets/base",
            "_model_module_version": "1.2.0",
            "_model_name": "LayoutModel",
            "_view_count": null,
            "_view_module": "@jupyter-widgets/base",
            "_view_module_version": "1.2.0",
            "_view_name": "LayoutView",
            "align_content": null,
            "align_items": null,
            "align_self": null,
            "border": null,
            "bottom": null,
            "display": null,
            "flex": null,
            "flex_flow": null,
            "grid_area": null,
            "grid_auto_columns": null,
            "grid_auto_flow": null,
            "grid_auto_rows": null,
            "grid_column": null,
            "grid_gap": null,
            "grid_row": null,
            "grid_template_areas": null,
            "grid_template_columns": null,
            "grid_template_rows": null,
            "height": null,
            "justify_content": null,
            "justify_items": null,
            "left": null,
            "margin": null,
            "max_height": null,
            "max_width": null,
            "min_height": null,
            "min_width": null,
            "object_fit": null,
            "object_position": null,
            "order": null,
            "overflow": null,
            "overflow_x": null,
            "overflow_y": null,
            "padding": null,
            "right": null,
            "top": null,
            "visibility": null,
            "width": null
          }
        },
        "3d414bcb0e6d4959a63634d59d1e5040": {
          "model_module": "@jupyter-widgets/base",
          "model_module_version": "1.2.0",
          "model_name": "LayoutModel",
          "state": {
            "_model_module": "@jupyter-widgets/base",
            "_model_module_version": "1.2.0",
            "_model_name": "LayoutModel",
            "_view_count": null,
            "_view_module": "@jupyter-widgets/base",
            "_view_module_version": "1.2.0",
            "_view_name": "LayoutView",
            "align_content": null,
            "align_items": null,
            "align_self": null,
            "border": null,
            "bottom": null,
            "display": null,
            "flex": null,
            "flex_flow": null,
            "grid_area": null,
            "grid_auto_columns": null,
            "grid_auto_flow": null,
            "grid_auto_rows": null,
            "grid_column": null,
            "grid_gap": null,
            "grid_row": null,
            "grid_template_areas": null,
            "grid_template_columns": null,
            "grid_template_rows": null,
            "height": null,
            "justify_content": null,
            "justify_items": null,
            "left": null,
            "margin": null,
            "max_height": null,
            "max_width": null,
            "min_height": null,
            "min_width": null,
            "object_fit": null,
            "object_position": null,
            "order": null,
            "overflow": null,
            "overflow_x": null,
            "overflow_y": null,
            "padding": null,
            "right": null,
            "top": null,
            "visibility": null,
            "width": null
          }
        },
        "3de4166e3a854ec397b72dc285e0cdee": {
          "model_module": "@jupyter-widgets/controls",
          "model_module_version": "1.5.0",
          "model_name": "DescriptionStyleModel",
          "state": {
            "_model_module": "@jupyter-widgets/controls",
            "_model_module_version": "1.5.0",
            "_model_name": "DescriptionStyleModel",
            "_view_count": null,
            "_view_module": "@jupyter-widgets/base",
            "_view_module_version": "1.2.0",
            "_view_name": "StyleView",
            "description_width": ""
          }
        },
        "3df07706c1784923a20314864b8d9a5f": {
          "model_module": "@jupyter-widgets/controls",
          "model_module_version": "1.5.0",
          "model_name": "DescriptionStyleModel",
          "state": {
            "_model_module": "@jupyter-widgets/controls",
            "_model_module_version": "1.5.0",
            "_model_name": "DescriptionStyleModel",
            "_view_count": null,
            "_view_module": "@jupyter-widgets/base",
            "_view_module_version": "1.2.0",
            "_view_name": "StyleView",
            "description_width": ""
          }
        },
        "418f694e48b6430db2294255112a4ba2": {
          "model_module": "@jupyter-widgets/controls",
          "model_module_version": "1.5.0",
          "model_name": "ProgressStyleModel",
          "state": {
            "_model_module": "@jupyter-widgets/controls",
            "_model_module_version": "1.5.0",
            "_model_name": "ProgressStyleModel",
            "_view_count": null,
            "_view_module": "@jupyter-widgets/base",
            "_view_module_version": "1.2.0",
            "_view_name": "StyleView",
            "bar_color": null,
            "description_width": ""
          }
        },
        "4262e0d170254e309038b8ebc9c8eab1": {
          "model_module": "@jupyter-widgets/controls",
          "model_module_version": "1.5.0",
          "model_name": "FloatProgressModel",
          "state": {
            "_dom_classes": [],
            "_model_module": "@jupyter-widgets/controls",
            "_model_module_version": "1.5.0",
            "_model_name": "FloatProgressModel",
            "_view_count": null,
            "_view_module": "@jupyter-widgets/controls",
            "_view_module_version": "1.5.0",
            "_view_name": "ProgressView",
            "bar_style": "success",
            "description": "",
            "description_tooltip": null,
            "layout": "IPY_MODEL_6e2eab4a76a745018e9787e6c3bc7f3d",
            "max": 456318,
            "min": 0,
            "orientation": "horizontal",
            "style": "IPY_MODEL_7630756c24664f04a6e5b0423dd92d79",
            "value": 456318
          }
        },
        "43b3507cf7b54db48612a49da03368c0": {
          "model_module": "@jupyter-widgets/base",
          "model_module_version": "1.2.0",
          "model_name": "LayoutModel",
          "state": {
            "_model_module": "@jupyter-widgets/base",
            "_model_module_version": "1.2.0",
            "_model_name": "LayoutModel",
            "_view_count": null,
            "_view_module": "@jupyter-widgets/base",
            "_view_module_version": "1.2.0",
            "_view_name": "LayoutView",
            "align_content": null,
            "align_items": null,
            "align_self": null,
            "border": null,
            "bottom": null,
            "display": null,
            "flex": null,
            "flex_flow": null,
            "grid_area": null,
            "grid_auto_columns": null,
            "grid_auto_flow": null,
            "grid_auto_rows": null,
            "grid_column": null,
            "grid_gap": null,
            "grid_row": null,
            "grid_template_areas": null,
            "grid_template_columns": null,
            "grid_template_rows": null,
            "height": null,
            "justify_content": null,
            "justify_items": null,
            "left": null,
            "margin": null,
            "max_height": null,
            "max_width": null,
            "min_height": null,
            "min_width": null,
            "object_fit": null,
            "object_position": null,
            "order": null,
            "overflow": null,
            "overflow_x": null,
            "overflow_y": null,
            "padding": null,
            "right": null,
            "top": null,
            "visibility": null,
            "width": null
          }
        },
        "4427bee813c94484880febc30e7ddd68": {
          "model_module": "@jupyter-widgets/controls",
          "model_module_version": "1.5.0",
          "model_name": "HBoxModel",
          "state": {
            "_dom_classes": [],
            "_model_module": "@jupyter-widgets/controls",
            "_model_module_version": "1.5.0",
            "_model_name": "HBoxModel",
            "_view_count": null,
            "_view_module": "@jupyter-widgets/controls",
            "_view_module_version": "1.5.0",
            "_view_name": "HBoxView",
            "box_style": "",
            "children": [
              "IPY_MODEL_22daf803de8545709dd1f3182c23b0f0",
              "IPY_MODEL_1b48474601e942dab02a88039272afdd",
              "IPY_MODEL_58fe5f6a94eb45368f8555f305ad17eb"
            ],
            "layout": "IPY_MODEL_bbd3ce88792e4d1387df168c184f5496"
          }
        },
        "4437c7c1aa4b4bcfb8e40c8f322d5649": {
          "model_module": "@jupyter-widgets/base",
          "model_module_version": "1.2.0",
          "model_name": "LayoutModel",
          "state": {
            "_model_module": "@jupyter-widgets/base",
            "_model_module_version": "1.2.0",
            "_model_name": "LayoutModel",
            "_view_count": null,
            "_view_module": "@jupyter-widgets/base",
            "_view_module_version": "1.2.0",
            "_view_name": "LayoutView",
            "align_content": null,
            "align_items": null,
            "align_self": null,
            "border": null,
            "bottom": null,
            "display": null,
            "flex": null,
            "flex_flow": null,
            "grid_area": null,
            "grid_auto_columns": null,
            "grid_auto_flow": null,
            "grid_auto_rows": null,
            "grid_column": null,
            "grid_gap": null,
            "grid_row": null,
            "grid_template_areas": null,
            "grid_template_columns": null,
            "grid_template_rows": null,
            "height": null,
            "justify_content": null,
            "justify_items": null,
            "left": null,
            "margin": null,
            "max_height": null,
            "max_width": null,
            "min_height": null,
            "min_width": null,
            "object_fit": null,
            "object_position": null,
            "order": null,
            "overflow": null,
            "overflow_x": null,
            "overflow_y": null,
            "padding": null,
            "right": null,
            "top": null,
            "visibility": null,
            "width": null
          }
        },
        "4966f431454841d6860eb9d1e449092a": {
          "model_module": "@jupyter-widgets/base",
          "model_module_version": "1.2.0",
          "model_name": "LayoutModel",
          "state": {
            "_model_module": "@jupyter-widgets/base",
            "_model_module_version": "1.2.0",
            "_model_name": "LayoutModel",
            "_view_count": null,
            "_view_module": "@jupyter-widgets/base",
            "_view_module_version": "1.2.0",
            "_view_name": "LayoutView",
            "align_content": null,
            "align_items": null,
            "align_self": null,
            "border": null,
            "bottom": null,
            "display": null,
            "flex": null,
            "flex_flow": null,
            "grid_area": null,
            "grid_auto_columns": null,
            "grid_auto_flow": null,
            "grid_auto_rows": null,
            "grid_column": null,
            "grid_gap": null,
            "grid_row": null,
            "grid_template_areas": null,
            "grid_template_columns": null,
            "grid_template_rows": null,
            "height": null,
            "justify_content": null,
            "justify_items": null,
            "left": null,
            "margin": null,
            "max_height": null,
            "max_width": null,
            "min_height": null,
            "min_width": null,
            "object_fit": null,
            "object_position": null,
            "order": null,
            "overflow": null,
            "overflow_x": null,
            "overflow_y": null,
            "padding": null,
            "right": null,
            "top": null,
            "visibility": null,
            "width": null
          }
        },
        "4f795b3df2ed4e43907a8356b11d7fca": {
          "model_module": "@jupyter-widgets/controls",
          "model_module_version": "1.5.0",
          "model_name": "HBoxModel",
          "state": {
            "_dom_classes": [],
            "_model_module": "@jupyter-widgets/controls",
            "_model_module_version": "1.5.0",
            "_model_name": "HBoxModel",
            "_view_count": null,
            "_view_module": "@jupyter-widgets/controls",
            "_view_module_version": "1.5.0",
            "_view_name": "HBoxView",
            "box_style": "",
            "children": [
              "IPY_MODEL_8482bdadd72f4da6822cb4607ee7be31",
              "IPY_MODEL_f985717040e7486186bcd829c3d8321d",
              "IPY_MODEL_ca066a99ffc6496f81809d7f57ab6088"
            ],
            "layout": "IPY_MODEL_43b3507cf7b54db48612a49da03368c0"
          }
        },
        "545294c4a0e64fddb112bf075350fa06": {
          "model_module": "@jupyter-widgets/base",
          "model_module_version": "1.2.0",
          "model_name": "LayoutModel",
          "state": {
            "_model_module": "@jupyter-widgets/base",
            "_model_module_version": "1.2.0",
            "_model_name": "LayoutModel",
            "_view_count": null,
            "_view_module": "@jupyter-widgets/base",
            "_view_module_version": "1.2.0",
            "_view_name": "LayoutView",
            "align_content": null,
            "align_items": null,
            "align_self": null,
            "border": null,
            "bottom": null,
            "display": null,
            "flex": null,
            "flex_flow": null,
            "grid_area": null,
            "grid_auto_columns": null,
            "grid_auto_flow": null,
            "grid_auto_rows": null,
            "grid_column": null,
            "grid_gap": null,
            "grid_row": null,
            "grid_template_areas": null,
            "grid_template_columns": null,
            "grid_template_rows": null,
            "height": null,
            "justify_content": null,
            "justify_items": null,
            "left": null,
            "margin": null,
            "max_height": null,
            "max_width": null,
            "min_height": null,
            "min_width": null,
            "object_fit": null,
            "object_position": null,
            "order": null,
            "overflow": null,
            "overflow_x": null,
            "overflow_y": null,
            "padding": null,
            "right": null,
            "top": null,
            "visibility": null,
            "width": null
          }
        },
        "57a2d0e465d84132b11bdd443a691a11": {
          "model_module": "@jupyter-widgets/controls",
          "model_module_version": "1.5.0",
          "model_name": "HBoxModel",
          "state": {
            "_dom_classes": [],
            "_model_module": "@jupyter-widgets/controls",
            "_model_module_version": "1.5.0",
            "_model_name": "HBoxModel",
            "_view_count": null,
            "_view_module": "@jupyter-widgets/controls",
            "_view_module_version": "1.5.0",
            "_view_name": "HBoxView",
            "box_style": "",
            "children": [
              "IPY_MODEL_b8d946d4068b457789739e5fa3712d34",
              "IPY_MODEL_f70bf03b401f4657ad8f9ceff7e44a82",
              "IPY_MODEL_1c8836d6ee364b7d8183da6fd1acbe4f"
            ],
            "layout": "IPY_MODEL_4437c7c1aa4b4bcfb8e40c8f322d5649"
          }
        },
        "58fe5f6a94eb45368f8555f305ad17eb": {
          "model_module": "@jupyter-widgets/controls",
          "model_module_version": "1.5.0",
          "model_name": "HTMLModel",
          "state": {
            "_dom_classes": [],
            "_model_module": "@jupyter-widgets/controls",
            "_model_module_version": "1.5.0",
            "_model_name": "HTMLModel",
            "_view_count": null,
            "_view_module": "@jupyter-widgets/controls",
            "_view_module_version": "1.5.0",
            "_view_name": "HTMLView",
            "description": "",
            "description_tooltip": null,
            "layout": "IPY_MODEL_3034f11d05c64d3aaa791253657d94ec",
            "placeholder": "​",
            "style": "IPY_MODEL_0d65515716164a2bae744652b393f734",
            "value": " 899k/899k [00:00&lt;00:00, 17.1MB/s]"
          }
        },
        "5e56f64e7f5746f6ba065e73adc7b191": {
          "model_module": "@jupyter-widgets/controls",
          "model_module_version": "1.5.0",
          "model_name": "HTMLModel",
          "state": {
            "_dom_classes": [],
            "_model_module": "@jupyter-widgets/controls",
            "_model_module_version": "1.5.0",
            "_model_name": "HTMLModel",
            "_view_count": null,
            "_view_module": "@jupyter-widgets/controls",
            "_view_module_version": "1.5.0",
            "_view_name": "HTMLView",
            "description": "",
            "description_tooltip": null,
            "layout": "IPY_MODEL_8eb88b7c6dc3427cb07debda0899c6f8",
            "placeholder": "​",
            "style": "IPY_MODEL_b65f7ee57c044e76b768f9a365365257",
            "value": "Downloading model.safetensors: 100%"
          }
        },
        "5f97b56ba9a942b48d830896558f32f1": {
          "model_module": "@jupyter-widgets/controls",
          "model_module_version": "1.5.0",
          "model_name": "FloatProgressModel",
          "state": {
            "_dom_classes": [],
            "_model_module": "@jupyter-widgets/controls",
            "_model_module_version": "1.5.0",
            "_model_name": "FloatProgressModel",
            "_view_count": null,
            "_view_module": "@jupyter-widgets/controls",
            "_view_module_version": "1.5.0",
            "_view_name": "ProgressView",
            "bar_style": "success",
            "description": "",
            "description_tooltip": null,
            "layout": "IPY_MODEL_b774010474324584a01340f4e2b962b9",
            "max": 1355863,
            "min": 0,
            "orientation": "horizontal",
            "style": "IPY_MODEL_418f694e48b6430db2294255112a4ba2",
            "value": 1355863
          }
        },
        "6037ff9d61224a2d8083555dc06baa50": {
          "model_module": "@jupyter-widgets/controls",
          "model_module_version": "1.5.0",
          "model_name": "HTMLModel",
          "state": {
            "_dom_classes": [],
            "_model_module": "@jupyter-widgets/controls",
            "_model_module_version": "1.5.0",
            "_model_name": "HTMLModel",
            "_view_count": null,
            "_view_module": "@jupyter-widgets/controls",
            "_view_module_version": "1.5.0",
            "_view_name": "HTMLView",
            "description": "",
            "description_tooltip": null,
            "layout": "IPY_MODEL_3d414bcb0e6d4959a63634d59d1e5040",
            "placeholder": "​",
            "style": "IPY_MODEL_67ce6d9d5d7c48bba7451e6a72aae9c1",
            "value": " 456k/456k [00:00&lt;00:00, 2.36MB/s]"
          }
        },
        "607bed0703044d068de6908bf458dcd5": {
          "model_module": "@jupyter-widgets/controls",
          "model_module_version": "1.5.0",
          "model_name": "HBoxModel",
          "state": {
            "_dom_classes": [],
            "_model_module": "@jupyter-widgets/controls",
            "_model_module_version": "1.5.0",
            "_model_name": "HBoxModel",
            "_view_count": null,
            "_view_module": "@jupyter-widgets/controls",
            "_view_module_version": "1.5.0",
            "_view_name": "HBoxView",
            "box_style": "",
            "children": [
              "IPY_MODEL_611aa9ea28c147f7b8dfb5a694a7022e",
              "IPY_MODEL_4262e0d170254e309038b8ebc9c8eab1",
              "IPY_MODEL_6037ff9d61224a2d8083555dc06baa50"
            ],
            "layout": "IPY_MODEL_d2c76bae7887430a84d15e9d86b4b87d"
          }
        },
        "611aa9ea28c147f7b8dfb5a694a7022e": {
          "model_module": "@jupyter-widgets/controls",
          "model_module_version": "1.5.0",
          "model_name": "HTMLModel",
          "state": {
            "_dom_classes": [],
            "_model_module": "@jupyter-widgets/controls",
            "_model_module_version": "1.5.0",
            "_model_name": "HTMLModel",
            "_view_count": null,
            "_view_module": "@jupyter-widgets/controls",
            "_view_module_version": "1.5.0",
            "_view_name": "HTMLView",
            "description": "",
            "description_tooltip": null,
            "layout": "IPY_MODEL_545294c4a0e64fddb112bf075350fa06",
            "placeholder": "​",
            "style": "IPY_MODEL_3df07706c1784923a20314864b8d9a5f",
            "value": "Downloading (…)olve/main/merges.txt: 100%"
          }
        },
        "67ce6d9d5d7c48bba7451e6a72aae9c1": {
          "model_module": "@jupyter-widgets/controls",
          "model_module_version": "1.5.0",
          "model_name": "DescriptionStyleModel",
          "state": {
            "_model_module": "@jupyter-widgets/controls",
            "_model_module_version": "1.5.0",
            "_model_name": "DescriptionStyleModel",
            "_view_count": null,
            "_view_module": "@jupyter-widgets/base",
            "_view_module_version": "1.2.0",
            "_view_name": "StyleView",
            "description_width": ""
          }
        },
        "680b89172fad4b4aba99802eb3264022": {
          "model_module": "@jupyter-widgets/controls",
          "model_module_version": "1.5.0",
          "model_name": "HTMLModel",
          "state": {
            "_dom_classes": [],
            "_model_module": "@jupyter-widgets/controls",
            "_model_module_version": "1.5.0",
            "_model_name": "HTMLModel",
            "_view_count": null,
            "_view_module": "@jupyter-widgets/controls",
            "_view_module_version": "1.5.0",
            "_view_name": "HTMLView",
            "description": "",
            "description_tooltip": null,
            "layout": "IPY_MODEL_986a1128cac1404e8554e6a6fd9edda8",
            "placeholder": "​",
            "style": "IPY_MODEL_3de4166e3a854ec397b72dc285e0cdee",
            "value": "Downloading (…)lve/main/config.json: 100%"
          }
        },
        "68838b452c3a4c93ab53afab0b79bf18": {
          "model_module": "@jupyter-widgets/base",
          "model_module_version": "1.2.0",
          "model_name": "LayoutModel",
          "state": {
            "_model_module": "@jupyter-widgets/base",
            "_model_module_version": "1.2.0",
            "_model_name": "LayoutModel",
            "_view_count": null,
            "_view_module": "@jupyter-widgets/base",
            "_view_module_version": "1.2.0",
            "_view_name": "LayoutView",
            "align_content": null,
            "align_items": null,
            "align_self": null,
            "border": null,
            "bottom": null,
            "display": null,
            "flex": null,
            "flex_flow": null,
            "grid_area": null,
            "grid_auto_columns": null,
            "grid_auto_flow": null,
            "grid_auto_rows": null,
            "grid_column": null,
            "grid_gap": null,
            "grid_row": null,
            "grid_template_areas": null,
            "grid_template_columns": null,
            "grid_template_rows": null,
            "height": null,
            "justify_content": null,
            "justify_items": null,
            "left": null,
            "margin": null,
            "max_height": null,
            "max_width": null,
            "min_height": null,
            "min_width": null,
            "object_fit": null,
            "object_position": null,
            "order": null,
            "overflow": null,
            "overflow_x": null,
            "overflow_y": null,
            "padding": null,
            "right": null,
            "top": null,
            "visibility": null,
            "width": null
          }
        },
        "6bb5f481f72b4d6f8a96752a17f5f36a": {
          "model_module": "@jupyter-widgets/controls",
          "model_module_version": "1.5.0",
          "model_name": "FloatProgressModel",
          "state": {
            "_dom_classes": [],
            "_model_module": "@jupyter-widgets/controls",
            "_model_module_version": "1.5.0",
            "_model_name": "FloatProgressModel",
            "_view_count": null,
            "_view_module": "@jupyter-widgets/controls",
            "_view_module_version": "1.5.0",
            "_view_name": "ProgressView",
            "bar_style": "success",
            "description": "",
            "description_tooltip": null,
            "layout": "IPY_MODEL_dbb743f2bd134a3d81a00a87f4acda88",
            "max": 331055963,
            "min": 0,
            "orientation": "horizontal",
            "style": "IPY_MODEL_133d2af7e6b9418687f33dbb5062be6c",
            "value": 331055963
          }
        },
        "6e2eab4a76a745018e9787e6c3bc7f3d": {
          "model_module": "@jupyter-widgets/base",
          "model_module_version": "1.2.0",
          "model_name": "LayoutModel",
          "state": {
            "_model_module": "@jupyter-widgets/base",
            "_model_module_version": "1.2.0",
            "_model_name": "LayoutModel",
            "_view_count": null,
            "_view_module": "@jupyter-widgets/base",
            "_view_module_version": "1.2.0",
            "_view_name": "LayoutView",
            "align_content": null,
            "align_items": null,
            "align_self": null,
            "border": null,
            "bottom": null,
            "display": null,
            "flex": null,
            "flex_flow": null,
            "grid_area": null,
            "grid_auto_columns": null,
            "grid_auto_flow": null,
            "grid_auto_rows": null,
            "grid_column": null,
            "grid_gap": null,
            "grid_row": null,
            "grid_template_areas": null,
            "grid_template_columns": null,
            "grid_template_rows": null,
            "height": null,
            "justify_content": null,
            "justify_items": null,
            "left": null,
            "margin": null,
            "max_height": null,
            "max_width": null,
            "min_height": null,
            "min_width": null,
            "object_fit": null,
            "object_position": null,
            "order": null,
            "overflow": null,
            "overflow_x": null,
            "overflow_y": null,
            "padding": null,
            "right": null,
            "top": null,
            "visibility": null,
            "width": null
          }
        },
        "6f10ac3c0f6a4174874bf0521bb4acba": {
          "model_module": "@jupyter-widgets/controls",
          "model_module_version": "1.5.0",
          "model_name": "DescriptionStyleModel",
          "state": {
            "_model_module": "@jupyter-widgets/controls",
            "_model_module_version": "1.5.0",
            "_model_name": "DescriptionStyleModel",
            "_view_count": null,
            "_view_module": "@jupyter-widgets/base",
            "_view_module_version": "1.2.0",
            "_view_name": "StyleView",
            "description_width": ""
          }
        },
        "7630756c24664f04a6e5b0423dd92d79": {
          "model_module": "@jupyter-widgets/controls",
          "model_module_version": "1.5.0",
          "model_name": "ProgressStyleModel",
          "state": {
            "_model_module": "@jupyter-widgets/controls",
            "_model_module_version": "1.5.0",
            "_model_name": "ProgressStyleModel",
            "_view_count": null,
            "_view_module": "@jupyter-widgets/base",
            "_view_module_version": "1.2.0",
            "_view_name": "StyleView",
            "bar_color": null,
            "description_width": ""
          }
        },
        "8482bdadd72f4da6822cb4607ee7be31": {
          "model_module": "@jupyter-widgets/controls",
          "model_module_version": "1.5.0",
          "model_name": "HTMLModel",
          "state": {
            "_dom_classes": [],
            "_model_module": "@jupyter-widgets/controls",
            "_model_module_version": "1.5.0",
            "_model_name": "HTMLModel",
            "_view_count": null,
            "_view_module": "@jupyter-widgets/controls",
            "_view_module_version": "1.5.0",
            "_view_name": "HTMLView",
            "description": "",
            "description_tooltip": null,
            "layout": "IPY_MODEL_a9c9b4826eb74948b88031b78b9849c0",
            "placeholder": "​",
            "style": "IPY_MODEL_276d84800a7141b88c33b55c39edf0db",
            "value": "Downloading builder script: "
          }
        },
        "8600345dcb9749658e7be48b89caeacf": {
          "model_module": "@jupyter-widgets/controls",
          "model_module_version": "1.5.0",
          "model_name": "HTMLModel",
          "state": {
            "_dom_classes": [],
            "_model_module": "@jupyter-widgets/controls",
            "_model_module_version": "1.5.0",
            "_model_name": "HTMLModel",
            "_view_count": null,
            "_view_module": "@jupyter-widgets/controls",
            "_view_module_version": "1.5.0",
            "_view_name": "HTMLView",
            "description": "",
            "description_tooltip": null,
            "layout": "IPY_MODEL_34dde5b7048747b583c3a9a976a630ae",
            "placeholder": "​",
            "style": "IPY_MODEL_ee62633b32b14c76a37b72ff3bd24614",
            "value": " 1.36M/1.36M [00:00&lt;00:00, 5.24MB/s]"
          }
        },
        "884e7dfbf3b84b5c829c675a28bde001": {
          "model_module": "@jupyter-widgets/base",
          "model_module_version": "1.2.0",
          "model_name": "LayoutModel",
          "state": {
            "_model_module": "@jupyter-widgets/base",
            "_model_module_version": "1.2.0",
            "_model_name": "LayoutModel",
            "_view_count": null,
            "_view_module": "@jupyter-widgets/base",
            "_view_module_version": "1.2.0",
            "_view_name": "LayoutView",
            "align_content": null,
            "align_items": null,
            "align_self": null,
            "border": null,
            "bottom": null,
            "display": null,
            "flex": null,
            "flex_flow": null,
            "grid_area": null,
            "grid_auto_columns": null,
            "grid_auto_flow": null,
            "grid_auto_rows": null,
            "grid_column": null,
            "grid_gap": null,
            "grid_row": null,
            "grid_template_areas": null,
            "grid_template_columns": null,
            "grid_template_rows": null,
            "height": null,
            "justify_content": null,
            "justify_items": null,
            "left": null,
            "margin": null,
            "max_height": null,
            "max_width": null,
            "min_height": null,
            "min_width": null,
            "object_fit": null,
            "object_position": null,
            "order": null,
            "overflow": null,
            "overflow_x": null,
            "overflow_y": null,
            "padding": null,
            "right": null,
            "top": null,
            "visibility": null,
            "width": null
          }
        },
        "8eb88b7c6dc3427cb07debda0899c6f8": {
          "model_module": "@jupyter-widgets/base",
          "model_module_version": "1.2.0",
          "model_name": "LayoutModel",
          "state": {
            "_model_module": "@jupyter-widgets/base",
            "_model_module_version": "1.2.0",
            "_model_name": "LayoutModel",
            "_view_count": null,
            "_view_module": "@jupyter-widgets/base",
            "_view_module_version": "1.2.0",
            "_view_name": "LayoutView",
            "align_content": null,
            "align_items": null,
            "align_self": null,
            "border": null,
            "bottom": null,
            "display": null,
            "flex": null,
            "flex_flow": null,
            "grid_area": null,
            "grid_auto_columns": null,
            "grid_auto_flow": null,
            "grid_auto_rows": null,
            "grid_column": null,
            "grid_gap": null,
            "grid_row": null,
            "grid_template_areas": null,
            "grid_template_columns": null,
            "grid_template_rows": null,
            "height": null,
            "justify_content": null,
            "justify_items": null,
            "left": null,
            "margin": null,
            "max_height": null,
            "max_width": null,
            "min_height": null,
            "min_width": null,
            "object_fit": null,
            "object_position": null,
            "order": null,
            "overflow": null,
            "overflow_x": null,
            "overflow_y": null,
            "padding": null,
            "right": null,
            "top": null,
            "visibility": null,
            "width": null
          }
        },
        "9156e401ea4846058df5f5a2b1116436": {
          "model_module": "@jupyter-widgets/controls",
          "model_module_version": "1.5.0",
          "model_name": "DescriptionStyleModel",
          "state": {
            "_model_module": "@jupyter-widgets/controls",
            "_model_module_version": "1.5.0",
            "_model_name": "DescriptionStyleModel",
            "_view_count": null,
            "_view_module": "@jupyter-widgets/base",
            "_view_module_version": "1.2.0",
            "_view_name": "StyleView",
            "description_width": ""
          }
        },
        "986a1128cac1404e8554e6a6fd9edda8": {
          "model_module": "@jupyter-widgets/base",
          "model_module_version": "1.2.0",
          "model_name": "LayoutModel",
          "state": {
            "_model_module": "@jupyter-widgets/base",
            "_model_module_version": "1.2.0",
            "_model_name": "LayoutModel",
            "_view_count": null,
            "_view_module": "@jupyter-widgets/base",
            "_view_module_version": "1.2.0",
            "_view_name": "LayoutView",
            "align_content": null,
            "align_items": null,
            "align_self": null,
            "border": null,
            "bottom": null,
            "display": null,
            "flex": null,
            "flex_flow": null,
            "grid_area": null,
            "grid_auto_columns": null,
            "grid_auto_flow": null,
            "grid_auto_rows": null,
            "grid_column": null,
            "grid_gap": null,
            "grid_row": null,
            "grid_template_areas": null,
            "grid_template_columns": null,
            "grid_template_rows": null,
            "height": null,
            "justify_content": null,
            "justify_items": null,
            "left": null,
            "margin": null,
            "max_height": null,
            "max_width": null,
            "min_height": null,
            "min_width": null,
            "object_fit": null,
            "object_position": null,
            "order": null,
            "overflow": null,
            "overflow_x": null,
            "overflow_y": null,
            "padding": null,
            "right": null,
            "top": null,
            "visibility": null,
            "width": null
          }
        },
        "a13beda18ceb4de7a1a5c680478e6095": {
          "model_module": "@jupyter-widgets/base",
          "model_module_version": "1.2.0",
          "model_name": "LayoutModel",
          "state": {
            "_model_module": "@jupyter-widgets/base",
            "_model_module_version": "1.2.0",
            "_model_name": "LayoutModel",
            "_view_count": null,
            "_view_module": "@jupyter-widgets/base",
            "_view_module_version": "1.2.0",
            "_view_name": "LayoutView",
            "align_content": null,
            "align_items": null,
            "align_self": null,
            "border": null,
            "bottom": null,
            "display": null,
            "flex": null,
            "flex_flow": null,
            "grid_area": null,
            "grid_auto_columns": null,
            "grid_auto_flow": null,
            "grid_auto_rows": null,
            "grid_column": null,
            "grid_gap": null,
            "grid_row": null,
            "grid_template_areas": null,
            "grid_template_columns": null,
            "grid_template_rows": null,
            "height": null,
            "justify_content": null,
            "justify_items": null,
            "left": null,
            "margin": null,
            "max_height": null,
            "max_width": null,
            "min_height": null,
            "min_width": null,
            "object_fit": null,
            "object_position": null,
            "order": null,
            "overflow": null,
            "overflow_x": null,
            "overflow_y": null,
            "padding": null,
            "right": null,
            "top": null,
            "visibility": null,
            "width": null
          }
        },
        "a4d4fbd004e24caa9f5ebc30cc102b60": {
          "model_module": "@jupyter-widgets/controls",
          "model_module_version": "1.5.0",
          "model_name": "HBoxModel",
          "state": {
            "_dom_classes": [],
            "_model_module": "@jupyter-widgets/controls",
            "_model_module_version": "1.5.0",
            "_model_name": "HBoxModel",
            "_view_count": null,
            "_view_module": "@jupyter-widgets/controls",
            "_view_module_version": "1.5.0",
            "_view_name": "HBoxView",
            "box_style": "",
            "children": [
              "IPY_MODEL_680b89172fad4b4aba99802eb3264022",
              "IPY_MODEL_ff5bf722a0f9418a8659cd9eb5aa8aba",
              "IPY_MODEL_d5b4b507c4654112849760c6a5c04da6"
            ],
            "layout": "IPY_MODEL_e6371fba46824637a053eacfcaf367bf"
          }
        },
        "a7f11bde1a4a4b26a58bd04418863d39": {
          "model_module": "@jupyter-widgets/controls",
          "model_module_version": "1.5.0",
          "model_name": "DescriptionStyleModel",
          "state": {
            "_model_module": "@jupyter-widgets/controls",
            "_model_module_version": "1.5.0",
            "_model_name": "DescriptionStyleModel",
            "_view_count": null,
            "_view_module": "@jupyter-widgets/base",
            "_view_module_version": "1.2.0",
            "_view_name": "StyleView",
            "description_width": ""
          }
        },
        "a9c9b4826eb74948b88031b78b9849c0": {
          "model_module": "@jupyter-widgets/base",
          "model_module_version": "1.2.0",
          "model_name": "LayoutModel",
          "state": {
            "_model_module": "@jupyter-widgets/base",
            "_model_module_version": "1.2.0",
            "_model_name": "LayoutModel",
            "_view_count": null,
            "_view_module": "@jupyter-widgets/base",
            "_view_module_version": "1.2.0",
            "_view_name": "LayoutView",
            "align_content": null,
            "align_items": null,
            "align_self": null,
            "border": null,
            "bottom": null,
            "display": null,
            "flex": null,
            "flex_flow": null,
            "grid_area": null,
            "grid_auto_columns": null,
            "grid_auto_flow": null,
            "grid_auto_rows": null,
            "grid_column": null,
            "grid_gap": null,
            "grid_row": null,
            "grid_template_areas": null,
            "grid_template_columns": null,
            "grid_template_rows": null,
            "height": null,
            "justify_content": null,
            "justify_items": null,
            "left": null,
            "margin": null,
            "max_height": null,
            "max_width": null,
            "min_height": null,
            "min_width": null,
            "object_fit": null,
            "object_position": null,
            "order": null,
            "overflow": null,
            "overflow_x": null,
            "overflow_y": null,
            "padding": null,
            "right": null,
            "top": null,
            "visibility": null,
            "width": null
          }
        },
        "af8a10e6ebb84f9f836f8b000b0cfe54": {
          "model_module": "@jupyter-widgets/controls",
          "model_module_version": "1.5.0",
          "model_name": "ProgressStyleModel",
          "state": {
            "_model_module": "@jupyter-widgets/controls",
            "_model_module_version": "1.5.0",
            "_model_name": "ProgressStyleModel",
            "_view_count": null,
            "_view_module": "@jupyter-widgets/base",
            "_view_module_version": "1.2.0",
            "_view_name": "StyleView",
            "bar_color": null,
            "description_width": ""
          }
        },
        "b65f7ee57c044e76b768f9a365365257": {
          "model_module": "@jupyter-widgets/controls",
          "model_module_version": "1.5.0",
          "model_name": "DescriptionStyleModel",
          "state": {
            "_model_module": "@jupyter-widgets/controls",
            "_model_module_version": "1.5.0",
            "_model_name": "DescriptionStyleModel",
            "_view_count": null,
            "_view_module": "@jupyter-widgets/base",
            "_view_module_version": "1.2.0",
            "_view_name": "StyleView",
            "description_width": ""
          }
        },
        "b774010474324584a01340f4e2b962b9": {
          "model_module": "@jupyter-widgets/base",
          "model_module_version": "1.2.0",
          "model_name": "LayoutModel",
          "state": {
            "_model_module": "@jupyter-widgets/base",
            "_model_module_version": "1.2.0",
            "_model_name": "LayoutModel",
            "_view_count": null,
            "_view_module": "@jupyter-widgets/base",
            "_view_module_version": "1.2.0",
            "_view_name": "LayoutView",
            "align_content": null,
            "align_items": null,
            "align_self": null,
            "border": null,
            "bottom": null,
            "display": null,
            "flex": null,
            "flex_flow": null,
            "grid_area": null,
            "grid_auto_columns": null,
            "grid_auto_flow": null,
            "grid_auto_rows": null,
            "grid_column": null,
            "grid_gap": null,
            "grid_row": null,
            "grid_template_areas": null,
            "grid_template_columns": null,
            "grid_template_rows": null,
            "height": null,
            "justify_content": null,
            "justify_items": null,
            "left": null,
            "margin": null,
            "max_height": null,
            "max_width": null,
            "min_height": null,
            "min_width": null,
            "object_fit": null,
            "object_position": null,
            "order": null,
            "overflow": null,
            "overflow_x": null,
            "overflow_y": null,
            "padding": null,
            "right": null,
            "top": null,
            "visibility": null,
            "width": null
          }
        },
        "b8d946d4068b457789739e5fa3712d34": {
          "model_module": "@jupyter-widgets/controls",
          "model_module_version": "1.5.0",
          "model_name": "HTMLModel",
          "state": {
            "_dom_classes": [],
            "_model_module": "@jupyter-widgets/controls",
            "_model_module_version": "1.5.0",
            "_model_name": "HTMLModel",
            "_view_count": null,
            "_view_module": "@jupyter-widgets/controls",
            "_view_module_version": "1.5.0",
            "_view_name": "HTMLView",
            "description": "",
            "description_tooltip": null,
            "layout": "IPY_MODEL_884e7dfbf3b84b5c829c675a28bde001",
            "placeholder": "​",
            "style": "IPY_MODEL_9156e401ea4846058df5f5a2b1116436",
            "value": "Downloading extra modules: "
          }
        },
        "bbd3ce88792e4d1387df168c184f5496": {
          "model_module": "@jupyter-widgets/base",
          "model_module_version": "1.2.0",
          "model_name": "LayoutModel",
          "state": {
            "_model_module": "@jupyter-widgets/base",
            "_model_module_version": "1.2.0",
            "_model_name": "LayoutModel",
            "_view_count": null,
            "_view_module": "@jupyter-widgets/base",
            "_view_module_version": "1.2.0",
            "_view_name": "LayoutView",
            "align_content": null,
            "align_items": null,
            "align_self": null,
            "border": null,
            "bottom": null,
            "display": null,
            "flex": null,
            "flex_flow": null,
            "grid_area": null,
            "grid_auto_columns": null,
            "grid_auto_flow": null,
            "grid_auto_rows": null,
            "grid_column": null,
            "grid_gap": null,
            "grid_row": null,
            "grid_template_areas": null,
            "grid_template_columns": null,
            "grid_template_rows": null,
            "height": null,
            "justify_content": null,
            "justify_items": null,
            "left": null,
            "margin": null,
            "max_height": null,
            "max_width": null,
            "min_height": null,
            "min_width": null,
            "object_fit": null,
            "object_position": null,
            "order": null,
            "overflow": null,
            "overflow_x": null,
            "overflow_y": null,
            "padding": null,
            "right": null,
            "top": null,
            "visibility": null,
            "width": null
          }
        },
        "c1504be9cedc4f68833517e81e234256": {
          "model_module": "@jupyter-widgets/controls",
          "model_module_version": "1.5.0",
          "model_name": "DescriptionStyleModel",
          "state": {
            "_model_module": "@jupyter-widgets/controls",
            "_model_module_version": "1.5.0",
            "_model_name": "DescriptionStyleModel",
            "_view_count": null,
            "_view_module": "@jupyter-widgets/base",
            "_view_module_version": "1.2.0",
            "_view_name": "StyleView",
            "description_width": ""
          }
        },
        "c366987af8ee42359be6d4c4b4b725ab": {
          "model_module": "@jupyter-widgets/base",
          "model_module_version": "1.2.0",
          "model_name": "LayoutModel",
          "state": {
            "_model_module": "@jupyter-widgets/base",
            "_model_module_version": "1.2.0",
            "_model_name": "LayoutModel",
            "_view_count": null,
            "_view_module": "@jupyter-widgets/base",
            "_view_module_version": "1.2.0",
            "_view_name": "LayoutView",
            "align_content": null,
            "align_items": null,
            "align_self": null,
            "border": null,
            "bottom": null,
            "display": null,
            "flex": null,
            "flex_flow": null,
            "grid_area": null,
            "grid_auto_columns": null,
            "grid_auto_flow": null,
            "grid_auto_rows": null,
            "grid_column": null,
            "grid_gap": null,
            "grid_row": null,
            "grid_template_areas": null,
            "grid_template_columns": null,
            "grid_template_rows": null,
            "height": null,
            "justify_content": null,
            "justify_items": null,
            "left": null,
            "margin": null,
            "max_height": null,
            "max_width": null,
            "min_height": null,
            "min_width": null,
            "object_fit": null,
            "object_position": null,
            "order": null,
            "overflow": null,
            "overflow_x": null,
            "overflow_y": null,
            "padding": null,
            "right": null,
            "top": null,
            "visibility": null,
            "width": null
          }
        },
        "c669c5a6bcd54df19c13cfab67803f9b": {
          "model_module": "@jupyter-widgets/controls",
          "model_module_version": "1.5.0",
          "model_name": "HBoxModel",
          "state": {
            "_dom_classes": [],
            "_model_module": "@jupyter-widgets/controls",
            "_model_module_version": "1.5.0",
            "_model_name": "HBoxModel",
            "_view_count": null,
            "_view_module": "@jupyter-widgets/controls",
            "_view_module_version": "1.5.0",
            "_view_name": "HBoxView",
            "box_style": "",
            "children": [
              "IPY_MODEL_5e56f64e7f5746f6ba065e73adc7b191",
              "IPY_MODEL_6bb5f481f72b4d6f8a96752a17f5f36a",
              "IPY_MODEL_20e2ecb5880e4d8faa1a5927b45a8fec"
            ],
            "layout": "IPY_MODEL_4966f431454841d6860eb9d1e449092a"
          }
        },
        "c8987166498e49bd8699de237818a794": {
          "model_module": "@jupyter-widgets/base",
          "model_module_version": "1.2.0",
          "model_name": "LayoutModel",
          "state": {
            "_model_module": "@jupyter-widgets/base",
            "_model_module_version": "1.2.0",
            "_model_name": "LayoutModel",
            "_view_count": null,
            "_view_module": "@jupyter-widgets/base",
            "_view_module_version": "1.2.0",
            "_view_name": "LayoutView",
            "align_content": null,
            "align_items": null,
            "align_self": null,
            "border": null,
            "bottom": null,
            "display": null,
            "flex": null,
            "flex_flow": null,
            "grid_area": null,
            "grid_auto_columns": null,
            "grid_auto_flow": null,
            "grid_auto_rows": null,
            "grid_column": null,
            "grid_gap": null,
            "grid_row": null,
            "grid_template_areas": null,
            "grid_template_columns": null,
            "grid_template_rows": null,
            "height": null,
            "justify_content": null,
            "justify_items": null,
            "left": null,
            "margin": null,
            "max_height": null,
            "max_width": null,
            "min_height": null,
            "min_width": null,
            "object_fit": null,
            "object_position": null,
            "order": null,
            "overflow": null,
            "overflow_x": null,
            "overflow_y": null,
            "padding": null,
            "right": null,
            "top": null,
            "visibility": null,
            "width": null
          }
        },
        "c947f22448e54829a227402bd78534a3": {
          "model_module": "@jupyter-widgets/controls",
          "model_module_version": "1.5.0",
          "model_name": "DescriptionStyleModel",
          "state": {
            "_model_module": "@jupyter-widgets/controls",
            "_model_module_version": "1.5.0",
            "_model_name": "DescriptionStyleModel",
            "_view_count": null,
            "_view_module": "@jupyter-widgets/base",
            "_view_module_version": "1.2.0",
            "_view_name": "StyleView",
            "description_width": ""
          }
        },
        "ca066a99ffc6496f81809d7f57ab6088": {
          "model_module": "@jupyter-widgets/controls",
          "model_module_version": "1.5.0",
          "model_name": "HTMLModel",
          "state": {
            "_dom_classes": [],
            "_model_module": "@jupyter-widgets/controls",
            "_model_module_version": "1.5.0",
            "_model_name": "HTMLModel",
            "_view_count": null,
            "_view_module": "@jupyter-widgets/controls",
            "_view_module_version": "1.5.0",
            "_view_name": "HTMLView",
            "description": "",
            "description_tooltip": null,
            "layout": "IPY_MODEL_f27f8df205b5472e80ba3b1de05003d8",
            "placeholder": "​",
            "style": "IPY_MODEL_0cad7b34a3d14a8b8b5a0aa8cdabf82b",
            "value": " 4.50k/? [00:00&lt;00:00, 177kB/s]"
          }
        },
        "ce776f919b1f4dd381a16d7be1e41371": {
          "model_module": "@jupyter-widgets/base",
          "model_module_version": "1.2.0",
          "model_name": "LayoutModel",
          "state": {
            "_model_module": "@jupyter-widgets/base",
            "_model_module_version": "1.2.0",
            "_model_name": "LayoutModel",
            "_view_count": null,
            "_view_module": "@jupyter-widgets/base",
            "_view_module_version": "1.2.0",
            "_view_name": "LayoutView",
            "align_content": null,
            "align_items": null,
            "align_self": null,
            "border": null,
            "bottom": null,
            "display": null,
            "flex": null,
            "flex_flow": null,
            "grid_area": null,
            "grid_auto_columns": null,
            "grid_auto_flow": null,
            "grid_auto_rows": null,
            "grid_column": null,
            "grid_gap": null,
            "grid_row": null,
            "grid_template_areas": null,
            "grid_template_columns": null,
            "grid_template_rows": null,
            "height": null,
            "justify_content": null,
            "justify_items": null,
            "left": null,
            "margin": null,
            "max_height": null,
            "max_width": null,
            "min_height": null,
            "min_width": null,
            "object_fit": null,
            "object_position": null,
            "order": null,
            "overflow": null,
            "overflow_x": null,
            "overflow_y": null,
            "padding": null,
            "right": null,
            "top": null,
            "visibility": null,
            "width": null
          }
        },
        "d2c76bae7887430a84d15e9d86b4b87d": {
          "model_module": "@jupyter-widgets/base",
          "model_module_version": "1.2.0",
          "model_name": "LayoutModel",
          "state": {
            "_model_module": "@jupyter-widgets/base",
            "_model_module_version": "1.2.0",
            "_model_name": "LayoutModel",
            "_view_count": null,
            "_view_module": "@jupyter-widgets/base",
            "_view_module_version": "1.2.0",
            "_view_name": "LayoutView",
            "align_content": null,
            "align_items": null,
            "align_self": null,
            "border": null,
            "bottom": null,
            "display": null,
            "flex": null,
            "flex_flow": null,
            "grid_area": null,
            "grid_auto_columns": null,
            "grid_auto_flow": null,
            "grid_auto_rows": null,
            "grid_column": null,
            "grid_gap": null,
            "grid_row": null,
            "grid_template_areas": null,
            "grid_template_columns": null,
            "grid_template_rows": null,
            "height": null,
            "justify_content": null,
            "justify_items": null,
            "left": null,
            "margin": null,
            "max_height": null,
            "max_width": null,
            "min_height": null,
            "min_width": null,
            "object_fit": null,
            "object_position": null,
            "order": null,
            "overflow": null,
            "overflow_x": null,
            "overflow_y": null,
            "padding": null,
            "right": null,
            "top": null,
            "visibility": null,
            "width": null
          }
        },
        "d5b4b507c4654112849760c6a5c04da6": {
          "model_module": "@jupyter-widgets/controls",
          "model_module_version": "1.5.0",
          "model_name": "HTMLModel",
          "state": {
            "_dom_classes": [],
            "_model_module": "@jupyter-widgets/controls",
            "_model_module_version": "1.5.0",
            "_model_name": "HTMLModel",
            "_view_count": null,
            "_view_module": "@jupyter-widgets/controls",
            "_view_module_version": "1.5.0",
            "_view_name": "HTMLView",
            "description": "",
            "description_tooltip": null,
            "layout": "IPY_MODEL_a13beda18ceb4de7a1a5c680478e6095",
            "placeholder": "​",
            "style": "IPY_MODEL_c1504be9cedc4f68833517e81e234256",
            "value": " 480/480 [00:00&lt;00:00, 27.3kB/s]"
          }
        },
        "d6374ac93c8945c790a8fbc030170f15": {
          "model_module": "@jupyter-widgets/base",
          "model_module_version": "1.2.0",
          "model_name": "LayoutModel",
          "state": {
            "_model_module": "@jupyter-widgets/base",
            "_model_module_version": "1.2.0",
            "_model_name": "LayoutModel",
            "_view_count": null,
            "_view_module": "@jupyter-widgets/base",
            "_view_module_version": "1.2.0",
            "_view_name": "LayoutView",
            "align_content": null,
            "align_items": null,
            "align_self": null,
            "border": null,
            "bottom": null,
            "display": null,
            "flex": null,
            "flex_flow": null,
            "grid_area": null,
            "grid_auto_columns": null,
            "grid_auto_flow": null,
            "grid_auto_rows": null,
            "grid_column": null,
            "grid_gap": null,
            "grid_row": null,
            "grid_template_areas": null,
            "grid_template_columns": null,
            "grid_template_rows": null,
            "height": null,
            "justify_content": null,
            "justify_items": null,
            "left": null,
            "margin": null,
            "max_height": null,
            "max_width": null,
            "min_height": null,
            "min_width": null,
            "object_fit": null,
            "object_position": null,
            "order": null,
            "overflow": null,
            "overflow_x": null,
            "overflow_y": null,
            "padding": null,
            "right": null,
            "top": null,
            "visibility": null,
            "width": null
          }
        },
        "db1fdea527fc4d14924c58a823410241": {
          "model_module": "@jupyter-widgets/base",
          "model_module_version": "1.2.0",
          "model_name": "LayoutModel",
          "state": {
            "_model_module": "@jupyter-widgets/base",
            "_model_module_version": "1.2.0",
            "_model_name": "LayoutModel",
            "_view_count": null,
            "_view_module": "@jupyter-widgets/base",
            "_view_module_version": "1.2.0",
            "_view_name": "LayoutView",
            "align_content": null,
            "align_items": null,
            "align_self": null,
            "border": null,
            "bottom": null,
            "display": null,
            "flex": null,
            "flex_flow": null,
            "grid_area": null,
            "grid_auto_columns": null,
            "grid_auto_flow": null,
            "grid_auto_rows": null,
            "grid_column": null,
            "grid_gap": null,
            "grid_row": null,
            "grid_template_areas": null,
            "grid_template_columns": null,
            "grid_template_rows": null,
            "height": null,
            "justify_content": null,
            "justify_items": null,
            "left": null,
            "margin": null,
            "max_height": null,
            "max_width": null,
            "min_height": null,
            "min_width": null,
            "object_fit": null,
            "object_position": null,
            "order": null,
            "overflow": null,
            "overflow_x": null,
            "overflow_y": null,
            "padding": null,
            "right": null,
            "top": null,
            "visibility": null,
            "width": null
          }
        },
        "dbb743f2bd134a3d81a00a87f4acda88": {
          "model_module": "@jupyter-widgets/base",
          "model_module_version": "1.2.0",
          "model_name": "LayoutModel",
          "state": {
            "_model_module": "@jupyter-widgets/base",
            "_model_module_version": "1.2.0",
            "_model_name": "LayoutModel",
            "_view_count": null,
            "_view_module": "@jupyter-widgets/base",
            "_view_module_version": "1.2.0",
            "_view_name": "LayoutView",
            "align_content": null,
            "align_items": null,
            "align_self": null,
            "border": null,
            "bottom": null,
            "display": null,
            "flex": null,
            "flex_flow": null,
            "grid_area": null,
            "grid_auto_columns": null,
            "grid_auto_flow": null,
            "grid_auto_rows": null,
            "grid_column": null,
            "grid_gap": null,
            "grid_row": null,
            "grid_template_areas": null,
            "grid_template_columns": null,
            "grid_template_rows": null,
            "height": null,
            "justify_content": null,
            "justify_items": null,
            "left": null,
            "margin": null,
            "max_height": null,
            "max_width": null,
            "min_height": null,
            "min_width": null,
            "object_fit": null,
            "object_position": null,
            "order": null,
            "overflow": null,
            "overflow_x": null,
            "overflow_y": null,
            "padding": null,
            "right": null,
            "top": null,
            "visibility": null,
            "width": null
          }
        },
        "e6371fba46824637a053eacfcaf367bf": {
          "model_module": "@jupyter-widgets/base",
          "model_module_version": "1.2.0",
          "model_name": "LayoutModel",
          "state": {
            "_model_module": "@jupyter-widgets/base",
            "_model_module_version": "1.2.0",
            "_model_name": "LayoutModel",
            "_view_count": null,
            "_view_module": "@jupyter-widgets/base",
            "_view_module_version": "1.2.0",
            "_view_name": "LayoutView",
            "align_content": null,
            "align_items": null,
            "align_self": null,
            "border": null,
            "bottom": null,
            "display": null,
            "flex": null,
            "flex_flow": null,
            "grid_area": null,
            "grid_auto_columns": null,
            "grid_auto_flow": null,
            "grid_auto_rows": null,
            "grid_column": null,
            "grid_gap": null,
            "grid_row": null,
            "grid_template_areas": null,
            "grid_template_columns": null,
            "grid_template_rows": null,
            "height": null,
            "justify_content": null,
            "justify_items": null,
            "left": null,
            "margin": null,
            "max_height": null,
            "max_width": null,
            "min_height": null,
            "min_width": null,
            "object_fit": null,
            "object_position": null,
            "order": null,
            "overflow": null,
            "overflow_x": null,
            "overflow_y": null,
            "padding": null,
            "right": null,
            "top": null,
            "visibility": null,
            "width": null
          }
        },
        "e6f1b4502e9a4d568fcd231b9b510f00": {
          "model_module": "@jupyter-widgets/controls",
          "model_module_version": "1.5.0",
          "model_name": "ProgressStyleModel",
          "state": {
            "_model_module": "@jupyter-widgets/controls",
            "_model_module_version": "1.5.0",
            "_model_name": "ProgressStyleModel",
            "_view_count": null,
            "_view_module": "@jupyter-widgets/base",
            "_view_module_version": "1.2.0",
            "_view_name": "StyleView",
            "bar_color": null,
            "description_width": ""
          }
        },
        "ec94823cf48f452fae92220237808d54": {
          "model_module": "@jupyter-widgets/base",
          "model_module_version": "1.2.0",
          "model_name": "LayoutModel",
          "state": {
            "_model_module": "@jupyter-widgets/base",
            "_model_module_version": "1.2.0",
            "_model_name": "LayoutModel",
            "_view_count": null,
            "_view_module": "@jupyter-widgets/base",
            "_view_module_version": "1.2.0",
            "_view_name": "LayoutView",
            "align_content": null,
            "align_items": null,
            "align_self": null,
            "border": null,
            "bottom": null,
            "display": null,
            "flex": null,
            "flex_flow": null,
            "grid_area": null,
            "grid_auto_columns": null,
            "grid_auto_flow": null,
            "grid_auto_rows": null,
            "grid_column": null,
            "grid_gap": null,
            "grid_row": null,
            "grid_template_areas": null,
            "grid_template_columns": null,
            "grid_template_rows": null,
            "height": null,
            "justify_content": null,
            "justify_items": null,
            "left": null,
            "margin": null,
            "max_height": null,
            "max_width": null,
            "min_height": null,
            "min_width": null,
            "object_fit": null,
            "object_position": null,
            "order": null,
            "overflow": null,
            "overflow_x": null,
            "overflow_y": null,
            "padding": null,
            "right": null,
            "top": null,
            "visibility": null,
            "width": null
          }
        },
        "ee62633b32b14c76a37b72ff3bd24614": {
          "model_module": "@jupyter-widgets/controls",
          "model_module_version": "1.5.0",
          "model_name": "DescriptionStyleModel",
          "state": {
            "_model_module": "@jupyter-widgets/controls",
            "_model_module_version": "1.5.0",
            "_model_name": "DescriptionStyleModel",
            "_view_count": null,
            "_view_module": "@jupyter-widgets/base",
            "_view_module_version": "1.2.0",
            "_view_name": "StyleView",
            "description_width": ""
          }
        },
        "f27f8df205b5472e80ba3b1de05003d8": {
          "model_module": "@jupyter-widgets/base",
          "model_module_version": "1.2.0",
          "model_name": "LayoutModel",
          "state": {
            "_model_module": "@jupyter-widgets/base",
            "_model_module_version": "1.2.0",
            "_model_name": "LayoutModel",
            "_view_count": null,
            "_view_module": "@jupyter-widgets/base",
            "_view_module_version": "1.2.0",
            "_view_name": "LayoutView",
            "align_content": null,
            "align_items": null,
            "align_self": null,
            "border": null,
            "bottom": null,
            "display": null,
            "flex": null,
            "flex_flow": null,
            "grid_area": null,
            "grid_auto_columns": null,
            "grid_auto_flow": null,
            "grid_auto_rows": null,
            "grid_column": null,
            "grid_gap": null,
            "grid_row": null,
            "grid_template_areas": null,
            "grid_template_columns": null,
            "grid_template_rows": null,
            "height": null,
            "justify_content": null,
            "justify_items": null,
            "left": null,
            "margin": null,
            "max_height": null,
            "max_width": null,
            "min_height": null,
            "min_width": null,
            "object_fit": null,
            "object_position": null,
            "order": null,
            "overflow": null,
            "overflow_x": null,
            "overflow_y": null,
            "padding": null,
            "right": null,
            "top": null,
            "visibility": null,
            "width": null
          }
        },
        "f54358bf703b4cee851d9a5299173df4": {
          "model_module": "@jupyter-widgets/controls",
          "model_module_version": "1.5.0",
          "model_name": "HBoxModel",
          "state": {
            "_dom_classes": [],
            "_model_module": "@jupyter-widgets/controls",
            "_model_module_version": "1.5.0",
            "_model_name": "HBoxModel",
            "_view_count": null,
            "_view_module": "@jupyter-widgets/controls",
            "_view_module_version": "1.5.0",
            "_view_name": "HBoxView",
            "box_style": "",
            "children": [
              "IPY_MODEL_032233fc0d684eb2a19afe266bf09a90",
              "IPY_MODEL_5f97b56ba9a942b48d830896558f32f1",
              "IPY_MODEL_8600345dcb9749658e7be48b89caeacf"
            ],
            "layout": "IPY_MODEL_0f508854f1d74ebbaa27879992c475aa"
          }
        },
        "f70bf03b401f4657ad8f9ceff7e44a82": {
          "model_module": "@jupyter-widgets/controls",
          "model_module_version": "1.5.0",
          "model_name": "FloatProgressModel",
          "state": {
            "_dom_classes": [],
            "_model_module": "@jupyter-widgets/controls",
            "_model_module_version": "1.5.0",
            "_model_name": "FloatProgressModel",
            "_view_count": null,
            "_view_module": "@jupyter-widgets/controls",
            "_view_module_version": "1.5.0",
            "_view_name": "ProgressView",
            "bar_style": "success",
            "description": "",
            "description_tooltip": null,
            "layout": "IPY_MODEL_138224102bb7491f96d9eb9051822f59",
            "max": 1109,
            "min": 0,
            "orientation": "horizontal",
            "style": "IPY_MODEL_af8a10e6ebb84f9f836f8b000b0cfe54",
            "value": 1109
          }
        },
        "f985717040e7486186bcd829c3d8321d": {
          "model_module": "@jupyter-widgets/controls",
          "model_module_version": "1.5.0",
          "model_name": "FloatProgressModel",
          "state": {
            "_dom_classes": [],
            "_model_module": "@jupyter-widgets/controls",
            "_model_module_version": "1.5.0",
            "_model_name": "FloatProgressModel",
            "_view_count": null,
            "_view_module": "@jupyter-widgets/controls",
            "_view_module_version": "1.5.0",
            "_view_name": "ProgressView",
            "bar_style": "success",
            "description": "",
            "description_tooltip": null,
            "layout": "IPY_MODEL_ce776f919b1f4dd381a16d7be1e41371",
            "max": 1715,
            "min": 0,
            "orientation": "horizontal",
            "style": "IPY_MODEL_1e61752f7da04a689923b396789135b0",
            "value": 1715
          }
        },
        "ff5bf722a0f9418a8659cd9eb5aa8aba": {
          "model_module": "@jupyter-widgets/controls",
          "model_module_version": "1.5.0",
          "model_name": "FloatProgressModel",
          "state": {
            "_dom_classes": [],
            "_model_module": "@jupyter-widgets/controls",
            "_model_module_version": "1.5.0",
            "_model_name": "FloatProgressModel",
            "_view_count": null,
            "_view_module": "@jupyter-widgets/controls",
            "_view_module_version": "1.5.0",
            "_view_name": "ProgressView",
            "bar_style": "success",
            "description": "",
            "description_tooltip": null,
            "layout": "IPY_MODEL_d6374ac93c8945c790a8fbc030170f15",
            "max": 480,
            "min": 0,
            "orientation": "horizontal",
            "style": "IPY_MODEL_e6f1b4502e9a4d568fcd231b9b510f00",
            "value": 480
          }
        }
      }
    }
  },
  "nbformat": 4,
  "nbformat_minor": 0
}
